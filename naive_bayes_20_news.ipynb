{
  "cells": [
    {
      "cell_type": "markdown",
      "metadata": {
        "id": "view-in-github",
        "colab_type": "text"
      },
      "source": [
        "<a href=\"https://colab.research.google.com/github/HofstraDoboli/TextMining/blob/main/naive_bayes_20_news.ipynb\" target=\"_parent\"><img src=\"https://colab.research.google.com/assets/colab-badge.svg\" alt=\"Open In Colab\"/></a>"
      ]
    },
    {
      "cell_type": "code",
      "execution_count": 1,
      "metadata": {
        "colab": {
          "base_uri": "https://localhost:8080/"
        },
        "id": "EeULt9fUypZv",
        "outputId": "1607ee33-500f-4ec7-96be-0c4e9389b93a"
      },
      "outputs": [
        {
          "output_type": "stream",
          "name": "stdout",
          "text": [
            "['DESCR', 'data', 'filenames', 'target', 'target_names']\n",
            "['alt.atheism',\n",
            " 'comp.graphics',\n",
            " 'comp.os.ms-windows.misc',\n",
            " 'comp.sys.ibm.pc.hardware',\n",
            " 'comp.sys.mac.hardware',\n",
            " 'comp.windows.x',\n",
            " 'misc.forsale',\n",
            " 'rec.autos',\n",
            " 'rec.motorcycles',\n",
            " 'rec.sport.baseball',\n",
            " 'rec.sport.hockey',\n",
            " 'sci.crypt',\n",
            " 'sci.electronics',\n",
            " 'sci.med',\n",
            " 'sci.space',\n",
            " 'soc.religion.christian',\n",
            " 'talk.politics.guns',\n",
            " 'talk.politics.mideast',\n",
            " 'talk.politics.misc',\n",
            " 'talk.religion.misc']\n",
            "('I was wondering if anyone out there could enlighten me on this car I saw\\n'\n",
            " 'the other day. It was a 2-door sports car, looked to be from the late 60s/\\n'\n",
            " 'early 70s. It was called a Bricklin. The doors were really small. In '\n",
            " 'addition,\\n'\n",
            " 'the front bumper was separate from the rest of the body. This is \\n'\n",
            " 'all I know. If anyone can tellme a model name, engine specs, years\\n'\n",
            " 'of production, where this car is made, history, or whatever info you\\n'\n",
            " 'have on this funky looking car, please e-mail.')\n"
          ]
        }
      ],
      "source": [
        "# text classification reuters dataset\n",
        "from sklearn.datasets import fetch_20newsgroups\n",
        "from pprint import pprint\n",
        "twenty_train = fetch_20newsgroups(subset='train', remove=('headers', 'footers', 'quotes'), shuffle=True)\n",
        "print(dir(twenty_train))\n",
        "pprint(twenty_train.target_names) #prints all the categories\n",
        "pprint(twenty_train.data[0])"
      ]
    },
    {
      "cell_type": "code",
      "source": [
        "print(twenty_train.DESCR)"
      ],
      "metadata": {
        "colab": {
          "base_uri": "https://localhost:8080/"
        },
        "id": "F3qIRNl6KWuk",
        "outputId": "3b8befed-b928-4b20-83dc-b5a432979937"
      },
      "execution_count": null,
      "outputs": [
        {
          "output_type": "stream",
          "name": "stdout",
          "text": [
            ".. _20newsgroups_dataset:\n",
            "\n",
            "The 20 newsgroups text dataset\n",
            "------------------------------\n",
            "\n",
            "The 20 newsgroups dataset comprises around 18000 newsgroups posts on\n",
            "20 topics split in two subsets: one for training (or development)\n",
            "and the other one for testing (or for performance evaluation). The split\n",
            "between the train and test set is based upon a messages posted before\n",
            "and after a specific date.\n",
            "\n",
            "This module contains two loaders. The first one,\n",
            ":func:`sklearn.datasets.fetch_20newsgroups`,\n",
            "returns a list of the raw texts that can be fed to text feature\n",
            "extractors such as :class:`~sklearn.feature_extraction.text.CountVectorizer`\n",
            "with custom parameters so as to extract feature vectors.\n",
            "The second one, :func:`sklearn.datasets.fetch_20newsgroups_vectorized`,\n",
            "returns ready-to-use features, i.e., it is not necessary to use a feature\n",
            "extractor.\n",
            "\n",
            "**Data Set Characteristics:**\n",
            "\n",
            "    =================   ==========\n",
            "    Classes                     20\n",
            "    Samples total            18846\n",
            "    Dimensionality               1\n",
            "    Features                  text\n",
            "    =================   ==========\n",
            "\n",
            "Usage\n",
            "~~~~~\n",
            "\n",
            "The :func:`sklearn.datasets.fetch_20newsgroups` function is a data\n",
            "fetching / caching functions that downloads the data archive from\n",
            "the original `20 newsgroups website`_, extracts the archive contents\n",
            "in the ``~/scikit_learn_data/20news_home`` folder and calls the\n",
            ":func:`sklearn.datasets.load_files` on either the training or\n",
            "testing set folder, or both of them::\n",
            "\n",
            "  >>> from sklearn.datasets import fetch_20newsgroups\n",
            "  >>> newsgroups_train = fetch_20newsgroups(subset='train')\n",
            "\n",
            "  >>> from pprint import pprint\n",
            "  >>> pprint(list(newsgroups_train.target_names))\n",
            "  ['alt.atheism',\n",
            "   'comp.graphics',\n",
            "   'comp.os.ms-windows.misc',\n",
            "   'comp.sys.ibm.pc.hardware',\n",
            "   'comp.sys.mac.hardware',\n",
            "   'comp.windows.x',\n",
            "   'misc.forsale',\n",
            "   'rec.autos',\n",
            "   'rec.motorcycles',\n",
            "   'rec.sport.baseball',\n",
            "   'rec.sport.hockey',\n",
            "   'sci.crypt',\n",
            "   'sci.electronics',\n",
            "   'sci.med',\n",
            "   'sci.space',\n",
            "   'soc.religion.christian',\n",
            "   'talk.politics.guns',\n",
            "   'talk.politics.mideast',\n",
            "   'talk.politics.misc',\n",
            "   'talk.religion.misc']\n",
            "\n",
            "The real data lies in the ``filenames`` and ``target`` attributes. The target\n",
            "attribute is the integer index of the category::\n",
            "\n",
            "  >>> newsgroups_train.filenames.shape\n",
            "  (11314,)\n",
            "  >>> newsgroups_train.target.shape\n",
            "  (11314,)\n",
            "  >>> newsgroups_train.target[:10]\n",
            "  array([ 7,  4,  4,  1, 14, 16, 13,  3,  2,  4])\n",
            "\n",
            "It is possible to load only a sub-selection of the categories by passing the\n",
            "list of the categories to load to the\n",
            ":func:`sklearn.datasets.fetch_20newsgroups` function::\n",
            "\n",
            "  >>> cats = ['alt.atheism', 'sci.space']\n",
            "  >>> newsgroups_train = fetch_20newsgroups(subset='train', categories=cats)\n",
            "\n",
            "  >>> list(newsgroups_train.target_names)\n",
            "  ['alt.atheism', 'sci.space']\n",
            "  >>> newsgroups_train.filenames.shape\n",
            "  (1073,)\n",
            "  >>> newsgroups_train.target.shape\n",
            "  (1073,)\n",
            "  >>> newsgroups_train.target[:10]\n",
            "  array([0, 1, 1, 1, 0, 1, 1, 0, 0, 0])\n",
            "\n",
            "Converting text to vectors\n",
            "~~~~~~~~~~~~~~~~~~~~~~~~~~\n",
            "\n",
            "In order to feed predictive or clustering models with the text data,\n",
            "one first need to turn the text into vectors of numerical values suitable\n",
            "for statistical analysis. This can be achieved with the utilities of the\n",
            "``sklearn.feature_extraction.text`` as demonstrated in the following\n",
            "example that extract `TF-IDF`_ vectors of unigram tokens\n",
            "from a subset of 20news::\n",
            "\n",
            "  >>> from sklearn.feature_extraction.text import TfidfVectorizer\n",
            "  >>> categories = ['alt.atheism', 'talk.religion.misc',\n",
            "  ...               'comp.graphics', 'sci.space']\n",
            "  >>> newsgroups_train = fetch_20newsgroups(subset='train',\n",
            "  ...                                       categories=categories)\n",
            "  >>> vectorizer = TfidfVectorizer()\n",
            "  >>> vectors = vectorizer.fit_transform(newsgroups_train.data)\n",
            "  >>> vectors.shape\n",
            "  (2034, 34118)\n",
            "\n",
            "The extracted TF-IDF vectors are very sparse, with an average of 159 non-zero\n",
            "components by sample in a more than 30000-dimensional space\n",
            "(less than .5% non-zero features)::\n",
            "\n",
            "  >>> vectors.nnz / float(vectors.shape[0])\n",
            "  159.01327...\n",
            "\n",
            ":func:`sklearn.datasets.fetch_20newsgroups_vectorized` is a function which\n",
            "returns ready-to-use token counts features instead of file names.\n",
            "\n",
            ".. _`20 newsgroups website`: http://people.csail.mit.edu/jrennie/20Newsgroups/\n",
            ".. _`TF-IDF`: https://en.wikipedia.org/wiki/Tf-idf\n",
            "\n",
            "\n",
            "Filtering text for more realistic training\n",
            "~~~~~~~~~~~~~~~~~~~~~~~~~~~~~~~~~~~~~~~~~~\n",
            "\n",
            "It is easy for a classifier to overfit on particular things that appear in the\n",
            "20 Newsgroups data, such as newsgroup headers. Many classifiers achieve very\n",
            "high F-scores, but their results would not generalize to other documents that\n",
            "aren't from this window of time.\n",
            "\n",
            "For example, let's look at the results of a multinomial Naive Bayes classifier,\n",
            "which is fast to train and achieves a decent F-score::\n",
            "\n",
            "  >>> from sklearn.naive_bayes import MultinomialNB\n",
            "  >>> from sklearn import metrics\n",
            "  >>> newsgroups_test = fetch_20newsgroups(subset='test',\n",
            "  ...                                      categories=categories)\n",
            "  >>> vectors_test = vectorizer.transform(newsgroups_test.data)\n",
            "  >>> clf = MultinomialNB(alpha=.01)\n",
            "  >>> clf.fit(vectors, newsgroups_train.target)\n",
            "  MultinomialNB(alpha=0.01, class_prior=None, fit_prior=True)\n",
            "\n",
            "  >>> pred = clf.predict(vectors_test)\n",
            "  >>> metrics.f1_score(newsgroups_test.target, pred, average='macro')\n",
            "  0.88213...\n",
            "\n",
            "(The example :ref:`sphx_glr_auto_examples_text_plot_document_classification_20newsgroups.py` shuffles\n",
            "the training and test data, instead of segmenting by time, and in that case\n",
            "multinomial Naive Bayes gets a much higher F-score of 0.88. Are you suspicious\n",
            "yet of what's going on inside this classifier?)\n",
            "\n",
            "Let's take a look at what the most informative features are:\n",
            "\n",
            "  >>> import numpy as np\n",
            "  >>> def show_top10(classifier, vectorizer, categories):\n",
            "  ...     feature_names = vectorizer.get_feature_names_out()\n",
            "  ...     for i, category in enumerate(categories):\n",
            "  ...         top10 = np.argsort(classifier.coef_[i])[-10:]\n",
            "  ...         print(\"%s: %s\" % (category, \" \".join(feature_names[top10])))\n",
            "  ...\n",
            "  >>> show_top10(clf, vectorizer, newsgroups_train.target_names)\n",
            "  alt.atheism: edu it and in you that is of to the\n",
            "  comp.graphics: edu in graphics it is for and of to the\n",
            "  sci.space: edu it that is in and space to of the\n",
            "  talk.religion.misc: not it you in is that and to of the\n",
            "\n",
            "\n",
            "You can now see many things that these features have overfit to:\n",
            "\n",
            "- Almost every group is distinguished by whether headers such as\n",
            "  ``NNTP-Posting-Host:`` and ``Distribution:`` appear more or less often.\n",
            "- Another significant feature involves whether the sender is affiliated with\n",
            "  a university, as indicated either by their headers or their signature.\n",
            "- The word \"article\" is a significant feature, based on how often people quote\n",
            "  previous posts like this: \"In article [article ID], [name] <[e-mail address]>\n",
            "  wrote:\"\n",
            "- Other features match the names and e-mail addresses of particular people who\n",
            "  were posting at the time.\n",
            "\n",
            "With such an abundance of clues that distinguish newsgroups, the classifiers\n",
            "barely have to identify topics from text at all, and they all perform at the\n",
            "same high level.\n",
            "\n",
            "For this reason, the functions that load 20 Newsgroups data provide a\n",
            "parameter called **remove**, telling it what kinds of information to strip out\n",
            "of each file. **remove** should be a tuple containing any subset of\n",
            "``('headers', 'footers', 'quotes')``, telling it to remove headers, signature\n",
            "blocks, and quotation blocks respectively.\n",
            "\n",
            "  >>> newsgroups_test = fetch_20newsgroups(subset='test',\n",
            "  ...                                      remove=('headers', 'footers', 'quotes'),\n",
            "  ...                                      categories=categories)\n",
            "  >>> vectors_test = vectorizer.transform(newsgroups_test.data)\n",
            "  >>> pred = clf.predict(vectors_test)\n",
            "  >>> metrics.f1_score(pred, newsgroups_test.target, average='macro')\n",
            "  0.77310...\n",
            "\n",
            "This classifier lost over a lot of its F-score, just because we removed\n",
            "metadata that has little to do with topic classification.\n",
            "It loses even more if we also strip this metadata from the training data:\n",
            "\n",
            "  >>> newsgroups_train = fetch_20newsgroups(subset='train',\n",
            "  ...                                       remove=('headers', 'footers', 'quotes'),\n",
            "  ...                                       categories=categories)\n",
            "  >>> vectors = vectorizer.fit_transform(newsgroups_train.data)\n",
            "  >>> clf = MultinomialNB(alpha=.01)\n",
            "  >>> clf.fit(vectors, newsgroups_train.target)\n",
            "  MultinomialNB(alpha=0.01, class_prior=None, fit_prior=True)\n",
            "\n",
            "  >>> vectors_test = vectorizer.transform(newsgroups_test.data)\n",
            "  >>> pred = clf.predict(vectors_test)\n",
            "  >>> metrics.f1_score(newsgroups_test.target, pred, average='macro')\n",
            "  0.76995...\n",
            "\n",
            "Some other classifiers cope better with this harder version of the task. Try the\n",
            ":ref:`sphx_glr_auto_examples_model_selection_plot_grid_search_text_feature_extraction.py`\n",
            "example with and without the `remove` option to compare the results.\n",
            "\n",
            ".. topic:: Data Considerations\n",
            "\n",
            "  The Cleveland Indians is a major league baseball team based in Cleveland,\n",
            "  Ohio, USA. In December 2020, it was reported that \"After several months of\n",
            "  discussion sparked by the death of George Floyd and a national reckoning over\n",
            "  race and colonialism, the Cleveland Indians have decided to change their\n",
            "  name.\" Team owner Paul Dolan \"did make it clear that the team will not make\n",
            "  its informal nickname -- the Tribe -- its new team name.\" \"It's not going to\n",
            "  be a half-step away from the Indians,\" Dolan said.\"We will not have a Native\n",
            "  American-themed name.\"\n",
            "\n",
            "  https://www.mlb.com/news/cleveland-indians-team-name-change\n",
            "\n",
            ".. topic:: Recommendation\n",
            "\n",
            "  - When evaluating text classifiers on the 20 Newsgroups data, you\n",
            "    should strip newsgroup-related metadata. In scikit-learn, you can do this\n",
            "    by setting ``remove=('headers', 'footers', 'quotes')``. The F-score will be\n",
            "    lower because it is more realistic.\n",
            "  - This text dataset contains data which may be inappropriate for certain NLP\n",
            "    applications. An example is listed in the \"Data Considerations\" section\n",
            "    above. The challenge with using current text datasets in NLP for tasks such\n",
            "    as sentence completion, clustering, and other applications is that text\n",
            "    that is culturally biased and inflammatory will propagate biases. This\n",
            "    should be taken into consideration when using the dataset, reviewing the\n",
            "    output, and the bias should be documented.\n",
            "\n",
            ".. topic:: Examples\n",
            "\n",
            "   * :ref:`sphx_glr_auto_examples_model_selection_plot_grid_search_text_feature_extraction.py`\n",
            "\n",
            "   * :ref:`sphx_glr_auto_examples_text_plot_document_classification_20newsgroups.py`\n",
            "\n",
            "   * :ref:`sphx_glr_auto_examples_text_plot_hashing_vs_dict_vectorizer.py`\n",
            "\n",
            "   * :ref:`sphx_glr_auto_examples_text_plot_document_clustering.py`\n",
            "\n"
          ]
        }
      ]
    },
    {
      "cell_type": "code",
      "source": [
        "import numpy as np\n",
        "\n",
        "unique, counts = np.unique(twenty_train.target, return_counts=True)\n",
        "print(unique)\n",
        "print(counts)"
      ],
      "metadata": {
        "colab": {
          "base_uri": "https://localhost:8080/"
        },
        "id": "YTzwZiMCLpgQ",
        "outputId": "4d520b1d-52db-49c4-cbf9-0e3d06bfd52d"
      },
      "execution_count": 2,
      "outputs": [
        {
          "output_type": "stream",
          "name": "stdout",
          "text": [
            "[ 0  1  2  3  4  5  6  7  8  9 10 11 12 13 14 15 16 17 18 19]\n",
            "[480 584 591 590 578 593 585 594 598 597 600 595 591 594 593 599 546 564\n",
            " 465 377]\n"
          ]
        }
      ]
    },
    {
      "cell_type": "code",
      "source": [
        "from sklearn.metrics import precision_recall_fscore_support\n",
        "from sklearn.metrics import confusion_matrix\n",
        "from sklearn.metrics import classification_report\n",
        "\n",
        "def class_results(predicted, true, labels):\n",
        "\n",
        "  print(\"Precision, recall, f_score\")\n",
        "  pp.pprint(precision_recall_fscore_support(true,predicted, average='macro'))\n",
        "  pp.pprint(precision_recall_fscore_support(true, predicted, average='micro'))\n",
        "\n",
        "  # confusion matrix\n",
        "\n",
        "  #pp.pprint(confusion_matrix(predicted_train_counts, twenty_train.target))\n",
        "  #pp.pprint(confusion_matrix(predicted_test_counts, twenty_test.target))\n",
        "\n",
        "  # classification report\n",
        "  print('Classification report')\n",
        "  pp.pprint(classification_report(true, predicted,  target_names = labels))"
      ],
      "metadata": {
        "id": "qJKQomqMeA3E"
      },
      "execution_count": 7,
      "outputs": []
    },
    {
      "cell_type": "code",
      "execution_count": 61,
      "metadata": {
        "colab": {
          "base_uri": "https://localhost:8080/"
        },
        "id": "ZAixKUk6ypZz",
        "outputId": "2f37bf7c-038f-4232-cfe6-e6bb685c0a13"
      },
      "outputs": [
        {
          "output_type": "stream",
          "name": "stdout",
          "text": [
            "(11314, 101322)\n",
            "(7532, 101322)\n"
          ]
        }
      ],
      "source": [
        "from sklearn.feature_extraction.text import CountVectorizer\n",
        "import numpy as np\n",
        "\n",
        "count_vect = CountVectorizer(stop_words = 'english',lowercase = True)# min_df = 30, max_df = 0.5)\n",
        "train_counts = count_vect.fit_transform(twenty_train.data)\n",
        "print(train_counts.shape)\n",
        "\n",
        "twenty_test = fetch_20newsgroups(subset='test', remove=('headers', 'footers', 'quotes'), shuffle=True)\n",
        "test_counts = count_vect.transform(twenty_test.data)\n",
        "print(test_counts.shape)"
      ]
    },
    {
      "cell_type": "code",
      "execution_count": 62,
      "metadata": {
        "id": "d-lj3SUMOPmS",
        "colab": {
          "base_uri": "https://localhost:8080/"
        },
        "outputId": "37119f24-bf3e-4b4b-a098-5a4b034a0ac2"
      },
      "outputs": [
        {
          "output_type": "stream",
          "name": "stdout",
          "text": [
            "0.8962347534028637\n",
            "0.6526818906001062\n",
            "Precision, recall, f_score\n",
            "(0.6537765899741197, 0.6420815207074401, 0.6268816896587931, None)\n",
            "(0.6526818906001062, 0.6526818906001062, 0.6526818906001062, None)\n",
            "Classification report\n",
            "('                          precision    recall  f1-score   support\\n'\n",
            " '\\n'\n",
            " '             alt.atheism       0.50      0.52      0.51       319\\n'\n",
            " '           comp.graphics       0.57      0.71      0.63       389\\n'\n",
            " ' comp.os.ms-windows.misc       0.71      0.01      0.02       394\\n'\n",
            " 'comp.sys.ibm.pc.hardware       0.52      0.71      0.60       392\\n'\n",
            " '   comp.sys.mac.hardware       0.59      0.70      0.64       385\\n'\n",
            " '          comp.windows.x       0.75      0.73      0.74       395\\n'\n",
            " '            misc.forsale       0.82      0.69      0.75       390\\n'\n",
            " '               rec.autos       0.69      0.72      0.71       396\\n'\n",
            " '         rec.motorcycles       0.72      0.72      0.72       398\\n'\n",
            " '      rec.sport.baseball       0.90      0.79      0.84       397\\n'\n",
            " '        rec.sport.hockey       0.59      0.87      0.71       399\\n'\n",
            " '               sci.crypt       0.73      0.74      0.74       396\\n'\n",
            " '         sci.electronics       0.64      0.55      0.59       393\\n'\n",
            " '                 sci.med       0.80      0.76      0.78       396\\n'\n",
            " '               sci.space       0.75      0.74      0.74       394\\n'\n",
            " '  soc.religion.christian       0.62      0.80      0.70       398\\n'\n",
            " '      talk.politics.guns       0.59      0.63      0.61       364\\n'\n",
            " '   talk.politics.mideast       0.78      0.73      0.75       376\\n'\n",
            " '      talk.politics.misc       0.46      0.43      0.44       310\\n'\n",
            " '      talk.religion.misc       0.34      0.28      0.31       251\\n'\n",
            " '\\n'\n",
            " '                accuracy                           0.65      7532\\n'\n",
            " '               macro avg       0.65      0.64      0.63      7532\\n'\n",
            " '            weighted avg       0.66      0.65      0.64      7532\\n')\n"
          ]
        }
      ],
      "source": [
        "# MultinomialNB = Naive Bayes for more than 2 classes.\n",
        "import pprint as pp\n",
        "from sklearn.naive_bayes import MultinomialNB\n",
        "kb_class_counts = MultinomialNB(alpha = 0.01).fit(train_counts, twenty_train.target)  # uses tf-idf\n",
        "#print(dir(kb_class))\n",
        "# test it\n",
        "predicted_train = kb_class_counts.predict(train_counts)\n",
        "predicted_test = kb_class_counts.predict(test_counts)\n",
        "print(np.mean(predicted_train == twenty_train.target))\n",
        "print(np.mean(predicted_test == twenty_test.target))\n",
        "\n",
        "class_results(predicted = predicted_test, true = twenty_test.target, labels = twenty_train.target_names)"
      ]
    },
    {
      "cell_type": "code",
      "execution_count": 63,
      "metadata": {
        "colab": {
          "base_uri": "https://localhost:8080/"
        },
        "id": "9IJRaRfdypZ0",
        "outputId": "96077073-1ca0-470c-fe2b-0f295d670061"
      },
      "outputs": [
        {
          "output_type": "stream",
          "name": "stdout",
          "text": [
            "(11314, 101322)\n",
            "(7532, 101322)\n"
          ]
        }
      ],
      "source": [
        "# with or without this\n",
        "from sklearn.feature_extraction.text import TfidfTransformer\n",
        "tfidf_transformer = TfidfTransformer(norm = 'l2', sublinear_tf = True)\n",
        "train_tfidf = tfidf_transformer.fit_transform(train_counts)\n",
        "print(train_tfidf.shape)\n",
        "\n",
        "test_tfidf = tfidf_transformer.transform(test_counts)\n",
        "print(test_tfidf.shape)"
      ]
    },
    {
      "cell_type": "code",
      "execution_count": 64,
      "metadata": {
        "id": "oRYR_7_VypZ1",
        "colab": {
          "base_uri": "https://localhost:8080/"
        },
        "outputId": "3eab1fc8-b635-491e-baa2-16707a62a5c7"
      },
      "outputs": [
        {
          "output_type": "stream",
          "name": "stdout",
          "text": [
            "0.9074597843379884\n",
            "0.674057355284121\n",
            "Precision, recall, f_score\n",
            "(0.7099654944796506, 0.6547136522853936, 0.6471363909025288, None)\n",
            "(0.674057355284121, 0.674057355284121, 0.674057355284121, None)\n",
            "Classification report\n",
            "('                          precision    recall  f1-score   support\\n'\n",
            " '\\n'\n",
            " '             alt.atheism       0.70      0.22      0.33       319\\n'\n",
            " '           comp.graphics       0.65      0.68      0.66       389\\n'\n",
            " ' comp.os.ms-windows.misc       0.69      0.53      0.60       394\\n'\n",
            " 'comp.sys.ibm.pc.hardware       0.58      0.74      0.65       392\\n'\n",
            " '   comp.sys.mac.hardware       0.76      0.66      0.71       385\\n'\n",
            " '          comp.windows.x       0.78      0.76      0.77       395\\n'\n",
            " '            misc.forsale       0.80      0.76      0.78       390\\n'\n",
            " '               rec.autos       0.81      0.72      0.76       396\\n'\n",
            " '         rec.motorcycles       0.86      0.70      0.77       398\\n'\n",
            " '      rec.sport.baseball       0.93      0.79      0.85       397\\n'\n",
            " '        rec.sport.hockey       0.58      0.92      0.71       399\\n'\n",
            " '               sci.crypt       0.57      0.78      0.66       396\\n'\n",
            " '         sci.electronics       0.72      0.51      0.60       393\\n'\n",
            " '                 sci.med       0.88      0.76      0.82       396\\n'\n",
            " '               sci.space       0.78      0.75      0.76       394\\n'\n",
            " '  soc.religion.christian       0.39      0.92      0.55       398\\n'\n",
            " '      talk.politics.guns       0.55      0.72      0.63       364\\n'\n",
            " '   talk.politics.mideast       0.78      0.79      0.79       376\\n'\n",
            " '      talk.politics.misc       0.76      0.35      0.48       310\\n'\n",
            " '      talk.religion.misc       0.62      0.03      0.06       251\\n'\n",
            " '\\n'\n",
            " '                accuracy                           0.67      7532\\n'\n",
            " '               macro avg       0.71      0.65      0.65      7532\\n'\n",
            " '            weighted avg       0.71      0.67      0.66      7532\\n')\n"
          ]
        }
      ],
      "source": [
        "# MultinomialNB = Naive Bayes for more than 2 classes.\n",
        "import pprint as pp\n",
        "from sklearn.naive_bayes import MultinomialNB\n",
        "# alpha = smoothing coefficient (we talked about alpha = 1 or add one smoothing)\n",
        "kb_class_tfidf = MultinomialNB(alpha = 0.2).fit(train_tfidf, twenty_train.target)  # uses tf-idf\n",
        "#kb_class = MultinomialNB().fit(train_counts, twenty_train.target) # uses counts\n",
        "#print(dir(kb_class))\n",
        "predicted_train = kb_class_tfidf.predict(train_counts)\n",
        "predicted_test  = kb_class_tfidf.predict(test_counts)\n",
        "print(np.mean(predicted_train == twenty_train.target))\n",
        "print(np.mean(predicted_test == twenty_test.target))\n",
        "\n",
        "class_results(predicted = predicted_test, true = twenty_test.target, labels = twenty_train.target_names)\n"
      ]
    },
    {
      "cell_type": "code",
      "source": [
        "# if your dataset is not balanced (a class with a lot more points than another) then look into the\n",
        "# ComplementNB classifier"
      ],
      "metadata": {
        "id": "N6UPoGGK6tIQ"
      },
      "execution_count": null,
      "outputs": []
    },
    {
      "cell_type": "code",
      "execution_count": 65,
      "metadata": {
        "colab": {
          "base_uri": "https://localhost:8080/"
        },
        "outputId": "5833b8c8-2f18-4456-8dab-02f86ea558ad",
        "id": "mf3TZhCKb6cr"
      },
      "outputs": [
        {
          "output_type": "stream",
          "name": "stdout",
          "text": [
            "0.876789817924695\n",
            "0.6745884227296867\n",
            "Precision, recall, f_score\n",
            "(0.6720382562599662, 0.6594521328127686, 0.6453624273921665, None)\n",
            "(0.6745884227296867, 0.6745884227296867, 0.6745884227296867, None)\n",
            "Classification report\n",
            "('                          precision    recall  f1-score   support\\n'\n",
            " '\\n'\n",
            " '             alt.atheism       0.32      0.44      0.37       319\\n'\n",
            " '           comp.graphics       0.69      0.72      0.70       389\\n'\n",
            " ' comp.os.ms-windows.misc       0.67      0.10      0.18       394\\n'\n",
            " 'comp.sys.ibm.pc.hardware       0.55      0.72      0.62       392\\n'\n",
            " '   comp.sys.mac.hardware       0.78      0.68      0.73       385\\n'\n",
            " '          comp.windows.x       0.60      0.84      0.70       395\\n'\n",
            " '            misc.forsale       0.77      0.65      0.71       390\\n'\n",
            " '               rec.autos       0.84      0.73      0.78       396\\n'\n",
            " '         rec.motorcycles       0.86      0.73      0.79       398\\n'\n",
            " '      rec.sport.baseball       0.92      0.82      0.87       397\\n'\n",
            " '        rec.sport.hockey       0.81      0.93      0.87       399\\n'\n",
            " '               sci.crypt       0.69      0.81      0.75       396\\n'\n",
            " '         sci.electronics       0.68      0.51      0.59       393\\n'\n",
            " '                 sci.med       0.77      0.81      0.79       396\\n'\n",
            " '               sci.space       0.74      0.79      0.76       394\\n'\n",
            " '  soc.religion.christian       0.57      0.86      0.69       398\\n'\n",
            " '      talk.politics.guns       0.62      0.64      0.63       364\\n'\n",
            " '   talk.politics.mideast       0.64      0.85      0.73       376\\n'\n",
            " '      talk.politics.misc       0.55      0.43      0.48       310\\n'\n",
            " '      talk.religion.misc       0.37      0.12      0.18       251\\n'\n",
            " '\\n'\n",
            " '                accuracy                           0.67      7532\\n'\n",
            " '               macro avg       0.67      0.66      0.65      7532\\n'\n",
            " '            weighted avg       0.68      0.67      0.66      7532\\n')\n"
          ]
        }
      ],
      "source": [
        "# MultinomialNB = Naive Bayes for more than 2 classes.\n",
        "import pprint as pp\n",
        "from sklearn.naive_bayes import ComplementNB\n",
        "kb_complement_counts = ComplementNB(alpha = 0.5).fit(train_counts, twenty_train.target)  # uses tf-idf\n",
        "#print(dir(kb_class))\n",
        "# test it\n",
        "predicted_train = kb_complement_counts.predict(train_counts)\n",
        "predicted_test = kb_complement_counts.predict(test_counts)\n",
        "print(np.mean(predicted_train == twenty_train.target))\n",
        "print(np.mean(predicted_test == twenty_test.target))\n",
        "\n",
        "class_results(predicted = predicted_test, true = twenty_test.target, labels = twenty_train.target_names)"
      ]
    },
    {
      "cell_type": "code",
      "execution_count": 66,
      "metadata": {
        "colab": {
          "base_uri": "https://localhost:8080/"
        },
        "outputId": "e24c593a-da65-4d09-896c-63ce79adc1f7",
        "id": "2fjhyIWGdcJd"
      },
      "outputs": [
        {
          "output_type": "stream",
          "name": "stdout",
          "text": [
            "0.9267279476754463\n",
            "0.7177376526818906\n",
            "Precision, recall, f_score\n",
            "(0.7176054123310702, 0.701438580726102, 0.6991196663416589, None)\n",
            "(0.7177376526818906, 0.7177376526818906, 0.7177376526818906, None)\n",
            "Classification report\n",
            "('                          precision    recall  f1-score   support\\n'\n",
            " '\\n'\n",
            " '             alt.atheism       0.31      0.43      0.36       319\\n'\n",
            " '           comp.graphics       0.73      0.72      0.72       389\\n'\n",
            " ' comp.os.ms-windows.misc       0.71      0.60      0.65       394\\n'\n",
            " 'comp.sys.ibm.pc.hardware       0.62      0.71      0.66       392\\n'\n",
            " '   comp.sys.mac.hardware       0.77      0.73      0.75       385\\n'\n",
            " '          comp.windows.x       0.82      0.80      0.81       395\\n'\n",
            " '            misc.forsale       0.75      0.74      0.74       390\\n'\n",
            " '               rec.autos       0.81      0.75      0.78       396\\n'\n",
            " '         rec.motorcycles       0.83      0.76      0.79       398\\n'\n",
            " '      rec.sport.baseball       0.92      0.84      0.88       397\\n'\n",
            " '        rec.sport.hockey       0.86      0.95      0.90       399\\n'\n",
            " '               sci.crypt       0.78      0.81      0.79       396\\n'\n",
            " '         sci.electronics       0.73      0.55      0.62       393\\n'\n",
            " '                 sci.med       0.81      0.81      0.81       396\\n'\n",
            " '               sci.space       0.79      0.80      0.80       394\\n'\n",
            " '  soc.religion.christian       0.55      0.89      0.68       398\\n'\n",
            " '      talk.politics.guns       0.60      0.73      0.66       364\\n'\n",
            " '   talk.politics.mideast       0.79      0.85      0.82       376\\n'\n",
            " '      talk.politics.misc       0.68      0.43      0.52       310\\n'\n",
            " '      talk.religion.misc       0.49      0.14      0.22       251\\n'\n",
            " '\\n'\n",
            " '                accuracy                           0.72      7532\\n'\n",
            " '               macro avg       0.72      0.70      0.70      7532\\n'\n",
            " '            weighted avg       0.73      0.72      0.71      7532\\n')\n"
          ]
        }
      ],
      "source": [
        "# MultinomialNB = Naive Bayes for more than 2 classes.\n",
        "from sklearn.naive_bayes import ComplementNB\n",
        "# alpha = smoothing coefficient (we talked about alpha = 1 or add one smoothing)\n",
        "kb_complement_tfidf = ComplementNB(alpha = 0.2).fit(train_tfidf, twenty_train.target)  # uses tf-idf\n",
        "#kb_class = MultinomialNB().fit(train_counts, twenty_train.target) # uses counts\n",
        "#print(dir(kb_class))\n",
        "\n",
        "predicted_train = kb_complement_tfidf.predict(train_counts)\n",
        "predicted_test = kb_complement_tfidf.predict(test_counts)\n",
        "print(np.mean(predicted_train == twenty_train.target))\n",
        "print(np.mean(predicted_test == twenty_test.target))\n",
        "\n",
        "class_results(predicted = predicted_test, true = twenty_test.target, labels = twenty_train.target_names)\n"
      ]
    },
    {
      "cell_type": "code",
      "source": [
        "# simple knn\n",
        "from sklearn.neighbors import KNeighborsClassifier\n",
        "\n",
        "knn = KNeighborsClassifier(n_neighbors= 13, algorithm='auto', p=2, metric='cosine')\n",
        "knn.fit(train_tfidf, twenty_train.target)\n",
        "\n",
        "predicted_test = knn.predict(test_tfidf)\n",
        "predicted_train = knn.predict(train_tfidf)\n",
        "print(np.mean(predicted_train == twenty_train.target))\n",
        "print(np.mean(predicted_test == twenty_test.target))\n",
        "class_results(predicted = predicted_test, true = twenty_test.target, labels = twenty_train.target_names)"
      ],
      "metadata": {
        "colab": {
          "base_uri": "https://localhost:8080/"
        },
        "id": "ViMiDSwLg5jY",
        "outputId": "c7c9faef-8e6d-4a90-a048-d28dd6388e48"
      },
      "execution_count": 44,
      "outputs": [
        {
          "output_type": "stream",
          "name": "stdout",
          "text": [
            "0.7852218490365919\n",
            "0.6480350504514073\n",
            "Precision, recall, f_score\n",
            "(0.6522904910494797, 0.6358496206893856, 0.6356622670747122, None)\n",
            "(0.6480350504514073, 0.6480350504514073, 0.6480350504514073, None)\n",
            "Classification report\n",
            "('                          precision    recall  f1-score   support\\n'\n",
            " '\\n'\n",
            " '             alt.atheism       0.43      0.50      0.46       319\\n'\n",
            " '           comp.graphics       0.56      0.69      0.62       389\\n'\n",
            " ' comp.os.ms-windows.misc       0.54      0.66      0.59       394\\n'\n",
            " 'comp.sys.ibm.pc.hardware       0.56      0.68      0.62       392\\n'\n",
            " '   comp.sys.mac.hardware       0.63      0.63      0.63       385\\n'\n",
            " '          comp.windows.x       0.76      0.72      0.74       395\\n'\n",
            " '            misc.forsale       0.46      0.71      0.56       390\\n'\n",
            " '               rec.autos       0.63      0.70      0.67       396\\n'\n",
            " '         rec.motorcycles       0.68      0.70      0.69       398\\n'\n",
            " '      rec.sport.baseball       0.79      0.81      0.80       397\\n'\n",
            " '        rec.sport.hockey       0.83      0.88      0.86       399\\n'\n",
            " '               sci.crypt       0.81      0.71      0.75       396\\n'\n",
            " '         sci.electronics       0.64      0.39      0.48       393\\n'\n",
            " '                 sci.med       0.86      0.64      0.74       396\\n'\n",
            " '               sci.space       0.79      0.65      0.71       394\\n'\n",
            " '  soc.religion.christian       0.63      0.71      0.67       398\\n'\n",
            " '      talk.politics.guns       0.60      0.64      0.62       364\\n'\n",
            " '   talk.politics.mideast       0.83      0.69      0.76       376\\n'\n",
            " '      talk.politics.misc       0.60      0.41      0.49       310\\n'\n",
            " '      talk.religion.misc       0.41      0.21      0.28       251\\n'\n",
            " '\\n'\n",
            " '                accuracy                           0.65      7532\\n'\n",
            " '               macro avg       0.65      0.64      0.64      7532\\n'\n",
            " '            weighted avg       0.66      0.65      0.65      7532\\n')\n"
          ]
        }
      ]
    },
    {
      "cell_type": "code",
      "source": [
        "from sklearn.SVM import KNeighborsClassifier\n",
        "\n",
        "knn = KNeighborsClassifier(n_neighbors= 13, algorithm='auto', p=2, metric='cosine')\n",
        "knn.fit(train_tfidf, twenty_train.target)\n",
        "\n",
        "predicted_test = knn.predict(test_tfidf)\n",
        "predicted_train = knn.predict(train_tfidf)\n",
        "print(np.mean(predicted_train == twenty_train.target))\n",
        "print(np.mean(predicted_test == twenty_test.target))\n",
        "class_results(predicted = predicted_test, true = twenty_test.target, labels = twenty_train.target_names)"
      ],
      "metadata": {
        "id": "-ZAkKBJXoPCb"
      },
      "execution_count": null,
      "outputs": []
    },
    {
      "cell_type": "code",
      "source": [
        "!pip install faiss-cpu --no-cache\n",
        "#!pip install faiss-cpu -c pytorch #!pip install swigfaiss"
      ],
      "metadata": {
        "colab": {
          "base_uri": "https://localhost:8080/"
        },
        "id": "SDAYt71Ufkjn",
        "outputId": "65aadf6e-b562-4c67-a677-338694cd4f27"
      },
      "execution_count": 5,
      "outputs": [
        {
          "output_type": "stream",
          "name": "stdout",
          "text": [
            "Collecting faiss-cpu\n",
            "  Downloading faiss_cpu-1.9.0-cp310-cp310-manylinux_2_17_x86_64.manylinux2014_x86_64.whl.metadata (4.4 kB)\n",
            "Requirement already satisfied: numpy<3.0,>=1.25.0 in /usr/local/lib/python3.10/dist-packages (from faiss-cpu) (1.26.4)\n",
            "Requirement already satisfied: packaging in /usr/local/lib/python3.10/dist-packages (from faiss-cpu) (24.2)\n",
            "Downloading faiss_cpu-1.9.0-cp310-cp310-manylinux_2_17_x86_64.manylinux2014_x86_64.whl (27.5 MB)\n",
            "\u001b[2K   \u001b[90m━━━━━━━━━━━━━━━━━━━━━━━━━━━━━━━━━━━━━━━━\u001b[0m \u001b[32m27.5/27.5 MB\u001b[0m \u001b[31m212.2 MB/s\u001b[0m eta \u001b[36m0:00:00\u001b[0m\n",
            "\u001b[?25hInstalling collected packages: faiss-cpu\n",
            "Successfully installed faiss-cpu-1.9.0\n"
          ]
        }
      ]
    },
    {
      "cell_type": "code",
      "source": [
        "# knn with faiss\n",
        "import faiss                   # make faiss available\n",
        "#from faiss import swigfaiss\n",
        "dim = train_tfidf.shape[1]\n",
        "print(dim)\n",
        "index = faiss.IndexFlatIP(dim) # indexFlat = pairwise comparison, no speed up\n",
        "print(train_tfidf.toarray().dtype) # it has to be float32\n",
        "index.add(train_tfidf.toarray().astype(np.float32))"
      ],
      "metadata": {
        "colab": {
          "base_uri": "https://localhost:8080/"
        },
        "id": "r9fScTZEfbwZ",
        "outputId": "160718ed-dc4c-48dd-d890-d728794e1042"
      },
      "execution_count": 67,
      "outputs": [
        {
          "output_type": "stream",
          "name": "stdout",
          "text": [
            "101322\n",
            "float64\n"
          ]
        }
      ]
    },
    {
      "cell_type": "code",
      "source": [
        "k = 5                          # we want 5 similar vectors to the test vectors\n",
        "dist_knn, index_knn = index.search(test_tfidf.toarray().astype(np.float32), k)     # actual search\n",
        "print(type(dist_knn), dist_knn.shape)\n",
        "print(type(index_knn), index_knn.shape)\n"
      ],
      "metadata": {
        "colab": {
          "base_uri": "https://localhost:8080/",
          "height": 339
        },
        "id": "YmcDlbMZFqmZ",
        "outputId": "1ae43226-9b71-42be-ea2b-232c87b2d17a"
      },
      "execution_count": 68,
      "outputs": [
        {
          "output_type": "error",
          "ename": "KeyboardInterrupt",
          "evalue": "",
          "traceback": [
            "\u001b[0;31m---------------------------------------------------------------------------\u001b[0m",
            "\u001b[0;31mKeyboardInterrupt\u001b[0m                         Traceback (most recent call last)",
            "\u001b[0;32m<ipython-input-68-8291906c6851>\u001b[0m in \u001b[0;36m<cell line: 2>\u001b[0;34m()\u001b[0m\n\u001b[1;32m      1\u001b[0m \u001b[0mk\u001b[0m \u001b[0;34m=\u001b[0m \u001b[0;36m5\u001b[0m                          \u001b[0;31m# we want 5 similar vectors to the test vectors\u001b[0m\u001b[0;34m\u001b[0m\u001b[0;34m\u001b[0m\u001b[0m\n\u001b[0;32m----> 2\u001b[0;31m \u001b[0mdist_knn\u001b[0m\u001b[0;34m,\u001b[0m \u001b[0mindex_knn\u001b[0m \u001b[0;34m=\u001b[0m \u001b[0mindex\u001b[0m\u001b[0;34m.\u001b[0m\u001b[0msearch\u001b[0m\u001b[0;34m(\u001b[0m\u001b[0mtest_tfidf\u001b[0m\u001b[0;34m.\u001b[0m\u001b[0mtoarray\u001b[0m\u001b[0;34m(\u001b[0m\u001b[0;34m)\u001b[0m\u001b[0;34m.\u001b[0m\u001b[0mastype\u001b[0m\u001b[0;34m(\u001b[0m\u001b[0mnp\u001b[0m\u001b[0;34m.\u001b[0m\u001b[0mfloat32\u001b[0m\u001b[0;34m)\u001b[0m\u001b[0;34m,\u001b[0m \u001b[0mk\u001b[0m\u001b[0;34m)\u001b[0m     \u001b[0;31m# actual search\u001b[0m\u001b[0;34m\u001b[0m\u001b[0;34m\u001b[0m\u001b[0m\n\u001b[0m\u001b[1;32m      3\u001b[0m \u001b[0mprint\u001b[0m\u001b[0;34m(\u001b[0m\u001b[0mtype\u001b[0m\u001b[0;34m(\u001b[0m\u001b[0mdist_knn\u001b[0m\u001b[0;34m)\u001b[0m\u001b[0;34m,\u001b[0m \u001b[0mdist_knn\u001b[0m\u001b[0;34m.\u001b[0m\u001b[0mshape\u001b[0m\u001b[0;34m)\u001b[0m\u001b[0;34m\u001b[0m\u001b[0;34m\u001b[0m\u001b[0m\n\u001b[1;32m      4\u001b[0m \u001b[0mprint\u001b[0m\u001b[0;34m(\u001b[0m\u001b[0mtype\u001b[0m\u001b[0;34m(\u001b[0m\u001b[0mindex_knn\u001b[0m\u001b[0;34m)\u001b[0m\u001b[0;34m,\u001b[0m \u001b[0mindex_knn\u001b[0m\u001b[0;34m.\u001b[0m\u001b[0mshape\u001b[0m\u001b[0;34m)\u001b[0m\u001b[0;34m\u001b[0m\u001b[0;34m\u001b[0m\u001b[0m\n",
            "\u001b[0;32m/usr/local/lib/python3.10/dist-packages/faiss/class_wrappers.py\u001b[0m in \u001b[0;36mreplacement_search\u001b[0;34m(self, x, k, params, D, I)\u001b[0m\n\u001b[1;32m    341\u001b[0m             \u001b[0;32massert\u001b[0m \u001b[0mI\u001b[0m\u001b[0;34m.\u001b[0m\u001b[0mshape\u001b[0m \u001b[0;34m==\u001b[0m \u001b[0;34m(\u001b[0m\u001b[0mn\u001b[0m\u001b[0;34m,\u001b[0m \u001b[0mk\u001b[0m\u001b[0;34m)\u001b[0m\u001b[0;34m\u001b[0m\u001b[0;34m\u001b[0m\u001b[0m\n\u001b[1;32m    342\u001b[0m \u001b[0;34m\u001b[0m\u001b[0m\n\u001b[0;32m--> 343\u001b[0;31m         \u001b[0mself\u001b[0m\u001b[0;34m.\u001b[0m\u001b[0msearch_c\u001b[0m\u001b[0;34m(\u001b[0m\u001b[0mn\u001b[0m\u001b[0;34m,\u001b[0m \u001b[0mswig_ptr\u001b[0m\u001b[0;34m(\u001b[0m\u001b[0mx\u001b[0m\u001b[0;34m)\u001b[0m\u001b[0;34m,\u001b[0m \u001b[0mk\u001b[0m\u001b[0;34m,\u001b[0m \u001b[0mswig_ptr\u001b[0m\u001b[0;34m(\u001b[0m\u001b[0mD\u001b[0m\u001b[0;34m)\u001b[0m\u001b[0;34m,\u001b[0m \u001b[0mswig_ptr\u001b[0m\u001b[0;34m(\u001b[0m\u001b[0mI\u001b[0m\u001b[0;34m)\u001b[0m\u001b[0;34m,\u001b[0m \u001b[0mparams\u001b[0m\u001b[0;34m)\u001b[0m\u001b[0;34m\u001b[0m\u001b[0;34m\u001b[0m\u001b[0m\n\u001b[0m\u001b[1;32m    344\u001b[0m         \u001b[0;32mreturn\u001b[0m \u001b[0mD\u001b[0m\u001b[0;34m,\u001b[0m \u001b[0mI\u001b[0m\u001b[0;34m\u001b[0m\u001b[0;34m\u001b[0m\u001b[0m\n\u001b[1;32m    345\u001b[0m \u001b[0;34m\u001b[0m\u001b[0m\n",
            "\u001b[0;32m/usr/local/lib/python3.10/dist-packages/faiss/swigfaiss_avx2.py\u001b[0m in \u001b[0;36msearch\u001b[0;34m(self, n, x, k, distances, labels, params)\u001b[0m\n\u001b[1;32m   2364\u001b[0m \u001b[0;34m\u001b[0m\u001b[0m\n\u001b[1;32m   2365\u001b[0m     \u001b[0;32mdef\u001b[0m \u001b[0msearch\u001b[0m\u001b[0;34m(\u001b[0m\u001b[0mself\u001b[0m\u001b[0;34m,\u001b[0m \u001b[0mn\u001b[0m\u001b[0;34m,\u001b[0m \u001b[0mx\u001b[0m\u001b[0;34m,\u001b[0m \u001b[0mk\u001b[0m\u001b[0;34m,\u001b[0m \u001b[0mdistances\u001b[0m\u001b[0;34m,\u001b[0m \u001b[0mlabels\u001b[0m\u001b[0;34m,\u001b[0m \u001b[0mparams\u001b[0m\u001b[0;34m=\u001b[0m\u001b[0;32mNone\u001b[0m\u001b[0;34m)\u001b[0m\u001b[0;34m:\u001b[0m\u001b[0;34m\u001b[0m\u001b[0;34m\u001b[0m\u001b[0m\n\u001b[0;32m-> 2366\u001b[0;31m         \u001b[0;32mreturn\u001b[0m \u001b[0m_swigfaiss_avx2\u001b[0m\u001b[0;34m.\u001b[0m\u001b[0mIndexFlat_search\u001b[0m\u001b[0;34m(\u001b[0m\u001b[0mself\u001b[0m\u001b[0;34m,\u001b[0m \u001b[0mn\u001b[0m\u001b[0;34m,\u001b[0m \u001b[0mx\u001b[0m\u001b[0;34m,\u001b[0m \u001b[0mk\u001b[0m\u001b[0;34m,\u001b[0m \u001b[0mdistances\u001b[0m\u001b[0;34m,\u001b[0m \u001b[0mlabels\u001b[0m\u001b[0;34m,\u001b[0m \u001b[0mparams\u001b[0m\u001b[0;34m)\u001b[0m\u001b[0;34m\u001b[0m\u001b[0;34m\u001b[0m\u001b[0m\n\u001b[0m\u001b[1;32m   2367\u001b[0m \u001b[0;34m\u001b[0m\u001b[0m\n\u001b[1;32m   2368\u001b[0m     \u001b[0;32mdef\u001b[0m \u001b[0mrange_search\u001b[0m\u001b[0;34m(\u001b[0m\u001b[0mself\u001b[0m\u001b[0;34m,\u001b[0m \u001b[0mn\u001b[0m\u001b[0;34m,\u001b[0m \u001b[0mx\u001b[0m\u001b[0;34m,\u001b[0m \u001b[0mradius\u001b[0m\u001b[0;34m,\u001b[0m \u001b[0mresult\u001b[0m\u001b[0;34m,\u001b[0m \u001b[0mparams\u001b[0m\u001b[0;34m=\u001b[0m\u001b[0;32mNone\u001b[0m\u001b[0;34m)\u001b[0m\u001b[0;34m:\u001b[0m\u001b[0;34m\u001b[0m\u001b[0;34m\u001b[0m\u001b[0m\n",
            "\u001b[0;31mKeyboardInterrupt\u001b[0m: "
          ]
        }
      ]
    },
    {
      "cell_type": "code",
      "source": [
        "print(dist_knn[:5,:]) # shortest k = 5 distances to each test case\n",
        "print(index_knn[:5,:]) # indexes to closest k = 5 training tf-idf vectors"
      ],
      "metadata": {
        "colab": {
          "base_uri": "https://localhost:8080/"
        },
        "id": "nIhTTNK7GJRi",
        "outputId": "71ab873d-08aa-4fd4-d1d9-2038c6de2cae"
      },
      "execution_count": 12,
      "outputs": [
        {
          "output_type": "stream",
          "name": "stdout",
          "text": [
            "[[0.2457444  0.17160115 0.16329828 0.15972638 0.14375842]\n",
            " [0.34550226 0.21668756 0.20922291 0.19734934 0.19083253]\n",
            " [0.7409506  0.40241027 0.39349103 0.39083683 0.33061358]\n",
            " [0.18521333 0.1715529  0.17121649 0.1706531  0.16718757]\n",
            " [0.26313308 0.23956817 0.23420517 0.2257334  0.21672462]]\n"
          ]
        }
      ]
    },
    {
      "cell_type": "code",
      "source": [
        "ind = 1 # test the search on a test index - see the results\n",
        "cat_names = twenty_test.target_names\n",
        "print(twenty_test.data[ind])\n",
        "print(cat_names[twenty_test.target[ind]])\n",
        "for i in index_knn[ind,:]:\n",
        "  print(cat_names[twenty_train.target[i]])\n",
        "for i in index_knn[ind,:]:\n",
        "  print(i, twenty_train.data[i])"
      ],
      "metadata": {
        "colab": {
          "base_uri": "https://localhost:8080/"
        },
        "id": "I0Kyoa2WHFud",
        "outputId": "98fac3db-c212-4b13-d636-99f94e710384"
      },
      "execution_count": null,
      "outputs": [
        {
          "output_type": "stream",
          "name": "stdout",
          "text": [
            "I'm not familiar at all with the format of these \"X-Face:\" thingies, but\n",
            "after seeing them in some folks' headers, I've *got* to *see* them (and\n",
            "maybe make one of my own)!\n",
            "\n",
            "I've got \"dpg-view\" on my Linux box (which displays \"uncompressed X-Faces\")\n",
            "and I've managed to compile [un]compface too... but now that I'm *looking*\n",
            "for them, I can't seem to find any X-Face:'s in anyones news headers!  :-(\n",
            "\n",
            "Could you, would you, please send me your \"X-Face:\" header?\n",
            "\n",
            "I *know* I'll probably get a little swamped, but I can handle it.\n",
            "\n",
            "\t...I hope.\n",
            "comp.windows.x\n",
            "comp.sys.mac.hardware\n",
            "rec.sport.baseball\n",
            "comp.graphics\n",
            "sci.space\n",
            "comp.sys.mac.hardware\n",
            "155 \n",
            "164 \n",
            "171 \n",
            "205 \n",
            "12 --\n",
            "\n"
          ]
        }
      ]
    },
    {
      "cell_type": "code",
      "source": [
        "twenty_train.data[100]"
      ],
      "metadata": {
        "colab": {
          "base_uri": "https://localhost:8080/",
          "height": 195
        },
        "id": "4lam4bq1RX_p",
        "outputId": "f828ad72-7ff7-4889-c31d-eb65c38a58c9"
      },
      "execution_count": null,
      "outputs": [
        {
          "output_type": "execute_result",
          "data": {
            "text/plain": [
              "\"1.  Software publishing SuperBase 4 windows v.1.3           --->$80\\n\\n2.  OCR System ReadRight v.3.1 for Windows                  --->$65\\n\\n3.  OCR System ReadRight  v.2.01 for DOS                    --->$65\\n\\n4.  Unregistered Zortech 32 bit C++ Compiler v.3.1          --->$ 250\\n     with Multiscope windows Debugger,\\n     WhiteWater Resource Toolkit, Library Source Code\\n\\n5.  Glockenspiel/ImageSoft Commonview 2 Windows\\n     Applications Framework for Borland C++                 --->$70\\n\\n6.  Spontaneous Assembly Library With Source Code           --->$50\\n\\n7.  Microsoft Macro Assembly 6.0                            --->$50\\n\\n8.  Microsoft Windows v.3.1 SDK Documentation               --->$125\\n\\n9.  Microsoft FoxPro V.2.0                                  --->$75\\n\\n10.  WordPerfect 5.0 Developer's Toolkit                    --->$20\\n\\n11.  Kedwell Software DataBoss v.3.5 C Code Generator       --->$100\\n\\n12.  Kedwell InstallBoss v.2.0 Installation Generator       --->$35\\n\\n13.  Liant Software C++/Views v.2.1\\n       Windows Application Framework with Source Code       --->$195\\n\\n14.  IBM OS/2 2.0 & Developer's Toolkit                     --->$95\\n\\n15.  CBTree DOS/Windows Library with Source Code            --->$120\\n\\n16.  Symantec TimeLine for Windows                          --->$90\\n\\n17.  TimeSlip TimeSheet Professional for Windows            --->$30\""
            ],
            "application/vnd.google.colaboratory.intrinsic+json": {
              "type": "string"
            }
          },
          "metadata": {},
          "execution_count": 118
        }
      ]
    },
    {
      "cell_type": "code",
      "execution_count": 49,
      "metadata": {
        "id": "iQJbdKqwypZ3"
      },
      "outputs": [],
      "source": [
        "# do feature selection using Chi-square\n",
        "# eliminate features which are independent of the target class\n",
        "# those which have a large chi-square value\n",
        "from sklearn.feature_selection import chi2\n",
        "chi_val, p_val = chi2(train_counts, twenty_train.target)"
      ]
    },
    {
      "cell_type": "code",
      "execution_count": 27,
      "metadata": {
        "id": "wl8uP2vKypZ4",
        "outputId": "bba2553a-34a4-469e-a5e6-e2a030d0b98c",
        "colab": {
          "base_uri": "https://localhost:8080/"
        }
      },
      "outputs": [
        {
          "output_type": "execute_result",
          "data": {
            "text/plain": [
              "array([5739.50881601, 1017.63016886,  839.18581504, 1041.13858313,\n",
              "       1125.1865885 , 1130.64644404,  308.56118279,  521.45555446,\n",
              "        126.8534625 ,  135.32908213,  146.74191104, 1637.18283841,\n",
              "        183.24045195,   41.47965983,  123.63172214,  163.19352815,\n",
              "        139.78935595,  170.82728135,  108.65450313,  116.23851667])"
            ]
          },
          "metadata": {},
          "execution_count": 27
        }
      ],
      "source": [
        "chi_val[:20]"
      ]
    },
    {
      "cell_type": "code",
      "execution_count": 28,
      "metadata": {
        "id": "jHFUvUhrypZ5",
        "outputId": "20c32ab4-c131-426c-d6c1-d39ad89d82fc",
        "colab": {
          "base_uri": "https://localhost:8080/"
        }
      },
      "outputs": [
        {
          "output_type": "execute_result",
          "data": {
            "text/plain": [
              "array([0.00000000e+000, 9.13829195e-204, 9.98638292e-166, 8.71404202e-209,\n",
              "       9.45098586e-227, 6.42276191e-228, 3.50965061e-054, 1.74856175e-098,\n",
              "       5.72977024e-018, 1.42037999e-019, 9.29753578e-022, 0.00000000e+000,\n",
              "       7.11081252e-029, 2.08233860e-003, 2.31445338e-017, 6.06299377e-025,\n",
              "       2.00289560e-020, 1.95710068e-026, 1.41005329e-014, 5.57792884e-016])"
            ]
          },
          "metadata": {},
          "execution_count": 28
        }
      ],
      "source": [
        "p_val[:20]"
      ]
    },
    {
      "cell_type": "code",
      "execution_count": 50,
      "metadata": {
        "id": "jXmTtfh8ypZ5",
        "outputId": "017d3954-537e-4e58-92a6-9c747ec91ae9",
        "colab": {
          "base_uri": "https://localhost:8080/"
        }
      },
      "outputs": [
        {
          "output_type": "stream",
          "name": "stdout",
          "text": [
            "34457\n"
          ]
        }
      ],
      "source": [
        "ind_small_pval = p_val < 0.05\n",
        "print(sum(ind_small_pval))"
      ]
    },
    {
      "cell_type": "code",
      "execution_count": 51,
      "metadata": {
        "id": "CornrfmqypZ6",
        "outputId": "0999a60a-18bc-432b-e8ed-71690df5580f",
        "colab": {
          "base_uri": "https://localhost:8080/"
        }
      },
      "outputs": [
        {
          "output_type": "stream",
          "name": "stdout",
          "text": [
            "0.6510886882634095\n",
            "0.808202227328973\n",
            "0.6510886882634095\n",
            "Precision, recall, f_score\n",
            "(0.6396050095588381, 0.6373058432657016, 0.6185782156458735, None)\n",
            "(0.6510886882634095, 0.6510886882634095, 0.6510886882634095, None)\n",
            "Classification report\n",
            "('                          precision    recall  f1-score   support\\n'\n",
            " '\\n'\n",
            " '             alt.atheism       0.56      0.46      0.51       319\\n'\n",
            " '           comp.graphics       0.54      0.72      0.62       389\\n'\n",
            " ' comp.os.ms-windows.misc       0.33      0.00      0.01       394\\n'\n",
            " 'comp.sys.ibm.pc.hardware       0.51      0.73      0.60       392\\n'\n",
            " '   comp.sys.mac.hardware       0.65      0.63      0.64       385\\n'\n",
            " '          comp.windows.x       0.66      0.75      0.70       395\\n'\n",
            " '            misc.forsale       0.83      0.72      0.77       390\\n'\n",
            " '               rec.autos       0.78      0.72      0.75       396\\n'\n",
            " '         rec.motorcycles       0.86      0.70      0.78       398\\n'\n",
            " '      rec.sport.baseball       0.92      0.78      0.84       397\\n'\n",
            " '        rec.sport.hockey       0.58      0.88      0.70       399\\n'\n",
            " '               sci.crypt       0.66      0.74      0.70       396\\n'\n",
            " '         sci.electronics       0.66      0.52      0.58       393\\n'\n",
            " '                 sci.med       0.82      0.78      0.80       396\\n'\n",
            " '               sci.space       0.76      0.73      0.75       394\\n'\n",
            " '  soc.religion.christian       0.51      0.88      0.65       398\\n'\n",
            " '      talk.politics.guns       0.57      0.67      0.62       364\\n'\n",
            " '   talk.politics.mideast       0.72      0.76      0.74       376\\n'\n",
            " '      talk.politics.misc       0.44      0.45      0.45       310\\n'\n",
            " '      talk.religion.misc       0.40      0.11      0.17       251\\n'\n",
            " '\\n'\n",
            " '                accuracy                           0.65      7532\\n'\n",
            " '               macro avg       0.64      0.64      0.62      7532\\n'\n",
            " '            weighted avg       0.65      0.65      0.63      7532\\n')\n"
          ]
        }
      ],
      "source": [
        "# extract only those terms and do the classification\n",
        "#chi2_terms = train_tfidf(ind_small_pval)\n",
        "import pprint as pp\n",
        "from sklearn.naive_bayes import MultinomialNB\n",
        "\n",
        "kb_chi2 = MultinomialNB().fit(train_counts[:,ind_small_pval], twenty_train.target)\n",
        "\n",
        "\n",
        "predicted = kb_chi2.predict(test_counts[:,ind_small_pval])\n",
        "print(np.mean(predicted == twenty_test.target))\n",
        "predicted_test = kb_chi2.predict(test_counts[:,ind_small_pval])\n",
        "predicted_train = kb_chi2.predict(train_counts[:,ind_small_pval])\n",
        "print(np.mean(predicted_train == twenty_train.target))\n",
        "print(np.mean(predicted_test == twenty_test.target))\n",
        "class_results(predicted = predicted_test, true = twenty_test.target, labels = twenty_train.target_names)\n"
      ]
    },
    {
      "cell_type": "code",
      "source": [
        "from sklearn.feature_selection import f_classif\n",
        "f_val, p_val = f_classif(train_counts, twenty_train.target)\n",
        "ind_small_pval = p_val < 0.05\n",
        "print(sum(ind_small_pval))"
      ],
      "metadata": {
        "colab": {
          "base_uri": "https://localhost:8080/"
        },
        "id": "oTQkJGVTBzF2",
        "outputId": "5d401763-6bba-4de5-a362-2b998d0f2595"
      },
      "execution_count": 69,
      "outputs": [
        {
          "output_type": "stream",
          "name": "stdout",
          "text": [
            "23672\n"
          ]
        }
      ]
    },
    {
      "cell_type": "code",
      "execution_count": 70,
      "metadata": {
        "outputId": "3c6b95f8-033e-4e4e-8dbc-2e23bbe545f2",
        "colab": {
          "base_uri": "https://localhost:8080/"
        },
        "id": "SxYgWsFTCA6K"
      },
      "outputs": [
        {
          "output_type": "stream",
          "name": "stdout",
          "text": [
            "0.6500265533722783\n",
            "0.7994520063637971\n",
            "0.6500265533722783\n",
            "Precision, recall, f_score\n",
            "(0.6395324413538426, 0.6371040933822892, 0.6203169222997431, None)\n",
            "(0.6500265533722783, 0.6500265533722783, 0.6500265533722783, None)\n",
            "Classification report\n",
            "('                          precision    recall  f1-score   support\\n'\n",
            " '\\n'\n",
            " '             alt.atheism       0.51      0.47      0.49       319\\n'\n",
            " '           comp.graphics       0.52      0.72      0.60       389\\n'\n",
            " ' comp.os.ms-windows.misc       0.33      0.00      0.01       394\\n'\n",
            " 'comp.sys.ibm.pc.hardware       0.49      0.72      0.58       392\\n'\n",
            " '   comp.sys.mac.hardware       0.66      0.64      0.65       385\\n'\n",
            " '          comp.windows.x       0.70      0.72      0.71       395\\n'\n",
            " '            misc.forsale       0.83      0.72      0.77       390\\n'\n",
            " '               rec.autos       0.79      0.74      0.76       396\\n'\n",
            " '         rec.motorcycles       0.84      0.72      0.78       398\\n'\n",
            " '      rec.sport.baseball       0.90      0.79      0.84       397\\n'\n",
            " '        rec.sport.hockey       0.57      0.87      0.69       399\\n'\n",
            " '               sci.crypt       0.68      0.73      0.70       396\\n'\n",
            " '         sci.electronics       0.65      0.53      0.59       393\\n'\n",
            " '                 sci.med       0.80      0.78      0.79       396\\n'\n",
            " '               sci.space       0.77      0.73      0.75       394\\n'\n",
            " '  soc.religion.christian       0.53      0.85      0.65       398\\n'\n",
            " '      talk.politics.guns       0.58      0.66      0.62       364\\n'\n",
            " '   talk.politics.mideast       0.77      0.74      0.75       376\\n'\n",
            " '      talk.politics.misc       0.44      0.45      0.45       310\\n'\n",
            " '      talk.religion.misc       0.42      0.15      0.22       251\\n'\n",
            " '\\n'\n",
            " '                accuracy                           0.65      7532\\n'\n",
            " '               macro avg       0.64      0.64      0.62      7532\\n'\n",
            " '            weighted avg       0.65      0.65      0.63      7532\\n')\n"
          ]
        }
      ],
      "source": [
        "# extract only those terms and do the classification\n",
        "#chi2_terms = train_tfidf(ind_small_pval)\n",
        "import pprint as pp\n",
        "from sklearn.naive_bayes import MultinomialNB\n",
        "\n",
        "kb_anova = MultinomialNB().fit(train_counts[:,ind_small_pval], twenty_train.target)\n",
        "\n",
        "\n",
        "predicted = kb_anova.predict(test_counts[:,ind_small_pval])\n",
        "print(np.mean(predicted == twenty_test.target))\n",
        "predicted_test = kb_anova.predict(test_counts[:,ind_small_pval])\n",
        "predicted_train = kb_anova.predict(train_counts[:,ind_small_pval])\n",
        "print(np.mean(predicted_train == twenty_train.target))\n",
        "print(np.mean(predicted_test == twenty_test.target))\n",
        "class_results(predicted = predicted_test, true = twenty_test.target, labels = twenty_train.target_names)"
      ]
    },
    {
      "cell_type": "code",
      "execution_count": 25,
      "metadata": {
        "id": "kgVLnaKyypZ6",
        "outputId": "07b474b7-e1e7-43c8-9153-8110d0a6b6c7",
        "colab": {
          "base_uri": "https://localhost:8080/"
        }
      },
      "outputs": [
        {
          "output_type": "stream",
          "name": "stdout",
          "text": [
            "0.5665161975570897\n"
          ]
        }
      ],
      "source": [
        "# use knn - not better than NB\n",
        "from sklearn.neighbors import KNeighborsClassifier\n",
        "knn = KNeighborsClassifier(n_neighbors= 13, algorithm='auto', p=2, metric='cosine')\n",
        "knn.fit(train_tfidf[:,ind_small_pval], twenty_train.target)\n",
        "print(knn.score(test_tfidf[:,ind_small_pval], twenty_test.target))"
      ]
    },
    {
      "cell_type": "code",
      "execution_count": 73,
      "metadata": {
        "id": "hCb-2ftIypZ7",
        "outputId": "2b4631d9-bd07-46f3-9655-b6a66bdaefdc",
        "colab": {
          "base_uri": "https://localhost:8080/"
        }
      },
      "outputs": [
        {
          "output_type": "stream",
          "name": "stdout",
          "text": [
            "0.8548700724765776\n",
            "0.7052575677110993\n",
            "Precision, recall, f_score\n",
            "(0.7111216249299093, 0.6884398453291108, 0.6864621645659623, None)\n",
            "(0.7052575677110993, 0.7052575677110993, 0.7052575677110993, None)\n",
            "Classification report\n",
            "('                          precision    recall  f1-score   support\\n'\n",
            " '\\n'\n",
            " '             alt.atheism       0.28      0.40      0.33       319\\n'\n",
            " '           comp.graphics       0.70      0.69      0.70       389\\n'\n",
            " ' comp.os.ms-windows.misc       0.67      0.62      0.65       394\\n'\n",
            " 'comp.sys.ibm.pc.hardware       0.62      0.73      0.67       392\\n'\n",
            " '   comp.sys.mac.hardware       0.77      0.71      0.74       385\\n'\n",
            " '          comp.windows.x       0.80      0.77      0.79       395\\n'\n",
            " '            misc.forsale       0.77      0.75      0.76       390\\n'\n",
            " '               rec.autos       0.81      0.72      0.77       396\\n'\n",
            " '         rec.motorcycles       0.86      0.77      0.81       398\\n'\n",
            " '      rec.sport.baseball       0.90      0.82      0.86       397\\n'\n",
            " '        rec.sport.hockey       0.85      0.92      0.89       399\\n'\n",
            " '               sci.crypt       0.75      0.79      0.77       396\\n'\n",
            " '         sci.electronics       0.71      0.53      0.60       393\\n'\n",
            " '                 sci.med       0.83      0.80      0.81       396\\n'\n",
            " '               sci.space       0.80      0.78      0.79       394\\n'\n",
            " '  soc.religion.christian       0.51      0.89      0.65       398\\n'\n",
            " '      talk.politics.guns       0.57      0.72      0.64       364\\n'\n",
            " '   talk.politics.mideast       0.80      0.83      0.81       376\\n'\n",
            " '      talk.politics.misc       0.68      0.41      0.51       310\\n'\n",
            " '      talk.religion.misc       0.54      0.12      0.19       251\\n'\n",
            " '\\n'\n",
            " '                accuracy                           0.71      7532\\n'\n",
            " '               macro avg       0.71      0.69      0.69      7532\\n'\n",
            " '            weighted avg       0.72      0.71      0.70      7532\\n')\n"
          ]
        }
      ],
      "source": [
        "# try complement NB - for conditional probabilities\n",
        "# uses the counts in all classes but one - less bias with # of training\n",
        "# samples\n",
        "from sklearn.naive_bayes import ComplementNB\n",
        "cnb = ComplementNB().fit(train_tfidf[:,ind_small_pval], twenty_train.target)\n",
        "\n",
        "\n",
        "predicted_test = cnb.predict(test_counts[:,ind_small_pval])\n",
        "predicted_train= cnb.predict(train_counts[:,ind_small_pval])\n",
        "print(np.mean(predicted_train == twenty_train.target))\n",
        "print(np.mean(predicted_test == twenty_test.target))\n",
        "class_results(predicted = predicted_test, true = twenty_test.target, labels = twenty_train.target_names)"
      ]
    },
    {
      "cell_type": "code",
      "execution_count": 74,
      "metadata": {
        "id": "x4U-xNEkypZ7",
        "colab": {
          "base_uri": "https://localhost:8080/"
        },
        "outputId": "fcfc515c-03f4-4159-f8ed-e20d234858b6"
      },
      "outputs": [
        {
          "output_type": "stream",
          "name": "stdout",
          "text": [
            "0.9650875022096518\n",
            "0.6700743494423792\n",
            "Precision, recall, f_score\n",
            "(0.6687035142339159, 0.6581336204408201, 0.6586289009657954, None)\n",
            "(0.6700743494423792, 0.6700743494423792, 0.6700743494423792, None)\n",
            "Classification report\n",
            "('                          precision    recall  f1-score   support\\n'\n",
            " '\\n'\n",
            " '             alt.atheism       0.48      0.45      0.46       319\\n'\n",
            " '           comp.graphics       0.64      0.68      0.66       389\\n'\n",
            " ' comp.os.ms-windows.misc       0.60      0.64      0.62       394\\n'\n",
            " 'comp.sys.ibm.pc.hardware       0.56      0.64      0.60       392\\n'\n",
            " '   comp.sys.mac.hardware       0.71      0.66      0.68       385\\n'\n",
            " '          comp.windows.x       0.78      0.68      0.73       395\\n'\n",
            " '            misc.forsale       0.72      0.79      0.76       390\\n'\n",
            " '               rec.autos       0.76      0.69      0.72       396\\n'\n",
            " '         rec.motorcycles       0.81      0.68      0.74       398\\n'\n",
            " '      rec.sport.baseball       0.55      0.81      0.65       397\\n'\n",
            " '        rec.sport.hockey       0.88      0.85      0.86       399\\n'\n",
            " '               sci.crypt       0.76      0.70      0.73       396\\n'\n",
            " '         sci.electronics       0.60      0.54      0.57       393\\n'\n",
            " '                 sci.med       0.79      0.74      0.77       396\\n'\n",
            " '               sci.space       0.75      0.72      0.74       394\\n'\n",
            " '  soc.religion.christian       0.59      0.80      0.68       398\\n'\n",
            " '      talk.politics.guns       0.58      0.62      0.60       364\\n'\n",
            " '   talk.politics.mideast       0.85      0.71      0.78       376\\n'\n",
            " '      talk.politics.misc       0.51      0.48      0.50       310\\n'\n",
            " '      talk.religion.misc       0.45      0.26      0.33       251\\n'\n",
            " '\\n'\n",
            " '                accuracy                           0.67      7532\\n'\n",
            " '               macro avg       0.67      0.66      0.66      7532\\n'\n",
            " '            weighted avg       0.68      0.67      0.67      7532\\n')\n"
          ]
        }
      ],
      "source": [
        "# SVM\n",
        "from sklearn.svm import LinearSVC\n",
        "svm = LinearSVC()\n",
        "svm.fit(train_tfidf, twenty_train.target)\n",
        "\n",
        "\n",
        "predicted_test = svm.predict(test_counts)\n",
        "predicted_train = svm.predict(train_counts)\n",
        "print(np.mean(predicted_train == twenty_train.target))\n",
        "print(np.mean(predicted_test == twenty_test.target))\n",
        "class_results(predicted = predicted_test, true = twenty_test.target, labels = twenty_train.target_names)"
      ]
    },
    {
      "cell_type": "code",
      "source": [
        "from sklearn.svm import LinearSVC\n",
        "svm = LinearSVC()\n",
        "svm.fit(train_tfidf[:,ind_small_pval], twenty_train.target)\n",
        "\n",
        "\n",
        "predicted_test = svm.predict(test_counts[:,ind_small_pval])\n",
        "predicted_train= svm.predict(train_counts[:,ind_small_pval])\n",
        "print(np.mean(predicted_train == twenty_train.target))\n",
        "print(np.mean(predicted_test == twenty_test.target))\n",
        "class_results(predicted = predicted_test, true = twenty_test.target, labels = twenty_train.target_names)"
      ],
      "metadata": {
        "colab": {
          "base_uri": "https://localhost:8080/"
        },
        "id": "RglDyi3zNYT2",
        "outputId": "ac73b743-3325-442c-a0e4-6ed687db4085"
      },
      "execution_count": 75,
      "outputs": [
        {
          "output_type": "stream",
          "name": "stdout",
          "text": [
            "0.9553650344705674\n",
            "0.6623738714816781\n",
            "Precision, recall, f_score\n",
            "(0.6602789519042865, 0.6503744645297267, 0.6508950185010659, None)\n",
            "(0.6623738714816781, 0.6623738714816781, 0.6623738714816781, None)\n",
            "Classification report\n",
            "('                          precision    recall  f1-score   support\\n'\n",
            " '\\n'\n",
            " '             alt.atheism       0.48      0.45      0.46       319\\n'\n",
            " '           comp.graphics       0.64      0.68      0.66       389\\n'\n",
            " ' comp.os.ms-windows.misc       0.59      0.63      0.61       394\\n'\n",
            " 'comp.sys.ibm.pc.hardware       0.57      0.64      0.60       392\\n'\n",
            " '   comp.sys.mac.hardware       0.70      0.67      0.68       385\\n'\n",
            " '          comp.windows.x       0.77      0.66      0.71       395\\n'\n",
            " '            misc.forsale       0.73      0.78      0.75       390\\n'\n",
            " '               rec.autos       0.75      0.69      0.72       396\\n'\n",
            " '         rec.motorcycles       0.81      0.68      0.73       398\\n'\n",
            " '      rec.sport.baseball       0.54      0.80      0.64       397\\n'\n",
            " '        rec.sport.hockey       0.87      0.85      0.86       399\\n'\n",
            " '               sci.crypt       0.76      0.69      0.72       396\\n'\n",
            " '         sci.electronics       0.59      0.54      0.57       393\\n'\n",
            " '                 sci.med       0.78      0.73      0.76       396\\n'\n",
            " '               sci.space       0.73      0.71      0.72       394\\n'\n",
            " '  soc.religion.christian       0.58      0.78      0.67       398\\n'\n",
            " '      talk.politics.guns       0.58      0.61      0.59       364\\n'\n",
            " '   talk.politics.mideast       0.84      0.71      0.77       376\\n'\n",
            " '      talk.politics.misc       0.49      0.47      0.48       310\\n'\n",
            " '      talk.religion.misc       0.40      0.24      0.30       251\\n'\n",
            " '\\n'\n",
            " '                accuracy                           0.66      7532\\n'\n",
            " '               macro avg       0.66      0.65      0.65      7532\\n'\n",
            " '            weighted avg       0.67      0.66      0.66      7532\\n')\n"
          ]
        }
      ]
    },
    {
      "cell_type": "code",
      "source": [],
      "metadata": {
        "id": "ScDbMu8Q-G0k"
      },
      "execution_count": null,
      "outputs": []
    }
  ],
  "metadata": {
    "kernelspec": {
      "display_name": "Python 3",
      "language": "python",
      "name": "python3"
    },
    "language_info": {
      "codemirror_mode": {
        "name": "ipython",
        "version": 3
      },
      "file_extension": ".py",
      "mimetype": "text/x-python",
      "name": "python",
      "nbconvert_exporter": "python",
      "pygments_lexer": "ipython3",
      "version": "3.7.3"
    },
    "colab": {
      "provenance": [],
      "include_colab_link": true
    }
  },
  "nbformat": 4,
  "nbformat_minor": 0
}