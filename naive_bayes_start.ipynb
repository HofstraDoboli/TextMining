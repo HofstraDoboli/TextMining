{
  "nbformat": 4,
  "nbformat_minor": 0,
  "metadata": {
    "colab": {
      "provenance": [],
      "authorship_tag": "ABX9TyOeK8iS1Nw4STawFXdZR2ow",
      "include_colab_link": true
    },
    "kernelspec": {
      "name": "python3",
      "display_name": "Python 3"
    },
    "language_info": {
      "name": "python"
    }
  },
  "cells": [
    {
      "cell_type": "markdown",
      "metadata": {
        "id": "view-in-github",
        "colab_type": "text"
      },
      "source": [
        "<a href=\"https://colab.research.google.com/github/HofstraDoboli/TextMining/blob/main/naive_bayes_start.ipynb\" target=\"_parent\"><img src=\"https://colab.research.google.com/assets/colab-badge.svg\" alt=\"Open In Colab\"/></a>"
      ]
    },
    {
      "cell_type": "code",
      "execution_count": null,
      "metadata": {
        "id": "WRnpiY2Geksn"
      },
      "outputs": [],
      "source": [
        "# text classification reuters dataset\n",
        "from sklearn.datasets import fetch_20newsgroups\n",
        "from pprint import pprint\n",
        "twenty_train = fetch_20newsgroups(subset='train', remove=('headers', 'footers', 'quotes'), shuffle=True)\n",
        "print(dir(twenty_train))\n",
        "pprint(twenty_train.target_names) #prints all the categories\n",
        "pprint(twenty_train.data[0])"
      ]
    },
    {
      "cell_type": "code",
      "source": [
        "import numpy as np\n",
        "\n",
        "unique, counts = np.unique(twenty_train.target, return_counts=True)\n",
        "print(unique)\n",
        "print(counts)"
      ],
      "metadata": {
        "id": "FXjC_2GcevJ6"
      },
      "execution_count": null,
      "outputs": []
    },
    {
      "cell_type": "code",
      "source": [
        "from sklearn.metrics import precision_recall_fscore_support\n",
        "from sklearn.metrics import confusion_matrix\n",
        "from sklearn.metrics import classification_report\n",
        "\n",
        "def class_results(predicted, true, labels):\n",
        "\n",
        "  print(\"Precision, recall, f_score\")\n",
        "  pp.pprint(precision_recall_fscore_support(true,predicted, average='macro'))\n",
        "  pp.pprint(precision_recall_fscore_support(true, predicted, average='micro'))\n",
        "\n",
        "  # confusion matrix\n",
        "\n",
        "  #pp.pprint(confusion_matrix(predicted_train_counts, twenty_train.target))\n",
        "  #pp.pprint(confusion_matrix(predicted_test_counts, twenty_test.target))\n",
        "\n",
        "  # classification report\n",
        "  print('Classification report')\n",
        "  pp.pprint(classification_report(true, predicted,  target_names = labels))"
      ],
      "metadata": {
        "id": "Hk615te7ewFl"
      },
      "execution_count": null,
      "outputs": []
    },
    {
      "cell_type": "code",
      "source": [
        "def nlp_processing(doc): # from indexing.ipyns\n",
        "    tokens = nlp(doc)\n",
        "\n",
        "    #print(type(tokens))\n",
        "    # eliminates stop words  and non alpha num and converts all to lower case\n",
        "    terms = [token.lemma_.lower() for token in tokens if not token.is_stop and token.is_alpha]\n",
        "\n",
        "    return terms\n",
        "\n",
        "vect = CountVectorizer(tokenizer = nlp_processing, min_df = 10, max_df = 0.5) # ? why 50\n",
        "\n",
        "counter = vect.fit_transform(select_movies['Plot'])\n",
        " # matrix representation of each movie as a tf-idf vector\n",
        "print(len(vect.get_feature_names_out())) # number of terms extracted (length of the vocabulary)\n",
        "\n",
        "print(vect.get_feature_names_out()[:100])\n",
        "print(vect.get_feature_names_out()[-20:])\n",
        "\n",
        "print(counter.shape)\n",
        "tf_all = counter.sum(axis = 0)\n",
        "print(tf_all.shape)\n",
        "ind_terms_sorted = tf_all.argsort()\n",
        "print(ind_terms_sorted.shape)\n",
        "print(tf_all[0,ind_terms_sorted[0,0:20]])\n",
        "print(tf_all[0,ind_terms_sorted[0,-20:]])\n",
        "print('rarest', vect.get_feature_names_out()[ind_terms_sorted[0,:20]])\n",
        "print('most common', vect.get_feature_names_out()[ind_terms_sorted[0,-20:]])"
      ],
      "metadata": {
        "id": "0N3YjTI1e_uo"
      },
      "execution_count": null,
      "outputs": []
    },
    {
      "cell_type": "code",
      "source": [
        "from sklearn.feature_extraction.text import CountVectorizer\n",
        "import numpy as np\n",
        "\n",
        "count_vect = CountVectorizer(tokenizer = nlp_processing, min_df = 10, max_df = 0.5)# min_df = 30, max_df = 0.5)\n",
        "train_counts = count_vect.fit_transform(twenty_train.data)\n",
        "print(train_counts.shape)\n",
        "\n",
        "twenty_test = fetch_20newsgroups(subset='test', remove=('headers', 'footers', 'quotes'), shuffle=True)\n",
        "test_counts = count_vect.transform(twenty_test.data)\n",
        "print(test_counts.shape)\n",
        "\n",
        "print(\"Vocab size\", len(train_counts.get_feature_names_out())) # number of terms extracted (length of the vocabulary)\n",
        "\n",
        "tf_all = train_counts.sum(axis = 0) # sum all train counts over the rows -> get total term count in all documents\n",
        "ind_terms_sorted = tf_all.argsort()\n",
        "feature_names = count_vect.get_feature_names_out()\n",
        "\n",
        "print(\"Most common features (term, count):\")\n",
        "for i in range(1, 21):\n",
        "    term_index = ind_terms_sorted[0, -i]\n",
        "    print(f\"{feature_names[term_index]}: {tf_all[0, term_index]}\")\n",
        "\n",
        "print(\"\\nLeast common features (term, count):\")\n",
        "for i in range(20):\n",
        "    term_index = ind_terms_sorted[0, i]\n",
        "    print(f\"{feature_names[term_index]}: {tf_all[0, term_index]}\")"
      ],
      "metadata": {
        "id": "DQU6Gr27e_18"
      },
      "execution_count": null,
      "outputs": []
    },
    {
      "cell_type": "code",
      "source": [
        "# implement the naive bayes algorithm"
      ],
      "metadata": {
        "id": "Y9JsNNRUhDpB"
      },
      "execution_count": null,
      "outputs": []
    }
  ]
}