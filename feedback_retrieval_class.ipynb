{
  "cells": [
    {
      "cell_type": "markdown",
      "metadata": {
        "id": "view-in-github",
        "colab_type": "text"
      },
      "source": [
        "<a href=\"https://colab.research.google.com/github/HofstraDoboli/TextMining/blob/main/feedback_retrieval_class.ipynb\" target=\"_parent\"><img src=\"https://colab.research.google.com/assets/colab-badge.svg\" alt=\"Open In Colab\"/></a>"
      ]
    },
    {
      "cell_type": "markdown",
      "source": [
        "**Implement Rocchio feedback algorithm**"
      ],
      "metadata": {
        "id": "6u4HXvFaTh05"
      }
    },
    {
      "cell_type": "code",
      "execution_count": 1,
      "metadata": {
        "id": "eRI0nq-kXuDi"
      },
      "outputs": [],
      "source": [
        "import pandas as pd\n",
        "import numpy as np\n",
        "from sklearn.feature_extraction.text import TfidfTransformer\n",
        "from sklearn.feature_extraction.text import CountVectorizer\n",
        "import os\n",
        "from sklearn import metrics\n",
        "import scipy.sparse\n",
        "import math"
      ]
    },
    {
      "cell_type": "code",
      "source": [
        "from google.colab import drive\n",
        "drive.mount('/content/drive')"
      ],
      "metadata": {
        "colab": {
          "base_uri": "https://localhost:8080/"
        },
        "id": "hGER9xpatNpt",
        "outputId": "81fe6cc7-08ba-4a9c-fc04-04095d396275"
      },
      "execution_count": 2,
      "outputs": [
        {
          "output_type": "stream",
          "name": "stdout",
          "text": [
            "Mounted at /content/drive\n"
          ]
        }
      ]
    },
    {
      "cell_type": "code",
      "source": [
        "%cd /content/drive/MyDrive/TextMining/DataSets\n",
        "%ls *.csv"
      ],
      "metadata": {
        "colab": {
          "base_uri": "https://localhost:8080/"
        },
        "id": "VQHKot6WtUsg",
        "outputId": "59bf3d79-5994-4f20-92f4-0cb1ea469cde"
      },
      "execution_count": 3,
      "outputs": [
        {
          "output_type": "stream",
          "name": "stdout",
          "text": [
            "/content/drive/MyDrive/TextMining/DataSets\n",
            "job_title_des.csv\n"
          ]
        }
      ]
    },
    {
      "cell_type": "code",
      "source": [
        "dir_file = os.getcwd() # returns path to current directory\n",
        "files_dir = os.listdir(dir_file)  # list of files in current directory\n",
        "\n",
        "csv_files = [f for f in files_dir if f.endswith('csv')]\n",
        "print(csv_files)\n",
        "jobs_file = csv_files[0]\n",
        "\n",
        "jobs_df = pd.read_csv(jobs_file)\n",
        "print(jobs_df.columns)  # the columns\n",
        "print(jobs_df.shape)"
      ],
      "metadata": {
        "colab": {
          "base_uri": "https://localhost:8080/"
        },
        "id": "VJ5GwuTEtCKb",
        "outputId": "68a73dcd-b2b7-4b98-c5ef-4ac600e48484"
      },
      "execution_count": 4,
      "outputs": [
        {
          "output_type": "stream",
          "name": "stdout",
          "text": [
            "['job_title_des.csv']\n",
            "Index(['Unnamed: 0', 'Job Title', 'Job Description'], dtype='object')\n",
            "(2277, 3)\n"
          ]
        }
      ]
    },
    {
      "cell_type": "code",
      "source": [
        "collection = jobs_df['Job Title'] + '. ' + jobs_df['Job Description']\n",
        "print(collection.iloc[:10])"
      ],
      "metadata": {
        "colab": {
          "base_uri": "https://localhost:8080/"
        },
        "id": "PtoEvjzUl1G3",
        "outputId": "ff210813-22dc-4ce8-96fc-9963596159cd"
      },
      "execution_count": 5,
      "outputs": [
        {
          "output_type": "stream",
          "name": "stdout",
          "text": [
            "0    Flutter Developer. We are looking for hire exp...\n",
            "1    Django Developer. PYTHON/DJANGO (Developer/Lea...\n",
            "2    Machine Learning. Data Scientist (Contractor)\\...\n",
            "3    iOS Developer. JOB DESCRIPTION:\\n\\nStrong fram...\n",
            "4    Full Stack Developer. job responsibility full ...\n",
            "5    Java Developer. Software Developer - Integrati...\n",
            "6    Full Stack Developer. senior full stack develo...\n",
            "7    JavaScript Developer. Job Description:\\n\\nReac...\n",
            "8    DevOps Engineer. Main Responsibilities and Del...\n",
            "9    Software Engineer. Overview\\n\\n\\nBased in Sili...\n",
            "dtype: object\n"
          ]
        }
      ]
    },
    {
      "cell_type": "code",
      "source": [
        "import numpy as np\n",
        "import spacy   # another tokenizer, lemmatizer (has --> be)\n",
        "nlp = spacy.load('en_core_web_sm')\n",
        "nlp.disable_pipes('parser', 'ner')\n",
        "def extract_terms(text):\n",
        "  '''\n",
        "      use nlp to extract all terms in a text\n",
        "      process it with spacy\n",
        "      lower case\n",
        "      remove punctuation\n",
        "      remove stop words\n",
        "      lemmatize\n",
        "      extract remaining words\n",
        "      return a list of words with repetition\n",
        "      later optimize it with your insight from Assignment 1\n",
        "  '''\n",
        "\n",
        "  terms = nlp(text)\n",
        "  out_terms = [t.lemma_.lower() for t in terms] # if t.is_alpha and not t.is_stop]\n",
        "  return out_terms\n",
        "\n",
        "from collections import defaultdict # if a key does not exist it automatically add it\n",
        "\n",
        "def compute_freq(lst):\n",
        "  '''\n",
        "    compute frequency of terms in lst\n",
        "    return a dictionary of terms (key) and term frequency (values)\n",
        "    initialize an empty dictionry\n",
        "    for each word in lst\n",
        "      add it to dictionary\n",
        "  '''\n",
        "  freq_term = defaultdict(int)\n",
        "  for term in lst:\n",
        "    freq_term[term] += 1\n",
        "\n",
        "  return freq_term\n"
      ],
      "metadata": {
        "id": "rBosPGl51N9W"
      },
      "execution_count": 6,
      "outputs": []
    },
    {
      "cell_type": "code",
      "source": [
        "# build the inverted index\n",
        "# a dictionary with keys = terms in the vocabulary\n",
        "# and values = a dictionary with doc_id as key and term frequency as value\n",
        "inverted_index = defaultdict(dict) # a dict of dict\n",
        "\n",
        "for doc_id, doc in enumerate(collection):\n",
        "  terms_doc     = extract_terms(doc) # apply nlp\n",
        "  dict_doc      = compute_freq(terms_doc) # compute freq of each term in a document\n",
        "  # update inverted_index\n",
        "  for term_doc,term_freq in dict_doc.items():\n",
        "    inverted_index[term_doc][doc_id] = term_freq\n",
        "\n",
        "#print(inverted_index)\n",
        "\n",
        "print('Vocab size', len(inverted_index))"
      ],
      "metadata": {
        "id": "CmfA3q9eLHj8"
      },
      "execution_count": null,
      "outputs": []
    },
    {
      "cell_type": "code",
      "source": [
        "# efficiently compute the dot product between query and each text that has at least one\n",
        "# word in the query\n",
        "# return a sorted list of top k texts from the most relevant\n",
        "# (highest dot product) to the least relevant (lowest dot product)\n",
        "\n",
        "def dist_query_docs(query_term_freq, inverted_index, topk = 5):\n",
        "  # which docs have terms in the query\n",
        "  dot_product = defaultdict(int)\n",
        "\n",
        "  for query_term, query_tf in query_term_freq.items():\n",
        "\n",
        "    if query_term in inverted_index:\n",
        "      dict_term_inverted_index = inverted_index[query_term]\n",
        "\n",
        "      for doc_id, doc_tf in dict_term_inverted_index.items():\n",
        "        dot_product[doc_id] += query_tf * doc_tf\n",
        "\n",
        "  sorted_dot_product = sorted(dot_product.items(), key = lambda item:item[1], reverse = True)\n",
        "\n",
        "  if len(sorted_dot_product) < topk:\n",
        "      return dict(sorted_dot_product)\n",
        "  else:\n",
        "      return dict(sorted_dot_product[:topk])"
      ],
      "metadata": {
        "id": "SlH0RMiYKyUB"
      },
      "execution_count": 16,
      "outputs": []
    },
    {
      "cell_type": "code",
      "source": [
        "# compute modified query\n",
        "def get_feedback_query(orig_query, inverted_index, collection, ind_rel_doc, ind_not_rel_doc,\n",
        "                       alpha, beta, gamma):\n",
        "  '''\n",
        "    Input: original query, relevant docs, alpha, beta, gamma, inverted index\n",
        "    Output: modified query\n",
        "    orig_query     = dictionary {term_query:term_freq_query}\n",
        "    inverted_index = dict {term:dict{ doc_id:term_freq}}\n",
        "    collection     = list of texts\n",
        "    ind_rel_doc    = list of indices of relevant docs\n",
        "    ind_irrel_doc  = list of indices of irrelevant docs\n",
        "  '''\n",
        "  # Step 1 => start the mod_query with the original query, multiply all tf by alpha\n",
        "  mod_query = {term: alpha * tf for term, tf in orig_query}\n",
        "  mod_query = defaultdict(int, mod_query)\n",
        "\n",
        "  # Step 2:\n",
        "  # for each relevant doc:\n",
        "    # Extract the words in the relevant docs -> use extract_terms function\n",
        "    # for each word with a high tf-idf:\n",
        "    #     add it to the mod_query (beta * tf_idf)\n",
        "  size_vocab = len(inverted_index)\n",
        "\n",
        "  for doc_id in ind_rel_doc:\n",
        "\n",
        "    terms     = extract_terms(collection[doc_id]) # returns a key with duplicates\n",
        "    term_freq = compute_freq(terms)\n",
        "\n",
        "    for t, tf in term_freq.items(): # for each term in the document\n",
        "      doc_freq = len(inverted_index[t]) # number of documents the term appears in\n",
        "      tf_idf = tf * math.log((1 + size_vocab)/doc_freq)\n",
        "\n",
        "      if tf_idf >= 1: # if the term is relevant for the doc - you can introduce a threshold and play with it\n",
        "        mod_query[t] += beta * tf_idf\n",
        "\n",
        "  # Step 3:\n",
        "  # for each non-relevant doc:\n",
        "      # Extract the words in the non-relevant docs -> use extract_terms function\n",
        "      # for each word with a high tf-idf:\n",
        "      #   subtract it from the mod_query (-gamma * t_idf)\n",
        "\n",
        "  # Step 4: any other adjustments to mod_query\n",
        "\n",
        "  return mod_query\n",
        "\n",
        "\n"
      ],
      "metadata": {
        "id": "GdNPhHunLSh4"
      },
      "execution_count": 18,
      "outputs": []
    },
    {
      "cell_type": "code",
      "source": [
        "# enter queries, get top 7 ranked results"
      ],
      "metadata": {
        "id": "sTm0KHn7K8Je"
      },
      "execution_count": null,
      "outputs": []
    },
    {
      "cell_type": "code",
      "source": [
        "# mark results as relevant or not relevant"
      ],
      "metadata": {
        "id": "e0iSC9adLMtr"
      },
      "execution_count": null,
      "outputs": []
    },
    {
      "cell_type": "code",
      "source": [
        "# compute modified query\n",
        "# recompute top 7 results and mark them"
      ],
      "metadata": {
        "id": "uQia0bySLzpu"
      },
      "execution_count": null,
      "outputs": []
    },
    {
      "cell_type": "code",
      "source": [
        "# print text movies\n",
        "import pprint\n",
        "def print_ranked_docs(list_docs, collection):\n",
        "  for doc in list_docs:\n",
        "    print('############################################')\n",
        "    pprint.pp(collection[['Release Year','Title', 'Genre']].iloc[doc])\n",
        "    pprint.pp(collection['Plot'].iloc[doc])\n",
        "\n",
        "\n",
        "print_ranked_docs(list(sorted_sim.keys())[:3], jobs_df)"
      ],
      "metadata": {
        "id": "3Ixu5EYJDM6z"
      },
      "execution_count": null,
      "outputs": []
    },
    {
      "cell_type": "code",
      "source": [
        "selected_movies[selected_movies['Title'].str.contains('Star wars')]"
      ],
      "metadata": {
        "colab": {
          "base_uri": "https://localhost:8080/",
          "height": 53
        },
        "id": "9J4_TV9UG3tO",
        "outputId": "4945b577-7b53-4765-9975-b4202783fd41"
      },
      "execution_count": null,
      "outputs": [
        {
          "output_type": "execute_result",
          "data": {
            "text/plain": [
              "Empty DataFrame\n",
              "Columns: [Release Year, Title, Origin/Ethnicity, Director, Cast, Genre, Wiki Page, Plot]\n",
              "Index: []"
            ],
            "text/html": [
              "\n",
              "  <div id=\"df-44e8fce9-3e30-4cff-b3bd-353c3b38cc10\" class=\"colab-df-container\">\n",
              "    <div>\n",
              "<style scoped>\n",
              "    .dataframe tbody tr th:only-of-type {\n",
              "        vertical-align: middle;\n",
              "    }\n",
              "\n",
              "    .dataframe tbody tr th {\n",
              "        vertical-align: top;\n",
              "    }\n",
              "\n",
              "    .dataframe thead th {\n",
              "        text-align: right;\n",
              "    }\n",
              "</style>\n",
              "<table border=\"1\" class=\"dataframe\">\n",
              "  <thead>\n",
              "    <tr style=\"text-align: right;\">\n",
              "      <th></th>\n",
              "      <th>Release Year</th>\n",
              "      <th>Title</th>\n",
              "      <th>Origin/Ethnicity</th>\n",
              "      <th>Director</th>\n",
              "      <th>Cast</th>\n",
              "      <th>Genre</th>\n",
              "      <th>Wiki Page</th>\n",
              "      <th>Plot</th>\n",
              "    </tr>\n",
              "  </thead>\n",
              "  <tbody>\n",
              "  </tbody>\n",
              "</table>\n",
              "</div>\n",
              "    <div class=\"colab-df-buttons\">\n",
              "\n",
              "  <div class=\"colab-df-container\">\n",
              "    <button class=\"colab-df-convert\" onclick=\"convertToInteractive('df-44e8fce9-3e30-4cff-b3bd-353c3b38cc10')\"\n",
              "            title=\"Convert this dataframe to an interactive table.\"\n",
              "            style=\"display:none;\">\n",
              "\n",
              "  <svg xmlns=\"http://www.w3.org/2000/svg\" height=\"24px\" viewBox=\"0 -960 960 960\">\n",
              "    <path d=\"M120-120v-720h720v720H120Zm60-500h600v-160H180v160Zm220 220h160v-160H400v160Zm0 220h160v-160H400v160ZM180-400h160v-160H180v160Zm440 0h160v-160H620v160ZM180-180h160v-160H180v160Zm440 0h160v-160H620v160Z\"/>\n",
              "  </svg>\n",
              "    </button>\n",
              "\n",
              "  <style>\n",
              "    .colab-df-container {\n",
              "      display:flex;\n",
              "      gap: 12px;\n",
              "    }\n",
              "\n",
              "    .colab-df-convert {\n",
              "      background-color: #E8F0FE;\n",
              "      border: none;\n",
              "      border-radius: 50%;\n",
              "      cursor: pointer;\n",
              "      display: none;\n",
              "      fill: #1967D2;\n",
              "      height: 32px;\n",
              "      padding: 0 0 0 0;\n",
              "      width: 32px;\n",
              "    }\n",
              "\n",
              "    .colab-df-convert:hover {\n",
              "      background-color: #E2EBFA;\n",
              "      box-shadow: 0px 1px 2px rgba(60, 64, 67, 0.3), 0px 1px 3px 1px rgba(60, 64, 67, 0.15);\n",
              "      fill: #174EA6;\n",
              "    }\n",
              "\n",
              "    .colab-df-buttons div {\n",
              "      margin-bottom: 4px;\n",
              "    }\n",
              "\n",
              "    [theme=dark] .colab-df-convert {\n",
              "      background-color: #3B4455;\n",
              "      fill: #D2E3FC;\n",
              "    }\n",
              "\n",
              "    [theme=dark] .colab-df-convert:hover {\n",
              "      background-color: #434B5C;\n",
              "      box-shadow: 0px 1px 3px 1px rgba(0, 0, 0, 0.15);\n",
              "      filter: drop-shadow(0px 1px 2px rgba(0, 0, 0, 0.3));\n",
              "      fill: #FFFFFF;\n",
              "    }\n",
              "  </style>\n",
              "\n",
              "    <script>\n",
              "      const buttonEl =\n",
              "        document.querySelector('#df-44e8fce9-3e30-4cff-b3bd-353c3b38cc10 button.colab-df-convert');\n",
              "      buttonEl.style.display =\n",
              "        google.colab.kernel.accessAllowed ? 'block' : 'none';\n",
              "\n",
              "      async function convertToInteractive(key) {\n",
              "        const element = document.querySelector('#df-44e8fce9-3e30-4cff-b3bd-353c3b38cc10');\n",
              "        const dataTable =\n",
              "          await google.colab.kernel.invokeFunction('convertToInteractive',\n",
              "                                                    [key], {});\n",
              "        if (!dataTable) return;\n",
              "\n",
              "        const docLinkHtml = 'Like what you see? Visit the ' +\n",
              "          '<a target=\"_blank\" href=https://colab.research.google.com/notebooks/data_table.ipynb>data table notebook</a>'\n",
              "          + ' to learn more about interactive tables.';\n",
              "        element.innerHTML = '';\n",
              "        dataTable['output_type'] = 'display_data';\n",
              "        await google.colab.output.renderOutput(dataTable, element);\n",
              "        const docLink = document.createElement('div');\n",
              "        docLink.innerHTML = docLinkHtml;\n",
              "        element.appendChild(docLink);\n",
              "      }\n",
              "    </script>\n",
              "  </div>\n",
              "\n",
              "\n",
              "    </div>\n",
              "  </div>\n"
            ],
            "application/vnd.google.colaboratory.intrinsic+json": {
              "type": "dataframe",
              "repr_error": "Out of range float values are not JSON compliant: nan"
            }
          },
          "metadata": {},
          "execution_count": 149
        }
      ]
    },
    {
      "cell_type": "code",
      "source": [
        "# find modified query vector\n",
        "# compute df frequency from counter\n",
        "# orig_query = text\n",
        "# rel_docs, irel_docs = list of docs indices\n",
        "def mod_query(orig_query, vectorizer, term_freq, log_doc_freq, rel_docs, not_rel_docs, alpha, beta, gamma):\n",
        "  vect_orig = vectorizer.transform(orig_query)\n",
        "  # compute centroid for rel and not_rel docs\n",
        "  list_rel     = [term_freq.getrow(i) for i in rel_docs]\n",
        "  list_not_rel = [term_freq.getrow(i) for i in not_rel_docs]\n",
        "\n",
        "  # Check if list_rel and list_not_rel are empty before applying vstack\n",
        "  if list_rel:\n",
        "    is_empty_rel = True\n",
        "  if list_not_rel:\n",
        "    is_empty_not_rel = True\n",
        "\n",
        "  if list_rel and list_not_rel:\n",
        "      return np.array([])  # or any other appropriate default value\n",
        "\n",
        "  # apply tf function\n",
        "  nr_docs = term_freq.shape[0]\n",
        "  fct_tf = lambda x: np.log(x + 1)\n",
        "\n",
        "  vect_mod = alpha * vect_orig\n",
        "\n",
        "  if list_rel:\n",
        "    vect_rel = scipy.sparse.vstack(list_rel).toarray()\n",
        "    np_rel   = fct_tf(vect_rel)           #  apply tf function\n",
        "    np_rel   = np_rel * log_doc_freq.T    #  apply idf function\n",
        "    max_tf_idf_rel     = np.max(np_rel)\n",
        "    th_rel     = 0.3 * max_tf_idf_rel\n",
        "    np_rel[np_rel < th_rel] = 0\n",
        "    np_rel[np_rel > 0.8 * max_tf_idf_rel] = 0\n",
        "\n",
        "    centroid_rel     = np.mean(np_rel, axis = 0)\n",
        "    vect_mod +=  beta * centroid_rel\n",
        "\n",
        "  if list_not_rel:\n",
        "    vect_not_rel = scipy.sparse.vstack(list_not_rel).toarray()\n",
        "    np_not_rel   = fct_tf(vect_not_rel)         # apply tf function\n",
        "    np_not_rel   = np_not_rel * log_doc_freq.T  # apply idf function\n",
        "    max_tf_idf_not_rel = np.max(np_not_rel)\n",
        "    th_not_rel = 0.3 * max_tf_idf_not_rel\n",
        "    np_not_rel[np_not_rel < th_not_rel] = 0 # maybe filter very rare words (low document frequency) - aka. Character names\n",
        "    centroid_not_rel = np.mean(np_not_rel, axis = 0)\n",
        "    vect_mod -= gamma * centroid_not_rel\n",
        "  # apply a threshold for tf_idf values\n",
        "\n",
        "  #print(max_tf_idf_rel, max_tf_idf_not_rel)\n",
        "  tf_idf_nonzero = np_rel[:,vect_mod.nonzero()[1]]\n",
        "\n",
        "  return vect_mod, tf_idf_nonzero\n",
        "\n",
        "orig_query = [\"aliens spaceship new york\"]\n",
        "rel_docs = [696]\n",
        "not_rel_docs = []\n",
        "\n",
        "vect_mod, tf_idf_nonzero = mod_query(orig_query, vect, counter, log_doc_freq, rel_docs, not_rel_docs,  0.5, 0.5, 0.5)\n",
        "print(type(vect_mod), vect_mod.shape)\n",
        "\n",
        "print(\"Count num non-zero terms =\", np.count_nonzero(vect_mod))\n",
        "# find the index of non-zero terms\n",
        "ind_nonzero_mod = np.nonzero(vect_mod)\n",
        "print(ind_nonzero_mod[1][:10])\n",
        "#print the query non-zero terms\n",
        "print(vect.get_feature_names_out()[ind_nonzero_mod[1]])\n",
        "\n",
        "print('tfidf nonzero', tf_idf_nonzero)"
      ],
      "metadata": {
        "colab": {
          "base_uri": "https://localhost:8080/"
        },
        "id": "TD3Qn5llDDSI",
        "outputId": "7440f6a6-5e73-4ec4-c630-4c735fbb4c22"
      },
      "execution_count": null,
      "outputs": [
        {
          "output_type": "stream",
          "name": "stdout",
          "text": [
            "<class 'numpy.matrix'> (1, 17923)\n",
            "Count num non-zero terms = 55\n",
            "[ 440 1291 1585 1765 2181 2260 2380 2741 3132 3658]\n",
            "['alien' 'ball' 'berman' 'blanket' 'bully' 'caan' 'captain' 'cheng'\n",
            " 'command' 'crew' 'defenseless' 'detach' 'display' 'doorway' 'drain'\n",
            " 'earth' 'fbi' 'fireball' 'gabrielle' 'goldfish' 'harmless' 'hart' 'helm'\n",
            " 'human' 'humanoid' 'imbibe' 'lifeboat' 'mannerism' 'metal' 'ming'\n",
            " 'morrison' 'murphy' 'myer' 'net' 'new' 'nil' 'number' 'ocean' 'orb'\n",
            " 'power' 'presentation' 'recharge' 'researcher' 'retrieve' 'salt'\n",
            " 'science' 'ship' 'shoe' 'sized' 'spaceship' 'superpower' 'superstitious'\n",
            " 'taser' 'telescope' 'york']\n",
            "tfidf nonzero [[ 8.45717116  8.20254382  4.83864968  4.1598638   4.0228436   4.83864968\n",
            "  10.54199729  4.00562127  7.3246421   7.594634    5.11948185  4.35884076\n",
            "   4.29446236  4.83864968  7.27863299  7.60653962  4.51090723  4.4850018\n",
            "   4.00562127  5.11948185  4.25220621  4.07843725  4.00562127  6.57119974\n",
            "   4.63945843  4.4850018   7.35336763  4.00562127  8.45717116  4.35884076\n",
            "   6.34875951  5.43812265  5.11948185  4.1598638   0.          8.11418676\n",
            "   8.45173971  7.71844078  9.27891686  4.02531662  5.53738846  4.83864968\n",
            "   4.1598638   4.44590336  4.35884076  5.14858377  7.97981859  4.78297521\n",
            "   4.00562127  0.          4.83864968  4.1598638   4.25220621  4.63945843\n",
            "   0.        ]]\n"
          ]
        }
      ]
    },
    {
      "cell_type": "markdown",
      "source": [
        "========== END OF QUERY MODIFICATION =========="
      ],
      "metadata": {
        "id": "V3VBI2JmMy0m"
      }
    }
  ],
  "metadata": {
    "kernelspec": {
      "display_name": "Python 3",
      "language": "python",
      "name": "python3"
    },
    "language_info": {
      "codemirror_mode": {
        "name": "ipython",
        "version": 3
      },
      "file_extension": ".py",
      "mimetype": "text/x-python",
      "name": "python",
      "nbconvert_exporter": "python",
      "pygments_lexer": "ipython3",
      "version": "3.7.3"
    },
    "colab": {
      "provenance": [],
      "include_colab_link": true
    }
  },
  "nbformat": 4,
  "nbformat_minor": 0
}