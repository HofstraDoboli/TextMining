{
  "cells": [
    {
      "cell_type": "markdown",
      "metadata": {
        "id": "view-in-github",
        "colab_type": "text"
      },
      "source": [
        "<a href=\"https://colab.research.google.com/github/HofstraDoboli/TextMining/blob/main/feedback_retrieval_class.ipynb\" target=\"_parent\"><img src=\"https://colab.research.google.com/assets/colab-badge.svg\" alt=\"Open In Colab\"/></a>"
      ]
    },
    {
      "cell_type": "markdown",
      "source": [
        "**Implement Rocchio feedback algorithm**"
      ],
      "metadata": {
        "id": "6u4HXvFaTh05"
      }
    },
    {
      "cell_type": "code",
      "execution_count": null,
      "metadata": {
        "id": "eRI0nq-kXuDi"
      },
      "outputs": [],
      "source": [
        "import pandas as pd\n",
        "import numpy as np\n",
        "from sklearn.feature_extraction.text import TfidfTransformer\n",
        "from sklearn.feature_extraction.text import CountVectorizer\n",
        "import os\n",
        "from sklearn import metrics\n",
        "import scipy.sparse\n"
      ]
    },
    {
      "cell_type": "code",
      "source": [
        "from google.colab import drive\n",
        "drive.mount('/content/drive')"
      ],
      "metadata": {
        "colab": {
          "base_uri": "https://localhost:8080/"
        },
        "id": "hGER9xpatNpt",
        "outputId": "3348c086-cfee-4f46-b5f4-dd0e43d04cf3"
      },
      "execution_count": null,
      "outputs": [
        {
          "output_type": "stream",
          "name": "stdout",
          "text": [
            "Mounted at /content/drive\n"
          ]
        }
      ]
    },
    {
      "cell_type": "code",
      "source": [
        "%cd /content/drive/MyDrive/TextMining\n",
        "%ls *.csv"
      ],
      "metadata": {
        "colab": {
          "base_uri": "https://localhost:8080/"
        },
        "id": "VQHKot6WtUsg",
        "outputId": "11801fd6-d679-4e26-b9cb-1cd8d99230d2"
      },
      "execution_count": null,
      "outputs": [
        {
          "output_type": "stream",
          "name": "stdout",
          "text": [
            "/content/drive/MyDrive/TextMining\n",
            "wiki_movie_plots_deduped.csv\n"
          ]
        }
      ]
    },
    {
      "cell_type": "code",
      "source": [
        "dir_file = os.getcwd() # returns path to current directory\n",
        "files_dir = os.listdir(dir_file)  # list of files in current directory\n",
        "\n",
        "csv_files = [f for f in files_dir if f.endswith('csv')]\n",
        "print(csv_files)\n",
        "movie_file = csv_files[0]\n",
        "\n",
        "movie_df = pd.read_csv(movie_file)\n",
        "print(movie_df.columns)  # the columns\n",
        "print(movie_df.shape)"
      ],
      "metadata": {
        "colab": {
          "base_uri": "https://localhost:8080/"
        },
        "id": "VJ5GwuTEtCKb",
        "outputId": "f63c888d-e499-456f-cf18-2a186d94d32f"
      },
      "execution_count": null,
      "outputs": [
        {
          "output_type": "stream",
          "name": "stdout",
          "text": [
            "['wiki_movie_plots_deduped.csv']\n",
            "Index(['Release Year', 'Title', 'Origin/Ethnicity', 'Director', 'Cast',\n",
            "       'Genre', 'Wiki Page', 'Plot'],\n",
            "      dtype='object')\n",
            "(34886, 8)\n"
          ]
        }
      ]
    },
    {
      "cell_type": "code",
      "source": [
        "movie_df.Genre.value_counts()[:40]"
      ],
      "metadata": {
        "colab": {
          "base_uri": "https://localhost:8080/"
        },
        "id": "0XB_X-xd-Hm7",
        "outputId": "a8afeabe-7838-43bc-aa60-13eef20c6b0f"
      },
      "execution_count": null,
      "outputs": [
        {
          "output_type": "execute_result",
          "data": {
            "text/plain": [
              "unknown            6083\n",
              "drama              5964\n",
              "comedy             4379\n",
              "horror             1167\n",
              "action             1098\n",
              "thriller            966\n",
              "romance             923\n",
              "western             865\n",
              "crime               568\n",
              "adventure           526\n",
              "musical             467\n",
              "crime drama         464\n",
              "romantic comedy     461\n",
              "science fiction     418\n",
              "film noir           345\n",
              "mystery             310\n",
              "war                 273\n",
              "animation           264\n",
              "comedy, drama       236\n",
              "sci-fi              221\n",
              "family              217\n",
              "fantasy             204\n",
              "animated            195\n",
              "musical comedy      154\n",
              "comedy-drama        137\n",
              "biography           136\n",
              "anime               112\n",
              "suspense            104\n",
              "romantic drama      103\n",
              "comedy drama        103\n",
              "animated short       91\n",
              "drama, romance       86\n",
              "social               82\n",
              "historical           77\n",
              "action thriller      73\n",
              "documentary          73\n",
              "serial               71\n",
              "world war ii         70\n",
              "family drama         66\n",
              "war drama            65\n",
              "Name: Genre, dtype: int64"
            ]
          },
          "metadata": {},
          "execution_count": 5
        }
      ]
    },
    {
      "cell_type": "code",
      "source": [
        "new_movies = movie_df[movie_df['Release Year'] > 2000]\n",
        "selected_movies = new_movies[new_movies.Genre.isin(['thriller', 'comedy', 'drama', 'science-fiction', 'sci-fi', 'adventure'])]\n",
        "print(new_movies.shape)\n",
        "print(selected_movies.shape)\n",
        "text_data = selected_movies['Title'] + ' ' + selected_movies['Plot']\n",
        "text_data.head()"
      ],
      "metadata": {
        "colab": {
          "base_uri": "https://localhost:8080/",
          "height": 275
        },
        "id": "98kvaSsa-pbU",
        "outputId": "90328969-6e9a-4f94-bbc2-3fd0613d9536"
      },
      "execution_count": null,
      "outputs": [
        {
          "output_type": "stream",
          "name": "stdout",
          "text": [
            "(12093, 8)\n",
            "(3224, 8)\n"
          ]
        },
        {
          "output_type": "execute_result",
          "data": {
            "text/plain": [
              "13785    The Affair of the Necklace Jeanne de Saint-Rém...\n",
              "13787    All Over the Guy All Over the Guy is about Eli...\n",
              "13789    The Amati Girls The film centers around an Ita...\n",
              "13790    America's Sweethearts Film publicist Lee Phill...\n",
              "13793    American Pie 2 After their freshman year at co...\n",
              "dtype: object"
            ],
            "text/html": [
              "<div>\n",
              "<style scoped>\n",
              "    .dataframe tbody tr th:only-of-type {\n",
              "        vertical-align: middle;\n",
              "    }\n",
              "\n",
              "    .dataframe tbody tr th {\n",
              "        vertical-align: top;\n",
              "    }\n",
              "\n",
              "    .dataframe thead th {\n",
              "        text-align: right;\n",
              "    }\n",
              "</style>\n",
              "<table border=\"1\" class=\"dataframe\">\n",
              "  <thead>\n",
              "    <tr style=\"text-align: right;\">\n",
              "      <th></th>\n",
              "      <th>0</th>\n",
              "    </tr>\n",
              "  </thead>\n",
              "  <tbody>\n",
              "    <tr>\n",
              "      <th>13785</th>\n",
              "      <td>The Affair of the Necklace Jeanne de Saint-Rém...</td>\n",
              "    </tr>\n",
              "    <tr>\n",
              "      <th>13787</th>\n",
              "      <td>All Over the Guy All Over the Guy is about Eli...</td>\n",
              "    </tr>\n",
              "    <tr>\n",
              "      <th>13789</th>\n",
              "      <td>The Amati Girls The film centers around an Ita...</td>\n",
              "    </tr>\n",
              "    <tr>\n",
              "      <th>13790</th>\n",
              "      <td>America's Sweethearts Film publicist Lee Phill...</td>\n",
              "    </tr>\n",
              "    <tr>\n",
              "      <th>13793</th>\n",
              "      <td>American Pie 2 After their freshman year at co...</td>\n",
              "    </tr>\n",
              "  </tbody>\n",
              "</table>\n",
              "</div><br><label><b>dtype:</b> object</label>"
            ]
          },
          "metadata": {},
          "execution_count": 5
        }
      ]
    },
    {
      "cell_type": "code",
      "source": [
        "import numpy as np\n",
        "import spacy   # another tokenizer, lemmatizer (has --> be)\n",
        "nlp = spacy.load('en_core_web_sm')\n",
        "nlp.disable_pipes('parser', 'ner')"
      ],
      "metadata": {
        "colab": {
          "base_uri": "https://localhost:8080/"
        },
        "id": "rBosPGl51N9W",
        "outputId": "a8ea1f1c-297e-4151-d012-9438b2539af9"
      },
      "execution_count": null,
      "outputs": [
        {
          "output_type": "execute_result",
          "data": {
            "text/plain": [
              "['parser', 'ner']"
            ]
          },
          "metadata": {},
          "execution_count": 21
        }
      ]
    },
    {
      "cell_type": "code",
      "source": [
        "# print text movies\n",
        "import pprint\n",
        "def print_movie(list_docs):\n",
        "  for doc in list_docs:\n",
        "    print('############################################')\n",
        "    pprint.pp(selected_movies[['Release Year','Title', 'Genre']].iloc[doc])\n",
        "    pprint.pp(selected_movies['Plot'].iloc[doc])\n",
        "\n",
        "\n",
        "print_movie(list(sorted_sim.keys())[:3])"
      ],
      "metadata": {
        "colab": {
          "base_uri": "https://localhost:8080/"
        },
        "id": "3Ixu5EYJDM6z",
        "outputId": "d764b7d7-452a-4278-a534-2e3d3cf3d455"
      },
      "execution_count": null,
      "outputs": [
        {
          "output_type": "stream",
          "name": "stdout",
          "text": [
            "############################################\n",
            "Release Year         2008\n",
            "Title           Meet Dave\n",
            "Genre              comedy\n",
            "Name: 15480, dtype: object\n",
            "('In his New York City apartment, a young boy named Josh Morrison (Austyn Lind '\n",
            " 'Myers) stares through his telescope at an object falling from the sky. It is '\n",
            " 'a golf-ball-sized metal ball which flies through the window and lands in his '\n",
            " 'fishbowl, quickly draining the water along with the goldfish. He decides to '\n",
            " \"show it at his school's science class presentation.\\r\\n\"\n",
            " 'Some months later a massive fireball crashes into the water near Liberty '\n",
            " 'Island. It is revealed to be a spaceship which resembles a human (Eddie '\n",
            " 'Murphy), controlled by 100 tiny humanoid aliens. Its Captain (also played by '\n",
            " 'Murphy) pilots the spaceship from the command deck located in its head, with '\n",
            " 'the help of his second-in-command Number 2 (Ed Helms), and researcher Number '\n",
            " '3 (Gabrielle Union). The spaceship looks very human, and displays numerous '\n",
            " 'superpowers, but the aliens don\\'t know how to make the \"ship\" act like a '\n",
            " 'human. A superstitious cop named Dooley (Scott Caan) desperately searches '\n",
            " 'for the alien.\\r\\n'\n",
            " 'The aliens need to save their planet, Nil, from an energy crisis. They need '\n",
            " \"salt, which they plan to take by draining the Earth's oceans using the metal \"\n",
            " \"ball, so they have to recover the ball. After the spaceship is hit by Josh's \"\n",
            " 'single mother, Gina Morrison (Elizabeth Banks), while driving, the Captain '\n",
            " 'decides to befriend Gina and Josh. He tells them his name is Dave Ming '\n",
            " \"Cheng, based on a quick scan of common Earth names. At Gina's home the crew \"\n",
            " 'see their missing ball in a photograph taken at the science presentation. '\n",
            " 'After having breakfast with Gina, \"Dave\" goes to Josh\\'s school where he '\n",
            " 'pretends to be a substitute teacher and eventually is able to talk to Josh '\n",
            " 'alone. Josh tells him that the ball was taken from him by a bully (Nicholas '\n",
            " \"Berman). With Josh's help, Dave takes the metal ball back from the bully.\\r\\n\"\n",
            " 'The Captain (via Dave) spends some time with Josh and Gina and realizes that '\n",
            " 'humans are more advanced than they originally thought. The crew observes '\n",
            " \"humans displaying feelings and love, such as witnessing Gina's painting or a \"\n",
            " 'homeless man offering to share his blanket with Dave when he sleeps in a '\n",
            " 'doorway. The Captain decides to cancel the plan to drain the oceans because '\n",
            " 'it would destroy life on Earth. The police track Dave down using the '\n",
            " 'impression of his face found in the dirt at the crash site and they arrest '\n",
            " 'him. After spending so much time on Earth, most of the crew begin to exhibit '\n",
            " 'new \"feelings\", adopting Earth\\'s culture, mannerisms and general laid-back '\n",
            " \"attitude. Number 2 decides that the captain and the rest of the crew's \"\n",
            " 'changing behavior is unacceptable and takes command of the \"ship\", '\n",
            " \"imprisoning the Captain. Under Number 2's command, Dave breaks out of the \"\n",
            " 'police station and another attempt is made to arrest him. Number 3, who has '\n",
            " 'become infatuated with the Captain, becomes jealous of Gina. She first '\n",
            " \"cooperates in the command change but later agrees with the Captain's view on \"\n",
            " 'humans. Both are caught by Number 2 and they are expelled from the '\n",
            " 'spaceship. In the meantime, Number 17 (Kevin Hart), a young, fun-loving '\n",
            " 'alien, jumps out of the \"ship\" while drunk from the alcohol Dave has '\n",
            " 'imbibed. The Captain apologizes to Number 3 for ignoring her. He admits that '\n",
            " 'he too loves her and wants to be with her. Back at the police station, '\n",
            " 'Dooley discovers Number 17 in his coffee and interrogates him to find out '\n",
            " 'where Dave is going.\\r\\n'\n",
            " 'Number 2 takes Dave to the harbor, where he tries to throw the metal orb '\n",
            " 'into the ocean, but is stopped by the Captain and Number 3, both of whom '\n",
            " 'managed to gain reentry back onto the ship. They convince the rest of the '\n",
            " 'crew that the real Captain is in charge again. Reinstated, he orders Number '\n",
            " '2 to be stuck in the ship\\'s \"butt\" forever. The metal orb meanwhile slips '\n",
            " \"out of Dave's hand and rolls into the ocean. The Captain attempts to \"\n",
            " 'retrieve the orb but is told that they only have enough power to either '\n",
            " 'retrieve it or return home. The Captain decides to save the Earth and the '\n",
            " 'rest of the crew agrees. The ball, thrown in the ocean by Number 2, is '\n",
            " 'retrieved. Dave powers down while Dooley and his partner catch up and point '\n",
            " \"their guns at him. With no power, Dave's shields are disabled, leaving the \"\n",
            " 'crew defenseless. Josh tries to tell the police officers that Dave is '\n",
            " \"harmless but is ignored. He then grabs Dooley's taser which he uses on Dave, \"\n",
            " 'recharging him. The captain and Number 3 reveal themselves to the police '\n",
            " 'officers who stand down. The Captain says goodbye to Josh and Gina saying he '\n",
            " 'now understands love. Number 17 is then returned to Dave by Dooley. About to '\n",
            " 'fly away, a team from the FBI arrives and throws a net over Dave. While the '\n",
            " 'FBI agents wrestle the body down, \"Dave\\'s\" crew evacuates to one of the '\n",
            " 'ship\\'s \"lifeboat\" shoes, activate the engines, detaches the shoe and heads '\n",
            " 'home to Nil, leaving behind both the ship and Number 2. While in the '\n",
            " \"lifeboat, the captain asks for Number 3's hand in marriage. She accepts and \"\n",
            " 'they kiss.')\n",
            "############################################\n",
            "Release Year                  2002\n",
            "Title           Sweet Home Alabama\n",
            "Genre                       comedy\n",
            "Name: 14162, dtype: object\n",
            "('On a stormy Alabama beach, Jake Perry shows Melanie Smooter the glass '\n",
            " 'sculptures that result when sand is struck by lighting. They discuss their '\n",
            " 'future together, with Jake asserting they will be married one day.\\r\\n'\n",
            " 'In the present day, Melanie has changed her last name to Carmichael to hide '\n",
            " 'her poor Southern roots. She is a successful up-and-coming fashion designer '\n",
            " 'in New York City. After becoming engaged to Andrew, Melanie goes home alone '\n",
            " 'to Alabama to tell her parents and to procure a divorce from her estranged '\n",
            " \"husband Jake. Andrew's mother, the Mayor of New York, expresses doubt that \"\n",
            " 'Melanie is good enough for her son, whom she is grooming to eventually run '\n",
            " 'for President of the United States. Melanie asks Jake why he has returned '\n",
            " 'the divorce papers unsigned for the last seven years; he orders her out of '\n",
            " \"his house, eventually calling the sheriff to intervene. When Melanie's \"\n",
            " 'father brings her home from the station, she announces her engagement.\\r\\n'\n",
            " 'Hoping to spur Jake to sign the papers, Melanie empties out his checking '\n",
            " 'account, after learning that her name is still on it. Jake says he will sign '\n",
            " 'the papers in the morning, lamenting \"nobody finds their soulmate when '\n",
            " 'they\\'re ten years old\". Following Jake to a local bar, Melanie gets drunk '\n",
            " 'and embarrasses herself in front of her childhood friends, expressing '\n",
            " 'disgust at their lifestyle, confessing that Jake got her pregnant, hence why '\n",
            " 'she married him, and outing a mutual friend, Bobby Ray Bailey. When Melanie '\n",
            " 'wakes up the next morning, the divorce papers are lying on her bed, finally '\n",
            " 'signed by Jake.\\r\\n'\n",
            " 'Melanie visits the Carmichael plantation to apologize to Bobby Ray, where '\n",
            " 'she is cornered by a man who claims to be a journalist but is actually the '\n",
            " \"mayor's assistant, sent to gather information on Melanie's background. \"\n",
            " 'Realizing her predicament, Bobby Ray pretends to be her cousin, backing up '\n",
            " 'her pretense that this is her childhood home. Melanie soon reconciles with '\n",
            " 'her other friends, and learns that Jake followed her to New York City to win '\n",
            " 'her back—intimidated by the size of Manhattan, he returned home determined '\n",
            " 'to make something of himself first. Jake finds Melanie in a graveyard upset '\n",
            " 'over their old dog, and they have a heart to heart about their wedding, the '\n",
            " 'loss of their baby due to miscarriage, and Melanie leaving for a new life. '\n",
            " 'Melanie now realizes why Jake never signed the divorce papers.\\r\\n'\n",
            " 'Andrew arrives at the Carmichael Plantation to surprise Melanie. Jake takes '\n",
            " 'him to a Civil War reenactment, where Melanie is with her father. On the '\n",
            " 'way, knowing who Andrew is, Jake regales him with the story of \"Felony\" '\n",
            " \"Melanie Smooter, a young girl who once tied dynamite to a cat's tail and \"\n",
            " 'then was arrested after it ran into the bank. When Andrew sees Melanie at '\n",
            " 'the battlefield, she tells him Jake is her former husband. When her father '\n",
            " 'introduces himself as Earl Smooter, Andrew realizes that Melanie has lied to '\n",
            " \"him about who she really is and leaves. Andrew soon appears at Melanie's \"\n",
            " \"parents' house, having gotten over the shock and admitting he still wants to \"\n",
            " \"marry her, here in Alabama. Once Melanie's friends from New York arrive, \"\n",
            " 'they browse at a glazier whose wares they all have admired in New York, only '\n",
            " 'to realize it is Jake.\\r\\n'\n",
            " \"Melanie's lawyer interrupts the wedding ceremony, bringing the divorce \"\n",
            " 'papers that Melanie herself has missed signing. Melanie hesitates, realizing '\n",
            " 'her love for Jake. She wishes Andrew luck in finding a good woman. Andrew, '\n",
            " 'distressed but showing no ill-feelings, wishes her well in return. His '\n",
            " 'mother explodes, berating Andrew for risking his promising political career '\n",
            " \"and verbally attacking Melanie. She then insults the town and Melanie's \"\n",
            " 'mother, for which Melanie punches her in the jaw, to the cheers of the '\n",
            " 'crowd.\\r\\n'\n",
            " 'Melanie, in her wedding gown in the rain, finds Jake planting metal rods in '\n",
            " 'the beach to draw lighting to create more sand sculptures. She tells him '\n",
            " \"they are still married, and asks why he didn't tell her he came to New York. \"\n",
            " 'They repeat the conversation from when they were children about why they '\n",
            " 'want to be married. As Jake and Melanie kiss, sheriff Wade \"arrests\" them '\n",
            " \"and takes them to the bar owned by Jake's mother, where their friends and \"\n",
            " 'family are waiting. The pair finally get their long-awaited first dance as '\n",
            " 'husband and wife, to the tune of Lynyrd Skynyrd\\'s \"Sweet Home Alabama.\" A '\n",
            " 'mid-credits sequence shows that they have a daughter. Melanie continues to '\n",
            " 'thrive as a designer and Jake opens a \"Deep South Glass\" franchise in New '\n",
            " 'York. A newspaper clipping announces the wedding of Andrew and a girl named '\n",
            " 'Erin Vanderbilt.')\n",
            "############################################\n",
            "Release Year             2005\n",
            "Title           The Lost City\n",
            "Genre                   drama\n",
            "Name: 14708, dtype: object\n",
            "('Fico Fellove is the owner of El Tropico, a swank nightclub in late 1950s '\n",
            " 'Cuba. Fico lives for his family and his music, but the harsh realities of '\n",
            " \"Batista's dictatorial regime threaten to destroy both. His brother Ricardo \"\n",
            " 'becomes a revolutionary and his other brother Luis joins the democratic '\n",
            " 'opposition while his father Federico, a well-respected university professor, '\n",
            " 'believes that Batista should be replaced by constitutional, peaceful '\n",
            " 'means.\\r\\n'\n",
            " 'When Ricardo is arrested for anti-regime activities and threatened with '\n",
            " 'execution, Fico calls upon an old prep school friend, now a police captain, '\n",
            " 'for help. Due to the intercession of Captain Castel, Ricardo is released '\n",
            " 'from jail. Although Fico suggests that Ricardo should go to Miami or New '\n",
            " 'York City for a while, Ricardo refuses and instead joins a communist rebel '\n",
            " 'band headed by Che Guevara.\\r\\n'\n",
            " 'In addition to political intrigue, Fico is also approached by Meyer Lansky '\n",
            " \"(Dustin Hoffman), a high-ranking member of New York's Genovese crime family, \"\n",
            " 'who wishes to open up a gambling room at El Tropico. Fico, however, intends '\n",
            " 'for his club to remain a place of music and turns down the offer. When a '\n",
            " 'bomb later explodes at the club, killing the club’s star entertainer (who '\n",
            " 'was also Fico’s love), Fico assumes that Lansky is behind it. However, in '\n",
            " 'the increasingly unsettled climate, he cannot be certain.\\r\\n'\n",
            " 'Luis soon becomes connected with the plot to seize the presidential palace, '\n",
            " 'kill Batista, and restore democracy to Cuba. The plot fails and most of the '\n",
            " 'attackers are killed. Luis escapes but is killed later by Batista’s secret '\n",
            " 'police. At the urging of his mother, Fico tries to cheer up Luis’ distraught '\n",
            " 'widow Aurora (Inés Sastre). Fico and Aurora begin a relationship and fall in '\n",
            " 'love, but events intervene: the Communists seize the power after Batista '\n",
            " 'flees the country. Fidel Castro declares there will be no elections and Che '\n",
            " 'Guevara oversees the arrests and summary execution of all those who those '\n",
            " 'thought to have supported the Batista regime. Among those arrested is '\n",
            " 'Captain Castel. Fico seeks out his brother Ricardo, now a high-ranking '\n",
            " \"officer in the new regime, for help. Despite Castel's having saved his life, \"\n",
            " 'Ricardo does nothing to prevent Castel’s execution.\\r\\n'\n",
            " 'Ricardo, who had otherwise distanced himself from his family, later visits '\n",
            " 'his uncle Donoso (Richard Bradford), a tobacco farmer and cigar maker. '\n",
            " 'Donoso feels that while Castro may be in power now, “the land endures” and '\n",
            " 'he says that the farm would one day pass to Ricardo. Ricardo, however, '\n",
            " 'announces that the reason for his visit is to appropriate the farm for the '\n",
            " 'state. In a fit of anger, Donoso has a heart attack and dies. Ricardo, '\n",
            " 'overcome by grief, attends the funeral and shortly after commits suicide.\\r\\n'\n",
            " 'The revolution also has its effects on Fico’s club. The musician’s union, '\n",
            " 'now controlled by Castro, has declared the saxophone to be an imperialist '\n",
            " 'instrument and forbids its use. The club is eventually shut down on a flimsy '\n",
            " 'pretext. After a chance meeting with Castro, Aurora is declared '\n",
            " 'Revolutionary Widow of the Year and begins to work for the State. This '\n",
            " 'causes Fico and Aurora to break apart.\\r\\n'\n",
            " 'Seeing the family torn apart and decimated by the revolution, Fico’s parents '\n",
            " 'beg him to leave Cuba and start a new family. Reluctantly, Fico prepares to '\n",
            " 'leave, procuring exit visas for himself and Aurora. In a last chance to '\n",
            " 'convince her to leave, Fico barges in on a reception for revolutionary '\n",
            " 'leaders and Soviet Bloc ambassadors but Aurora refuses to go. After a last '\n",
            " 'toast to a free and democratic Cuba, Fico leaves the reception. He says his '\n",
            " 'goodbyes to his parents (receiving his father’s prized pocket watch) and '\n",
            " 'leaves Cuba. At the airport, most of his money and possessions (including '\n",
            " 'his father’s watch) are confiscated.\\r\\n'\n",
            " 'Fico begins a new life in New York. By working as a dishwasher and piano '\n",
            " 'player at a Cuban club, he hopes to save enough money to bring the remaining '\n",
            " 'members of his family to America. He again meets Meyer Lansky, who offers '\n",
            " 'Fico a Cuban nightclub in Las Vegas. Fico again refuses. While cleaning up '\n",
            " 'one night, he has another meeting with Aurora, who is in New York as part of '\n",
            " 'a Cuban delegation to the United Nations. He now realizes that Aurora is '\n",
            " 'like Cuba: beautiful, alluring, but ultimately damaged and unattainable. He '\n",
            " 'decides now that his cause is to build a new life until he can return to the '\n",
            " 'city he lost. Fico recites a poem by Cuban nationalist Father José Martí and '\n",
            " 'opens a new nightclub in New York.')\n"
          ]
        }
      ]
    },
    {
      "cell_type": "code",
      "source": [
        "selected_movies[selected_movies['Title'].str.contains('Star wars')]"
      ],
      "metadata": {
        "colab": {
          "base_uri": "https://localhost:8080/",
          "height": 53
        },
        "id": "9J4_TV9UG3tO",
        "outputId": "4945b577-7b53-4765-9975-b4202783fd41"
      },
      "execution_count": null,
      "outputs": [
        {
          "output_type": "execute_result",
          "data": {
            "text/plain": [
              "Empty DataFrame\n",
              "Columns: [Release Year, Title, Origin/Ethnicity, Director, Cast, Genre, Wiki Page, Plot]\n",
              "Index: []"
            ],
            "text/html": [
              "\n",
              "  <div id=\"df-44e8fce9-3e30-4cff-b3bd-353c3b38cc10\" class=\"colab-df-container\">\n",
              "    <div>\n",
              "<style scoped>\n",
              "    .dataframe tbody tr th:only-of-type {\n",
              "        vertical-align: middle;\n",
              "    }\n",
              "\n",
              "    .dataframe tbody tr th {\n",
              "        vertical-align: top;\n",
              "    }\n",
              "\n",
              "    .dataframe thead th {\n",
              "        text-align: right;\n",
              "    }\n",
              "</style>\n",
              "<table border=\"1\" class=\"dataframe\">\n",
              "  <thead>\n",
              "    <tr style=\"text-align: right;\">\n",
              "      <th></th>\n",
              "      <th>Release Year</th>\n",
              "      <th>Title</th>\n",
              "      <th>Origin/Ethnicity</th>\n",
              "      <th>Director</th>\n",
              "      <th>Cast</th>\n",
              "      <th>Genre</th>\n",
              "      <th>Wiki Page</th>\n",
              "      <th>Plot</th>\n",
              "    </tr>\n",
              "  </thead>\n",
              "  <tbody>\n",
              "  </tbody>\n",
              "</table>\n",
              "</div>\n",
              "    <div class=\"colab-df-buttons\">\n",
              "\n",
              "  <div class=\"colab-df-container\">\n",
              "    <button class=\"colab-df-convert\" onclick=\"convertToInteractive('df-44e8fce9-3e30-4cff-b3bd-353c3b38cc10')\"\n",
              "            title=\"Convert this dataframe to an interactive table.\"\n",
              "            style=\"display:none;\">\n",
              "\n",
              "  <svg xmlns=\"http://www.w3.org/2000/svg\" height=\"24px\" viewBox=\"0 -960 960 960\">\n",
              "    <path d=\"M120-120v-720h720v720H120Zm60-500h600v-160H180v160Zm220 220h160v-160H400v160Zm0 220h160v-160H400v160ZM180-400h160v-160H180v160Zm440 0h160v-160H620v160ZM180-180h160v-160H180v160Zm440 0h160v-160H620v160Z\"/>\n",
              "  </svg>\n",
              "    </button>\n",
              "\n",
              "  <style>\n",
              "    .colab-df-container {\n",
              "      display:flex;\n",
              "      gap: 12px;\n",
              "    }\n",
              "\n",
              "    .colab-df-convert {\n",
              "      background-color: #E8F0FE;\n",
              "      border: none;\n",
              "      border-radius: 50%;\n",
              "      cursor: pointer;\n",
              "      display: none;\n",
              "      fill: #1967D2;\n",
              "      height: 32px;\n",
              "      padding: 0 0 0 0;\n",
              "      width: 32px;\n",
              "    }\n",
              "\n",
              "    .colab-df-convert:hover {\n",
              "      background-color: #E2EBFA;\n",
              "      box-shadow: 0px 1px 2px rgba(60, 64, 67, 0.3), 0px 1px 3px 1px rgba(60, 64, 67, 0.15);\n",
              "      fill: #174EA6;\n",
              "    }\n",
              "\n",
              "    .colab-df-buttons div {\n",
              "      margin-bottom: 4px;\n",
              "    }\n",
              "\n",
              "    [theme=dark] .colab-df-convert {\n",
              "      background-color: #3B4455;\n",
              "      fill: #D2E3FC;\n",
              "    }\n",
              "\n",
              "    [theme=dark] .colab-df-convert:hover {\n",
              "      background-color: #434B5C;\n",
              "      box-shadow: 0px 1px 3px 1px rgba(0, 0, 0, 0.15);\n",
              "      filter: drop-shadow(0px 1px 2px rgba(0, 0, 0, 0.3));\n",
              "      fill: #FFFFFF;\n",
              "    }\n",
              "  </style>\n",
              "\n",
              "    <script>\n",
              "      const buttonEl =\n",
              "        document.querySelector('#df-44e8fce9-3e30-4cff-b3bd-353c3b38cc10 button.colab-df-convert');\n",
              "      buttonEl.style.display =\n",
              "        google.colab.kernel.accessAllowed ? 'block' : 'none';\n",
              "\n",
              "      async function convertToInteractive(key) {\n",
              "        const element = document.querySelector('#df-44e8fce9-3e30-4cff-b3bd-353c3b38cc10');\n",
              "        const dataTable =\n",
              "          await google.colab.kernel.invokeFunction('convertToInteractive',\n",
              "                                                    [key], {});\n",
              "        if (!dataTable) return;\n",
              "\n",
              "        const docLinkHtml = 'Like what you see? Visit the ' +\n",
              "          '<a target=\"_blank\" href=https://colab.research.google.com/notebooks/data_table.ipynb>data table notebook</a>'\n",
              "          + ' to learn more about interactive tables.';\n",
              "        element.innerHTML = '';\n",
              "        dataTable['output_type'] = 'display_data';\n",
              "        await google.colab.output.renderOutput(dataTable, element);\n",
              "        const docLink = document.createElement('div');\n",
              "        docLink.innerHTML = docLinkHtml;\n",
              "        element.appendChild(docLink);\n",
              "      }\n",
              "    </script>\n",
              "  </div>\n",
              "\n",
              "\n",
              "    </div>\n",
              "  </div>\n"
            ],
            "application/vnd.google.colaboratory.intrinsic+json": {
              "type": "dataframe",
              "repr_error": "Out of range float values are not JSON compliant: nan"
            }
          },
          "metadata": {},
          "execution_count": 149
        }
      ]
    },
    {
      "cell_type": "code",
      "source": [
        "# find modified query vector\n",
        "# compute df frequency from counter\n",
        "# orig_query = text\n",
        "# rel_docs, irel_docs = list of docs indices\n",
        "def mod_query(orig_query, vectorizer, term_freq, log_doc_freq, rel_docs, not_rel_docs, alpha, beta, gamma):\n",
        "  vect_orig = vectorizer.transform(orig_query)\n",
        "  # compute centroid for rel and not_rel docs\n",
        "  list_rel     = [term_freq.getrow(i) for i in rel_docs]\n",
        "  list_not_rel = [term_freq.getrow(i) for i in not_rel_docs]\n",
        "\n",
        "  # Check if list_rel and list_not_rel are empty before applying vstack\n",
        "  if list_rel:\n",
        "    is_empty_rel = True\n",
        "  if list_not_rel:\n",
        "    is_empty_not_rel = True\n",
        "\n",
        "  if list_rel and list_not_rel:\n",
        "      return np.array([])  # or any other appropriate default value\n",
        "\n",
        "  # apply tf function\n",
        "  nr_docs = term_freq.shape[0]\n",
        "  fct_tf = lambda x: np.log(x + 1)\n",
        "\n",
        "  vect_mod = alpha * vect_orig\n",
        "\n",
        "  if list_rel:\n",
        "    vect_rel = scipy.sparse.vstack(list_rel).toarray()\n",
        "    np_rel   = fct_tf(vect_rel)           #  apply tf function\n",
        "    np_rel   = np_rel * log_doc_freq.T    #  apply idf function\n",
        "    max_tf_idf_rel     = np.max(np_rel)\n",
        "    th_rel     = 0.3 * max_tf_idf_rel\n",
        "    np_rel[np_rel < th_rel] = 0\n",
        "    np_rel[np_rel > 0.8 * max_tf_idf_rel] = 0\n",
        "\n",
        "    centroid_rel     = np.mean(np_rel, axis = 0)\n",
        "    vect_mod +=  beta * centroid_rel\n",
        "\n",
        "  if list_not_rel:\n",
        "    vect_not_rel = scipy.sparse.vstack(list_not_rel).toarray()\n",
        "    np_not_rel   = fct_tf(vect_not_rel)         # apply tf function\n",
        "    np_not_rel   = np_not_rel * log_doc_freq.T  # apply idf function\n",
        "    max_tf_idf_not_rel = np.max(np_not_rel)\n",
        "    th_not_rel = 0.3 * max_tf_idf_not_rel\n",
        "    np_not_rel[np_not_rel < th_not_rel] = 0 # maybe filter very rare words (low document frequency) - aka. Character names\n",
        "    centroid_not_rel = np.mean(np_not_rel, axis = 0)\n",
        "    vect_mod -= gamma * centroid_not_rel\n",
        "  # apply a threshold for tf_idf values\n",
        "\n",
        "  #print(max_tf_idf_rel, max_tf_idf_not_rel)\n",
        "  tf_idf_nonzero = np_rel[:,vect_mod.nonzero()[1]]\n",
        "\n",
        "  return vect_mod, tf_idf_nonzero\n",
        "\n",
        "orig_query = [\"aliens spaceship new york\"]\n",
        "rel_docs = [696]\n",
        "not_rel_docs = []\n",
        "\n",
        "vect_mod, tf_idf_nonzero = mod_query(orig_query, vect, counter, log_doc_freq, rel_docs, not_rel_docs,  0.5, 0.5, 0.5)\n",
        "print(type(vect_mod), vect_mod.shape)\n",
        "\n",
        "print(\"Count num non-zero terms =\", np.count_nonzero(vect_mod))\n",
        "# find the index of non-zero terms\n",
        "ind_nonzero_mod = np.nonzero(vect_mod)\n",
        "print(ind_nonzero_mod[1][:10])\n",
        "#print the query non-zero terms\n",
        "print(vect.get_feature_names_out()[ind_nonzero_mod[1]])\n",
        "\n",
        "print('tfidf nonzero', tf_idf_nonzero)"
      ],
      "metadata": {
        "colab": {
          "base_uri": "https://localhost:8080/"
        },
        "id": "TD3Qn5llDDSI",
        "outputId": "7440f6a6-5e73-4ec4-c630-4c735fbb4c22"
      },
      "execution_count": null,
      "outputs": [
        {
          "output_type": "stream",
          "name": "stdout",
          "text": [
            "<class 'numpy.matrix'> (1, 17923)\n",
            "Count num non-zero terms = 55\n",
            "[ 440 1291 1585 1765 2181 2260 2380 2741 3132 3658]\n",
            "['alien' 'ball' 'berman' 'blanket' 'bully' 'caan' 'captain' 'cheng'\n",
            " 'command' 'crew' 'defenseless' 'detach' 'display' 'doorway' 'drain'\n",
            " 'earth' 'fbi' 'fireball' 'gabrielle' 'goldfish' 'harmless' 'hart' 'helm'\n",
            " 'human' 'humanoid' 'imbibe' 'lifeboat' 'mannerism' 'metal' 'ming'\n",
            " 'morrison' 'murphy' 'myer' 'net' 'new' 'nil' 'number' 'ocean' 'orb'\n",
            " 'power' 'presentation' 'recharge' 'researcher' 'retrieve' 'salt'\n",
            " 'science' 'ship' 'shoe' 'sized' 'spaceship' 'superpower' 'superstitious'\n",
            " 'taser' 'telescope' 'york']\n",
            "tfidf nonzero [[ 8.45717116  8.20254382  4.83864968  4.1598638   4.0228436   4.83864968\n",
            "  10.54199729  4.00562127  7.3246421   7.594634    5.11948185  4.35884076\n",
            "   4.29446236  4.83864968  7.27863299  7.60653962  4.51090723  4.4850018\n",
            "   4.00562127  5.11948185  4.25220621  4.07843725  4.00562127  6.57119974\n",
            "   4.63945843  4.4850018   7.35336763  4.00562127  8.45717116  4.35884076\n",
            "   6.34875951  5.43812265  5.11948185  4.1598638   0.          8.11418676\n",
            "   8.45173971  7.71844078  9.27891686  4.02531662  5.53738846  4.83864968\n",
            "   4.1598638   4.44590336  4.35884076  5.14858377  7.97981859  4.78297521\n",
            "   4.00562127  0.          4.83864968  4.1598638   4.25220621  4.63945843\n",
            "   0.        ]]\n"
          ]
        }
      ]
    },
    {
      "cell_type": "markdown",
      "source": [
        "========== END OF QUERY MODIFICATION =========="
      ],
      "metadata": {
        "id": "V3VBI2JmMy0m"
      }
    }
  ],
  "metadata": {
    "kernelspec": {
      "display_name": "Python 3",
      "language": "python",
      "name": "python3"
    },
    "language_info": {
      "codemirror_mode": {
        "name": "ipython",
        "version": 3
      },
      "file_extension": ".py",
      "mimetype": "text/x-python",
      "name": "python",
      "nbconvert_exporter": "python",
      "pygments_lexer": "ipython3",
      "version": "3.7.3"
    },
    "colab": {
      "provenance": [],
      "include_colab_link": true
    }
  },
  "nbformat": 4,
  "nbformat_minor": 0
}