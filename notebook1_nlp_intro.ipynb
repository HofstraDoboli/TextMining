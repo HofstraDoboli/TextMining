{
  "cells": [
    {
      "cell_type": "markdown",
      "metadata": {
        "id": "view-in-github",
        "colab_type": "text"
      },
      "source": [
        "<a href=\"https://colab.research.google.com/github/HofstraDoboli/TextMining_F22/blob/main/notebook1_nlp_intro.ipynb\" target=\"_parent\"><img src=\"https://colab.research.google.com/assets/colab-badge.svg\" alt=\"Open In Colab\"/></a>"
      ]
    },
    {
      "cell_type": "code",
      "execution_count": 21,
      "metadata": {
        "tags": [],
        "colab": {
          "base_uri": "https://localhost:8080/"
        },
        "id": "mARFkJ5Pwtf9",
        "outputId": "9c537e8f-bf53-497e-8308-d3f8b6f753f5"
      },
      "outputs": [
        {
          "output_type": "stream",
          "name": "stdout",
          "text": [
            "1 \"Why didn't she text me back yet?\n",
            "2 She doesn't like me anymore!\"\n",
            "3 There's no way I'm trying out for the team.\n"
          ]
        },
        {
          "output_type": "stream",
          "name": "stderr",
          "text": [
            "[nltk_data] Downloading package punkt to /root/nltk_data...\n",
            "[nltk_data]   Package punkt is already up-to-date!\n"
          ]
        }
      ],
      "source": [
        "from nltk import sent_tokenize\n",
        "from nltk import download\n",
        "download('punkt')\n",
        "\n",
        "text1 = '''\"Why didn't she text me back yet? She doesn't like me anymore!\" There's no way I'm trying out for the team.'''\n",
        "\n",
        "sents = sent_tokenize(text1)\n",
        "\n",
        "for i, s in enumerate(sents):\n",
        "  print(i+1, s)"
      ]
    },
    {
      "cell_type": "code",
      "execution_count": null,
      "metadata": {
        "tags": [],
        "id": "P0PHC8o7wtgB",
        "outputId": "bb368285-0eba-49e4-f93d-d1d89e6331f7"
      },
      "outputs": [
        {
          "output_type": "stream",
          "name": "stdout",
          "text": "['', 'Why', 'didn', 't', 'she', 'text', 'me', 'back', 'yet', '', 'She', 'doesn', 't', 'like', 'me', 'anymore', '', '', 'There', 's', 'no', 'way', 'I', 'm', 'trying', 'out', 'for', 'the', 'team', '']\n"
        }
      ],
      "source": [
        "import re\n",
        "words = re.split(r'[.,!? \"\\']', text1)\n",
        "print(words)"
      ]
    },
    {
      "cell_type": "code",
      "execution_count": 22,
      "metadata": {
        "colab": {
          "base_uri": "https://localhost:8080/"
        },
        "id": "FEqb0t3RwtgC",
        "outputId": "bc2db2c7-f32d-4a1b-bf87-f978d6c7904a"
      },
      "outputs": [
        {
          "output_type": "stream",
          "name": "stdout",
          "text": [
            "1 USB4 is done, the group developing the next version of the immensely successful USB connector technology said Tuesday.\n",
            "2 USB4 doubles speeds compared to today's fastest USB 3.2 by incorporating Intel's speedy Thunderbolt technology that you already see on high-end laptops and peripherals.\n",
            "3 The USB Implementers Forum announced the completion of the technical specification Tuesday, a move that frees hardware and software engineers to get cracking building the actual products to support it.\n",
            "4 Today's USB 3.2, which enables data transfer speeds up to 20 gigabits per second, is still something of a rarity; most of us have earlier versions of the technology that works at 5Gbps or 10Gbps.\n",
            "5 USB4 promises a speed boost to 40Gbps, helpful for things like using multiple external displays or fetching files from external hard drives.\n"
          ]
        }
      ],
      "source": [
        "text2 = '''USB4 is done, the group developing the next version of the immensely successful USB connector technology said Tuesday. USB4 doubles speeds compared to today's fastest USB 3.2 by incorporating Intel's speedy Thunderbolt technology that you already see on high-end laptops and peripherals. The USB Implementers Forum announced the completion of the technical specification Tuesday, a move that frees hardware and software engineers to get cracking building the actual products to support it.\n",
        "\n",
        "Today's USB 3.2, which enables data transfer speeds up to 20 gigabits per second, is still something of a rarity; most of us have earlier versions of the technology that works at 5Gbps or 10Gbps. USB4 promises a speed boost to 40Gbps, helpful for things like using multiple external displays or fetching files from external hard drives.'''\n",
        "sents2= sent_tokenize(text2)\n",
        "for i, s in enumerate(sents2):\n",
        "  print(i+1, s)"
      ]
    },
    {
      "cell_type": "code",
      "execution_count": 3,
      "metadata": {
        "tags": [],
        "colab": {
          "base_uri": "https://localhost:8080/"
        },
        "id": "aMmoqP6DwtgC",
        "outputId": "f3b30596-e1a3-4e86-ed61-cfe0ce76a7d3"
      },
      "outputs": [
        {
          "output_type": "stream",
          "name": "stdout",
          "text": [
            "['``', 'Why', 'did', \"n't\", 'she', 'text', 'me', 'back', 'yet', '?', 'She', 'does', \"n't\", 'like', 'me', 'anymore', '!', \"''\", 'There', \"'s\", 'no', 'way', 'I', \"'m\", 'trying', 'out', 'for', 'the', 'team', '.']\n"
          ]
        }
      ],
      "source": [
        "from nltk import word_tokenize\n",
        "words = word_tokenize(text1)\n",
        "print(words)"
      ]
    },
    {
      "cell_type": "code",
      "execution_count": 13,
      "metadata": {
        "tags": [],
        "colab": {
          "base_uri": "https://localhost:8080/"
        },
        "id": "tPbeuyuiwtgD",
        "outputId": "88c427b8-7956-4fb8-f299-486836d56671"
      },
      "outputs": [
        {
          "output_type": "stream",
          "name": "stdout",
          "text": [
            "!\"#$%&'()*+,-./:;<=>?@[\\]^_`{|}~\n",
            "['Why', 'did', \"n't\", 'she', 'text', 'me', 'back', 'yet', 'She', 'does', \"n't\", 'like', 'me', 'anymore', 'There', 'no', 'way', 'I', 'trying', 'out', 'for', 'the', 'team']\n"
          ]
        }
      ],
      "source": [
        "from string import punctuation\n",
        "print(punctuation)\n",
        "\n",
        "words_no_punkt = [w for w in words if w[0] not in punctuation] # list comprehension\n",
        "'''l = []\n",
        "for w in words:\n",
        "    if w[0] not in punctuation:\n",
        "        l.append(w)'''\n",
        "print(words_no_punkt)"
      ]
    },
    {
      "cell_type": "code",
      "execution_count": 11,
      "metadata": {
        "tags": [],
        "colab": {
          "base_uri": "https://localhost:8080/"
        },
        "id": "EO2NTiAnwtgE",
        "outputId": "cf18a63d-2172-4894-9910-fb5d4754ccf7"
      },
      "outputs": [
        {
          "output_type": "stream",
          "name": "stdout",
          "text": [
            "# words lowercase 23\n",
            "['why', 'did', \"n't\", 'she', 'text', 'me', 'back', 'yet', 'she', 'does', \"n't\", 'like', 'me', 'anymore', 'there', 'no', 'way', 'i', 'trying', 'out', 'for', 'the', 'team']\n"
          ]
        }
      ],
      "source": [
        "# lower case all words\n",
        "words_lower = [w.lower() for w in words_no_punkt]\n",
        "print(\"# words lowercase\", len(words_lower))\n",
        "print(words_lower)"
      ]
    },
    {
      "cell_type": "code",
      "source": [
        "download('stopwords')\n",
        "from nltk.corpus import stopwords\n",
        "print(\"number stopwords\", len(stopwords.words(\"english\")))\n",
        "print(stopwords.words(\"english\"))\n",
        "words_no_stop = [w for w in words_lower if w not in stopwords.words(\"english\")]\n",
        "print('# words no stopwords', len(words_no_stop))\n",
        "print(words_no_stop)"
      ],
      "metadata": {
        "id": "mvC_-i_SBwGS",
        "colab": {
          "base_uri": "https://localhost:8080/"
        },
        "outputId": "ecd5d8d1-a469-477f-c3b9-a6cd30e03976"
      },
      "execution_count": 12,
      "outputs": [
        {
          "output_type": "stream",
          "name": "stdout",
          "text": [
            "number stopwords 179\n",
            "['i', 'me', 'my', 'myself', 'we', 'our', 'ours', 'ourselves', 'you', \"you're\", \"you've\", \"you'll\", \"you'd\", 'your', 'yours', 'yourself', 'yourselves', 'he', 'him', 'his', 'himself', 'she', \"she's\", 'her', 'hers', 'herself', 'it', \"it's\", 'its', 'itself', 'they', 'them', 'their', 'theirs', 'themselves', 'what', 'which', 'who', 'whom', 'this', 'that', \"that'll\", 'these', 'those', 'am', 'is', 'are', 'was', 'were', 'be', 'been', 'being', 'have', 'has', 'had', 'having', 'do', 'does', 'did', 'doing', 'a', 'an', 'the', 'and', 'but', 'if', 'or', 'because', 'as', 'until', 'while', 'of', 'at', 'by', 'for', 'with', 'about', 'against', 'between', 'into', 'through', 'during', 'before', 'after', 'above', 'below', 'to', 'from', 'up', 'down', 'in', 'out', 'on', 'off', 'over', 'under', 'again', 'further', 'then', 'once', 'here', 'there', 'when', 'where', 'why', 'how', 'all', 'any', 'both', 'each', 'few', 'more', 'most', 'other', 'some', 'such', 'no', 'nor', 'not', 'only', 'own', 'same', 'so', 'than', 'too', 'very', 's', 't', 'can', 'will', 'just', 'don', \"don't\", 'should', \"should've\", 'now', 'd', 'll', 'm', 'o', 're', 've', 'y', 'ain', 'aren', \"aren't\", 'couldn', \"couldn't\", 'didn', \"didn't\", 'doesn', \"doesn't\", 'hadn', \"hadn't\", 'hasn', \"hasn't\", 'haven', \"haven't\", 'isn', \"isn't\", 'ma', 'mightn', \"mightn't\", 'mustn', \"mustn't\", 'needn', \"needn't\", 'shan', \"shan't\", 'shouldn', \"shouldn't\", 'wasn', \"wasn't\", 'weren', \"weren't\", 'won', \"won't\", 'wouldn', \"wouldn't\"]\n",
            "# words no stopwords 10\n",
            "[\"n't\", 'text', 'back', 'yet', \"n't\", 'like', 'anymore', 'way', 'trying', 'team']\n"
          ]
        },
        {
          "output_type": "stream",
          "name": "stderr",
          "text": [
            "[nltk_data] Downloading package stopwords to /root/nltk_data...\n",
            "[nltk_data]   Package stopwords is already up-to-date!\n"
          ]
        }
      ]
    },
    {
      "cell_type": "code",
      "execution_count": 39,
      "metadata": {
        "tags": [],
        "colab": {
          "base_uri": "https://localhost:8080/"
        },
        "id": "PHwSSJy5wtgG",
        "outputId": "8df2bbe1-3f88-4269-d2af-7b59eca6fae7"
      },
      "outputs": [
        {
          "output_type": "stream",
          "name": "stdout",
          "text": [
            "[('usb4', 'NN'), ('is', 'VBZ'), ('done', 'VBN'), (',', ','), ('the', 'DT'), ('group', 'NN'), ('developing', 'VBG'), ('the', 'DT'), ('next', 'JJ'), ('version', 'NN'), ('of', 'IN'), ('the', 'DT'), ('immensely', 'RB'), ('successful', 'JJ'), ('usb', 'JJ'), ('connector', 'NN'), ('technology', 'NN'), ('said', 'VBD'), ('tuesday', 'NN'), ('.', '.')]\n",
            "[('usb4', 'JJ'), ('doubles', 'NNS'), ('speeds', 'NNS'), ('compared', 'VBN'), ('to', 'TO'), ('today', 'NN'), (\"'s\", 'POS'), ('fastest', 'JJS'), ('usb', 'JJ'), ('3.2', 'CD'), ('by', 'IN'), ('incorporating', 'VBG'), ('intel', 'NN'), (\"'s\", 'POS'), ('speedy', 'JJ'), ('thunderbolt', 'NN'), ('technology', 'NN'), ('that', 'IN'), ('you', 'PRP'), ('already', 'RB'), ('see', 'VB'), ('on', 'IN'), ('high-end', 'JJ'), ('laptops', 'NNS'), ('and', 'CC'), ('peripherals', 'NNS'), ('.', '.')]\n",
            "[('the', 'DT'), ('usb', 'JJ'), ('implementers', 'NNS'), ('forum', 'VBP'), ('announced', 'VBD'), ('the', 'DT'), ('completion', 'NN'), ('of', 'IN'), ('the', 'DT'), ('technical', 'JJ'), ('specification', 'NN'), ('tuesday', 'NN'), (',', ','), ('a', 'DT'), ('move', 'NN'), ('that', 'WDT'), ('frees', 'VBZ'), ('hardware', 'NN'), ('and', 'CC'), ('software', 'NN'), ('engineers', 'NNS'), ('to', 'TO'), ('get', 'VB'), ('cracking', 'VBG'), ('building', 'VBG'), ('the', 'DT'), ('actual', 'JJ'), ('products', 'NNS'), ('to', 'TO'), ('support', 'VB'), ('it', 'PRP'), ('.', '.')]\n",
            "[('today', 'NN'), (\"'s\", 'POS'), ('usb', 'JJ'), ('3.2', 'CD'), (',', ','), ('which', 'WDT'), ('enables', 'VBZ'), ('data', 'NNS'), ('transfer', 'NN'), ('speeds', 'VBZ'), ('up', 'RP'), ('to', 'TO'), ('20', 'CD'), ('gigabits', 'NNS'), ('per', 'IN'), ('second', 'NN'), (',', ','), ('is', 'VBZ'), ('still', 'RB'), ('something', 'NN'), ('of', 'IN'), ('a', 'DT'), ('rarity', 'NN'), (';', ':'), ('most', 'JJS'), ('of', 'IN'), ('us', 'PRP'), ('have', 'VBP'), ('earlier', 'JJR'), ('versions', 'NNS'), ('of', 'IN'), ('the', 'DT'), ('technology', 'NN'), ('that', 'WDT'), ('works', 'VBZ'), ('at', 'IN'), ('5gbps', 'CD'), ('or', 'CC'), ('10gbps', 'CD'), ('.', '.')]\n",
            "[('usb4', 'JJ'), ('promises', 'VBZ'), ('a', 'DT'), ('speed', 'NN'), ('boost', 'NN'), ('to', 'TO'), ('40gbps', 'CD'), (',', ','), ('helpful', 'NN'), ('for', 'IN'), ('things', 'NNS'), ('like', 'IN'), ('using', 'VBG'), ('multiple', 'JJ'), ('external', 'JJ'), ('displays', 'NNS'), ('or', 'CC'), ('fetching', 'VBG'), ('files', 'NNS'), ('from', 'IN'), ('external', 'JJ'), ('hard', 'JJ'), ('drives', 'NNS'), ('.', '.')]\n",
            "[('usb4', 'NN'), ('is', 'VBZ'), ('done', 'VBN'), (',', ','), ('the', 'DT'), ('group', 'NN'), ('developing', 'VBG'), ('the', 'DT'), ('next', 'JJ'), ('version', 'NN'), ('of', 'IN'), ('the', 'DT'), ('immensely', 'RB'), ('successful', 'JJ'), ('usb', 'JJ'), ('connector', 'NN'), ('technology', 'NN'), ('said', 'VBD'), ('tuesday', 'NN'), ('.', '.'), ('usb4', 'JJ'), ('doubles', 'NNS'), ('speeds', 'NNS'), ('compared', 'VBN'), ('to', 'TO'), ('today', 'NN'), (\"'s\", 'POS'), ('fastest', 'JJS'), ('usb', 'JJ'), ('3.2', 'CD'), ('by', 'IN'), ('incorporating', 'VBG'), ('intel', 'NN'), (\"'s\", 'POS'), ('speedy', 'JJ'), ('thunderbolt', 'NN'), ('technology', 'NN'), ('that', 'IN'), ('you', 'PRP'), ('already', 'RB'), ('see', 'VB'), ('on', 'IN'), ('high-end', 'JJ'), ('laptops', 'NNS'), ('and', 'CC'), ('peripherals', 'NNS'), ('.', '.'), ('the', 'DT'), ('usb', 'JJ'), ('implementers', 'NNS'), ('forum', 'VBP'), ('announced', 'VBD'), ('the', 'DT'), ('completion', 'NN'), ('of', 'IN'), ('the', 'DT'), ('technical', 'JJ'), ('specification', 'NN'), ('tuesday', 'NN'), (',', ','), ('a', 'DT'), ('move', 'NN'), ('that', 'WDT'), ('frees', 'VBZ'), ('hardware', 'NN'), ('and', 'CC'), ('software', 'NN'), ('engineers', 'NNS'), ('to', 'TO'), ('get', 'VB'), ('cracking', 'VBG'), ('building', 'VBG'), ('the', 'DT'), ('actual', 'JJ'), ('products', 'NNS'), ('to', 'TO'), ('support', 'VB'), ('it', 'PRP'), ('.', '.'), ('today', 'NN'), (\"'s\", 'POS'), ('usb', 'JJ'), ('3.2', 'CD'), (',', ','), ('which', 'WDT'), ('enables', 'VBZ'), ('data', 'NNS'), ('transfer', 'NN'), ('speeds', 'VBZ'), ('up', 'RP'), ('to', 'TO'), ('20', 'CD'), ('gigabits', 'NNS'), ('per', 'IN'), ('second', 'NN'), (',', ','), ('is', 'VBZ'), ('still', 'RB'), ('something', 'NN'), ('of', 'IN'), ('a', 'DT'), ('rarity', 'NN'), (';', ':'), ('most', 'JJS'), ('of', 'IN'), ('us', 'PRP'), ('have', 'VBP'), ('earlier', 'JJR'), ('versions', 'NNS'), ('of', 'IN'), ('the', 'DT'), ('technology', 'NN'), ('that', 'WDT'), ('works', 'VBZ'), ('at', 'IN'), ('5gbps', 'CD'), ('or', 'CC'), ('10gbps', 'CD'), ('.', '.'), ('usb4', 'JJ'), ('promises', 'VBZ'), ('a', 'DT'), ('speed', 'NN'), ('boost', 'NN'), ('to', 'TO'), ('40gbps', 'CD'), (',', ','), ('helpful', 'NN'), ('for', 'IN'), ('things', 'NNS'), ('like', 'IN'), ('using', 'VBG'), ('multiple', 'JJ'), ('external', 'JJ'), ('displays', 'NNS'), ('or', 'CC'), ('fetching', 'VBG'), ('files', 'NNS'), ('from', 'IN'), ('external', 'JJ'), ('hard', 'JJ'), ('drives', 'NNS'), ('.', '.')]\n"
          ]
        },
        {
          "output_type": "stream",
          "name": "stderr",
          "text": [
            "[nltk_data] Downloading package averaged_perceptron_tagger to\n",
            "[nltk_data]     /root/nltk_data...\n",
            "[nltk_data]   Package averaged_perceptron_tagger is already up-to-\n",
            "[nltk_data]       date!\n"
          ]
        }
      ],
      "source": [
        "# attach parts of speech - for words in each sentence \n",
        "from nltk import pos_tag\n",
        "download('averaged_perceptron_tagger')\n",
        "\n",
        "sents = sent_tokenize(text2.lower())\n",
        "words_pos = []\n",
        "for s in sents: # for each sentence\n",
        "  words_s = word_tokenize(s)\n",
        "  pos_sents = pos_tag(words_s) # extract parts of speech\n",
        "  print(pos_sents)\n",
        "  words_pos.extend(pos_sents) # different than append \n",
        "print(words_pos)"
      ]
    },
    {
      "cell_type": "code",
      "execution_count": 40,
      "metadata": {
        "tags": [],
        "id": "Ey3AhMaOwtgH",
        "outputId": "8431ff65-eb7b-467c-e6ba-ca87152b22f7",
        "colab": {
          "base_uri": "https://localhost:8080/"
        }
      },
      "outputs": [
        {
          "output_type": "stream",
          "name": "stdout",
          "text": [
            "# noun/verbs/adverbs/adj 84\n",
            "[('usb4', 'n'), ('is', 'v'), ('done', 'v'), ('group', 'n'), ('developing', 'v'), ('next', 'j'), ('version', 'n'), ('immensely', 'r'), ('successful', 'j'), ('usb', 'j'), ('connector', 'n'), ('technology', 'n'), ('said', 'v'), ('tuesday', 'n'), ('usb4', 'j'), ('doubles', 'n'), ('speeds', 'n'), ('compared', 'v'), ('today', 'n'), ('fastest', 'j'), ('usb', 'j'), ('incorporating', 'v'), ('intel', 'n'), ('speedy', 'j'), ('thunderbolt', 'n'), ('technology', 'n'), ('already', 'r'), ('see', 'v'), ('high-end', 'j'), ('laptops', 'n'), ('peripherals', 'n'), ('usb', 'j'), ('implementers', 'n'), ('forum', 'v'), ('announced', 'v'), ('completion', 'n'), ('technical', 'j'), ('specification', 'n'), ('tuesday', 'n'), ('move', 'n'), ('frees', 'v'), ('hardware', 'n'), ('software', 'n'), ('engineers', 'n'), ('get', 'v'), ('cracking', 'v'), ('building', 'v'), ('actual', 'j'), ('products', 'n'), ('support', 'v'), ('today', 'n'), ('usb', 'j'), ('enables', 'v'), ('data', 'n'), ('transfer', 'n'), ('speeds', 'v'), ('up', 'r'), ('gigabits', 'n'), ('second', 'n'), ('is', 'v'), ('still', 'r'), ('something', 'n'), ('rarity', 'n'), ('most', 'j'), ('have', 'v'), ('earlier', 'j'), ('versions', 'n'), ('technology', 'n'), ('works', 'v'), ('usb4', 'j'), ('promises', 'v'), ('speed', 'n'), ('boost', 'n'), ('helpful', 'n'), ('things', 'n'), ('using', 'v'), ('multiple', 'j'), ('external', 'j'), ('displays', 'n'), ('fetching', 'v'), ('files', 'n'), ('external', 'j'), ('hard', 'j'), ('drives', 'n')]\n"
          ]
        }
      ],
      "source": [
        "# eliminate all words that are not nouns, verbs, adj or adverbs\n",
        "string_keep = 'NVRJ' # N = nouns, \n",
        "words_nvrj = [(w,pos[0].lower()) for (w,pos) in words_pos if pos[0] in string_keep]\n",
        "print('# noun/verbs/adverbs/adj', len(words_nvrj))\n",
        "print(words_nvrj)\n"
      ]
    },
    {
      "cell_type": "code",
      "source": [
        "# show stemming - cuts parts of words that vary with part of speech or tense (Verb)\n",
        "from nltk.stem import *\n",
        "stemmer = PorterStemmer()\n",
        "#non_stemmed_words = [w for (w,pos) in words_nvrj]\n",
        "stemmed_words = [(w, stemmer.stem(w)) for (w,pos) in words_nvrj]\n",
        "#print(non_stemmed_words)\n",
        "print(stemmed_words)"
      ],
      "metadata": {
        "id": "Dv1lQYJgB3gD",
        "colab": {
          "base_uri": "https://localhost:8080/"
        },
        "outputId": "2e3137a7-3499-450b-a0d6-1582c789df35"
      },
      "execution_count": 41,
      "outputs": [
        {
          "output_type": "stream",
          "name": "stdout",
          "text": [
            "[('usb4', 'usb4'), ('is', 'is'), ('done', 'done'), ('group', 'group'), ('developing', 'develop'), ('next', 'next'), ('version', 'version'), ('immensely', 'immens'), ('successful', 'success'), ('usb', 'usb'), ('connector', 'connector'), ('technology', 'technolog'), ('said', 'said'), ('tuesday', 'tuesday'), ('usb4', 'usb4'), ('doubles', 'doubl'), ('speeds', 'speed'), ('compared', 'compar'), ('today', 'today'), ('fastest', 'fastest'), ('usb', 'usb'), ('incorporating', 'incorpor'), ('intel', 'intel'), ('speedy', 'speedi'), ('thunderbolt', 'thunderbolt'), ('technology', 'technolog'), ('already', 'alreadi'), ('see', 'see'), ('high-end', 'high-end'), ('laptops', 'laptop'), ('peripherals', 'peripher'), ('usb', 'usb'), ('implementers', 'implement'), ('forum', 'forum'), ('announced', 'announc'), ('completion', 'complet'), ('technical', 'technic'), ('specification', 'specif'), ('tuesday', 'tuesday'), ('move', 'move'), ('frees', 'free'), ('hardware', 'hardwar'), ('software', 'softwar'), ('engineers', 'engin'), ('get', 'get'), ('cracking', 'crack'), ('building', 'build'), ('actual', 'actual'), ('products', 'product'), ('support', 'support'), ('today', 'today'), ('usb', 'usb'), ('enables', 'enabl'), ('data', 'data'), ('transfer', 'transfer'), ('speeds', 'speed'), ('up', 'up'), ('gigabits', 'gigabit'), ('second', 'second'), ('is', 'is'), ('still', 'still'), ('something', 'someth'), ('rarity', 'rariti'), ('most', 'most'), ('have', 'have'), ('earlier', 'earlier'), ('versions', 'version'), ('technology', 'technolog'), ('works', 'work'), ('usb4', 'usb4'), ('promises', 'promis'), ('speed', 'speed'), ('boost', 'boost'), ('helpful', 'help'), ('things', 'thing'), ('using', 'use'), ('multiple', 'multipl'), ('external', 'extern'), ('displays', 'display'), ('fetching', 'fetch'), ('files', 'file'), ('external', 'extern'), ('hard', 'hard'), ('drives', 'drive')]\n"
          ]
        }
      ]
    },
    {
      "cell_type": "code",
      "execution_count": 48,
      "metadata": {
        "id": "-Lo7PoaHwtgH",
        "colab": {
          "base_uri": "https://localhost:8080/"
        },
        "outputId": "317b54a0-bf2a-476c-b66f-15cbe1aab13b"
      },
      "outputs": [
        {
          "output_type": "stream",
          "name": "stderr",
          "text": [
            "[nltk_data] Downloading package wordnet to /root/nltk_data...\n",
            "[nltk_data]   Package wordnet is already up-to-date!\n",
            "[nltk_data] Downloading package omw-1.4 to /root/nltk_data...\n",
            "[nltk_data]   Package omw-1.4 is already up-to-date!\n"
          ]
        },
        {
          "output_type": "execute_result",
          "data": {
            "text/plain": [
              "['usb4',\n",
              " 'be',\n",
              " 'do',\n",
              " 'group',\n",
              " 'develop',\n",
              " 'next',\n",
              " 'version',\n",
              " 'immensely',\n",
              " 'successful',\n",
              " 'usb',\n",
              " 'connector',\n",
              " 'technology',\n",
              " 'say',\n",
              " 'tuesday',\n",
              " 'usb4',\n",
              " 'double',\n",
              " 'speed',\n",
              " 'compare',\n",
              " 'today',\n",
              " 'fast',\n",
              " 'usb',\n",
              " 'incorporate',\n",
              " 'intel',\n",
              " 'speedy',\n",
              " 'thunderbolt',\n",
              " 'technology',\n",
              " 'already',\n",
              " 'see',\n",
              " 'high-end',\n",
              " 'laptop',\n",
              " 'peripheral',\n",
              " 'usb',\n",
              " 'implementers',\n",
              " 'forum',\n",
              " 'announce',\n",
              " 'completion',\n",
              " 'technical',\n",
              " 'specification',\n",
              " 'tuesday',\n",
              " 'move',\n",
              " 'free',\n",
              " 'hardware',\n",
              " 'software',\n",
              " 'engineer',\n",
              " 'get',\n",
              " 'crack',\n",
              " 'build',\n",
              " 'actual',\n",
              " 'product',\n",
              " 'support',\n",
              " 'today',\n",
              " 'usb',\n",
              " 'enable',\n",
              " 'data',\n",
              " 'transfer',\n",
              " 'speed',\n",
              " 'up',\n",
              " 'gigabit',\n",
              " 'second',\n",
              " 'be',\n",
              " 'still',\n",
              " 'something',\n",
              " 'rarity',\n",
              " 'most',\n",
              " 'have',\n",
              " 'early',\n",
              " 'version',\n",
              " 'technology',\n",
              " 'work',\n",
              " 'usb4',\n",
              " 'promise',\n",
              " 'speed',\n",
              " 'boost',\n",
              " 'helpful',\n",
              " 'thing',\n",
              " 'use',\n",
              " 'multiple',\n",
              " 'external',\n",
              " 'display',\n",
              " 'fetch',\n",
              " 'file',\n",
              " 'external',\n",
              " 'hard',\n",
              " 'drive']"
            ]
          },
          "metadata": {},
          "execution_count": 48
        }
      ],
      "source": [
        "from nltk.classify.positivenaivebayes import PositiveNaiveBayesClassifier\n",
        "# show lemmatization \n",
        "download('wordnet')\n",
        "download('omw-1.4')\n",
        "lemmatizer = WordNetLemmatizer()\n",
        "# this uses n = nouns, v = verbs, a = adjectives,r = adverbs \n",
        "w_lemm = []\n",
        "for (w,pos) in words_nvrj:\n",
        "  if pos == 'j':\n",
        "    pos = 'a'\n",
        "  #w_lemm.append((w,lemmatizer.lemmatize(w,pos)))\n",
        "  w_lemm.append(lemmatizer.lemmatize(w,pos))\n",
        "\n",
        "w_lemm\n",
        "  "
      ]
    },
    {
      "cell_type": "code",
      "source": [
        "# count the frequency of all items in a list\n",
        "# input = list\n",
        "# output = a sorted dictionary by frequency frmo the largest to\n",
        "# the smallest\n",
        "def counter(items):\n",
        "  sort_items = sorted(items)\n",
        "  count_items = {}\n",
        "  for item in sort_items:\n",
        "    if item in count_items.keys():\n",
        "      count_items[item] += 1\n",
        "    else:\n",
        "      count_items[item] = 1\n",
        "  \n",
        "  # sort by the count, in reverse order\n",
        "  sorted_count_list = sorted(count_items.items(), \n",
        "                            key = lambda x:x[1], reverse = True)\n",
        "  sorted_count_dict = dict(sorted_count_list)\n",
        "  return sorted_count_dict "
      ],
      "metadata": {
        "id": "aCcAvvhq3O8m"
      },
      "execution_count": 55,
      "outputs": []
    },
    {
      "cell_type": "code",
      "source": [
        "count_tokens = counter(w_lemm)\n",
        "count_tokens"
      ],
      "metadata": {
        "colab": {
          "base_uri": "https://localhost:8080/"
        },
        "id": "hgA_07XF4kHX",
        "outputId": "77376a6e-b81a-4c5a-bdae-5c6296ba2051"
      },
      "execution_count": 56,
      "outputs": [
        {
          "output_type": "execute_result",
          "data": {
            "text/plain": [
              "{'usb': 4,\n",
              " 'speed': 3,\n",
              " 'technology': 3,\n",
              " 'usb4': 3,\n",
              " 'be': 2,\n",
              " 'external': 2,\n",
              " 'today': 2,\n",
              " 'tuesday': 2,\n",
              " 'version': 2,\n",
              " 'actual': 1,\n",
              " 'already': 1,\n",
              " 'announce': 1,\n",
              " 'boost': 1,\n",
              " 'build': 1,\n",
              " 'compare': 1,\n",
              " 'completion': 1,\n",
              " 'connector': 1,\n",
              " 'crack': 1,\n",
              " 'data': 1,\n",
              " 'develop': 1,\n",
              " 'display': 1,\n",
              " 'do': 1,\n",
              " 'double': 1,\n",
              " 'drive': 1,\n",
              " 'early': 1,\n",
              " 'enable': 1,\n",
              " 'engineer': 1,\n",
              " 'fast': 1,\n",
              " 'fetch': 1,\n",
              " 'file': 1,\n",
              " 'forum': 1,\n",
              " 'free': 1,\n",
              " 'get': 1,\n",
              " 'gigabit': 1,\n",
              " 'group': 1,\n",
              " 'hard': 1,\n",
              " 'hardware': 1,\n",
              " 'have': 1,\n",
              " 'helpful': 1,\n",
              " 'high-end': 1,\n",
              " 'immensely': 1,\n",
              " 'implementers': 1,\n",
              " 'incorporate': 1,\n",
              " 'intel': 1,\n",
              " 'laptop': 1,\n",
              " 'most': 1,\n",
              " 'move': 1,\n",
              " 'multiple': 1,\n",
              " 'next': 1,\n",
              " 'peripheral': 1,\n",
              " 'product': 1,\n",
              " 'promise': 1,\n",
              " 'rarity': 1,\n",
              " 'say': 1,\n",
              " 'second': 1,\n",
              " 'see': 1,\n",
              " 'software': 1,\n",
              " 'something': 1,\n",
              " 'specification': 1,\n",
              " 'speedy': 1,\n",
              " 'still': 1,\n",
              " 'successful': 1,\n",
              " 'support': 1,\n",
              " 'technical': 1,\n",
              " 'thing': 1,\n",
              " 'thunderbolt': 1,\n",
              " 'transfer': 1,\n",
              " 'up': 1,\n",
              " 'use': 1,\n",
              " 'work': 1}"
            ]
          },
          "metadata": {},
          "execution_count": 56
        }
      ]
    }
  ],
  "metadata": {
    "kernelspec": {
      "display_name": "Python 3",
      "language": "python",
      "name": "python3"
    },
    "language_info": {
      "codemirror_mode": {
        "name": "ipython",
        "version": 3
      },
      "file_extension": ".py",
      "mimetype": "text/x-python",
      "name": "python",
      "nbconvert_exporter": "python",
      "pygments_lexer": "ipython3",
      "version": "3.7.3-final"
    },
    "colab": {
      "provenance": [],
      "collapsed_sections": [],
      "include_colab_link": true
    }
  },
  "nbformat": 4,
  "nbformat_minor": 0
}