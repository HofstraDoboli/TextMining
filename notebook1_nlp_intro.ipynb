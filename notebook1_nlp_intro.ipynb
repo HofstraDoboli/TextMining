{
 "cells": [
  {
   "cell_type": "code",
   "execution_count": 3,
   "metadata": {
    "tags": []
   },
   "outputs": [
    {
     "output_type": "stream",
     "name": "stdout",
     "text": "['\"Why didn\\'t she text me back yet?', 'She doesn\\'t like me anymore!\"', \"There's no way I'm trying out for the team.\"] 3\n"
    }
   ],
   "source": [
    "from nltk import sent_tokenize\n",
    "text1 = '''\"Why didn't she text me back yet? She doesn't like me anymore!\" There's no way I'm trying out for the team.'''\n",
    "\n",
    "sentences = sent_tokenize(text1)\n",
    "\n",
    "print(sentences, len(sentences))"
   ]
  },
  {
   "cell_type": "code",
   "execution_count": 33,
   "metadata": {
    "tags": []
   },
   "outputs": [
    {
     "output_type": "stream",
     "name": "stdout",
     "text": "['', 'Why', 'didn', 't', 'she', 'text', 'me', 'back', 'yet', '', 'She', 'doesn', 't', 'like', 'me', 'anymore', '', '', 'There', 's', 'no', 'way', 'I', 'm', 'trying', 'out', 'for', 'the', 'team', '']\n"
    }
   ],
   "source": [
    "import re\n",
    "words = re.split(r'[.,!? \"\\']', text1)\n",
    "print(words)"
   ]
  },
  {
   "cell_type": "code",
   "execution_count": 5,
   "metadata": {},
   "outputs": [
    {
     "output_type": "execute_result",
     "data": {
      "text/plain": "['USB4 is done, the group developing the next version of the immensely successful USB connector technology said Tuesday.',\n \"USB4 doubles speeds compared to today's fastest USB 3.2 by incorporating Intel's speedy Thunderbolt technology that you already see on high-end laptops and peripherals.\",\n 'The USB Implementers Forum announced the completion of the technical specification Tuesday, a move that frees hardware and software engineers to get cracking building the actual products to support it.',\n \"Today's USB 3.2, which enables data transfer speeds up to 20 gigabits per second, is still something of a rarity; most of us have earlier versions of the technology that works at 5Gbps or 10Gbps.\",\n 'USB4 promises a speed boost to 40Gbps, helpful for things like using multiple external displays or fetching files from external hard drives.']"
     },
     "metadata": {},
     "execution_count": 5
    }
   ],
   "source": [
    "text2 = '''USB4 is done, the group developing the next version of the immensely successful USB connector technology said Tuesday. USB4 doubles speeds compared to today's fastest USB 3.2 by incorporating Intel's speedy Thunderbolt technology that you already see on high-end laptops and peripherals. The USB Implementers Forum announced the completion of the technical specification Tuesday, a move that frees hardware and software engineers to get cracking building the actual products to support it.\n",
    "\n",
    "Today's USB 3.2, which enables data transfer speeds up to 20 gigabits per second, is still something of a rarity; most of us have earlier versions of the technology that works at 5Gbps or 10Gbps. USB4 promises a speed boost to 40Gbps, helpful for things like using multiple external displays or fetching files from external hard drives.'''\n",
    "sents = sent_tokenize(text2)\n",
    "sents"
   ]
  },
  {
   "cell_type": "code",
   "execution_count": 6,
   "metadata": {
    "tags": []
   },
   "outputs": [
    {
     "output_type": "stream",
     "name": "stdout",
     "text": "['``', 'Why', 'did', \"n't\", 'she', 'text', 'me', 'back', 'yet', '?', 'She', 'does', \"n't\", 'like', 'me', 'anymore', '!', \"''\", 'There', \"'s\", 'no', 'way', 'I', \"'m\", 'trying', 'out', 'for', 'the', 'team', '.']\n"
    }
   ],
   "source": [
    "from nltk import word_tokenize\n",
    "words = word_tokenize(text1)\n",
    "print(words)"
   ]
  },
  {
   "cell_type": "code",
   "execution_count": 8,
   "metadata": {
    "tags": []
   },
   "outputs": [
    {
     "output_type": "stream",
     "name": "stdout",
     "text": "!\"#$%&'()*+,-./:;<=>?@[\\]^_`{|}~\n"
    },
    {
     "output_type": "execute_result",
     "data": {
      "text/plain": "['Why',\n 'did',\n \"n't\",\n 'she',\n 'text',\n 'me',\n 'back',\n 'yet',\n 'She',\n 'does',\n \"n't\",\n 'like',\n 'me',\n 'anymore',\n 'There',\n 'no',\n 'way',\n 'I',\n 'trying',\n 'out',\n 'for',\n 'the',\n 'team']"
     },
     "metadata": {},
     "execution_count": 8
    }
   ],
   "source": [
    "from string import punctuation\n",
    "print(punctuation)\n",
    "\n",
    "words_no_punkt = [w for w in words if w[0] not in punctuation] # list comprehension\n",
    "'''l = []\n",
    "for w in words:\n",
    "    if w[0] not in punctuation:\n",
    "        l.append(w)'''\n",
    "words_no_punkt"
   ]
  },
  {
   "cell_type": "code",
   "execution_count": 23,
   "metadata": {
    "tags": []
   },
   "outputs": [
    {
     "output_type": "stream",
     "name": "stdout",
     "text": "['why', 'did', \"n't\", 'she', 'text', 'me', 'back', 'yet', 'she', 'does', \"n't\", 'like', 'me', 'anymore', 'there', 'no', 'way', 'i', 'trying', 'out', 'for', 'the', 'team']\n"
    }
   ],
   "source": [
    "# lower case all words\n",
    "words_lower = [w.lower() for w in words_no_punkt]\n",
    "print(words_lower)"
   ]
  },
  {
   "cell_type": "markdown",
   "metadata": {
    "tags": []
   },
   "source": [
    "\n",
    "#from nltk.corpus import stopwords\n",
    "#import nltk\n",
    "#nltk.download('stopwords')\n",
    "from nltk.corpus import stopwords\n",
    "print(stopwords.words(\"english\"))\n",
    "#words_no_stop = [w for w in words_lower if w not in stopwords.words(\"english\")]\n",
    "#print(words_lower)\n",
    "#print(words_no_stop)"
   ]
  },
  {
   "cell_type": "code",
   "execution_count": 27,
   "metadata": {
    "tags": []
   },
   "outputs": [
    {
     "output_type": "stream",
     "name": "stdout",
     "text": "[('why', 'WRB'), ('did', 'VBD'), (\"n't\", 'RB'), ('she', 'PRP'), ('text', 'VB'), ('me', 'PRP'), ('back', 'RP'), ('yet', 'RB'), ('she', 'PRP'), ('does', 'VBZ'), (\"n't\", 'RB'), ('like', 'VB'), ('me', 'PRP'), ('anymore', 'RB'), ('there', 'EX'), ('no', 'DT'), ('way', 'NN'), ('i', 'VB'), ('trying', 'VBG'), ('out', 'RP'), ('for', 'IN'), ('the', 'DT'), ('team', 'NN')]\n"
    }
   ],
   "source": [
    "# attach parts of speech\n",
    "from nltk import pos_tag\n",
    "words_pos = pos_tag(words_lower)\n",
    "print(words_pos)"
   ]
  },
  {
   "cell_type": "code",
   "execution_count": 29,
   "metadata": {
    "tags": []
   },
   "outputs": [
    {
     "output_type": "stream",
     "name": "stdout",
     "text": "['did', \"n't\", 'text', 'back', 'yet', 'does', \"n't\", 'like', 'anymore', 'way', 'i', 'trying', 'out', 'team']\n"
    }
   ],
   "source": [
    "# eliminate all words that are not nouns, verbs, adj or adverbs\n",
    "string_keep = 'NVRJ'\n",
    "words_nvrj = [w for (w,pos) in words_pos if pos[0] in string_keep]\n",
    "print(words_nvrj)\n"
   ]
  },
  {
   "cell_type": "code",
   "execution_count": null,
   "metadata": {},
   "outputs": [],
   "source": []
  }
 ],
 "metadata": {
  "kernelspec": {
   "display_name": "Python 3",
   "language": "python",
   "name": "python3"
  },
  "language_info": {
   "codemirror_mode": {
    "name": "ipython",
    "version": 3
   },
   "file_extension": ".py",
   "mimetype": "text/x-python",
   "name": "python",
   "nbconvert_exporter": "python",
   "pygments_lexer": "ipython3",
   "version": "3.7.3-final"
  }
 },
 "nbformat": 4,
 "nbformat_minor": 2
}