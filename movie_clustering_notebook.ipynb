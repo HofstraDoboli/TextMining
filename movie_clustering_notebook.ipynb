{
  "cells": [
    {
      "cell_type": "markdown",
      "metadata": {
        "id": "view-in-github",
        "colab_type": "text"
      },
      "source": [
        "<a href=\"https://colab.research.google.com/github/HofstraDoboli/TextMining_F22/blob/main/movie_clustering_notebook.ipynb\" target=\"_parent\"><img src=\"https://colab.research.google.com/assets/colab-badge.svg\" alt=\"Open In Colab\"/></a>"
      ]
    },
    {
      "cell_type": "code",
      "execution_count": null,
      "metadata": {
        "id": "eRI0nq-kXuDi",
        "outputId": "be79f298-eeee-4b33-cb8b-e321e22c9801"
      },
      "outputs": [
        {
          "name": "stdout",
          "output_type": "stream",
          "text": [
            "Index(['Release Year', 'Title', 'Origin/Ethnicity', 'Director', 'Cast',\n",
            "       'Genre', 'Wiki Page', 'Plot'],\n",
            "      dtype='object')\n",
            "(34886, 8)\n"
          ]
        }
      ],
      "source": [
        "import pandas as pd\n",
        "from sklearn.feature_extraction.text import TfidfTransformer\n",
        "from sklearn.feature_extraction.text import CountVectorizer\n",
        "import os\n",
        "from sklearn.cluster import MiniBatchKMeans\n",
        "from sklearn.cluster import KMeans\n",
        "from sklearn import metrics \n",
        "\n",
        "dir_file = os.getcwd() # returns path to current directory\n",
        "files_dir = os.listdir(dir_file)  # list of files in current directory\n",
        "\n",
        "csv_files = [f for f in files_dir if f.endswith('csv')]\n",
        "movie_file = csv_files[0]\n",
        "\n",
        "fid = open(movie_file)\n",
        "movie_df = pd.read_csv(movie_file)\n",
        "print(movie_df.columns)  # the columns\n",
        "print(movie_df.shape)"
      ]
    },
    {
      "cell_type": "code",
      "execution_count": null,
      "metadata": {
        "id": "f7_oLSiOXuDm",
        "outputId": "ece42aab-d371-4792-afd8-f52ebda05aea"
      },
      "outputs": [
        {
          "name": "stdout",
          "output_type": "stream",
          "text": [
            "['western', 'thriller']\n",
            "[('unknown', 6083), ('drama', 5964), ('comedy', 4379), ('horror', 1167), ('action', 1098), ('thriller', 966), ('romance', 923), ('western', 865), ('crime', 568), ('adventure', 526), ('musical', 467), ('crime drama', 464), ('romantic comedy', 461), ('science fiction', 418), ('film noir', 345), ('mystery', 310), ('war', 273), ('animation', 264), ('comedy, drama', 236), ('sci-fi', 221)]\n",
            "(34886,)\n",
            "(1831, 8)\n"
          ]
        }
      ],
      "source": [
        "# extract only the top 20 topics\n",
        "from collections import Counter \n",
        "\n",
        "genres_dict = Counter(movie_df['Genre'])  \n",
        "choose_genres = ['western', 'thriller']\n",
        "nr_genres = len(choose_genres)\n",
        "most_common_genres = [t[0] for t in genres_dict.items() if t[0] in choose_genres]\n",
        "#most_common_genres = [t[0] for t in genres_dict.most_common(3) if t[0] != 'unknown']\n",
        "print(most_common_genres)\n",
        "print(genres_dict.most_common(20))\n",
        "\n",
        "# filter movies based non genres\n",
        "nr_genres = 2\n",
        "index_movies_top_20 = movie_df['Genre'].isin(most_common_genres)   # returns a bool index\n",
        "print(index_movies_top_20.shape)\n",
        "selected_movies = movie_df[index_movies_top_20]\n",
        "print(selected_movies.shape)"
      ]
    },
    {
      "cell_type": "code",
      "execution_count": null,
      "metadata": {
        "id": "s0kFuVlbXuDn",
        "outputId": "ce8340c5-ded2-45d4-bc74-b8cd0526c27e"
      },
      "outputs": [
        {
          "name": "stdout",
          "output_type": "stream",
          "text": [
            "1000\n"
          ]
        }
      ],
      "source": [
        "vect = CountVectorizer(stop_words = 'english',lowercase = True, max_features = 1000) # ? why 50 \n",
        "\n",
        "counter = vect.fit_transform(selected_movies['Plot'])\n",
        "transf  = TfidfTransformer(norm = 'l2', sublinear_tf = True) \n",
        "# TfidfTransformer takes the CountVectorizer output and computes the tf-idf\n",
        "tf_idf = transf.fit_transform(counter)  # matrix representation of each movie as a tf-idf vector\n",
        "\n",
        "print(len(vect.get_feature_names()))"
      ]
    },
    {
      "cell_type": "code",
      "execution_count": null,
      "metadata": {
        "id": "zrLXlKelXuDo",
        "outputId": "ed17d463-eab0-4b81-ca2d-00834e1364f7"
      },
      "outputs": [
        {
          "name": "stdout",
          "output_type": "stream",
          "text": [
            "\n",
            "Silhouette Coefficient: 0.022\n"
          ]
        }
      ],
      "source": [
        "k_clusters = 2\n",
        "model = MiniBatchKMeans(n_clusters=k_clusters, init='k-means++', max_iter=100, batch_size=5000, \n",
        "                        n_init = 10, verbose = 0)\n",
        "model.fit(tf_idf)\n",
        "print(\"\\nSilhouette Coefficient: %0.3f\" %metrics.silhouette_score(tf_idf, model.labels_, metric = \"cosine\"))"
      ]
    },
    {
      "cell_type": "code",
      "execution_count": null,
      "metadata": {
        "id": "iZLtpjh8XuDo",
        "outputId": "b5d4e445-6daf-417f-9bdb-0d0e5fc46cbc"
      },
      "outputs": [
        {
          "name": "stdout",
          "output_type": "stream",
          "text": [
            "Top terms per cluster:\n",
            "Cluster 0:\n",
            " police\n",
            " house\n",
            " finds\n",
            " wife\n",
            " man\n",
            " life\n",
            " later\n",
            " murder\n",
            " home\n",
            " tells\n",
            "Cluster 1:\n",
            " town\n",
            " men\n",
            " gang\n",
            " ranch\n",
            " sheriff\n",
            " war\n",
            " man\n",
            " john\n",
            " cattle\n",
            " killed\n"
          ]
        }
      ],
      "source": [
        "print(\"Top terms per cluster:\")\n",
        "order_centroids = model.cluster_centers_.argsort()[:, ::-1]  # sort and reverse\n",
        "terms = vect.get_feature_names()\n",
        "\n",
        "for i in range(k_clusters):\n",
        "    print(\"Cluster %d:\" % i),\n",
        "    for ind in order_centroids[i, :10]:  # print first ten terms from the cluster\n",
        "        print(' %s' % terms[ind]),\n",
        "    print"
      ]
    },
    {
      "cell_type": "code",
      "execution_count": null,
      "metadata": {
        "id": "z94oUe9FXuDq",
        "outputId": "92a3c628-2189-4417-cce4-6607411d20cd"
      },
      "outputs": [
        {
          "name": "stdout",
          "output_type": "stream",
          "text": [
            "Homogeneity: 0.637\n",
            "Completeness: 0.635\n",
            "V-measure: 0.636\n",
            "Adjusted Rand-Index: 0.727\n"
          ]
        }
      ],
      "source": [
        "# compute homogeneity with genre labels\n",
        "\n",
        "# get genre for the selected movies\n",
        "genre = selected_movies.Genre.copy()\n",
        "genre = pd.Categorical(genre)\n",
        "# labels_genre = genre.codes\n",
        "# print(type(labels_genre), labels_genre.shape)\n",
        "\n",
        "print(\"Homogeneity: %0.3f\"  % metrics.homogeneity_score(genre, model.labels_))\n",
        "print(\"Completeness: %0.3f\" % metrics.completeness_score(genre, model.labels_))\n",
        "print(\"V-measure: %0.3f\"    % metrics.v_measure_score(genre, model.labels_))\n",
        "print(\"Adjusted Rand-Index: %.3f\" % metrics.adjusted_rand_score(genre, model.labels_))"
      ]
    },
    {
      "cell_type": "code",
      "execution_count": null,
      "metadata": {
        "id": "Ak_NAKXNXuDr",
        "outputId": "adc01787-31e0-4c01-e38f-7bea50b89785"
      },
      "outputs": [
        {
          "name": "stdout",
          "output_type": "stream",
          "text": [
            "0 Counter({'thriller': 861, 'western': 30})\n",
            "1 Counter({'western': 835, 'thriller': 105})\n",
            "0.9262697979246314\n"
          ]
        }
      ],
      "source": [
        "# compute purity \n",
        "# in each cluster - find # of dramas/ # commedies \n",
        "# choose the max in each cluster = purity per cluster\n",
        "# sum purity in each cluster/# number of movies\n",
        "import numpy as np\n",
        "\n",
        "#print(genre.shape, index_cluster1.shape, index_cluster2.shape)\n",
        "purity = np.zeros((k_clusters,1))\n",
        "for c in range(k_clusters):\n",
        "    # extract labeks of each genre and count them\n",
        "    index_cluster = model.labels_ == c;\n",
        "    count_genre = Counter(genre[index_cluster])\n",
        "    print(c, count_genre)\n",
        "    purity[c] = max(count_genre.values())\n",
        "\n",
        "total_purity = np.sum(purity)/len(genre)\n",
        "print(total_purity)"
      ]
    },
    {
      "cell_type": "code",
      "execution_count": null,
      "metadata": {
        "id": "cWlzd3k6XuDs",
        "outputId": "5f61ee8e-4792-4393-d450-e23f58763c10"
      },
      "outputs": [
        {
          "name": "stdout",
          "output_type": "stream",
          "text": [
            "[(0, 861), (1, 105)]\n",
            "[(1, 835), (0, 30)]\n"
          ]
        }
      ],
      "source": [
        "# check some data points\n",
        "\n",
        "# find index for drama movies\n",
        "index_drama =  selected_movies['Genre'].isin(['thriller'])\n",
        "index_comedy = selected_movies['Genre'].isin(['western'])\n",
        "\n",
        "print(sorted(Counter(model.labels_[index_drama]).items(),key = \n",
        "             lambda kv:(kv[1], kv[0]), reverse =True))\n",
        "print(sorted(Counter(model.labels_[index_comedy]).items(),key = \n",
        "             lambda kv:(kv[1], kv[0]), reverse =True))\n"
      ]
    },
    {
      "cell_type": "code",
      "execution_count": null,
      "metadata": {
        "id": "PY-EIDb3XuDs",
        "outputId": "4696f1d6-c169-4630-d2c2-9e00c7f257f2"
      },
      "outputs": [
        {
          "data": {
            "text/plain": [
              "array([25, 12, 28, ..., 20,  6,  6], dtype=int32)"
            ]
          },
          "execution_count": 73,
          "metadata": {},
          "output_type": "execute_result"
        }
      ],
      "source": [
        "model.labels_[index_drama]"
      ]
    },
    {
      "cell_type": "code",
      "execution_count": null,
      "metadata": {
        "id": "QI3ya-ZkXuDt",
        "outputId": "a9414ccf-3468-480f-cb0e-efbce66cf27e"
      },
      "outputs": [
        {
          "name": "stdout",
          "output_type": "stream",
          "text": [
            "(1831, 100)\n"
          ]
        }
      ],
      "source": [
        "# project Tfidf model onto singular value decomposition - LSI transform and then do clustering\n",
        "from sklearn.decomposition import TruncatedSVD\n",
        "\n",
        "dim = 100\n",
        "svd = TruncatedSVD(n_components=dim, n_iter = 10)\n",
        "\n",
        "lsi = svd.fit_transform(tf_idf)\n",
        "print(lsi.shape)"
      ]
    },
    {
      "cell_type": "code",
      "execution_count": null,
      "metadata": {
        "id": "xWTb9rvjXuDu",
        "outputId": "df00cb2c-5e9a-4b5a-d599-0dc8e4d70dea"
      },
      "outputs": [
        {
          "name": "stdout",
          "output_type": "stream",
          "text": [
            "Sum of explained variance ratio: 32%\n",
            "[11.37668659  4.99886657  3.89349417  3.31033615  3.19558691  3.09193352\n",
            "  3.00330526  2.83227131  2.81027512  2.73065076  2.70626273  2.66013061\n",
            "  2.65617477  2.62511866  2.59663756  2.59053353  2.57336299  2.54722217\n",
            "  2.51866679  2.49960796]\n"
          ]
        }
      ],
      "source": [
        "# check singular values\n",
        "\n",
        "explained_variance = svd.explained_variance_ratio_.sum()\n",
        "print(\"Sum of explained variance ratio: %d%%\" % (int(explained_variance * 100)))\n",
        "\n",
        "print(svd.singular_values_[:min(dim,20)])  "
      ]
    },
    {
      "cell_type": "code",
      "execution_count": null,
      "metadata": {
        "id": "TbwHyAr4XuDu",
        "outputId": "d33a03c1-6e82-4375-b1a1-7e2f2d01c5c0"
      },
      "outputs": [
        {
          "name": "stdout",
          "output_type": "stream",
          "text": [
            "\n",
            "Silhouette Coefficient: 0.018\n"
          ]
        }
      ],
      "source": [
        "k_clusters = 2\n",
        "#model_lsi = MiniBatchKMeans(n_clusters=k_clusters, init='k-means++', max_iter=200, batch_size=5000, \n",
        "#                       n_init = 10)\n",
        "model_lsi = KMeans(n_clusters=k_clusters, init='k-means++', max_iter=200,  \n",
        "                        n_init = 50)\n",
        "model_lsi.fit(lsi)\n",
        "print(\"\\nSilhouette Coefficient: %0.3f\" %metrics.silhouette_score(tf_idf, model_lsi.labels_, metric = \"cosine\"))"
      ]
    },
    {
      "cell_type": "code",
      "execution_count": null,
      "metadata": {
        "id": "PAbdIrwcXuDu",
        "outputId": "ceb10e33-6fb2-4556-b9ca-ebc9250ab47c"
      },
      "outputs": [
        {
          "name": "stdout",
          "output_type": "stream",
          "text": [
            "Homogeneity: 0.418\n",
            "Completeness: 0.431\n",
            "V-measure: 0.424\n",
            "Adjusted Rand-Index: 0.455\n"
          ]
        }
      ],
      "source": [
        "# compute homogeneity with genre labels\n",
        "\n",
        "# get genre for the selected movies\n",
        "genre = selected_movies.Genre.copy()\n",
        "genre = pd.Categorical(genre)\n",
        "# labels_genre = genre.codes\n",
        "# print(type(labels_genre), labels_genre.shape)\n",
        "\n",
        "print(\"Homogeneity: %0.3f\"  % metrics.homogeneity_score(genre, model_lsi.labels_))\n",
        "print(\"Completeness: %0.3f\" % metrics.completeness_score(genre, model_lsi.labels_))\n",
        "print(\"V-measure: %0.3f\"    % metrics.v_measure_score(genre, model_lsi.labels_))\n",
        "print(\"Adjusted Rand-Index: %.3f\" % metrics.adjusted_rand_score(genre, model_lsi.labels_))"
      ]
    },
    {
      "cell_type": "code",
      "execution_count": null,
      "metadata": {
        "id": "sXEaifiwXuDv",
        "outputId": "8fe63d8f-57b9-4b58-f98b-cf7aaef1cc05"
      },
      "outputs": [
        {
          "name": "stdout",
          "output_type": "stream",
          "text": [
            "Top top words per cluster:\n",
            "Cluster 0\n",
            "\t police 967\n",
            "\t tells 779\n",
            "\t house 779\n",
            "\t man 771\n",
            "\t later 670\n",
            "\t finds 667\n",
            "\t home 625\n",
            "\t car 608\n",
            "\t father 585\n",
            "\t wife 552\n",
            "Cluster 1\n",
            "\t town 898\n",
            "\t men 879\n",
            "\t man 500\n",
            "\t ranch 491\n",
            "\t killed 476\n",
            "\t gang 466\n",
            "\t father 396\n",
            "\t sheriff 391\n",
            "\t gene 357\n",
            "\t john 337\n"
          ]
        }
      ],
      "source": [
        "# print top topic indices per cluster\n",
        "print(\"Top top words per cluster:\")\n",
        "terms = vect.get_feature_names()\n",
        "\n",
        "# find movies in each cluster, sum up their counts and print the top words\n",
        "for k in range(k_clusters):\n",
        "    index_movies_k = model_lsi.labels_ == k\n",
        "    count_terms_k = sum(counter[index_movies_k,:])   # sum per columns \n",
        "    order_terms = count_terms_k.toarray().argsort()[:,::-1].ravel()  # convert to a 1D array\n",
        "    print('Cluster', k)\n",
        "    \n",
        "    for t in order_terms[:10]:\n",
        "        print('\\t', terms[t], count_terms_k[0,t])\n",
        "\n",
        "#order_centroids = model_lda.cluster_centers_.argsort()[:, ::-1]  # sort and reverse\n",
        "#for i in range(k_clusters):\n",
        "#print(\"Cluster %d:\" % i),\n",
        "#    for ind in order_centroids[i, :5]:  # print first ten terms from the cluster\n",
        "#.   print(ind, model_lda.cluster_centers_[i,ind])"
      ]
    },
    {
      "cell_type": "code",
      "execution_count": null,
      "metadata": {
        "id": "P5XfY6AUXuDv",
        "outputId": "83c1795a-bb14-46d6-bab2-78aded6cc563"
      },
      "outputs": [
        {
          "name": "stdout",
          "output_type": "stream",
          "text": [
            "0 Counter({'western': 835, 'thriller': 268})\n",
            "1 Counter({'thriller': 698, 'western': 30})\n",
            "0.8372474057891862\n"
          ]
        }
      ],
      "source": [
        "# compute purity \n",
        "# in each cluster - find # of dramas/ # commedies \n",
        "# choose the max in each cluster = purity per cluster\n",
        "# sum purity in each cluster/# number of movies\n",
        "import numpy as np\n",
        "\n",
        "purity = np.zeros((k_clusters,1))\n",
        "for c in range(k_clusters):\n",
        "    # extract labeks of each genre and count them\n",
        "    index_cluster = model_lsi.labels_ == c;\n",
        "    count_genre = Counter(genre[index_cluster])\n",
        "    print(c, count_genre)\n",
        "    purity[c] = max(count_genre.values())\n",
        "\n",
        "total_purity = np.sum(purity)/len(genre)\n",
        "print(total_purity)"
      ]
    },
    {
      "cell_type": "code",
      "execution_count": null,
      "metadata": {
        "id": "r00REvdOXuDw"
      },
      "outputs": [],
      "source": [
        "# doesn't work\n",
        "#plot clusters\n",
        "#!pip install -U scikit-learn\n",
        "#!pip install -U yellowbrick\n",
        "#import sklearn.metrics._classification\n",
        "#import yellowbrick\n",
        "#from yellowbrick.text import TSNEVisualizer"
      ]
    },
    {
      "cell_type": "code",
      "execution_count": null,
      "metadata": {
        "id": "y5qfz0HfXuDw"
      },
      "outputs": [],
      "source": [
        "# plot clusters\n",
        "import seaborn as sb\n",
        "import matplotlib.pyplot as plt\n",
        "\n",
        "from sklearn.decomposition import TruncatedSVD\n",
        "pca = TruncatedSVD(n_components = 2)\n",
        "#print('explained variance')\n",
        "pca.fit(tf_idf)\n",
        "x2 = pca.transform(tf_idf)"
      ]
    },
    {
      "cell_type": "code",
      "execution_count": null,
      "metadata": {
        "id": "mjTtpW3tXuDx",
        "outputId": "837fd414-45c5-4a62-d507-f0ac65e58c4b"
      },
      "outputs": [
        {
          "name": "stdout",
          "output_type": "stream",
          "text": [
            "(1831, 2)\n"
          ]
        },
        {
          "data": {
            "text/html": [
              "<div>\n",
              "<style scoped>\n",
              "    .dataframe tbody tr th:only-of-type {\n",
              "        vertical-align: middle;\n",
              "    }\n",
              "\n",
              "    .dataframe tbody tr th {\n",
              "        vertical-align: top;\n",
              "    }\n",
              "\n",
              "    .dataframe thead th {\n",
              "        text-align: right;\n",
              "    }\n",
              "</style>\n",
              "<table border=\"1\" class=\"dataframe\">\n",
              "  <thead>\n",
              "    <tr style=\"text-align: right;\">\n",
              "      <th></th>\n",
              "      <th>x</th>\n",
              "      <th>y</th>\n",
              "      <th>label</th>\n",
              "      <th>orig_label</th>\n",
              "    </tr>\n",
              "  </thead>\n",
              "  <tbody>\n",
              "    <tr>\n",
              "      <th>0</th>\n",
              "      <td>0.209439</td>\n",
              "      <td>0.054299</td>\n",
              "      <td>1</td>\n",
              "      <td>western</td>\n",
              "    </tr>\n",
              "    <tr>\n",
              "      <th>1</th>\n",
              "      <td>0.226561</td>\n",
              "      <td>0.158017</td>\n",
              "      <td>1</td>\n",
              "      <td>western</td>\n",
              "    </tr>\n",
              "    <tr>\n",
              "      <th>2</th>\n",
              "      <td>0.128844</td>\n",
              "      <td>0.065188</td>\n",
              "      <td>1</td>\n",
              "      <td>western</td>\n",
              "    </tr>\n",
              "    <tr>\n",
              "      <th>3</th>\n",
              "      <td>0.086121</td>\n",
              "      <td>0.046000</td>\n",
              "      <td>1</td>\n",
              "      <td>western</td>\n",
              "    </tr>\n",
              "    <tr>\n",
              "      <th>4</th>\n",
              "      <td>0.253240</td>\n",
              "      <td>0.026334</td>\n",
              "      <td>1</td>\n",
              "      <td>western</td>\n",
              "    </tr>\n",
              "  </tbody>\n",
              "</table>\n",
              "</div>"
            ],
            "text/plain": [
              "          x         y  label orig_label\n",
              "0  0.209439  0.054299      1    western\n",
              "1  0.226561  0.158017      1    western\n",
              "2  0.128844  0.065188      1    western\n",
              "3  0.086121  0.046000      1    western\n",
              "4  0.253240  0.026334      1    western"
            ]
          },
          "execution_count": 22,
          "metadata": {},
          "output_type": "execute_result"
        }
      ],
      "source": [
        "print(x2.shape)\n",
        "# add labels\n",
        "data_x2 = pd.DataFrame(x2, columns = ['x','y'])\n",
        "data_x2['label'] = model.labels_\n",
        "data_x2['orig_label'] = genre\n",
        "data_x2.head()"
      ]
    },
    {
      "cell_type": "code",
      "execution_count": null,
      "metadata": {
        "id": "eE4petFnXuDx",
        "outputId": "b71f5215-881d-4b1f-cb3b-f925b8eff717"
      },
      "outputs": [
        {
          "data": {
            "text/plain": [
              "<seaborn.axisgrid.FacetGrid at 0x7fb0c88b05f8>"
            ]
          },
          "execution_count": 25,
          "metadata": {},
          "output_type": "execute_result"
        },
        {
          "data": {
            "image/png": "[encoded data removed]",
            "text/plain": [
              "<Figure size 436x360 with 1 Axes>"
            ]
          },
          "metadata": {
            "needs_background": "light"
          },
          "output_type": "display_data"
        }
      ],
      "source": [
        "sb.lmplot(data=data_x2, x='x', y='y', hue='orig_label',fit_reg=False, legend=True, legend_out=True) "
      ]
    },
    {
      "cell_type": "code",
      "execution_count": null,
      "metadata": {
        "id": "T97ucPhiXuDx",
        "outputId": "e629bfda-a1d7-4272-bae4-e05941eb79d7"
      },
      "outputs": [
        {
          "name": "stdout",
          "output_type": "stream",
          "text": [
            "[(9, 283), (5, 95), (2, 75), (8, 68), (6, 21), (4, 15), (1, 5), (0, 5), (7, 1)]\n",
            "[(9, 1689), (2, 819), (6, 696), (8, 402), (1, 214), (0, 211), (5, 168), (4, 105), (7, 73), (3, 2)]\n",
            "[(0, 2097), (9, 1822), (8, 622), (2, 490), (7, 370), (3, 247), (1, 207), (6, 115), (5, 78), (4, 35)]\n"
          ]
        }
      ],
      "source": [
        "# get terms in each cluster\n",
        "# check some data points\n",
        "import operator\n",
        "\n",
        "\n",
        "# find index for drama movies\n",
        "index_drama =  selected_movies['Genre'].isin(['crime'])\n",
        "index_comedy = selected_movies['Genre'].isin(['comedy'])\n",
        "index_unknown = selected_movies['Genre'].isin(['unknown'])\n",
        "\n",
        "count_clusters_crime  =  Counter(model_lsi.labels_[index_drama])\n",
        "count_clusters_comedy =  Counter(model_lsi.labels_[index_comedy])\n",
        "count_clusters_unknown = Counter(model_lsi.labels_[index_unknown])\n",
        "\n",
        "sort_crime = sorted(count_clusters_crime.items(), key =  lambda kv: kv[1], reverse =True)\n",
        "sort_comedy = sorted(count_clusters_comedy.items(), key =  lambda kv: kv[1], reverse =True)\n",
        "sort_unknown = sorted(count_clusters_unknown.items(), key =  lambda kv: kv[1], reverse =True)\n",
        "\n",
        "\n",
        "print(sort_crime)\n",
        "print(sort_comedy)\n",
        "print(sort_unknown)\n"
      ]
    },
    {
      "cell_type": "code",
      "execution_count": null,
      "metadata": {
        "id": "tNouSILKXuDy",
        "outputId": "60689bed-319d-497b-bfe9-44fcbd67d221"
      },
      "outputs": [
        {
          "name": "stdout",
          "output_type": "stream",
          "text": [
            "(1831, 20)\n",
            "(20, 1000)\n"
          ]
        }
      ],
      "source": [
        "# LDA with sklearn\n",
        "from sklearn.decomposition import LatentDirichletAllocation\n",
        "\n",
        "num_of_topics = 20\n",
        "lda_transf = LatentDirichletAllocation(\n",
        "            n_components = num_of_topics, max_iter= 10, \n",
        "            learning_method = 'online', batch_size = 1000)   # 'online' - faster, uses subset of data\n",
        "lda = lda_transf.fit_transform(counter)\n",
        "print(lda.shape)\n",
        "print(lda_transf.components_.shape)"
      ]
    },
    {
      "cell_type": "code",
      "execution_count": null,
      "metadata": {
        "id": "4Lj3fiteXuDy",
        "outputId": "56347bd0-32ff-4b31-a334-acc855151201"
      },
      "outputs": [
        {
          "name": "stdout",
          "output_type": "stream",
          "text": [
            "[0.00147089 0.00147095 0.00147094 0.00147108 0.2024499  0.00147083\n",
            " 0.78578252 0.00147087 0.00147105 0.00147096]\n"
          ]
        }
      ],
      "source": [
        "# get distribution of each document over the 10 topics\n",
        "print(lda[100,:])\n"
      ]
    },
    {
      "cell_type": "code",
      "execution_count": null,
      "metadata": {
        "id": "0qFaJXeKXuDy",
        "outputId": "046a957a-7170-4b2b-fe3b-e5c36c47f148"
      },
      "outputs": [
        {
          "name": "stdout",
          "output_type": "stream",
          "text": [
            "Topic 0:\n",
            "['helen', 'dr', 'kid', 'clay', 'anna', 'john', 'william', 'ward', 'grant', 'young']\n",
            "Topic 1:\n",
            "['lisa', 'money', 'steve', 'house', 'love', 'police', 'tries', 'finds', 'friend', 'body']\n",
            "Topic 2:\n",
            "['jason', 'kevin', 'charles', 'tom', 'rachel', 'harris', 'kansas', 'hunter', 'horse', 'ranch']\n",
            "Topic 3:\n",
            "['jeff', 'sara', 'frank', 'sarah', 'dylan', 'wyatt', 'jim', 'jonathan', 'money', 'train']\n",
            "Topic 4:\n",
            "['gene', 'gold', 'men', 'gang', 'ranch', 'posse', 'town', 'money', 'bank', 'escape']\n",
            "Topic 5:\n",
            "['joe', 'bob', 'cole', 'martha', 'jackson', 'jill', 'ruth', 'town', 'terry', 'men']\n",
            "Topic 6:\n",
            "['tom', 'john', 'johnny', 'mary', 'mrs', 'tex', 'boys', 'gang', 'town', 'claire']\n",
            "Topic 7:\n",
            "['ben', 'nick', 'matt', 'peter', 'alex', 'amy', 'husband', 'goes', 'men', 'tells']\n",
            "Topic 8:\n",
            "['police', 'house', 'man', 'tells', 'car', 'jack', 'later', 'finds', 'home', 'wife']\n",
            "Topic 9:\n",
            "['men', 'man', 'group', 'killed', 'train', 'kill', 'woman', 'war', 'town', 'kills']\n",
            "Topic 10:\n",
            "['henry', 'jim', 'jo', 'alice', 'gil', 'eddie', 'angela', 'hannah', 'mark', 'carter']\n",
            "Topic 11:\n",
            "['sam', 'billy', 'karl', 'jesse', 'max', 'lori', 'tracy', 'jr', 'andy', 'caroline']\n",
            "Topic 12:\n",
            "['chris', 'karthik', 'village', 'bandits', 'men', 'jim', 'lee', 'power', 'women', 'group']\n",
            "Topic 13:\n",
            "['charlie', 'laura', 'susan', 'wade', 'ray', 'lucy', 'logan', 'evans', 'patrick', 'farrell']\n",
            "Topic 14:\n",
            "['paul', 'karen', 'harry', 'jerry', 'jennifer', 'arjun', 'mike', 'drug', 'connie', 'edward']\n",
            "Topic 15:\n",
            "['michael', 'julia', 'jim', 'arthur', 'eric', 'rachel', 'roman', 'mike', 'matthew', 'lily']\n",
            "Topic 16:\n",
            "['david', 'tim', 'jessie', 'steven', 'emily', 'norman', 'blake', 'president', 'kelly', 'jonas']\n",
            "Topic 17:\n",
            "['town', 'jake', 'morgan', 'rick', 'kate', 'gun', 'doc', 'clint', 'marshal', 'men']\n",
            "Topic 18:\n",
            "['martin', 'jane', 'truck', 'daniel', 'road', 'car', 'big', 'driver', 'julie', 'red']\n",
            "Topic 19:\n",
            "['town', 'men', 'ranch', 'sheriff', 'killed', 'cattle', 'war', 'army', 'man', 'fort']\n"
          ]
        }
      ],
      "source": [
        "# get largest distribution of words over topics\n",
        "feature_names = vect.get_feature_names()  # feature_names - array of 8955 components\n",
        "for topic_idx, topic in enumerate(lda_transf.components_):\n",
        "        print(\"Topic %d:\" % (topic_idx))\n",
        "        words = []\n",
        "        for i in topic.argsort()[:-10 - 1:-1]:\n",
        "            words.append(feature_names[i])\n",
        "        print(words)"
      ]
    },
    {
      "cell_type": "code",
      "execution_count": null,
      "metadata": {
        "id": "CJI4YMPHXuDz",
        "outputId": "76590fc9-b906-4b03-b211-b2319e9310da"
      },
      "outputs": [
        {
          "name": "stdout",
          "output_type": "stream",
          "text": [
            "[0.06133079 0.05351509 0.06795695 0.02151056 0.06192285 0.02959826\n",
            " 0.01132539 0.0187393  0.02771013 0.02848709 0.14116545 0.00581557\n",
            " 0.05984478 0.01383142 0.25049446 0.0209323  0.01218169 0.01394667\n",
            " 0.02111916 0.07857209]\n",
            "[0.13440892 0.08764203 0.20724195 0.03307539 0.05983403 0.03223683\n",
            " 0.008736   0.01544125 0.03033841 0.02672954 0.05361401 0.00571262\n",
            " 0.05818815 0.01430997 0.04108809 0.02031248 0.01164555 0.02653082\n",
            " 0.03573008 0.09718386]\n",
            "[0.07991179 0.16688353 0.12245319 0.21360944 0.04537491 0.03224628\n",
            " 0.00693909 0.00689734 0.00954376 0.02394355 0.03247384 0.00893626\n",
            " 0.03133146 0.00655922 0.06957701 0.00523063 0.01204469 0.02401892\n",
            " 0.08508343 0.01694167]\n"
          ]
        }
      ],
      "source": [
        "# get distribution of drama and comedy films over topics\n",
        "import numpy as np\n",
        "\n",
        "index_drama =  selected_movies['Genre'].isin(['crime'])\n",
        "index_comedy = selected_movies['Genre'].isin(['comedy'])\n",
        "index_other  = selected_movies['Genre'].isin(['unknown'])\n",
        "\n",
        "print(lda[index_drama].mean(axis = 0))\n",
        "print(lda[index_comedy].mean(axis = 0))\n",
        "print(lda[index_other].mean(axis = 0))"
      ]
    },
    {
      "cell_type": "code",
      "execution_count": null,
      "metadata": {
        "id": "wJV7_M2pXuDz",
        "outputId": "338566bc-fc16-4c54-e015-3b4141f52a59"
      },
      "outputs": [
        {
          "data": {
            "text/plain": [
              "MiniBatchKMeans(batch_size=1000, max_iter=200, n_clusters=2, n_init=10)"
            ]
          },
          "execution_count": 96,
          "metadata": {},
          "output_type": "execute_result"
        }
      ],
      "source": [
        "# cluster based on LDA\n",
        "k_clusters = 2\n",
        "model_lda = MiniBatchKMeans(n_clusters=k_clusters, init='k-means++', max_iter=200, batch_size=1000, \n",
        "                        n_init = 10)\n",
        "model_lda.fit(lda)"
      ]
    },
    {
      "cell_type": "code",
      "execution_count": null,
      "metadata": {
        "id": "hp1t6aQmXuDz",
        "outputId": "1ebfb2ef-8a9a-4c9c-d76b-78998a50a0b8"
      },
      "outputs": [
        {
          "name": "stdout",
          "output_type": "stream",
          "text": [
            "Homogeneity: 0.318\n",
            "Completeness: 0.348\n",
            "V-measure: 0.332\n",
            "Adjusted Rand-Index: 0.302\n"
          ]
        }
      ],
      "source": [
        "# compute homogeneity with genre labels\n",
        "\n",
        "# get genre for the selected movies\n",
        "genre = selected_movies.Genre.copy()\n",
        "genre = pd.Categorical(genre)\n",
        "# labels_genre = genre.codes\n",
        "# print(type(labels_genre), labels_genre.shape)\n",
        "\n",
        "print(\"Homogeneity: %0.3f\"  % metrics.homogeneity_score(genre, model_lda.labels_))\n",
        "print(\"Completeness: %0.3f\" % metrics.completeness_score(genre, model_lda.labels_))\n",
        "print(\"V-measure: %0.3f\"    % metrics.v_measure_score(genre, model_lda.labels_))\n",
        "print(\"Adjusted Rand-Index: %.3f\" % metrics.adjusted_rand_score(genre, model_lda.labels_))"
      ]
    },
    {
      "cell_type": "code",
      "execution_count": null,
      "metadata": {
        "id": "WaLvDiQjXuDz",
        "outputId": "c84697a0-8c45-4217-f0da-6cac27ecdf82"
      },
      "outputs": [
        {
          "name": "stdout",
          "output_type": "stream",
          "text": [
            "0 Counter({'western': 843, 'thriller': 390})\n",
            "1 Counter({'thriller': 576, 'western': 22})\n",
            "0.774986346258875\n"
          ]
        }
      ],
      "source": [
        "# compute purity \n",
        "# in each cluster - find # of dramas/ # commedies \n",
        "# choose the max in each cluster = purity per cluster\n",
        "# sum purity in each cluster/# number of movies\n",
        "import numpy as np\n",
        "\n",
        "#print(genre.shape, index_cluster1.shape, index_cluster2.shape)\n",
        "purity = np.zeros((k_clusters,1))\n",
        "for c in range(k_clusters):\n",
        "    # extract labeks of each genre and count them\n",
        "    index_cluster = model_lda.labels_ == c;\n",
        "    count_genre = Counter(genre[index_cluster])\n",
        "    print(c, count_genre)\n",
        "    purity[c] = max(count_genre.values())\n",
        "\n",
        "total_purity = np.sum(purity)/len(genre)\n",
        "print(total_purity)"
      ]
    },
    {
      "cell_type": "code",
      "execution_count": null,
      "metadata": {
        "id": "lJwwDM8UXuD1",
        "outputId": "cabddef7-3fcb-4ff2-f166-69d425bb606c"
      },
      "outputs": [
        {
          "name": "stdout",
          "output_type": "stream",
          "text": [
            "Top topic indices per cluster:\n",
            "Cluster 0:\n",
            "9 0.4221994235929714\n",
            "10 0.06663026725569314\n",
            "19 0.06101264107765858\n",
            "12 0.055693570566070785\n",
            "4 0.046813705108514424\n",
            "Cluster 1:\n",
            "14 0.3118490779208042\n",
            "10 0.135482348368683\n",
            "19 0.06760445219950605\n",
            "0 0.06056345843602185\n",
            "2 0.05995493746572067\n",
            "Cluster 2:\n",
            "3 0.47380302333471713\n",
            "1 0.1590969321525035\n",
            "14 0.07027183126831037\n",
            "2 0.06763853984228954\n",
            "0 0.05233643964613286\n",
            "Cluster 3:\n",
            "5 0.3354123265694002\n",
            "0 0.09532841300036224\n",
            "12 0.07923350212374386\n",
            "2 0.06204251082006643\n",
            "1 0.05365243380523477\n",
            "Cluster 4:\n",
            "4 0.4501876430265231\n",
            "2 0.07024905299808681\n",
            "17 0.05276770277018553\n",
            "0 0.045419732905804845\n",
            "9 0.043156412951773276\n",
            "Cluster 5:\n",
            "0 0.4601834014408931\n",
            "2 0.0808436134342607\n",
            "1 0.061290924615599277\n",
            "19 0.0554040504742478\n",
            "12 0.040660721842034085\n",
            "Cluster 6:\n",
            "2 0.5110900924263934\n",
            "0 0.0566580310484818\n",
            "1 0.05625868690453718\n",
            "19 0.049852684176594796\n",
            "4 0.03372263080546655\n",
            "Cluster 7:\n",
            "1 0.4627882932537935\n",
            "3 0.08866726514452904\n",
            "2 0.07096231596833118\n",
            "0 0.06783987672222201\n",
            "19 0.04356038001943328\n",
            "Cluster 8:\n",
            "18 0.45948979885843594\n",
            "2 0.06429371359602193\n",
            "1 0.05898713856638105\n",
            "3 0.050771319144228645\n",
            "17 0.0482081695294025\n",
            "Cluster 9:\n",
            "12 0.1997891417414814\n",
            "17 0.1386062956640529\n",
            "19 0.10473136775366226\n",
            "10 0.06569673283932928\n",
            "2 0.05931231045565327\n"
          ]
        }
      ],
      "source": [
        "# print top topic indices per cluster\n",
        "print(\"Top topic indices per cluster:\")\n",
        "order_centroids = model_lda.cluster_centers_.argsort()[:, ::-1]  # sort and reverse\n",
        "\n",
        "for i in range(k_clusters):\n",
        "    print(\"Cluster %d:\" % i),\n",
        "    for ind in order_centroids[i, :5]:  # print first ten terms from the cluster\n",
        "        print(ind, model_lda.cluster_centers_[i,ind])\n",
        "  "
      ]
    },
    {
      "cell_type": "code",
      "execution_count": null,
      "metadata": {
        "id": "qQMPq5GtXuD2",
        "outputId": "87c10fe3-dc52-4939-9ddf-3d7cbc1635cc"
      },
      "outputs": [
        {
          "name": "stdout",
          "output_type": "stream",
          "text": [
            "Original movie\n",
            "Star Wars Episode IV: A New Hope (aka Star Wars) \n",
            "\n",
            "\t The galaxy is in the midst of a civil war. Spies for the Rebel Alliance have stolen plans to the Galactic Empire's Death Star, a space station capable of destroying an entire planet. Rebel leader Princess Leia has the plans, but her ship is captured by Imperial forces under the command of the ruthless Sith Lord, Darth Vader. Before she is captured, Leia hides the plans in the memory of an astromech droid, R2-D2, along with a holographic recording. R2-D2 flees to the desert planet Tatooine with C-3PO, a protocol droid.\n",
            "The droids are captured by Jawa traders, who sell them to moisture farmers Owen and Beru Lars, and their nephew Luke Skywalker. While cleaning R2-D2, Luke accidentally triggers part of Leia's message, in which she requests help from Obi-Wan Kenobi. The next morning, Luke finds R2-D2 missing, and meets Ben Kenobi, an old hermit who lives in the hills, and reveals himself to be Obi-Wan. Obi-Wan tells Luke of his days as one of the Jedi Knights, former Galactic Republic peacekeepers with supernatural powers derived from an energy called the Force, who were all but wiped out by the Empire. Contrary to his uncle's statements, Luke learns that his father fought alongside Obi-Wan as a Jedi Knight. Obi-Wan tells Luke that Vader was his former pupil, who turned to the dark side of the Force and murdered Luke's father. Obi-Wan then presents to Luke his father's weapon – a lightsaber.\n",
            "Obi-Wan views Leia's complete message, in which she begs him to take the Death Star plans to her home planet of Alderaan and give them to her father for analysis. Obi-Wan invites Luke to accompany him to Alderaan and learn the ways of the Force. Luke declines, but changes his mind after discovering that Imperial stormtroopers have destroyed the moisture farm, killing his aunt and uncle. Obi-Wan and Luke travel to Mos Eisley, where they meet smuggler Han Solo and his Wookiee first mate Chewbacca at a Cantina. They join forces and board the Millennium Falcon.\n",
            "Upon the Falcon's arrival at the location of Alderaan, the group discovers that the planet has been destroyed by the Death Star's superlaser on order of the commanding officer, Grand Moff Tarkin, as a show of power. The Falcon is captured by the Death Star's tractor beam, and brought into its hangar bay. While Obi-Wan goes to disable the tractor beam, Luke discovers that Leia is imprisoned aboard, and with the help of Han and Chewbacca, Luke rescues her. After several escapes, the group makes its way back to the Falcon. On the way back to the Falcon, Obi-Wan engages in a lightsaber duel with Vader. To ensure the rest of the team escapes the Death Star alive, Obi-Wan sacrifices himself at the hands of Darth Vader. The Falcon escapes from the Death Star, unknowingly carrying a tracking beacon, which the Empire follows to the Rebels' hidden base on Yavin IV.\n",
            "The Rebels analyze the Death Star's plans and identify a vulnerable exhaust port that connects to the station's main reactor, and that the Death Star can be destroyed through a chain reaction. Luke joins the Rebel's squadron, while Han collects his payment for the transport and intends to leave, despite Luke's request that he should stay and help. In the ensuing battle, the Rebels suffer heavy losses after several unsuccessful attack runs, leaving Luke as one of the few surviving pilots. Vader leads a squadron of TIE fighters and prepares to attack Luke's X-wing fighter, but Han returns and fires at the Imperials, sending Vader spiraling away. Helped by guidance from Obi-Wan's spirit, Luke uses the Force to destroy the Death Star seconds before it can fire on the Rebel base. Back on Yavin IV, Leia awards Luke and Han with medals for their heroism.\n",
            "\n",
            "tf-idf most similar\n",
            "Most similar movie: 0.4137032508206293 8174\n",
            "Return of the Jedi \n",
            "\n",
            "\t Luke Skywalker initiates a plan to rescue Han Solo from the crime lord Jabba the Hutt with the help of Princess Leia, Lando Calrissian, Chewbacca, C-3PO, and R2-D2. Leia infiltrates Jabba's palace on Tatooine, disguised as a bounty hunter, with Chewbacca as her prisoner. Leia releases Han from his carbonite prison, but she is captured and enslaved. Luke arrives soon afterward, but is also captured after a tense standoff. After Luke survives his battle with Jabba's Rancor, Jabba sentences him and Han to death by feeding them to the Sarlacc. Luke frees himself and battles Jabba's guards. During the chaos, Leia strangles Jabba to death, and Luke destroys Jabba's sail barge as the group escapes. While the others rendezvous with the Rebel Alliance, Luke returns to Dagobah where he finds that Yoda is dying. Before he dies, Yoda confirms that Darth Vader, once known as Anakin Skywalker, is Luke's father, and that there is \"another Skywalker\". The spirit of Obi-Wan Kenobi confirms that this other Skywalker is Leia, who is Luke's twin sister. Obi-Wan tells Luke that he must fight Vader again to defeat the Empire.\n",
            "The Rebel Alliance learns that the Empire has been constructing a new Death Star under the supervision of the Emperor himself. As the station is protected by an energy shield, Han leads a strike team to destroy the shield generator on the forest moon of Endor; doing so would allow a squadron of starfighters to destroy the Death Star. The strike team, accompanied by Luke and Leia, travels to Endor in a stolen Imperial shuttle. On Endor, Luke and his companions encounter a tribe of Ewoks and, after an initial conflict, gain their trust. Later, Luke tells Leia that she is his sister, Vader is their father, and that he must go and confront him. Surrendering to Imperial troops, Luke is brought to Vader and unsuccessfully tries to convince him to turn from the dark side of the Force.\n",
            "Vader takes Luke to the Death Star to meet the Emperor, intent on turning him to the dark side. The Emperor reveals that the Death Star is actually fully operational and the rebel fleet will fall into a trap. On Endor, Han's strike team is captured by Imperial forces, but a surprise counterattack by the Ewoks allows the rebels to battle the Imperials. Meanwhile, Lando leads the rebel fleet to the Death Star in the Millennium Falcon, only to find out that the shield is still active, and the Imperial fleet is waiting for them. The Emperor tempts Luke to give in to his anger, and Luke engages Vader in a lightsaber duel. Vader senses that Luke has a sister, and threatens to turn her to the dark side. Enraged, Luke attacks Vader and severs his prosthetic right hand. The Emperor entreats Luke to kill Vader and take his place, but Luke refuses, declaring himself a Jedi as his father had been. Furious, the Emperor tortures Luke with Force lightning. Unwilling to let his son die, Vader throws the Emperor down a reactor chute to his death, but Vader is mortally electrocuted in the process. At his last request, Luke removes the redeemed Anakin's mask before he dies peacefully in Luke's arms.\n",
            "As the battle between the Imperial and Alliance fleets continues, the strike team defeats the Imperial forces and destroys the shield generator, allowing the rebel fleet to launch their assault on the Death Star. Lando leads a group of rebel ships into the Death Star's core and destroys the main reactor. As Luke escapes on a shuttle with his father's body, the Falcon flies out of the Death Star's superstructure as the station explodes. On Endor, Leia reveals to Han that Luke is her brother, and they kiss. Luke returns to Endor and cremates Anakin's body on a pyre. As the rebels celebrate their victory over the Empire, Luke smiles as he sees the spirits of Obi-Wan, Yoda, and Anakin watching over them.\n",
            "\n",
            "lsi most similar\n",
            "Most similar movie: 0.17766187579629972 8174\n",
            "Return of the Jedi \n",
            "\n",
            "\t Luke Skywalker initiates a plan to rescue Han Solo from the crime lord Jabba the Hutt with the help of Princess Leia, Lando Calrissian, Chewbacca, C-3PO, and R2-D2. Leia infiltrates Jabba's palace on Tatooine, disguised as a bounty hunter, with Chewbacca as her prisoner. Leia releases Han from his carbonite prison, but she is captured and enslaved. Luke arrives soon afterward, but is also captured after a tense standoff. After Luke survives his battle with Jabba's Rancor, Jabba sentences him and Han to death by feeding them to the Sarlacc. Luke frees himself and battles Jabba's guards. During the chaos, Leia strangles Jabba to death, and Luke destroys Jabba's sail barge as the group escapes. While the others rendezvous with the Rebel Alliance, Luke returns to Dagobah where he finds that Yoda is dying. Before he dies, Yoda confirms that Darth Vader, once known as Anakin Skywalker, is Luke's father, and that there is \"another Skywalker\". The spirit of Obi-Wan Kenobi confirms that this other Skywalker is Leia, who is Luke's twin sister. Obi-Wan tells Luke that he must fight Vader again to defeat the Empire.\n",
            "The Rebel Alliance learns that the Empire has been constructing a new Death Star under the supervision of the Emperor himself. As the station is protected by an energy shield, Han leads a strike team to destroy the shield generator on the forest moon of Endor; doing so would allow a squadron of starfighters to destroy the Death Star. The strike team, accompanied by Luke and Leia, travels to Endor in a stolen Imperial shuttle. On Endor, Luke and his companions encounter a tribe of Ewoks and, after an initial conflict, gain their trust. Later, Luke tells Leia that she is his sister, Vader is their father, and that he must go and confront him. Surrendering to Imperial troops, Luke is brought to Vader and unsuccessfully tries to convince him to turn from the dark side of the Force.\n",
            "Vader takes Luke to the Death Star to meet the Emperor, intent on turning him to the dark side. The Emperor reveals that the Death Star is actually fully operational and the rebel fleet will fall into a trap. On Endor, Han's strike team is captured by Imperial forces, but a surprise counterattack by the Ewoks allows the rebels to battle the Imperials. Meanwhile, Lando leads the rebel fleet to the Death Star in the Millennium Falcon, only to find out that the shield is still active, and the Imperial fleet is waiting for them. The Emperor tempts Luke to give in to his anger, and Luke engages Vader in a lightsaber duel. Vader senses that Luke has a sister, and threatens to turn her to the dark side. Enraged, Luke attacks Vader and severs his prosthetic right hand. The Emperor entreats Luke to kill Vader and take his place, but Luke refuses, declaring himself a Jedi as his father had been. Furious, the Emperor tortures Luke with Force lightning. Unwilling to let his son die, Vader throws the Emperor down a reactor chute to his death, but Vader is mortally electrocuted in the process. At his last request, Luke removes the redeemed Anakin's mask before he dies peacefully in Luke's arms.\n",
            "As the battle between the Imperial and Alliance fleets continues, the strike team defeats the Imperial forces and destroys the shield generator, allowing the rebel fleet to launch their assault on the Death Star. Lando leads a group of rebel ships into the Death Star's core and destroys the main reactor. As Luke escapes on a shuttle with his father's body, the Falcon flies out of the Death Star's superstructure as the station explodes. On Endor, Leia reveals to Han that Luke is her brother, and they kiss. Luke returns to Endor and cremates Anakin's body on a pyre. As the rebels celebrate their victory over the Empire, Luke smiles as he sees the spirits of Obi-Wan, Yoda, and Anakin watching over them.\n",
            "\n",
            "lda most similar\n",
            "Most similar movie: 0.36147885604281865 17663\n",
            "Ninja Terminator \n",
            "\n",
            "\t The members of a ninja empire are in possession of an object of power composed of three individual pieces of a ninja sculpture which, when combined, makes the owner's arms impervious to blades. Other ninjas feel the ninja empire is in need of reform and steal two of the three sculpture pieces. The ninja empire retaliates with threatening messages delivered via tiny robots which demand return of the powerful pieces. Ninja empire minions forge multiple attempts to attack the thieves but are quickly thwarted.\n"
          ]
        }
      ],
      "source": [
        "# find the closest movie to a another movie using tf-idf, lda and lsi embeddings\n",
        "\n",
        "def similar_movie(movie_id, all_embed):\n",
        "    \n",
        "    nr_movies   = all_embed.shape[0]  # number of rows = nr of movies\n",
        "    movie_embed = all_embed[movie_id,:]\n",
        "    \n",
        "    \n",
        "    dist = all_embed.dot(movie_embed.transpose())\n",
        "    dist[movie_id] = 0;\n",
        "    print('Most similar movie:', dist.max(), dist.argmax())\n",
        "    \n",
        "    return dist.argmax()\n",
        "\n",
        "def print_movie(movie_id, all_movies):\n",
        "    index_title = selected_movies.columns.get_loc('Title')\n",
        "    index_plot  = selected_movies.columns.get_loc('Plot')\n",
        "    print(all_movies.iloc[movie_id, index_title],'\\n')\n",
        "    print('\\t', all_movies.iloc[movie_id,index_plot])\n",
        "    \n",
        "movie_id = 7595 # 17663 # Ninja terminator 8244 # Indiana Jones # 7595 - Star wars # 2000\n",
        "print('Original movie')\n",
        "print_movie(movie_id, selected_movies)\n",
        "print('\\ntf-idf most similar')\n",
        "similar_tf_idf = similar_movie(movie_id,tf_idf)\n",
        "print_movie(similar_tf_idf, selected_movies)\n",
        "\n",
        "print('\\nlsi most similar')\n",
        "similar_lsi    = similar_movie(movie_id,lsi)\n",
        "print_movie(similar_lsi, selected_movies)\n",
        "\n",
        "print('\\nlda most similar')\n",
        "similar_lda    = similar_movie(movie_id, lda)\n",
        "print_movie(similar_lda, selected_movies)\n"
      ]
    },
    {
      "cell_type": "markdown",
      "metadata": {
        "id": "hRld5T1mXuD2"
      },
      "source": [
        "print(selected_movies(100))"
      ]
    },
    {
      "cell_type": "code",
      "execution_count": null,
      "metadata": {
        "id": "T5JBA3XzXuD3",
        "outputId": "856112ab-3b05-45a2-aa5d-08b4207143f0"
      },
      "outputs": [
        {
          "name": "stdout",
          "output_type": "stream",
          "text": [
            "[1231, 1948, 1949, 2524, 4915, 5159, 6985, 7663, 9735, 13494, 14103, 14176, 14740]\n",
            "Release Year                                                     1933\n",
            "Title                                               King of the Arena\n",
            "Origin/Ethnicity                                             American\n",
            "Director                                                   Alan James\n",
            "Cast                                       Ken Maynard, Lucile Browne\n",
            "Genre                                                         western\n",
            "Wiki Page             https://en.wikipedia.org/wiki/King_of_the_Arena\n",
            "Plot                A former circus performer, Ken Kenton becomes ...\n",
            "Name: 1538, dtype: object\n"
          ]
        }
      ],
      "source": [
        "# find the index of the star war movie\n",
        "titles = selected_movies['Title']\n",
        "index_found = [i for i,t in enumerate(titles.str.find('Star W')) if t != -1]\n",
        "print(index_found)\n",
        "print(selected_movies.iloc[index_found[0]])"
      ]
    },
    {
      "cell_type": "code",
      "execution_count": null,
      "metadata": {
        "id": "6sjNgFKQXuD3"
      },
      "outputs": [],
      "source": [
        "# show movies in the same cluster"
      ]
    },
    {
      "cell_type": "code",
      "execution_count": null,
      "metadata": {
        "id": "heeuwq-RXuD4"
      },
      "outputs": [],
      "source": []
    }
  ],
  "metadata": {
    "kernelspec": {
      "display_name": "Python 3",
      "language": "python",
      "name": "python3"
    },
    "language_info": {
      "codemirror_mode": {
        "name": "ipython",
        "version": 3
      },
      "file_extension": ".py",
      "mimetype": "text/x-python",
      "name": "python",
      "nbconvert_exporter": "python",
      "pygments_lexer": "ipython3",
      "version": "3.7.3"
    },
    "colab": {
      "provenance": [],
      "include_colab_link": true
    }
  },
  "nbformat": 4,
  "nbformat_minor": 0
}