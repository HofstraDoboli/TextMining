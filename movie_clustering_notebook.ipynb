{
  "cells": [
    {
      "cell_type": "markdown",
      "metadata": {
        "id": "view-in-github",
        "colab_type": "text"
      },
      "source": [
        "<a href=\"https://colab.research.google.com/github/HofstraDoboli/TextMining_F22/blob/main/movie_clustering_notebook.ipynb\" target=\"_parent\"><img src=\"https://colab.research.google.com/assets/colab-badge.svg\" alt=\"Open In Colab\"/></a>"
      ]
    },
    {
      "cell_type": "code",
      "execution_count": 16,
      "metadata": {
        "id": "eRI0nq-kXuDi"
      },
      "outputs": [],
      "source": [
        "import pandas as pd\n",
        "import numpy as np\n",
        "from sklearn.feature_extraction.text import TfidfTransformer\n",
        "from sklearn.feature_extraction.text import CountVectorizer\n",
        "import os\n",
        "from sklearn.cluster import MiniBatchKMeans\n",
        "from sklearn.cluster import KMeans\n",
        "from sklearn import metrics \n"
      ]
    },
    {
      "cell_type": "code",
      "source": [
        "from google.colab import drive\n",
        "drive.mount('/content/drive')"
      ],
      "metadata": {
        "colab": {
          "base_uri": "https://localhost:8080/"
        },
        "id": "hGER9xpatNpt",
        "outputId": "430b65dc-f827-4b28-8477-7665a217664a"
      },
      "execution_count": 2,
      "outputs": [
        {
          "output_type": "stream",
          "name": "stdout",
          "text": [
            "Mounted at /content/drive\n"
          ]
        }
      ]
    },
    {
      "cell_type": "code",
      "source": [
        "%cd /content/drive/MyDrive/TextMining_F22\n",
        "%ls *.csv"
      ],
      "metadata": {
        "colab": {
          "base_uri": "https://localhost:8080/"
        },
        "id": "VQHKot6WtUsg",
        "outputId": "79ad3541-1808-41d6-cf84-b9ab80a71fab"
      },
      "execution_count": 5,
      "outputs": [
        {
          "output_type": "stream",
          "name": "stdout",
          "text": [
            "/content/drive/MyDrive/TextMining_F22\n",
            "wiki_movie_plots_deduped.csv\n"
          ]
        }
      ]
    },
    {
      "cell_type": "code",
      "source": [
        "dir_file = os.getcwd() # returns path to current directory\n",
        "files_dir = os.listdir(dir_file)  # list of files in current directory\n",
        "\n",
        "csv_files = [f for f in files_dir if f.endswith('csv')]\n",
        "print(csv_files)\n",
        "movie_file = csv_files[0]\n",
        "\n",
        "movie_df = pd.read_csv(movie_file)\n",
        "print(movie_df.columns)  # the columns\n",
        "print(movie_df.shape)"
      ],
      "metadata": {
        "colab": {
          "base_uri": "https://localhost:8080/"
        },
        "id": "VJ5GwuTEtCKb",
        "outputId": "639d0860-523f-487a-9487-4fcf38ccd586"
      },
      "execution_count": 6,
      "outputs": [
        {
          "output_type": "stream",
          "name": "stdout",
          "text": [
            "['wiki_movie_plots_deduped.csv']\n",
            "Index(['Release Year', 'Title', 'Origin/Ethnicity', 'Director', 'Cast',\n",
            "       'Genre', 'Wiki Page', 'Plot'],\n",
            "      dtype='object')\n",
            "(34886, 8)\n"
          ]
        }
      ]
    },
    {
      "cell_type": "code",
      "source": [
        "# genres\n",
        "movie_df.Genre[movie_df.Genre == 'sci-fi'].value_counts()"
      ],
      "metadata": {
        "colab": {
          "base_uri": "https://localhost:8080/"
        },
        "id": "1TgcE6b2tq2I",
        "outputId": "d19caeda-6a45-4016-cc9f-f11c61371403"
      },
      "execution_count": null,
      "outputs": [
        {
          "output_type": "execute_result",
          "data": {
            "text/plain": [
              "sci-fi    221\n",
              "Name: Genre, dtype: int64"
            ]
          },
          "metadata": {},
          "execution_count": 19
        }
      ]
    },
    {
      "cell_type": "code",
      "source": [
        "choose_genres = ['western', 'thriller']\n",
        "select_movies = movie_df[['Plot', 'Genre']][movie_df['Genre'].isin(choose_genres)]\n",
        "select_movies.head()"
      ],
      "metadata": {
        "colab": {
          "base_uri": "https://localhost:8080/",
          "height": 206
        },
        "id": "OtbBGkp7usQN",
        "outputId": "36264479-ec1c-4f9b-acaa-a2212e924f36"
      },
      "execution_count": 7,
      "outputs": [
        {
          "output_type": "execute_result",
          "data": {
            "text/plain": [
              "                                                  Plot    Genre\n",
              "6    The film opens with two bandits breaking into ...  western\n",
              "21   The film opens in a town on the Mexican border...  western\n",
              "97   Esra Kincaid (La Reno) takes land by force and...  western\n",
              "99   Rough-and-tumble Gold Rush-era California: a w...  western\n",
              "101  James Wynnegate (Dustin Farnum) and his cousin...  western"
            ],
            "text/html": [
              "\n",
              "  <div id=\"df-3fdec351-b409-4f40-9717-77e8a0a49b68\">\n",
              "    <div class=\"colab-df-container\">\n",
              "      <div>\n",
              "<style scoped>\n",
              "    .dataframe tbody tr th:only-of-type {\n",
              "        vertical-align: middle;\n",
              "    }\n",
              "\n",
              "    .dataframe tbody tr th {\n",
              "        vertical-align: top;\n",
              "    }\n",
              "\n",
              "    .dataframe thead th {\n",
              "        text-align: right;\n",
              "    }\n",
              "</style>\n",
              "<table border=\"1\" class=\"dataframe\">\n",
              "  <thead>\n",
              "    <tr style=\"text-align: right;\">\n",
              "      <th></th>\n",
              "      <th>Plot</th>\n",
              "      <th>Genre</th>\n",
              "    </tr>\n",
              "  </thead>\n",
              "  <tbody>\n",
              "    <tr>\n",
              "      <th>6</th>\n",
              "      <td>The film opens with two bandits breaking into ...</td>\n",
              "      <td>western</td>\n",
              "    </tr>\n",
              "    <tr>\n",
              "      <th>21</th>\n",
              "      <td>The film opens in a town on the Mexican border...</td>\n",
              "      <td>western</td>\n",
              "    </tr>\n",
              "    <tr>\n",
              "      <th>97</th>\n",
              "      <td>Esra Kincaid (La Reno) takes land by force and...</td>\n",
              "      <td>western</td>\n",
              "    </tr>\n",
              "    <tr>\n",
              "      <th>99</th>\n",
              "      <td>Rough-and-tumble Gold Rush-era California: a w...</td>\n",
              "      <td>western</td>\n",
              "    </tr>\n",
              "    <tr>\n",
              "      <th>101</th>\n",
              "      <td>James Wynnegate (Dustin Farnum) and his cousin...</td>\n",
              "      <td>western</td>\n",
              "    </tr>\n",
              "  </tbody>\n",
              "</table>\n",
              "</div>\n",
              "      <button class=\"colab-df-convert\" onclick=\"convertToInteractive('df-3fdec351-b409-4f40-9717-77e8a0a49b68')\"\n",
              "              title=\"Convert this dataframe to an interactive table.\"\n",
              "              style=\"display:none;\">\n",
              "        \n",
              "  <svg xmlns=\"http://www.w3.org/2000/svg\" height=\"24px\"viewBox=\"0 0 24 24\"\n",
              "       width=\"24px\">\n",
              "    <path d=\"M0 0h24v24H0V0z\" fill=\"none\"/>\n",
              "    <path d=\"M18.56 5.44l.94 2.06.94-2.06 2.06-.94-2.06-.94-.94-2.06-.94 2.06-2.06.94zm-11 1L8.5 8.5l.94-2.06 2.06-.94-2.06-.94L8.5 2.5l-.94 2.06-2.06.94zm10 10l.94 2.06.94-2.06 2.06-.94-2.06-.94-.94-2.06-.94 2.06-2.06.94z\"/><path d=\"M17.41 7.96l-1.37-1.37c-.4-.4-.92-.59-1.43-.59-.52 0-1.04.2-1.43.59L10.3 9.45l-7.72 7.72c-.78.78-.78 2.05 0 2.83L4 21.41c.39.39.9.59 1.41.59.51 0 1.02-.2 1.41-.59l7.78-7.78 2.81-2.81c.8-.78.8-2.07 0-2.86zM5.41 20L4 18.59l7.72-7.72 1.47 1.35L5.41 20z\"/>\n",
              "  </svg>\n",
              "      </button>\n",
              "      \n",
              "  <style>\n",
              "    .colab-df-container {\n",
              "      display:flex;\n",
              "      flex-wrap:wrap;\n",
              "      gap: 12px;\n",
              "    }\n",
              "\n",
              "    .colab-df-convert {\n",
              "      background-color: #E8F0FE;\n",
              "      border: none;\n",
              "      border-radius: 50%;\n",
              "      cursor: pointer;\n",
              "      display: none;\n",
              "      fill: #1967D2;\n",
              "      height: 32px;\n",
              "      padding: 0 0 0 0;\n",
              "      width: 32px;\n",
              "    }\n",
              "\n",
              "    .colab-df-convert:hover {\n",
              "      background-color: #E2EBFA;\n",
              "      box-shadow: 0px 1px 2px rgba(60, 64, 67, 0.3), 0px 1px 3px 1px rgba(60, 64, 67, 0.15);\n",
              "      fill: #174EA6;\n",
              "    }\n",
              "\n",
              "    [theme=dark] .colab-df-convert {\n",
              "      background-color: #3B4455;\n",
              "      fill: #D2E3FC;\n",
              "    }\n",
              "\n",
              "    [theme=dark] .colab-df-convert:hover {\n",
              "      background-color: #434B5C;\n",
              "      box-shadow: 0px 1px 3px 1px rgba(0, 0, 0, 0.15);\n",
              "      filter: drop-shadow(0px 1px 2px rgba(0, 0, 0, 0.3));\n",
              "      fill: #FFFFFF;\n",
              "    }\n",
              "  </style>\n",
              "\n",
              "      <script>\n",
              "        const buttonEl =\n",
              "          document.querySelector('#df-3fdec351-b409-4f40-9717-77e8a0a49b68 button.colab-df-convert');\n",
              "        buttonEl.style.display =\n",
              "          google.colab.kernel.accessAllowed ? 'block' : 'none';\n",
              "\n",
              "        async function convertToInteractive(key) {\n",
              "          const element = document.querySelector('#df-3fdec351-b409-4f40-9717-77e8a0a49b68');\n",
              "          const dataTable =\n",
              "            await google.colab.kernel.invokeFunction('convertToInteractive',\n",
              "                                                     [key], {});\n",
              "          if (!dataTable) return;\n",
              "\n",
              "          const docLinkHtml = 'Like what you see? Visit the ' +\n",
              "            '<a target=\"_blank\" href=https://colab.research.google.com/notebooks/data_table.ipynb>data table notebook</a>'\n",
              "            + ' to learn more about interactive tables.';\n",
              "          element.innerHTML = '';\n",
              "          dataTable['output_type'] = 'display_data';\n",
              "          await google.colab.output.renderOutput(dataTable, element);\n",
              "          const docLink = document.createElement('div');\n",
              "          docLink.innerHTML = docLinkHtml;\n",
              "          element.appendChild(docLink);\n",
              "        }\n",
              "      </script>\n",
              "    </div>\n",
              "  </div>\n",
              "  "
            ]
          },
          "metadata": {},
          "execution_count": 7
        }
      ]
    },
    {
      "cell_type": "code",
      "source": [
        "import numpy as np\n",
        "import spacy   # another tokenizer, lemmatizer (has --> be)\n",
        "nlp = spacy.load('en_core_web_sm')\n",
        "nlp.disable_pipes('parser', 'ner') "
      ],
      "metadata": {
        "colab": {
          "base_uri": "https://localhost:8080/"
        },
        "id": "rBosPGl51N9W",
        "outputId": "3e8c23e6-1e20-4079-b4c2-305a119126b4"
      },
      "execution_count": 8,
      "outputs": [
        {
          "output_type": "execute_result",
          "data": {
            "text/plain": [
              "['parser', 'ner']"
            ]
          },
          "metadata": {},
          "execution_count": 8
        }
      ]
    },
    {
      "cell_type": "code",
      "execution_count": 9,
      "metadata": {
        "colab": {
          "base_uri": "https://localhost:8080/"
        },
        "id": "s0kFuVlbXuDn",
        "outputId": "85b2deec-79d2-43f6-db97-cbc1b7cf6687"
      },
      "outputs": [
        {
          "output_type": "stream",
          "name": "stdout",
          "text": [
            "3441\n",
            "['abandon' 'abduct' 'abduction' 'abductor' 'ability' 'able' 'aboard'\n",
            " 'abort' 'abraham' 'abruptly' 'absence' 'abuse' 'abusive' 'accept'\n",
            " 'access' 'accident' 'accidental' 'accidentally' 'accompany' 'accomplice'\n",
            " 'accord' 'accost' 'account' 'accusation' 'accuse' 'ace' 'achieve'\n",
            " 'acknowledge' 'acquaint' 'acquaintance' 'acquire' 'acquit' 'act' 'action'\n",
            " 'activate' 'activity' 'actor' 'actress' 'actual' 'actually' 'adam'\n",
            " 'adams' 'add' 'addict' 'addition' 'address' 'adjacent' 'admire' 'admit'\n",
            " 'adopt' 'adult' 'advance' 'advantage' 'adventure' 'advice' 'advise'\n",
            " 'affair' 'affect' 'affection' 'afford' 'afraid' 'africa' 'african'\n",
            " 'afternoon' 'afterward' 'age' 'aged' 'agency' 'agent' 'aggressive' 'ago'\n",
            " 'agree' 'agreement' 'ahead' 'aid' 'aide' 'aim' 'air' 'aircraft' 'airline'\n",
            " 'airport' 'ajay' 'aka' 'al' 'alan' 'alarm' 'albert' 'alcohol' 'alcoholic'\n",
            " 'alert' 'alex' 'alexander' 'ali' 'alias' 'alibi' 'alice' 'alike' 'alive'\n",
            " 'allege' 'allen']\n",
            "['wrap' 'wrath' 'wreck' 'wrist' 'write' 'writer' 'wrong' 'wrongdoing'\n",
            " 'wrongly' 'wyatt' 'wyoming' 'x' 'yankee' 'yard' 'year' 'yell' 'yellow'\n",
            " 'york' 'young' 'youth']\n",
            "(1831, 3441)\n",
            "(1, 3441)\n",
            "(1, 3441)\n",
            "[[10 10 10 10 10 10 10 10 10 10 10 10 10 10 10 10 10 10 10 10]]\n",
            "[[ 841  855  896  905  908  964  989 1023 1060 1095 1152 1175 1252 1267\n",
            "  1358 1641 1699 2102 2451 2772]]\n",
            "rarest [['organise' 'oversee' 'viciously' 'grasp' 'slam' 'alike' 'confuse'\n",
            "  'nanny' 'caution' 'impression' 'outraged' 'newlywed' 'ridicule'\n",
            "  'startle' 'strain' 'regularly' 'visitor' 'impossible' 'similarity'\n",
            "  'unidentified']]\n",
            "most common [['escape' 'woman' 'later' 'help' 'house' 'come' 'father' 'police'\n",
            "  'murder' 'return' 'town' 'go' 'try' 'shoot' 'take' 'tell' 'leave'\n",
            "  'find' 'man' 'kill']]\n"
          ]
        }
      ],
      "source": [
        "def nlp_processing(doc): # from indexing.ipyns\n",
        "    tokens = nlp(doc)\n",
        "    \n",
        "    #print(type(tokens))\n",
        "    # eliminates stop words  and non alpha num and converts all to lower case\n",
        "    terms = [token.lemma_.lower() for token in tokens if not token.is_stop and token.is_alpha] \n",
        "  \n",
        "    return terms\n",
        "\n",
        "vect = CountVectorizer(tokenizer = nlp_processing, min_df = 10) # ? why 50 \n",
        "\n",
        "counter = vect.fit_transform(select_movies['Plot'])\n",
        " # matrix representation of each movie as a tf-idf vector\n",
        "print(len(vect.get_feature_names_out()))\n",
        "\n",
        "print(vect.get_feature_names_out()[:100])\n",
        "print(vect.get_feature_names_out()[-20:])\n",
        "\n",
        "print(counter.shape)\n",
        "tf_all = counter.sum(axis = 0)\n",
        "print(tf_all.shape)\n",
        "ind_terms_sorted = tf_all.argsort()\n",
        "print(ind_terms_sorted.shape)\n",
        "print(tf_all[0,ind_terms_sorted[0,0:20]])\n",
        "print(tf_all[0,ind_terms_sorted[0,-20:]])\n",
        "print('rarest', vect.get_feature_names_out()[ind_terms_sorted[0,:20]])\n",
        "print('most common', vect.get_feature_names_out()[ind_terms_sorted[0,-20:]])"
      ]
    },
    {
      "cell_type": "code",
      "source": [
        "vect1 = CountVectorizer(stop_words = \"english\", lowercase = True, min_df = 100) \n",
        "counter1 = vect1.fit_transform(select_movies['Plot'])\n",
        "print(len(vect1.get_feature_names_out()))\n",
        "\n",
        "print(vect1.get_feature_names_out()[:100])\n",
        "print(vect1.get_feature_names_out()[-20:])"
      ],
      "metadata": {
        "colab": {
          "base_uri": "https://localhost:8080/"
        },
        "id": "Dw1vqr_t15gP",
        "outputId": "46370cf3-9e6d-4796-a919-9ec6a7ecb6c8"
      },
      "execution_count": null,
      "outputs": [
        {
          "output_type": "stream",
          "name": "stdout",
          "text": [
            "402\n",
            "['000' 'able' 'accident' 'accidentally' 'actually' 'affair' 'agent'\n",
            " 'agrees' 'alive' 'american' 'apartment' 'appears' 'army' 'arrest'\n",
            " 'arrested' 'arrive' 'arrives' 'asks' 'attack' 'attacked' 'attacks'\n",
            " 'attempt' 'attempts' 'away' 'bank' 'battle' 'begin' 'begins' 'believe'\n",
            " 'believes' 'best' 'blood' 'body' 'boss' 'boy' 'break' 'breaks' 'bring'\n",
            " 'brings' 'brother' 'building' 'business' 'called' 'calls' 'captain'\n",
            " 'captured' 'car' 'case' 'cattle' 'caught' 'causing' 'chief' 'child'\n",
            " 'children' 'city' 'claims' 'clear' 'come' 'comes' 'coming' 'company'\n",
            " 'confronts' 'continue' 'continues' 'control' 'convinces' 'couple' 'crime'\n",
            " 'daughter' 'day' 'days' 'dead' 'death' 'decide' 'decides' 'demands'\n",
            " 'despite' 'detective' 'did' 'die' 'died' 'dies' 'discover' 'discovered'\n",
            " 'discovers' 'doctor' 'does' 'doesn' 'door' 'dr' 'drive' 'earlier' 'end'\n",
            " 'ends' 'enters' 'escape' 'escapes' 'eventually' 'evidence' 'ex']\n",
            "['warns' 'watch' 'water' 'way' 'wealthy' 'west' 'white' 'wife' 'window'\n",
            " 'woman' 'women' 'work' 'working' 'works' 'world' 'wounded' 'year' 'years'\n",
            " 'york' 'young']\n"
          ]
        }
      ]
    },
    {
      "cell_type": "code",
      "source": [
        "transf  = TfidfTransformer(norm = 'l2', sublinear_tf = True) \n",
        "# TfidfTransformer takes the CountVectorizer output and computes the tf-idf\n",
        "tf_idf = transf.fit_transform(counter) "
      ],
      "metadata": {
        "id": "bPsyDeWMxCxt"
      },
      "execution_count": 12,
      "outputs": []
    },
    {
      "cell_type": "code",
      "execution_count": 18,
      "metadata": {
        "colab": {
          "base_uri": "https://localhost:8080/"
        },
        "id": "zrLXlKelXuDo",
        "outputId": "34c0b1a1-397d-4d23-afc3-a5b08f0f3496"
      },
      "outputs": [
        {
          "output_type": "stream",
          "name": "stdout",
          "text": [
            "Initialization complete\n",
            "Iteration 0, inertia 3420.3736009821782\n",
            "Iteration 1, inertia 1741.5253222437586\n",
            "Iteration 2, inertia 1739.980518810589\n",
            "Iteration 3, inertia 1737.9581907261525\n",
            "Iteration 4, inertia 1735.8613722936175\n",
            "Iteration 5, inertia 1735.014761666928\n",
            "Iteration 6, inertia 1734.7009125086752\n",
            "Iteration 7, inertia 1734.477239200834\n",
            "Iteration 8, inertia 1734.2742201372207\n",
            "Iteration 9, inertia 1733.7325029208926\n",
            "Iteration 10, inertia 1732.622661328752\n",
            "Iteration 11, inertia 1731.4894805521494\n",
            "Iteration 12, inertia 1730.733941195439\n",
            "Iteration 13, inertia 1730.090418677635\n",
            "Iteration 14, inertia 1729.6931627800045\n",
            "Iteration 15, inertia 1729.4995765374058\n",
            "Iteration 16, inertia 1729.3945532820385\n",
            "Iteration 17, inertia 1729.3289992407979\n",
            "Iteration 18, inertia 1729.2803808729568\n",
            "Iteration 19, inertia 1729.2391105328327\n",
            "Iteration 20, inertia 1729.1963331483576\n",
            "Iteration 21, inertia 1729.1570869728773\n",
            "Iteration 22, inertia 1729.1364053946463\n",
            "Iteration 23, inertia 1729.1309719811272\n",
            "Iteration 24, inertia 1729.1168554447372\n",
            "Iteration 25, inertia 1729.1063290780673\n",
            "Iteration 26, inertia 1729.0896685492035\n",
            "Iteration 27, inertia 1729.0668542421831\n",
            "Iteration 28, inertia 1729.0341085202488\n",
            "Iteration 29, inertia 1729.0024634859801\n",
            "Iteration 30, inertia 1728.9956192067484\n",
            "Iteration 31, inertia 1728.9933270755835\n",
            "Iteration 32, inertia 1728.9886590924848\n",
            "Iteration 33, inertia 1728.9809260533368\n",
            "Iteration 34, inertia 1728.9682564112143\n",
            "Iteration 35, inertia 1728.960076974985\n",
            "Iteration 36, inertia 1728.950642976836\n",
            "Iteration 37, inertia 1728.9485191828605\n",
            "Converged at iteration 37: strict convergence.\n",
            "Initialization complete\n",
            "Iteration 0, inertia 3382.7902514226457\n",
            "Iteration 1, inertia 1739.6970117567876\n",
            "Iteration 2, inertia 1732.5838057947963\n",
            "Iteration 3, inertia 1730.543725912924\n",
            "Iteration 4, inertia 1729.844109446086\n",
            "Iteration 5, inertia 1729.5613611679914\n",
            "Iteration 6, inertia 1729.3977102915596\n",
            "Iteration 7, inertia 1729.2839590692597\n",
            "Iteration 8, inertia 1729.200034341129\n",
            "Iteration 9, inertia 1729.1490629713492\n",
            "Iteration 10, inertia 1729.1038550019782\n",
            "Iteration 11, inertia 1729.0540725398757\n",
            "Iteration 12, inertia 1729.0050916008763\n",
            "Iteration 13, inertia 1728.9768737209852\n",
            "Iteration 14, inertia 1728.9582932997114\n",
            "Iteration 15, inertia 1728.9425539101653\n",
            "Iteration 16, inertia 1728.9323113356904\n",
            "Iteration 17, inertia 1728.9254266401701\n",
            "Iteration 18, inertia 1728.9233000917302\n",
            "Converged at iteration 18: strict convergence.\n",
            "Initialization complete\n",
            "Iteration 0, inertia 3499.7519117970724\n",
            "Iteration 1, inertia 1735.2161896059217\n",
            "Iteration 2, inertia 1729.8747831819987\n",
            "Iteration 3, inertia 1729.1412084335307\n",
            "Iteration 4, inertia 1728.9903877980373\n",
            "Iteration 5, inertia 1728.9662145460575\n",
            "Iteration 6, inertia 1728.9591342597414\n",
            "Iteration 7, inertia 1728.9546794717062\n",
            "Iteration 8, inertia 1728.9496925656676\n",
            "Iteration 9, inertia 1728.9430825648114\n",
            "Iteration 10, inertia 1728.940778521052\n",
            "Iteration 11, inertia 1728.9350000447453\n",
            "Iteration 12, inertia 1728.9220120367188\n",
            "Iteration 13, inertia 1728.9175646462381\n",
            "Iteration 14, inertia 1728.9154848027001\n",
            "Converged at iteration 14: strict convergence.\n",
            "Initialization complete\n",
            "Iteration 0, inertia 3433.3908427850533\n",
            "Iteration 1, inertia 1738.1083929534943\n",
            "Iteration 2, inertia 1732.28910995674\n",
            "Iteration 3, inertia 1730.7106622403207\n",
            "Iteration 4, inertia 1730.0110538106392\n",
            "Iteration 5, inertia 1729.5025753625393\n",
            "Iteration 6, inertia 1729.2625426120144\n",
            "Iteration 7, inertia 1729.1530870424886\n",
            "Iteration 8, inertia 1729.053396526891\n",
            "Iteration 9, inertia 1728.9961874340743\n",
            "Iteration 10, inertia 1728.9643610797416\n",
            "Iteration 11, inertia 1728.9474523816307\n",
            "Iteration 12, inertia 1728.9381631928518\n",
            "Iteration 13, inertia 1728.9314087746757\n",
            "Iteration 14, inertia 1728.9270907118412\n",
            "Iteration 15, inertia 1728.9248054065133\n",
            "Converged at iteration 15: strict convergence.\n",
            "Initialization complete\n",
            "Iteration 0, inertia 3367.3927333422625\n",
            "Iteration 1, inertia 1739.840865774294\n",
            "Iteration 2, inertia 1737.6025097246675\n",
            "Iteration 3, inertia 1736.292710773809\n",
            "Iteration 4, inertia 1735.7084874147604\n",
            "Iteration 5, inertia 1735.4132585334874\n",
            "Iteration 6, inertia 1735.1718387521264\n",
            "Iteration 7, inertia 1734.5710714531103\n",
            "Iteration 8, inertia 1733.016502047139\n",
            "Iteration 9, inertia 1730.6186567393802\n",
            "Iteration 10, inertia 1729.7944741332888\n",
            "Iteration 11, inertia 1729.6181747404848\n",
            "Iteration 12, inertia 1729.5933440151841\n",
            "Iteration 13, inertia 1729.5838869625998\n",
            "Iteration 14, inertia 1729.5792108490123\n",
            "Iteration 15, inertia 1729.5741119518539\n",
            "Iteration 16, inertia 1729.5716082765098\n",
            "Iteration 17, inertia 1729.5689773774984\n",
            "Iteration 18, inertia 1729.5643221251348\n",
            "Iteration 19, inertia 1729.5620698104426\n",
            "Converged at iteration 19: strict convergence.\n",
            "Initialization complete\n",
            "Iteration 0, inertia 3401.7172993018103\n",
            "Iteration 1, inertia 1740.1862045534776\n",
            "Iteration 2, inertia 1734.7082406128263\n",
            "Iteration 3, inertia 1731.9481446378459\n",
            "Iteration 4, inertia 1730.7754650144789\n",
            "Iteration 5, inertia 1730.1668192359443\n",
            "Iteration 6, inertia 1729.749675604664\n",
            "Iteration 7, inertia 1729.5080824038962\n",
            "Iteration 8, inertia 1729.336499971812\n",
            "Iteration 9, inertia 1729.2570147878837\n",
            "Iteration 10, inertia 1729.1827131652194\n",
            "Iteration 11, inertia 1729.142611461768\n",
            "Iteration 12, inertia 1729.1104579845041\n",
            "Iteration 13, inertia 1729.0648052954928\n",
            "Iteration 14, inertia 1729.0143930571976\n",
            "Iteration 15, inertia 1728.9760664717135\n",
            "Iteration 16, inertia 1728.9593392058814\n",
            "Iteration 17, inertia 1728.9401477884285\n",
            "Iteration 18, inertia 1728.9241415265203\n",
            "Iteration 19, inertia 1728.9176116446818\n",
            "Converged at iteration 19: strict convergence.\n",
            "Initialization complete\n",
            "Iteration 0, inertia 3429.0014663439624\n",
            "Iteration 1, inertia 1738.9733252098677\n",
            "Iteration 2, inertia 1734.7283125740573\n",
            "Iteration 3, inertia 1732.807360295988\n",
            "Iteration 4, inertia 1731.6966457938506\n",
            "Iteration 5, inertia 1731.0385518592216\n",
            "Iteration 6, inertia 1730.4155497333768\n",
            "Iteration 7, inertia 1729.9056562257679\n",
            "Iteration 8, inertia 1729.6312017693285\n",
            "Iteration 9, inertia 1729.4994929109525\n",
            "Iteration 10, inertia 1729.391360008251\n",
            "Iteration 11, inertia 1729.316685044278\n",
            "Iteration 12, inertia 1729.2545512162346\n",
            "Iteration 13, inertia 1729.1965924362764\n",
            "Iteration 14, inertia 1729.167131507465\n",
            "Iteration 15, inertia 1729.144522990627\n",
            "Iteration 16, inertia 1729.1344660496711\n",
            "Iteration 17, inertia 1729.1266917768069\n",
            "Iteration 18, inertia 1729.1192388176464\n",
            "Iteration 19, inertia 1729.1073076584821\n",
            "Iteration 20, inertia 1729.0953685961028\n",
            "Iteration 21, inertia 1729.075635067682\n",
            "Iteration 22, inertia 1729.0462006548473\n",
            "Iteration 23, inertia 1729.0063294158924\n",
            "Iteration 24, inertia 1728.9874033786944\n",
            "Iteration 25, inertia 1728.975612824388\n",
            "Iteration 26, inertia 1728.965693456227\n",
            "Iteration 27, inertia 1728.9526248551635\n",
            "Iteration 28, inertia 1728.9454839838613\n",
            "Iteration 29, inertia 1728.941083294485\n",
            "Iteration 30, inertia 1728.9388711112929\n",
            "Iteration 31, inertia 1728.936702928078\n",
            "Iteration 32, inertia 1728.9345450143858\n",
            "Converged at iteration 32: strict convergence.\n",
            "Initialization complete\n",
            "Iteration 0, inertia 3433.799923613663\n",
            "Iteration 1, inertia 1737.3374358921249\n",
            "Iteration 2, inertia 1731.3996041990035\n",
            "Iteration 3, inertia 1730.1966675316066\n",
            "Iteration 4, inertia 1729.76005816361\n",
            "Iteration 5, inertia 1729.5148324966624\n",
            "Iteration 6, inertia 1729.3654916755322\n",
            "Iteration 7, inertia 1729.2769187969923\n",
            "Iteration 8, inertia 1729.2061937441883\n",
            "Iteration 9, inertia 1729.15055884723\n",
            "Iteration 10, inertia 1729.1236924256511\n",
            "Iteration 11, inertia 1729.1000239506775\n",
            "Iteration 12, inertia 1729.0530887588257\n",
            "Iteration 13, inertia 1729.009534342074\n",
            "Iteration 14, inertia 1728.9763108266704\n",
            "Iteration 15, inertia 1728.9651934816584\n",
            "Iteration 16, inertia 1728.9449591834173\n",
            "Iteration 17, inertia 1728.9263784442671\n",
            "Iteration 18, inertia 1728.921825004403\n",
            "Iteration 19, inertia 1728.9197078772731\n",
            "Converged at iteration 19: strict convergence.\n",
            "Initialization complete\n",
            "Iteration 0, inertia 3382.174362272931\n",
            "Iteration 1, inertia 1734.3434828124714\n",
            "Iteration 2, inertia 1731.661816682314\n",
            "Iteration 3, inertia 1730.4220520957233\n",
            "Iteration 4, inertia 1729.7016588039276\n",
            "Iteration 5, inertia 1729.466261944646\n",
            "Iteration 6, inertia 1729.3620922851649\n",
            "Iteration 7, inertia 1729.306600077272\n",
            "Iteration 8, inertia 1729.2494647344274\n",
            "Iteration 9, inertia 1729.2036893139557\n",
            "Iteration 10, inertia 1729.1616049383765\n",
            "Iteration 11, inertia 1729.1165049188378\n",
            "Iteration 12, inertia 1729.067014913363\n",
            "Iteration 13, inertia 1729.024921409171\n",
            "Iteration 14, inertia 1728.9947192315235\n",
            "Iteration 15, inertia 1728.973626301392\n",
            "Iteration 16, inertia 1728.968838386667\n",
            "Iteration 17, inertia 1728.9617986732662\n",
            "Converged at iteration 17: strict convergence.\n",
            "Initialization complete\n",
            "Iteration 0, inertia 3396.539586945216\n",
            "Iteration 1, inertia 1737.939961464065\n",
            "Iteration 2, inertia 1732.6497754235927\n",
            "Iteration 3, inertia 1729.9448005916784\n",
            "Iteration 4, inertia 1729.6006642790985\n",
            "Iteration 5, inertia 1729.539549452014\n",
            "Iteration 6, inertia 1729.53114993241\n",
            "Converged at iteration 6: strict convergence.\n",
            "\n",
            "Silhouette Coefficient: 0.012\n"
          ]
        }
      ],
      "source": [
        "k_clusters = 2\n",
        "model = KMeans(n_clusters = k_clusters,n_init = 10, verbose = True) # repeats the algorithm for 10 initializations\n",
        "# returns the best model \n",
        "# model = MiniBatchKMeans(n_clusters=k_clusters, init='k-means++', max_iter=100, batch_size = 5000, \n",
        "#                        n_init = 10, verbose = 0)\n",
        "\n",
        "model.fit(tf_idf)\n",
        "\n",
        "print(\"\\nSilhouette Coefficient: %0.3f\" %metrics.silhouette_score(tf_idf, model.labels_, metric = \"cosine\"))"
      ]
    },
    {
      "cell_type": "code",
      "execution_count": 25,
      "metadata": {
        "colab": {
          "base_uri": "https://localhost:8080/"
        },
        "id": "iZLtpjh8XuDo",
        "outputId": "b9c4c6e0-54f4-4b4b-aa77-be400507e8ef"
      },
      "outputs": [
        {
          "output_type": "stream",
          "name": "stdout",
          "text": [
            "Top terms per cluster:\n",
            "(2, 3441)\n",
            "Cluster 0:\n",
            " town\n",
            " man\n",
            " kill\n",
            " gang\n",
            " ranch\n",
            " sheriff\n",
            " shoot\n",
            " ride\n",
            " brother\n",
            " find\n",
            "Cluster 1:\n",
            " find\n",
            " police\n",
            " kill\n",
            " tell\n",
            " leave\n",
            " house\n",
            " go\n",
            " take\n",
            " try\n",
            " reveal\n"
          ]
        }
      ],
      "source": [
        "print(\"Top terms per cluster:\")\n",
        "print(model.cluster_centers_.shape)\n",
        "order_centroids = model.cluster_centers_.argsort()[:, ::-1]  # sort and reverse the weights for each term\n",
        "terms = vect.get_feature_names_out()\n",
        "\n",
        "for i in range(k_clusters):\n",
        "    print(\"Cluster %d:\" % i),\n",
        "    for ind in order_centroids[i, :10]:  # print first ten terms from the cluster\n",
        "        print(' %s' % terms[ind]),\n",
        "    print"
      ]
    },
    {
      "cell_type": "code",
      "execution_count": 28,
      "metadata": {
        "colab": {
          "base_uri": "https://localhost:8080/"
        },
        "id": "z94oUe9FXuDq",
        "outputId": "425389dc-36bc-4714-a971-b269a6f33d03"
      },
      "outputs": [
        {
          "output_type": "stream",
          "name": "stdout",
          "text": [
            "Homogeneity: 0.340\n",
            "Completeness: 0.350\n",
            "V-measure: 0.345\n",
            "Adjusted Rand-Index: 0.385\n"
          ]
        }
      ],
      "source": [
        "# compute homogeneity with genre labels\n",
        "\n",
        "# get genre for the selected movies\n",
        "genre = pd.Categorical(select_movies.Genre)\n",
        "\n",
        "print(\"Homogeneity: %0.3f\"  % metrics.homogeneity_score(genre, model.labels_))\n",
        "print(\"Completeness: %0.3f\" % metrics.completeness_score(genre, model.labels_))\n",
        "print(\"V-measure: %0.3f\"    % metrics.v_measure_score(genre, model.labels_))\n",
        "print(\"Adjusted Rand-Index: %.3f\" % metrics.adjusted_rand_score(genre, model.labels_))"
      ]
    },
    {
      "cell_type": "code",
      "execution_count": 27,
      "metadata": {
        "colab": {
          "base_uri": "https://localhost:8080/"
        },
        "id": "Ak_NAKXNXuDr",
        "outputId": "97c77abe-3e31-4128-971c-023e506a8b39"
      },
      "outputs": [
        {
          "output_type": "stream",
          "name": "stdout",
          "text": [
            "0 Counter({'western': 807, 'thriller': 289})\n",
            "1 Counter({'thriller': 677, 'western': 58})\n",
            "0.8104860731840524\n"
          ]
        }
      ],
      "source": [
        "from collections import Counter \n",
        "# compute purity \n",
        "# in each cluster - find # of dramas/ # commedies \n",
        "# choose the max in each cluster = purity per cluster\n",
        "# sum purity in each cluster/# number of movies\n",
        "import numpy as np\n",
        "\n",
        "#print(genre.shape, index_cluster1.shape, index_cluster2.shape)\n",
        "purity = np.zeros((k_clusters,1))\n",
        "for c in range(k_clusters):\n",
        "    # extract labeks of each genre and count them\n",
        "    index_cluster = model.labels_ == c;\n",
        "    count_genre = Counter(genre[index_cluster])\n",
        "    print(c, count_genre)\n",
        "    purity[c] = max(count_genre.values())\n",
        "\n",
        "total_purity = np.sum(purity)/len(genre)\n",
        "print(total_purity)"
      ]
    },
    {
      "cell_type": "code",
      "execution_count": null,
      "metadata": {
        "id": "nDYzYk1Y3_jR"
      },
      "outputs": [],
      "source": [
        "# plot clusters\n",
        "import seaborn as sb\n",
        "import matplotlib.pyplot as plt\n",
        "\n",
        "from sklearn.decomposition import TruncatedSVD\n",
        "pca = TruncatedSVD(n_components = 2)\n",
        "#print('explained variance')\n",
        "pca.fit(tf_idf)\n",
        "x2 = pca.transform(tf_idf)"
      ]
    },
    {
      "cell_type": "code",
      "execution_count": null,
      "metadata": {
        "outputId": "5e6067b6-9020-4eac-adc6-0fc7457f59e7",
        "colab": {
          "base_uri": "https://localhost:8080/",
          "height": 224
        },
        "id": "8yAMhHA54QiX"
      },
      "outputs": [
        {
          "output_type": "stream",
          "name": "stdout",
          "text": [
            "(1831, 2)\n"
          ]
        },
        {
          "output_type": "execute_result",
          "data": {
            "text/plain": [
              "          x         y  label orig_label\n",
              "0  0.206739  0.044374      0    western\n",
              "1  0.236199  0.138594      0    western\n",
              "2  0.109489  0.045146      0    western\n",
              "3  0.080366  0.037103      0    western\n",
              "4  0.225288  0.040668      0    western"
            ],
            "text/html": [
              "\n",
              "  <div id=\"df-c55562d6-9ecd-46ad-86dc-4567d6894878\">\n",
              "    <div class=\"colab-df-container\">\n",
              "      <div>\n",
              "<style scoped>\n",
              "    .dataframe tbody tr th:only-of-type {\n",
              "        vertical-align: middle;\n",
              "    }\n",
              "\n",
              "    .dataframe tbody tr th {\n",
              "        vertical-align: top;\n",
              "    }\n",
              "\n",
              "    .dataframe thead th {\n",
              "        text-align: right;\n",
              "    }\n",
              "</style>\n",
              "<table border=\"1\" class=\"dataframe\">\n",
              "  <thead>\n",
              "    <tr style=\"text-align: right;\">\n",
              "      <th></th>\n",
              "      <th>x</th>\n",
              "      <th>y</th>\n",
              "      <th>label</th>\n",
              "      <th>orig_label</th>\n",
              "    </tr>\n",
              "  </thead>\n",
              "  <tbody>\n",
              "    <tr>\n",
              "      <th>0</th>\n",
              "      <td>0.206739</td>\n",
              "      <td>0.044374</td>\n",
              "      <td>0</td>\n",
              "      <td>western</td>\n",
              "    </tr>\n",
              "    <tr>\n",
              "      <th>1</th>\n",
              "      <td>0.236199</td>\n",
              "      <td>0.138594</td>\n",
              "      <td>0</td>\n",
              "      <td>western</td>\n",
              "    </tr>\n",
              "    <tr>\n",
              "      <th>2</th>\n",
              "      <td>0.109489</td>\n",
              "      <td>0.045146</td>\n",
              "      <td>0</td>\n",
              "      <td>western</td>\n",
              "    </tr>\n",
              "    <tr>\n",
              "      <th>3</th>\n",
              "      <td>0.080366</td>\n",
              "      <td>0.037103</td>\n",
              "      <td>0</td>\n",
              "      <td>western</td>\n",
              "    </tr>\n",
              "    <tr>\n",
              "      <th>4</th>\n",
              "      <td>0.225288</td>\n",
              "      <td>0.040668</td>\n",
              "      <td>0</td>\n",
              "      <td>western</td>\n",
              "    </tr>\n",
              "  </tbody>\n",
              "</table>\n",
              "</div>\n",
              "      <button class=\"colab-df-convert\" onclick=\"convertToInteractive('df-c55562d6-9ecd-46ad-86dc-4567d6894878')\"\n",
              "              title=\"Convert this dataframe to an interactive table.\"\n",
              "              style=\"display:none;\">\n",
              "        \n",
              "  <svg xmlns=\"http://www.w3.org/2000/svg\" height=\"24px\"viewBox=\"0 0 24 24\"\n",
              "       width=\"24px\">\n",
              "    <path d=\"M0 0h24v24H0V0z\" fill=\"none\"/>\n",
              "    <path d=\"M18.56 5.44l.94 2.06.94-2.06 2.06-.94-2.06-.94-.94-2.06-.94 2.06-2.06.94zm-11 1L8.5 8.5l.94-2.06 2.06-.94-2.06-.94L8.5 2.5l-.94 2.06-2.06.94zm10 10l.94 2.06.94-2.06 2.06-.94-2.06-.94-.94-2.06-.94 2.06-2.06.94z\"/><path d=\"M17.41 7.96l-1.37-1.37c-.4-.4-.92-.59-1.43-.59-.52 0-1.04.2-1.43.59L10.3 9.45l-7.72 7.72c-.78.78-.78 2.05 0 2.83L4 21.41c.39.39.9.59 1.41.59.51 0 1.02-.2 1.41-.59l7.78-7.78 2.81-2.81c.8-.78.8-2.07 0-2.86zM5.41 20L4 18.59l7.72-7.72 1.47 1.35L5.41 20z\"/>\n",
              "  </svg>\n",
              "      </button>\n",
              "      \n",
              "  <style>\n",
              "    .colab-df-container {\n",
              "      display:flex;\n",
              "      flex-wrap:wrap;\n",
              "      gap: 12px;\n",
              "    }\n",
              "\n",
              "    .colab-df-convert {\n",
              "      background-color: #E8F0FE;\n",
              "      border: none;\n",
              "      border-radius: 50%;\n",
              "      cursor: pointer;\n",
              "      display: none;\n",
              "      fill: #1967D2;\n",
              "      height: 32px;\n",
              "      padding: 0 0 0 0;\n",
              "      width: 32px;\n",
              "    }\n",
              "\n",
              "    .colab-df-convert:hover {\n",
              "      background-color: #E2EBFA;\n",
              "      box-shadow: 0px 1px 2px rgba(60, 64, 67, 0.3), 0px 1px 3px 1px rgba(60, 64, 67, 0.15);\n",
              "      fill: #174EA6;\n",
              "    }\n",
              "\n",
              "    [theme=dark] .colab-df-convert {\n",
              "      background-color: #3B4455;\n",
              "      fill: #D2E3FC;\n",
              "    }\n",
              "\n",
              "    [theme=dark] .colab-df-convert:hover {\n",
              "      background-color: #434B5C;\n",
              "      box-shadow: 0px 1px 3px 1px rgba(0, 0, 0, 0.15);\n",
              "      filter: drop-shadow(0px 1px 2px rgba(0, 0, 0, 0.3));\n",
              "      fill: #FFFFFF;\n",
              "    }\n",
              "  </style>\n",
              "\n",
              "      <script>\n",
              "        const buttonEl =\n",
              "          document.querySelector('#df-c55562d6-9ecd-46ad-86dc-4567d6894878 button.colab-df-convert');\n",
              "        buttonEl.style.display =\n",
              "          google.colab.kernel.accessAllowed ? 'block' : 'none';\n",
              "\n",
              "        async function convertToInteractive(key) {\n",
              "          const element = document.querySelector('#df-c55562d6-9ecd-46ad-86dc-4567d6894878');\n",
              "          const dataTable =\n",
              "            await google.colab.kernel.invokeFunction('convertToInteractive',\n",
              "                                                     [key], {});\n",
              "          if (!dataTable) return;\n",
              "\n",
              "          const docLinkHtml = 'Like what you see? Visit the ' +\n",
              "            '<a target=\"_blank\" href=https://colab.research.google.com/notebooks/data_table.ipynb>data table notebook</a>'\n",
              "            + ' to learn more about interactive tables.';\n",
              "          element.innerHTML = '';\n",
              "          dataTable['output_type'] = 'display_data';\n",
              "          await google.colab.output.renderOutput(dataTable, element);\n",
              "          const docLink = document.createElement('div');\n",
              "          docLink.innerHTML = docLinkHtml;\n",
              "          element.appendChild(docLink);\n",
              "        }\n",
              "      </script>\n",
              "    </div>\n",
              "  </div>\n",
              "  "
            ]
          },
          "metadata": {},
          "execution_count": 31
        }
      ],
      "source": [
        "print(x2.shape)\n",
        "# add labels\n",
        "data_x2 = pd.DataFrame(x2, columns = ['x','y'])\n",
        "data_x2['label'] = model.labels_\n",
        "data_x2['orig_label'] = genre\n",
        "data_x2.head()"
      ]
    },
    {
      "cell_type": "code",
      "execution_count": null,
      "metadata": {
        "outputId": "fb96e61b-9289-47e2-a559-36bede8fbba3",
        "colab": {
          "base_uri": "https://localhost:8080/",
          "height": 442
        },
        "id": "036w4Y3y3zXQ"
      },
      "outputs": [
        {
          "output_type": "stream",
          "name": "stderr",
          "text": [
            "/usr/local/lib/python3.7/dist-packages/seaborn/regression.py:592: UserWarning: legend_out is deprecated from the `lmplot` function signature. Please update your code to pass it using `facet_kws`.\n",
            "  warnings.warn(msg, UserWarning)\n"
          ]
        },
        {
          "output_type": "execute_result",
          "data": {
            "text/plain": [
              "<seaborn.axisgrid.FacetGrid at 0x7f3a20262790>"
            ]
          },
          "metadata": {},
          "execution_count": 32
        },
        {
          "output_type": "display_data",
          "data": {
            "text/plain": [
              "<Figure size 435.875x360 with 1 Axes>"
            ],
            "image/png": "[encoded data removed]"
          },
          "metadata": {
            "needs_background": "light"
          }
        }
      ],
      "source": [
        "sb.lmplot(data=data_x2, x='x', y='y', hue='orig_label',fit_reg=False, legend=True, legend_out=True) "
      ]
    },
    {
      "cell_type": "code",
      "execution_count": 34,
      "metadata": {
        "outputId": "ad07d7bd-a6a0-4785-e954-db31aa474ce1",
        "colab": {
          "base_uri": "https://localhost:8080/",
          "height": 441
        },
        "id": "7qU9flua339W"
      },
      "outputs": [
        {
          "output_type": "stream",
          "name": "stderr",
          "text": [
            "/usr/local/lib/python3.7/dist-packages/seaborn/regression.py:592: UserWarning: legend_out is deprecated from the `lmplot` function signature. Please update your code to pass it using `facet_kws`.\n",
            "  warnings.warn(msg, UserWarning)\n"
          ]
        },
        {
          "output_type": "execute_result",
          "data": {
            "text/plain": [
              "<seaborn.axisgrid.FacetGrid at 0x7f3a1babe390>"
            ]
          },
          "metadata": {},
          "execution_count": 34
        },
        {
          "output_type": "display_data",
          "data": {
            "text/plain": [
              "<Figure size 402.375x360 with 1 Axes>"
            ],
            "image/png": "[encoded data removed]"
          },
          "metadata": {
            "needs_background": "light"
          }
        }
      ],
      "source": [
        "sb.lmplot(data=data_x2, x='x', y='y', hue='label',fit_reg=False, legend=True, legend_out=True) "
      ]
    },
    {
      "cell_type": "code",
      "execution_count": null,
      "metadata": {
        "id": "cWlzd3k6XuDs",
        "outputId": "5f61ee8e-4792-4393-d450-e23f58763c10"
      },
      "outputs": [
        {
          "name": "stdout",
          "output_type": "stream",
          "text": [
            "[(0, 861), (1, 105)]\n",
            "[(1, 835), (0, 30)]\n"
          ]
        }
      ],
      "source": [
        "# check some data points - ?? \n",
        "\n",
        "# find index for drama movies\n",
        "index_drama =  select_movies['Genre'].isin(['thriller'])\n",
        "index_comedy = select_movies['Genre'].isin(['western'])\n",
        "\n",
        "print(sorted(Counter(model.labels_[index_drama]).items(),key = \n",
        "             lambda kv:(kv[1], kv[0]), reverse =True))\n",
        "print(sorted(Counter(model.labels_[index_comedy]).items(),key = \n",
        "             lambda kv:(kv[1], kv[0]), reverse =True))\n"
      ]
    },
    {
      "cell_type": "code",
      "execution_count": null,
      "metadata": {
        "id": "QI3ya-ZkXuDt",
        "outputId": "a9414ccf-3468-480f-cb0e-efbce66cf27e"
      },
      "outputs": [
        {
          "name": "stdout",
          "output_type": "stream",
          "text": [
            "(1831, 100)\n"
          ]
        }
      ],
      "source": [
        "# project Tfidf model onto singular value decomposition - LSI transform and then do clustering\n",
        "from sklearn.decomposition import TruncatedSVD\n",
        "\n",
        "dim = 100\n",
        "svd = TruncatedSVD(n_components=dim, n_iter = 10)\n",
        "\n",
        "lsi = svd.fit_transform(tf_idf)\n",
        "print(lsi.shape)"
      ]
    },
    {
      "cell_type": "code",
      "execution_count": null,
      "metadata": {
        "id": "xWTb9rvjXuDu",
        "outputId": "df00cb2c-5e9a-4b5a-d599-0dc8e4d70dea"
      },
      "outputs": [
        {
          "name": "stdout",
          "output_type": "stream",
          "text": [
            "Sum of explained variance ratio: 32%\n",
            "[11.37668659  4.99886657  3.89349417  3.31033615  3.19558691  3.09193352\n",
            "  3.00330526  2.83227131  2.81027512  2.73065076  2.70626273  2.66013061\n",
            "  2.65617477  2.62511866  2.59663756  2.59053353  2.57336299  2.54722217\n",
            "  2.51866679  2.49960796]\n"
          ]
        }
      ],
      "source": [
        "# check singular values\n",
        "\n",
        "explained_variance = svd.explained_variance_ratio_.sum()\n",
        "print(\"Sum of explained variance ratio: %d%%\" % (int(explained_variance * 100)))\n",
        "\n",
        "print(svd.singular_values_[:min(dim,20)])  "
      ]
    },
    {
      "cell_type": "code",
      "execution_count": 13,
      "metadata": {
        "id": "TbwHyAr4XuDu",
        "outputId": "6713643c-cebd-43fa-feed-0d66159266ab",
        "colab": {
          "base_uri": "https://localhost:8080/",
          "height": 235
        }
      },
      "outputs": [
        {
          "output_type": "error",
          "ename": "NameError",
          "evalue": "ignored",
          "traceback": [
            "\u001b[0;31m---------------------------------------------------------------------------\u001b[0m",
            "\u001b[0;31mNameError\u001b[0m                                 Traceback (most recent call last)",
            "\u001b[0;32m<ipython-input-13-3dc97e472637>\u001b[0m in \u001b[0;36m<module>\u001b[0;34m\u001b[0m\n\u001b[1;32m      4\u001b[0m model_lsi = KMeans(n_clusters=k_clusters, init='k-means++', max_iter=200,  \n\u001b[1;32m      5\u001b[0m                         n_init = 50)\n\u001b[0;32m----> 6\u001b[0;31m \u001b[0mmodel_lsi\u001b[0m\u001b[0;34m.\u001b[0m\u001b[0mfit\u001b[0m\u001b[0;34m(\u001b[0m\u001b[0mlsi\u001b[0m\u001b[0;34m)\u001b[0m\u001b[0;34m\u001b[0m\u001b[0;34m\u001b[0m\u001b[0m\n\u001b[0m\u001b[1;32m      7\u001b[0m \u001b[0mprint\u001b[0m\u001b[0;34m(\u001b[0m\u001b[0;34m\"\\nSilhouette Coefficient: %0.3f\"\u001b[0m \u001b[0;34m%\u001b[0m\u001b[0mmetrics\u001b[0m\u001b[0;34m.\u001b[0m\u001b[0msilhouette_score\u001b[0m\u001b[0;34m(\u001b[0m\u001b[0mtf_idf\u001b[0m\u001b[0;34m,\u001b[0m \u001b[0mmodel_lsi\u001b[0m\u001b[0;34m.\u001b[0m\u001b[0mlabels_\u001b[0m\u001b[0;34m,\u001b[0m \u001b[0mmetric\u001b[0m \u001b[0;34m=\u001b[0m \u001b[0;34m\"cosine\"\u001b[0m\u001b[0;34m)\u001b[0m\u001b[0;34m)\u001b[0m\u001b[0;34m\u001b[0m\u001b[0;34m\u001b[0m\u001b[0m\n",
            "\u001b[0;31mNameError\u001b[0m: name 'lsi' is not defined"
          ]
        }
      ],
      "source": [
        "k_clusters = 2\n",
        "#model_lsi = MiniBatchKMeans(n_clusters=k_clusters, init='k-means++', max_iter=200, batch_size=5000, \n",
        "#                       n_init = 10)\n",
        "model_lsi = KMeans(n_clusters=k_clusters, init='k-means++', max_iter=200,  \n",
        "                        n_init = 50)\n",
        "model_lsi.fit(lsi)\n",
        "print(\"\\nSilhouette Coefficient: %0.3f\" %metrics.silhouette_score(tf_idf, model_lsi.labels_, metric = \"cosine\"))"
      ]
    },
    {
      "cell_type": "code",
      "source": [],
      "metadata": {
        "id": "AfhXzed94FIZ"
      },
      "execution_count": null,
      "outputs": []
    },
    {
      "cell_type": "code",
      "execution_count": null,
      "metadata": {
        "id": "PAbdIrwcXuDu",
        "outputId": "ceb10e33-6fb2-4556-b9ca-ebc9250ab47c"
      },
      "outputs": [
        {
          "name": "stdout",
          "output_type": "stream",
          "text": [
            "Homogeneity: 0.418\n",
            "Completeness: 0.431\n",
            "V-measure: 0.424\n",
            "Adjusted Rand-Index: 0.455\n"
          ]
        }
      ],
      "source": [
        "# compute homogeneity with genre labels\n",
        "\n",
        "# get genre for the selected movies\n",
        "genre = select_movies.Genre.copy()\n",
        "genre = pd.Categorical(genre)\n",
        "# labels_genre = genre.codes\n",
        "# print(type(labels_genre), labels_genre.shape)\n",
        "\n",
        "print(\"Homogeneity: %0.3f\"  % metrics.homogeneity_score(genre, model_lsi.labels_))\n",
        "print(\"Completeness: %0.3f\" % metrics.completeness_score(genre, model_lsi.labels_))\n",
        "print(\"V-measure: %0.3f\"    % metrics.v_measure_score(genre, model_lsi.labels_))\n",
        "print(\"Adjusted Rand-Index: %.3f\" % metrics.adjusted_rand_score(genre, model_lsi.labels_))"
      ]
    },
    {
      "cell_type": "code",
      "execution_count": null,
      "metadata": {
        "id": "sXEaifiwXuDv",
        "outputId": "8fe63d8f-57b9-4b58-f98b-cf7aaef1cc05"
      },
      "outputs": [
        {
          "name": "stdout",
          "output_type": "stream",
          "text": [
            "Top top words per cluster:\n",
            "Cluster 0\n",
            "\t police 967\n",
            "\t tells 779\n",
            "\t house 779\n",
            "\t man 771\n",
            "\t later 670\n",
            "\t finds 667\n",
            "\t home 625\n",
            "\t car 608\n",
            "\t father 585\n",
            "\t wife 552\n",
            "Cluster 1\n",
            "\t town 898\n",
            "\t men 879\n",
            "\t man 500\n",
            "\t ranch 491\n",
            "\t killed 476\n",
            "\t gang 466\n",
            "\t father 396\n",
            "\t sheriff 391\n",
            "\t gene 357\n",
            "\t john 337\n"
          ]
        }
      ],
      "source": [
        "# print top topic indices per cluster\n",
        "print(\"Top top words per cluster:\")\n",
        "terms = vect.get_feature_names()\n",
        "\n",
        "# find movies in each cluster, sum up their counts and print the top words\n",
        "for k in range(k_clusters):\n",
        "    index_movies_k = model_lsi.labels_ == k\n",
        "    count_terms_k = sum(counter[index_movies_k,:])   # sum per columns \n",
        "    order_terms = count_terms_k.toarray().argsort()[:,::-1].ravel()  # convert to a 1D array\n",
        "    print('Cluster', k)\n",
        "    \n",
        "    for t in order_terms[:10]:\n",
        "        print('\\t', terms[t], count_terms_k[0,t])\n",
        "\n",
        "#order_centroids = model_lda.cluster_centers_.argsort()[:, ::-1]  # sort and reverse\n",
        "#for i in range(k_clusters):\n",
        "#print(\"Cluster %d:\" % i),\n",
        "#    for ind in order_centroids[i, :5]:  # print first ten terms from the cluster\n",
        "#.   print(ind, model_lda.cluster_centers_[i,ind])"
      ]
    },
    {
      "cell_type": "code",
      "execution_count": null,
      "metadata": {
        "id": "P5XfY6AUXuDv",
        "outputId": "83c1795a-bb14-46d6-bab2-78aded6cc563"
      },
      "outputs": [
        {
          "name": "stdout",
          "output_type": "stream",
          "text": [
            "0 Counter({'western': 835, 'thriller': 268})\n",
            "1 Counter({'thriller': 698, 'western': 30})\n",
            "0.8372474057891862\n"
          ]
        }
      ],
      "source": [
        "# compute purity \n",
        "# in each cluster - find # of dramas/ # commedies \n",
        "# choose the max in each cluster = purity per cluster\n",
        "# sum purity in each cluster/# number of movies\n",
        "import numpy as np\n",
        "\n",
        "purity = np.zeros((k_clusters,1))\n",
        "for c in range(k_clusters):\n",
        "    # extract labeks of each genre and count them\n",
        "    index_cluster = model_lsi.labels_ == c;\n",
        "    count_genre = Counter(genre[index_cluster])\n",
        "    print(c, count_genre)\n",
        "    purity[c] = max(count_genre.values())\n",
        "\n",
        "total_purity = np.sum(purity)/len(genre)\n",
        "print(total_purity)"
      ]
    },
    {
      "cell_type": "code",
      "execution_count": 29,
      "metadata": {
        "id": "y5qfz0HfXuDw"
      },
      "outputs": [],
      "source": [
        "# plot clusters\n",
        "import seaborn as sb\n",
        "import matplotlib.pyplot as plt\n",
        "\n",
        "from sklearn.decomposition import TruncatedSVD\n",
        "pca = TruncatedSVD(n_components = 2)\n",
        "#print('explained variance')\n",
        "pca.fit(tf_idf)\n",
        "x2 = pca.transform(tf_idf)"
      ]
    },
    {
      "cell_type": "code",
      "execution_count": 31,
      "metadata": {
        "id": "mjTtpW3tXuDx",
        "outputId": "5e6067b6-9020-4eac-adc6-0fc7457f59e7",
        "colab": {
          "base_uri": "https://localhost:8080/",
          "height": 223
        }
      },
      "outputs": [
        {
          "output_type": "stream",
          "name": "stdout",
          "text": [
            "(1831, 2)\n"
          ]
        },
        {
          "output_type": "execute_result",
          "data": {
            "text/plain": [
              "          x         y  label orig_label\n",
              "0  0.206739  0.044374      0    western\n",
              "1  0.236199  0.138594      0    western\n",
              "2  0.109489  0.045146      0    western\n",
              "3  0.080366  0.037103      0    western\n",
              "4  0.225288  0.040668      0    western"
            ],
            "text/html": [
              "\n",
              "  <div id=\"df-c55562d6-9ecd-46ad-86dc-4567d6894878\">\n",
              "    <div class=\"colab-df-container\">\n",
              "      <div>\n",
              "<style scoped>\n",
              "    .dataframe tbody tr th:only-of-type {\n",
              "        vertical-align: middle;\n",
              "    }\n",
              "\n",
              "    .dataframe tbody tr th {\n",
              "        vertical-align: top;\n",
              "    }\n",
              "\n",
              "    .dataframe thead th {\n",
              "        text-align: right;\n",
              "    }\n",
              "</style>\n",
              "<table border=\"1\" class=\"dataframe\">\n",
              "  <thead>\n",
              "    <tr style=\"text-align: right;\">\n",
              "      <th></th>\n",
              "      <th>x</th>\n",
              "      <th>y</th>\n",
              "      <th>label</th>\n",
              "      <th>orig_label</th>\n",
              "    </tr>\n",
              "  </thead>\n",
              "  <tbody>\n",
              "    <tr>\n",
              "      <th>0</th>\n",
              "      <td>0.206739</td>\n",
              "      <td>0.044374</td>\n",
              "      <td>0</td>\n",
              "      <td>western</td>\n",
              "    </tr>\n",
              "    <tr>\n",
              "      <th>1</th>\n",
              "      <td>0.236199</td>\n",
              "      <td>0.138594</td>\n",
              "      <td>0</td>\n",
              "      <td>western</td>\n",
              "    </tr>\n",
              "    <tr>\n",
              "      <th>2</th>\n",
              "      <td>0.109489</td>\n",
              "      <td>0.045146</td>\n",
              "      <td>0</td>\n",
              "      <td>western</td>\n",
              "    </tr>\n",
              "    <tr>\n",
              "      <th>3</th>\n",
              "      <td>0.080366</td>\n",
              "      <td>0.037103</td>\n",
              "      <td>0</td>\n",
              "      <td>western</td>\n",
              "    </tr>\n",
              "    <tr>\n",
              "      <th>4</th>\n",
              "      <td>0.225288</td>\n",
              "      <td>0.040668</td>\n",
              "      <td>0</td>\n",
              "      <td>western</td>\n",
              "    </tr>\n",
              "  </tbody>\n",
              "</table>\n",
              "</div>\n",
              "      <button class=\"colab-df-convert\" onclick=\"convertToInteractive('df-c55562d6-9ecd-46ad-86dc-4567d6894878')\"\n",
              "              title=\"Convert this dataframe to an interactive table.\"\n",
              "              style=\"display:none;\">\n",
              "        \n",
              "  <svg xmlns=\"http://www.w3.org/2000/svg\" height=\"24px\"viewBox=\"0 0 24 24\"\n",
              "       width=\"24px\">\n",
              "    <path d=\"M0 0h24v24H0V0z\" fill=\"none\"/>\n",
              "    <path d=\"M18.56 5.44l.94 2.06.94-2.06 2.06-.94-2.06-.94-.94-2.06-.94 2.06-2.06.94zm-11 1L8.5 8.5l.94-2.06 2.06-.94-2.06-.94L8.5 2.5l-.94 2.06-2.06.94zm10 10l.94 2.06.94-2.06 2.06-.94-2.06-.94-.94-2.06-.94 2.06-2.06.94z\"/><path d=\"M17.41 7.96l-1.37-1.37c-.4-.4-.92-.59-1.43-.59-.52 0-1.04.2-1.43.59L10.3 9.45l-7.72 7.72c-.78.78-.78 2.05 0 2.83L4 21.41c.39.39.9.59 1.41.59.51 0 1.02-.2 1.41-.59l7.78-7.78 2.81-2.81c.8-.78.8-2.07 0-2.86zM5.41 20L4 18.59l7.72-7.72 1.47 1.35L5.41 20z\"/>\n",
              "  </svg>\n",
              "      </button>\n",
              "      \n",
              "  <style>\n",
              "    .colab-df-container {\n",
              "      display:flex;\n",
              "      flex-wrap:wrap;\n",
              "      gap: 12px;\n",
              "    }\n",
              "\n",
              "    .colab-df-convert {\n",
              "      background-color: #E8F0FE;\n",
              "      border: none;\n",
              "      border-radius: 50%;\n",
              "      cursor: pointer;\n",
              "      display: none;\n",
              "      fill: #1967D2;\n",
              "      height: 32px;\n",
              "      padding: 0 0 0 0;\n",
              "      width: 32px;\n",
              "    }\n",
              "\n",
              "    .colab-df-convert:hover {\n",
              "      background-color: #E2EBFA;\n",
              "      box-shadow: 0px 1px 2px rgba(60, 64, 67, 0.3), 0px 1px 3px 1px rgba(60, 64, 67, 0.15);\n",
              "      fill: #174EA6;\n",
              "    }\n",
              "\n",
              "    [theme=dark] .colab-df-convert {\n",
              "      background-color: #3B4455;\n",
              "      fill: #D2E3FC;\n",
              "    }\n",
              "\n",
              "    [theme=dark] .colab-df-convert:hover {\n",
              "      background-color: #434B5C;\n",
              "      box-shadow: 0px 1px 3px 1px rgba(0, 0, 0, 0.15);\n",
              "      filter: drop-shadow(0px 1px 2px rgba(0, 0, 0, 0.3));\n",
              "      fill: #FFFFFF;\n",
              "    }\n",
              "  </style>\n",
              "\n",
              "      <script>\n",
              "        const buttonEl =\n",
              "          document.querySelector('#df-c55562d6-9ecd-46ad-86dc-4567d6894878 button.colab-df-convert');\n",
              "        buttonEl.style.display =\n",
              "          google.colab.kernel.accessAllowed ? 'block' : 'none';\n",
              "\n",
              "        async function convertToInteractive(key) {\n",
              "          const element = document.querySelector('#df-c55562d6-9ecd-46ad-86dc-4567d6894878');\n",
              "          const dataTable =\n",
              "            await google.colab.kernel.invokeFunction('convertToInteractive',\n",
              "                                                     [key], {});\n",
              "          if (!dataTable) return;\n",
              "\n",
              "          const docLinkHtml = 'Like what you see? Visit the ' +\n",
              "            '<a target=\"_blank\" href=https://colab.research.google.com/notebooks/data_table.ipynb>data table notebook</a>'\n",
              "            + ' to learn more about interactive tables.';\n",
              "          element.innerHTML = '';\n",
              "          dataTable['output_type'] = 'display_data';\n",
              "          await google.colab.output.renderOutput(dataTable, element);\n",
              "          const docLink = document.createElement('div');\n",
              "          docLink.innerHTML = docLinkHtml;\n",
              "          element.appendChild(docLink);\n",
              "        }\n",
              "      </script>\n",
              "    </div>\n",
              "  </div>\n",
              "  "
            ]
          },
          "metadata": {},
          "execution_count": 31
        }
      ],
      "source": [
        "print(x2.shape)\n",
        "# add labels\n",
        "data_x2 = pd.DataFrame(x2, columns = ['x','y'])\n",
        "data_x2['label'] = model.labels_\n",
        "data_x2['orig_label'] = genre\n",
        "data_x2.head()"
      ]
    },
    {
      "cell_type": "code",
      "execution_count": 32,
      "metadata": {
        "id": "eE4petFnXuDx",
        "outputId": "fb96e61b-9289-47e2-a559-36bede8fbba3",
        "colab": {
          "base_uri": "https://localhost:8080/",
          "height": 441
        }
      },
      "outputs": [
        {
          "output_type": "stream",
          "name": "stderr",
          "text": [
            "/usr/local/lib/python3.7/dist-packages/seaborn/regression.py:592: UserWarning: legend_out is deprecated from the `lmplot` function signature. Please update your code to pass it using `facet_kws`.\n",
            "  warnings.warn(msg, UserWarning)\n"
          ]
        },
        {
          "output_type": "execute_result",
          "data": {
            "text/plain": [
              "<seaborn.axisgrid.FacetGrid at 0x7f3a20262790>"
            ]
          },
          "metadata": {},
          "execution_count": 32
        },
        {
          "output_type": "display_data",
          "data": {
            "text/plain": [
              "<Figure size 435.875x360 with 1 Axes>"
            ],
            "image/png": "[encoded data removed]"
          },
          "metadata": {
            "needs_background": "light"
          }
        }
      ],
      "source": [
        "sb.lmplot(data=data_x2, x='x', y='y', hue='orig_label',fit_reg=False, legend=True, legend_out=True) "
      ]
    },
    {
      "cell_type": "code",
      "source": [
        "sb.lmplot(data=data_x2, x='x', y='y', hue='label',fit_reg=False, legend=True, legend_out=True) "
      ],
      "metadata": {
        "colab": {
          "base_uri": "https://localhost:8080/",
          "height": 441
        },
        "id": "SQD-IxNd2qWv",
        "outputId": "c9d3207a-5416-4b6c-e799-5e87b295e73d"
      },
      "execution_count": 33,
      "outputs": [
        {
          "output_type": "stream",
          "name": "stderr",
          "text": [
            "/usr/local/lib/python3.7/dist-packages/seaborn/regression.py:592: UserWarning: legend_out is deprecated from the `lmplot` function signature. Please update your code to pass it using `facet_kws`.\n",
            "  warnings.warn(msg, UserWarning)\n"
          ]
        },
        {
          "output_type": "execute_result",
          "data": {
            "text/plain": [
              "<seaborn.axisgrid.FacetGrid at 0x7f3a1d879890>"
            ]
          },
          "metadata": {},
          "execution_count": 33
        },
        {
          "output_type": "display_data",
          "data": {
            "text/plain": [
              "<Figure size 402.375x360 with 1 Axes>"
            ],
            "image/png": "[encoded data removed]"
          },
          "metadata": {
            "needs_background": "light"
          }
        }
      ]
    },
    {
      "cell_type": "code",
      "execution_count": null,
      "metadata": {
        "id": "T97ucPhiXuDx",
        "outputId": "e629bfda-a1d7-4272-bae4-e05941eb79d7"
      },
      "outputs": [
        {
          "name": "stdout",
          "output_type": "stream",
          "text": [
            "[(9, 283), (5, 95), (2, 75), (8, 68), (6, 21), (4, 15), (1, 5), (0, 5), (7, 1)]\n",
            "[(9, 1689), (2, 819), (6, 696), (8, 402), (1, 214), (0, 211), (5, 168), (4, 105), (7, 73), (3, 2)]\n",
            "[(0, 2097), (9, 1822), (8, 622), (2, 490), (7, 370), (3, 247), (1, 207), (6, 115), (5, 78), (4, 35)]\n"
          ]
        }
      ],
      "source": [
        "# get terms in each cluster\n",
        "# check some data points\n",
        "import operator\n",
        "\n",
        "\n",
        "# find index for drama movies\n",
        "index_drama   = select_movies['Genre'].isin(['crime'])\n",
        "index_comedy  = select_movies['Genre'].isin(['comedy'])\n",
        "index_unknown = select_movies['Genre'].isin(['unknown'])\n",
        "\n",
        "count_clusters_crime  =  Counter(model_lsi.labels_[index_drama])\n",
        "count_clusters_comedy =  Counter(model_lsi.labels_[index_comedy])\n",
        "count_clusters_unknown = Counter(model_lsi.labels_[index_unknown])\n",
        "\n",
        "sort_crime = sorted(count_clusters_crime.items(), key =  lambda kv: kv[1], reverse =True)\n",
        "sort_comedy = sorted(count_clusters_comedy.items(), key =  lambda kv: kv[1], reverse =True)\n",
        "sort_unknown = sorted(count_clusters_unknown.items(), key =  lambda kv: kv[1], reverse =True)\n",
        "\n",
        "\n",
        "print(sort_crime)\n",
        "print(sort_comedy)\n",
        "print(sort_unknown)\n"
      ]
    },
    {
      "cell_type": "code",
      "execution_count": null,
      "metadata": {
        "id": "tNouSILKXuDy",
        "outputId": "60689bed-319d-497b-bfe9-44fcbd67d221"
      },
      "outputs": [
        {
          "name": "stdout",
          "output_type": "stream",
          "text": [
            "(1831, 20)\n",
            "(20, 1000)\n"
          ]
        }
      ],
      "source": [
        "# LDA with sklearn\n",
        "from sklearn.decomposition import LatentDirichletAllocation\n",
        "\n",
        "num_of_topics = 20\n",
        "lda_transf = LatentDirichletAllocation(\n",
        "            n_components = num_of_topics, max_iter= 10, \n",
        "            learning_method = 'online', batch_size = 1000)   # 'online' - faster, uses subset of data\n",
        "lda = lda_transf.fit_transform(counter)\n",
        "print(lda.shape)\n",
        "print(lda_transf.components_.shape)"
      ]
    },
    {
      "cell_type": "code",
      "execution_count": null,
      "metadata": {
        "id": "4Lj3fiteXuDy",
        "outputId": "56347bd0-32ff-4b31-a334-acc855151201"
      },
      "outputs": [
        {
          "name": "stdout",
          "output_type": "stream",
          "text": [
            "[0.00147089 0.00147095 0.00147094 0.00147108 0.2024499  0.00147083\n",
            " 0.78578252 0.00147087 0.00147105 0.00147096]\n"
          ]
        }
      ],
      "source": [
        "# get distribution of each document over the 10 topics\n",
        "print(lda[100,:])\n"
      ]
    },
    {
      "cell_type": "code",
      "execution_count": null,
      "metadata": {
        "id": "0qFaJXeKXuDy",
        "outputId": "046a957a-7170-4b2b-fe3b-e5c36c47f148"
      },
      "outputs": [
        {
          "name": "stdout",
          "output_type": "stream",
          "text": [
            "Topic 0:\n",
            "['helen', 'dr', 'kid', 'clay', 'anna', 'john', 'william', 'ward', 'grant', 'young']\n",
            "Topic 1:\n",
            "['lisa', 'money', 'steve', 'house', 'love', 'police', 'tries', 'finds', 'friend', 'body']\n",
            "Topic 2:\n",
            "['jason', 'kevin', 'charles', 'tom', 'rachel', 'harris', 'kansas', 'hunter', 'horse', 'ranch']\n",
            "Topic 3:\n",
            "['jeff', 'sara', 'frank', 'sarah', 'dylan', 'wyatt', 'jim', 'jonathan', 'money', 'train']\n",
            "Topic 4:\n",
            "['gene', 'gold', 'men', 'gang', 'ranch', 'posse', 'town', 'money', 'bank', 'escape']\n",
            "Topic 5:\n",
            "['joe', 'bob', 'cole', 'martha', 'jackson', 'jill', 'ruth', 'town', 'terry', 'men']\n",
            "Topic 6:\n",
            "['tom', 'john', 'johnny', 'mary', 'mrs', 'tex', 'boys', 'gang', 'town', 'claire']\n",
            "Topic 7:\n",
            "['ben', 'nick', 'matt', 'peter', 'alex', 'amy', 'husband', 'goes', 'men', 'tells']\n",
            "Topic 8:\n",
            "['police', 'house', 'man', 'tells', 'car', 'jack', 'later', 'finds', 'home', 'wife']\n",
            "Topic 9:\n",
            "['men', 'man', 'group', 'killed', 'train', 'kill', 'woman', 'war', 'town', 'kills']\n",
            "Topic 10:\n",
            "['henry', 'jim', 'jo', 'alice', 'gil', 'eddie', 'angela', 'hannah', 'mark', 'carter']\n",
            "Topic 11:\n",
            "['sam', 'billy', 'karl', 'jesse', 'max', 'lori', 'tracy', 'jr', 'andy', 'caroline']\n",
            "Topic 12:\n",
            "['chris', 'karthik', 'village', 'bandits', 'men', 'jim', 'lee', 'power', 'women', 'group']\n",
            "Topic 13:\n",
            "['charlie', 'laura', 'susan', 'wade', 'ray', 'lucy', 'logan', 'evans', 'patrick', 'farrell']\n",
            "Topic 14:\n",
            "['paul', 'karen', 'harry', 'jerry', 'jennifer', 'arjun', 'mike', 'drug', 'connie', 'edward']\n",
            "Topic 15:\n",
            "['michael', 'julia', 'jim', 'arthur', 'eric', 'rachel', 'roman', 'mike', 'matthew', 'lily']\n",
            "Topic 16:\n",
            "['david', 'tim', 'jessie', 'steven', 'emily', 'norman', 'blake', 'president', 'kelly', 'jonas']\n",
            "Topic 17:\n",
            "['town', 'jake', 'morgan', 'rick', 'kate', 'gun', 'doc', 'clint', 'marshal', 'men']\n",
            "Topic 18:\n",
            "['martin', 'jane', 'truck', 'daniel', 'road', 'car', 'big', 'driver', 'julie', 'red']\n",
            "Topic 19:\n",
            "['town', 'men', 'ranch', 'sheriff', 'killed', 'cattle', 'war', 'army', 'man', 'fort']\n"
          ]
        }
      ],
      "source": [
        "# get largest distribution of words over topics\n",
        "feature_names = vect.get_feature_names()  # feature_names - array of 8955 components\n",
        "for topic_idx, topic in enumerate(lda_transf.components_):\n",
        "        print(\"Topic %d:\" % (topic_idx))\n",
        "        words = []\n",
        "        for i in topic.argsort()[:-10 - 1:-1]:\n",
        "            words.append(feature_names[i])\n",
        "        print(words)"
      ]
    },
    {
      "cell_type": "code",
      "execution_count": null,
      "metadata": {
        "id": "CJI4YMPHXuDz",
        "outputId": "76590fc9-b906-4b03-b211-b2319e9310da"
      },
      "outputs": [
        {
          "name": "stdout",
          "output_type": "stream",
          "text": [
            "[0.06133079 0.05351509 0.06795695 0.02151056 0.06192285 0.02959826\n",
            " 0.01132539 0.0187393  0.02771013 0.02848709 0.14116545 0.00581557\n",
            " 0.05984478 0.01383142 0.25049446 0.0209323  0.01218169 0.01394667\n",
            " 0.02111916 0.07857209]\n",
            "[0.13440892 0.08764203 0.20724195 0.03307539 0.05983403 0.03223683\n",
            " 0.008736   0.01544125 0.03033841 0.02672954 0.05361401 0.00571262\n",
            " 0.05818815 0.01430997 0.04108809 0.02031248 0.01164555 0.02653082\n",
            " 0.03573008 0.09718386]\n",
            "[0.07991179 0.16688353 0.12245319 0.21360944 0.04537491 0.03224628\n",
            " 0.00693909 0.00689734 0.00954376 0.02394355 0.03247384 0.00893626\n",
            " 0.03133146 0.00655922 0.06957701 0.00523063 0.01204469 0.02401892\n",
            " 0.08508343 0.01694167]\n"
          ]
        }
      ],
      "source": [
        "# get distribution of drama and comedy films over topics\n",
        "import numpy as np\n",
        "\n",
        "index_drama =  selected_movies['Genre'].isin(['crime'])\n",
        "index_comedy = selected_movies['Genre'].isin(['comedy'])\n",
        "index_other  = selected_movies['Genre'].isin(['unknown'])\n",
        "\n",
        "print(lda[index_drama].mean(axis = 0))\n",
        "print(lda[index_comedy].mean(axis = 0))\n",
        "print(lda[index_other].mean(axis = 0))"
      ]
    },
    {
      "cell_type": "code",
      "execution_count": null,
      "metadata": {
        "id": "wJV7_M2pXuDz",
        "outputId": "338566bc-fc16-4c54-e015-3b4141f52a59"
      },
      "outputs": [
        {
          "data": {
            "text/plain": [
              "MiniBatchKMeans(batch_size=1000, max_iter=200, n_clusters=2, n_init=10)"
            ]
          },
          "execution_count": 96,
          "metadata": {},
          "output_type": "execute_result"
        }
      ],
      "source": [
        "# cluster based on LDA\n",
        "k_clusters = 2\n",
        "model_lda = MiniBatchKMeans(n_clusters=k_clusters, init='k-means++', max_iter=200, batch_size=1000, \n",
        "                        n_init = 10)\n",
        "model_lda.fit(lda)"
      ]
    },
    {
      "cell_type": "code",
      "execution_count": null,
      "metadata": {
        "id": "hp1t6aQmXuDz",
        "outputId": "1ebfb2ef-8a9a-4c9c-d76b-78998a50a0b8"
      },
      "outputs": [
        {
          "name": "stdout",
          "output_type": "stream",
          "text": [
            "Homogeneity: 0.318\n",
            "Completeness: 0.348\n",
            "V-measure: 0.332\n",
            "Adjusted Rand-Index: 0.302\n"
          ]
        }
      ],
      "source": [
        "# compute homogeneity with genre labels\n",
        "\n",
        "# get genre for the selected movies\n",
        "genre = selected_movies.Genre.copy()\n",
        "genre = pd.Categorical(genre)\n",
        "# labels_genre = genre.codes\n",
        "# print(type(labels_genre), labels_genre.shape)\n",
        "\n",
        "print(\"Homogeneity: %0.3f\"  % metrics.homogeneity_score(genre, model_lda.labels_))\n",
        "print(\"Completeness: %0.3f\" % metrics.completeness_score(genre, model_lda.labels_))\n",
        "print(\"V-measure: %0.3f\"    % metrics.v_measure_score(genre, model_lda.labels_))\n",
        "print(\"Adjusted Rand-Index: %.3f\" % metrics.adjusted_rand_score(genre, model_lda.labels_))"
      ]
    },
    {
      "cell_type": "code",
      "execution_count": null,
      "metadata": {
        "id": "WaLvDiQjXuDz",
        "outputId": "c84697a0-8c45-4217-f0da-6cac27ecdf82"
      },
      "outputs": [
        {
          "name": "stdout",
          "output_type": "stream",
          "text": [
            "0 Counter({'western': 843, 'thriller': 390})\n",
            "1 Counter({'thriller': 576, 'western': 22})\n",
            "0.774986346258875\n"
          ]
        }
      ],
      "source": [
        "# compute purity \n",
        "# in each cluster - find # of dramas/ # commedies \n",
        "# choose the max in each cluster = purity per cluster\n",
        "# sum purity in each cluster/# number of movies\n",
        "import numpy as np\n",
        "\n",
        "#print(genre.shape, index_cluster1.shape, index_cluster2.shape)\n",
        "purity = np.zeros((k_clusters,1))\n",
        "for c in range(k_clusters):\n",
        "    # extract labeks of each genre and count them\n",
        "    index_cluster = model_lda.labels_ == c;\n",
        "    count_genre = Counter(genre[index_cluster])\n",
        "    print(c, count_genre)\n",
        "    purity[c] = max(count_genre.values())\n",
        "\n",
        "total_purity = np.sum(purity)/len(genre)\n",
        "print(total_purity)"
      ]
    },
    {
      "cell_type": "code",
      "execution_count": null,
      "metadata": {
        "id": "lJwwDM8UXuD1",
        "outputId": "cabddef7-3fcb-4ff2-f166-69d425bb606c"
      },
      "outputs": [
        {
          "name": "stdout",
          "output_type": "stream",
          "text": [
            "Top topic indices per cluster:\n",
            "Cluster 0:\n",
            "9 0.4221994235929714\n",
            "10 0.06663026725569314\n",
            "19 0.06101264107765858\n",
            "12 0.055693570566070785\n",
            "4 0.046813705108514424\n",
            "Cluster 1:\n",
            "14 0.3118490779208042\n",
            "10 0.135482348368683\n",
            "19 0.06760445219950605\n",
            "0 0.06056345843602185\n",
            "2 0.05995493746572067\n",
            "Cluster 2:\n",
            "3 0.47380302333471713\n",
            "1 0.1590969321525035\n",
            "14 0.07027183126831037\n",
            "2 0.06763853984228954\n",
            "0 0.05233643964613286\n",
            "Cluster 3:\n",
            "5 0.3354123265694002\n",
            "0 0.09532841300036224\n",
            "12 0.07923350212374386\n",
            "2 0.06204251082006643\n",
            "1 0.05365243380523477\n",
            "Cluster 4:\n",
            "4 0.4501876430265231\n",
            "2 0.07024905299808681\n",
            "17 0.05276770277018553\n",
            "0 0.045419732905804845\n",
            "9 0.043156412951773276\n",
            "Cluster 5:\n",
            "0 0.4601834014408931\n",
            "2 0.0808436134342607\n",
            "1 0.061290924615599277\n",
            "19 0.0554040504742478\n",
            "12 0.040660721842034085\n",
            "Cluster 6:\n",
            "2 0.5110900924263934\n",
            "0 0.0566580310484818\n",
            "1 0.05625868690453718\n",
            "19 0.049852684176594796\n",
            "4 0.03372263080546655\n",
            "Cluster 7:\n",
            "1 0.4627882932537935\n",
            "3 0.08866726514452904\n",
            "2 0.07096231596833118\n",
            "0 0.06783987672222201\n",
            "19 0.04356038001943328\n",
            "Cluster 8:\n",
            "18 0.45948979885843594\n",
            "2 0.06429371359602193\n",
            "1 0.05898713856638105\n",
            "3 0.050771319144228645\n",
            "17 0.0482081695294025\n",
            "Cluster 9:\n",
            "12 0.1997891417414814\n",
            "17 0.1386062956640529\n",
            "19 0.10473136775366226\n",
            "10 0.06569673283932928\n",
            "2 0.05931231045565327\n"
          ]
        }
      ],
      "source": [
        "# print top topic indices per cluster\n",
        "print(\"Top topic indices per cluster:\")\n",
        "order_centroids = model_lda.cluster_centers_.argsort()[:, ::-1]  # sort and reverse\n",
        "\n",
        "for i in range(k_clusters):\n",
        "    print(\"Cluster %d:\" % i),\n",
        "    for ind in order_centroids[i, :5]:  # print first ten terms from the cluster\n",
        "        print(ind, model_lda.cluster_centers_[i,ind])\n",
        "  "
      ]
    },
    {
      "cell_type": "code",
      "execution_count": null,
      "metadata": {
        "id": "qQMPq5GtXuD2",
        "outputId": "87c10fe3-dc52-4939-9ddf-3d7cbc1635cc"
      },
      "outputs": [
        {
          "name": "stdout",
          "output_type": "stream",
          "text": [
            "Original movie\n",
            "Star Wars Episode IV: A New Hope (aka Star Wars) \n",
            "\n",
            "\t The galaxy is in the midst of a civil war. Spies for the Rebel Alliance have stolen plans to the Galactic Empire's Death Star, a space station capable of destroying an entire planet. Rebel leader Princess Leia has the plans, but her ship is captured by Imperial forces under the command of the ruthless Sith Lord, Darth Vader. Before she is captured, Leia hides the plans in the memory of an astromech droid, R2-D2, along with a holographic recording. R2-D2 flees to the desert planet Tatooine with C-3PO, a protocol droid.\n",
            "The droids are captured by Jawa traders, who sell them to moisture farmers Owen and Beru Lars, and their nephew Luke Skywalker. While cleaning R2-D2, Luke accidentally triggers part of Leia's message, in which she requests help from Obi-Wan Kenobi. The next morning, Luke finds R2-D2 missing, and meets Ben Kenobi, an old hermit who lives in the hills, and reveals himself to be Obi-Wan. Obi-Wan tells Luke of his days as one of the Jedi Knights, former Galactic Republic peacekeepers with supernatural powers derived from an energy called the Force, who were all but wiped out by the Empire. Contrary to his uncle's statements, Luke learns that his father fought alongside Obi-Wan as a Jedi Knight. Obi-Wan tells Luke that Vader was his former pupil, who turned to the dark side of the Force and murdered Luke's father. Obi-Wan then presents to Luke his father's weapon – a lightsaber.\n",
            "Obi-Wan views Leia's complete message, in which she begs him to take the Death Star plans to her home planet of Alderaan and give them to her father for analysis. Obi-Wan invites Luke to accompany him to Alderaan and learn the ways of the Force. Luke declines, but changes his mind after discovering that Imperial stormtroopers have destroyed the moisture farm, killing his aunt and uncle. Obi-Wan and Luke travel to Mos Eisley, where they meet smuggler Han Solo and his Wookiee first mate Chewbacca at a Cantina. They join forces and board the Millennium Falcon.\n",
            "Upon the Falcon's arrival at the location of Alderaan, the group discovers that the planet has been destroyed by the Death Star's superlaser on order of the commanding officer, Grand Moff Tarkin, as a show of power. The Falcon is captured by the Death Star's tractor beam, and brought into its hangar bay. While Obi-Wan goes to disable the tractor beam, Luke discovers that Leia is imprisoned aboard, and with the help of Han and Chewbacca, Luke rescues her. After several escapes, the group makes its way back to the Falcon. On the way back to the Falcon, Obi-Wan engages in a lightsaber duel with Vader. To ensure the rest of the team escapes the Death Star alive, Obi-Wan sacrifices himself at the hands of Darth Vader. The Falcon escapes from the Death Star, unknowingly carrying a tracking beacon, which the Empire follows to the Rebels' hidden base on Yavin IV.\n",
            "The Rebels analyze the Death Star's plans and identify a vulnerable exhaust port that connects to the station's main reactor, and that the Death Star can be destroyed through a chain reaction. Luke joins the Rebel's squadron, while Han collects his payment for the transport and intends to leave, despite Luke's request that he should stay and help. In the ensuing battle, the Rebels suffer heavy losses after several unsuccessful attack runs, leaving Luke as one of the few surviving pilots. Vader leads a squadron of TIE fighters and prepares to attack Luke's X-wing fighter, but Han returns and fires at the Imperials, sending Vader spiraling away. Helped by guidance from Obi-Wan's spirit, Luke uses the Force to destroy the Death Star seconds before it can fire on the Rebel base. Back on Yavin IV, Leia awards Luke and Han with medals for their heroism.\n",
            "\n",
            "tf-idf most similar\n",
            "Most similar movie: 0.4137032508206293 8174\n",
            "Return of the Jedi \n",
            "\n",
            "\t Luke Skywalker initiates a plan to rescue Han Solo from the crime lord Jabba the Hutt with the help of Princess Leia, Lando Calrissian, Chewbacca, C-3PO, and R2-D2. Leia infiltrates Jabba's palace on Tatooine, disguised as a bounty hunter, with Chewbacca as her prisoner. Leia releases Han from his carbonite prison, but she is captured and enslaved. Luke arrives soon afterward, but is also captured after a tense standoff. After Luke survives his battle with Jabba's Rancor, Jabba sentences him and Han to death by feeding them to the Sarlacc. Luke frees himself and battles Jabba's guards. During the chaos, Leia strangles Jabba to death, and Luke destroys Jabba's sail barge as the group escapes. While the others rendezvous with the Rebel Alliance, Luke returns to Dagobah where he finds that Yoda is dying. Before he dies, Yoda confirms that Darth Vader, once known as Anakin Skywalker, is Luke's father, and that there is \"another Skywalker\". The spirit of Obi-Wan Kenobi confirms that this other Skywalker is Leia, who is Luke's twin sister. Obi-Wan tells Luke that he must fight Vader again to defeat the Empire.\n",
            "The Rebel Alliance learns that the Empire has been constructing a new Death Star under the supervision of the Emperor himself. As the station is protected by an energy shield, Han leads a strike team to destroy the shield generator on the forest moon of Endor; doing so would allow a squadron of starfighters to destroy the Death Star. The strike team, accompanied by Luke and Leia, travels to Endor in a stolen Imperial shuttle. On Endor, Luke and his companions encounter a tribe of Ewoks and, after an initial conflict, gain their trust. Later, Luke tells Leia that she is his sister, Vader is their father, and that he must go and confront him. Surrendering to Imperial troops, Luke is brought to Vader and unsuccessfully tries to convince him to turn from the dark side of the Force.\n",
            "Vader takes Luke to the Death Star to meet the Emperor, intent on turning him to the dark side. The Emperor reveals that the Death Star is actually fully operational and the rebel fleet will fall into a trap. On Endor, Han's strike team is captured by Imperial forces, but a surprise counterattack by the Ewoks allows the rebels to battle the Imperials. Meanwhile, Lando leads the rebel fleet to the Death Star in the Millennium Falcon, only to find out that the shield is still active, and the Imperial fleet is waiting for them. The Emperor tempts Luke to give in to his anger, and Luke engages Vader in a lightsaber duel. Vader senses that Luke has a sister, and threatens to turn her to the dark side. Enraged, Luke attacks Vader and severs his prosthetic right hand. The Emperor entreats Luke to kill Vader and take his place, but Luke refuses, declaring himself a Jedi as his father had been. Furious, the Emperor tortures Luke with Force lightning. Unwilling to let his son die, Vader throws the Emperor down a reactor chute to his death, but Vader is mortally electrocuted in the process. At his last request, Luke removes the redeemed Anakin's mask before he dies peacefully in Luke's arms.\n",
            "As the battle between the Imperial and Alliance fleets continues, the strike team defeats the Imperial forces and destroys the shield generator, allowing the rebel fleet to launch their assault on the Death Star. Lando leads a group of rebel ships into the Death Star's core and destroys the main reactor. As Luke escapes on a shuttle with his father's body, the Falcon flies out of the Death Star's superstructure as the station explodes. On Endor, Leia reveals to Han that Luke is her brother, and they kiss. Luke returns to Endor and cremates Anakin's body on a pyre. As the rebels celebrate their victory over the Empire, Luke smiles as he sees the spirits of Obi-Wan, Yoda, and Anakin watching over them.\n",
            "\n",
            "lsi most similar\n",
            "Most similar movie: 0.17766187579629972 8174\n",
            "Return of the Jedi \n",
            "\n",
            "\t Luke Skywalker initiates a plan to rescue Han Solo from the crime lord Jabba the Hutt with the help of Princess Leia, Lando Calrissian, Chewbacca, C-3PO, and R2-D2. Leia infiltrates Jabba's palace on Tatooine, disguised as a bounty hunter, with Chewbacca as her prisoner. Leia releases Han from his carbonite prison, but she is captured and enslaved. Luke arrives soon afterward, but is also captured after a tense standoff. After Luke survives his battle with Jabba's Rancor, Jabba sentences him and Han to death by feeding them to the Sarlacc. Luke frees himself and battles Jabba's guards. During the chaos, Leia strangles Jabba to death, and Luke destroys Jabba's sail barge as the group escapes. While the others rendezvous with the Rebel Alliance, Luke returns to Dagobah where he finds that Yoda is dying. Before he dies, Yoda confirms that Darth Vader, once known as Anakin Skywalker, is Luke's father, and that there is \"another Skywalker\". The spirit of Obi-Wan Kenobi confirms that this other Skywalker is Leia, who is Luke's twin sister. Obi-Wan tells Luke that he must fight Vader again to defeat the Empire.\n",
            "The Rebel Alliance learns that the Empire has been constructing a new Death Star under the supervision of the Emperor himself. As the station is protected by an energy shield, Han leads a strike team to destroy the shield generator on the forest moon of Endor; doing so would allow a squadron of starfighters to destroy the Death Star. The strike team, accompanied by Luke and Leia, travels to Endor in a stolen Imperial shuttle. On Endor, Luke and his companions encounter a tribe of Ewoks and, after an initial conflict, gain their trust. Later, Luke tells Leia that she is his sister, Vader is their father, and that he must go and confront him. Surrendering to Imperial troops, Luke is brought to Vader and unsuccessfully tries to convince him to turn from the dark side of the Force.\n",
            "Vader takes Luke to the Death Star to meet the Emperor, intent on turning him to the dark side. The Emperor reveals that the Death Star is actually fully operational and the rebel fleet will fall into a trap. On Endor, Han's strike team is captured by Imperial forces, but a surprise counterattack by the Ewoks allows the rebels to battle the Imperials. Meanwhile, Lando leads the rebel fleet to the Death Star in the Millennium Falcon, only to find out that the shield is still active, and the Imperial fleet is waiting for them. The Emperor tempts Luke to give in to his anger, and Luke engages Vader in a lightsaber duel. Vader senses that Luke has a sister, and threatens to turn her to the dark side. Enraged, Luke attacks Vader and severs his prosthetic right hand. The Emperor entreats Luke to kill Vader and take his place, but Luke refuses, declaring himself a Jedi as his father had been. Furious, the Emperor tortures Luke with Force lightning. Unwilling to let his son die, Vader throws the Emperor down a reactor chute to his death, but Vader is mortally electrocuted in the process. At his last request, Luke removes the redeemed Anakin's mask before he dies peacefully in Luke's arms.\n",
            "As the battle between the Imperial and Alliance fleets continues, the strike team defeats the Imperial forces and destroys the shield generator, allowing the rebel fleet to launch their assault on the Death Star. Lando leads a group of rebel ships into the Death Star's core and destroys the main reactor. As Luke escapes on a shuttle with his father's body, the Falcon flies out of the Death Star's superstructure as the station explodes. On Endor, Leia reveals to Han that Luke is her brother, and they kiss. Luke returns to Endor and cremates Anakin's body on a pyre. As the rebels celebrate their victory over the Empire, Luke smiles as he sees the spirits of Obi-Wan, Yoda, and Anakin watching over them.\n",
            "\n",
            "lda most similar\n",
            "Most similar movie: 0.36147885604281865 17663\n",
            "Ninja Terminator \n",
            "\n",
            "\t The members of a ninja empire are in possession of an object of power composed of three individual pieces of a ninja sculpture which, when combined, makes the owner's arms impervious to blades. Other ninjas feel the ninja empire is in need of reform and steal two of the three sculpture pieces. The ninja empire retaliates with threatening messages delivered via tiny robots which demand return of the powerful pieces. Ninja empire minions forge multiple attempts to attack the thieves but are quickly thwarted.\n"
          ]
        }
      ],
      "source": [
        "# find the closest movie to a another movie using tf-idf, lda and lsi embeddings\n",
        "\n",
        "def similar_movie(movie_id, all_embed):\n",
        "    \n",
        "    nr_movies   = all_embed.shape[0]  # number of rows = nr of movies\n",
        "    movie_embed = all_embed[movie_id,:]\n",
        "    \n",
        "    \n",
        "    dist = all_embed.dot(movie_embed.transpose())\n",
        "    dist[movie_id] = 0;\n",
        "    print('Most similar movie:', dist.max(), dist.argmax())\n",
        "    \n",
        "    return dist.argmax()\n",
        "\n",
        "def print_movie(movie_id, all_movies):\n",
        "    index_title = selected_movies.columns.get_loc('Title')\n",
        "    index_plot  = selected_movies.columns.get_loc('Plot')\n",
        "    print(all_movies.iloc[movie_id, index_title],'\\n')\n",
        "    print('\\t', all_movies.iloc[movie_id,index_plot])\n",
        "    \n",
        "movie_id = 7595 # 17663 # Ninja terminator 8244 # Indiana Jones # 7595 - Star wars # 2000\n",
        "print('Original movie')\n",
        "print_movie(movie_id, selected_movies)\n",
        "print('\\ntf-idf most similar')\n",
        "similar_tf_idf = similar_movie(movie_id,tf_idf)\n",
        "print_movie(similar_tf_idf, selected_movies)\n",
        "\n",
        "print('\\nlsi most similar')\n",
        "similar_lsi    = similar_movie(movie_id,lsi)\n",
        "print_movie(similar_lsi, selected_movies)\n",
        "\n",
        "print('\\nlda most similar')\n",
        "similar_lda    = similar_movie(movie_id, lda)\n",
        "print_movie(similar_lda, selected_movies)\n"
      ]
    },
    {
      "cell_type": "markdown",
      "metadata": {
        "id": "hRld5T1mXuD2"
      },
      "source": [
        "print(selected_movies(100))"
      ]
    },
    {
      "cell_type": "code",
      "execution_count": null,
      "metadata": {
        "id": "T5JBA3XzXuD3",
        "outputId": "856112ab-3b05-45a2-aa5d-08b4207143f0"
      },
      "outputs": [
        {
          "name": "stdout",
          "output_type": "stream",
          "text": [
            "[1231, 1948, 1949, 2524, 4915, 5159, 6985, 7663, 9735, 13494, 14103, 14176, 14740]\n",
            "Release Year                                                     1933\n",
            "Title                                               King of the Arena\n",
            "Origin/Ethnicity                                             American\n",
            "Director                                                   Alan James\n",
            "Cast                                       Ken Maynard, Lucile Browne\n",
            "Genre                                                         western\n",
            "Wiki Page             https://en.wikipedia.org/wiki/King_of_the_Arena\n",
            "Plot                A former circus performer, Ken Kenton becomes ...\n",
            "Name: 1538, dtype: object\n"
          ]
        }
      ],
      "source": [
        "# find the index of the star war movie\n",
        "titles = selected_movies['Title']\n",
        "index_found = [i for i,t in enumerate(titles.str.find('Star W')) if t != -1]\n",
        "print(index_found)\n",
        "print(selected_movies.iloc[index_found[0]])"
      ]
    },
    {
      "cell_type": "code",
      "execution_count": null,
      "metadata": {
        "id": "6sjNgFKQXuD3"
      },
      "outputs": [],
      "source": [
        "# show movies in the same cluster"
      ]
    },
    {
      "cell_type": "code",
      "execution_count": null,
      "metadata": {
        "id": "heeuwq-RXuD4"
      },
      "outputs": [],
      "source": []
    }
  ],
  "metadata": {
    "kernelspec": {
      "display_name": "Python 3",
      "language": "python",
      "name": "python3"
    },
    "language_info": {
      "codemirror_mode": {
        "name": "ipython",
        "version": 3
      },
      "file_extension": ".py",
      "mimetype": "text/x-python",
      "name": "python",
      "nbconvert_exporter": "python",
      "pygments_lexer": "ipython3",
      "version": "3.7.3"
    },
    "colab": {
      "provenance": [],
      "collapsed_sections": [],
      "include_colab_link": true
    }
  },
  "nbformat": 4,
  "nbformat_minor": 0
}