{
  "nbformat": 4,
  "nbformat_minor": 0,
  "metadata": {
    "colab": {
      "provenance": [],
      "machine_shape": "hm",
      "gpuType": "A100",
      "authorship_tag": "ABX9TyNmUqgHuDJG5MdCB9uJedUW",
      "include_colab_link": true
    },
    "kernelspec": {
      "name": "python3",
      "display_name": "Python 3"
    },
    "language_info": {
      "name": "python"
    },
    "accelerator": "GPU"
  },
  "cells": [
    {
      "cell_type": "markdown",
      "metadata": {
        "id": "view-in-github",
        "colab_type": "text"
      },
      "source": [
        "<a href=\"https://colab.research.google.com/github/HofstraDoboli/TextMining/blob/main/sentence_transformers.ipynb\" target=\"_parent\"><img src=\"https://colab.research.google.com/assets/colab-badge.svg\" alt=\"Open In Colab\"/></a>"
      ]
    },
    {
      "cell_type": "code",
      "execution_count": 11,
      "metadata": {
        "colab": {
          "base_uri": "https://localhost:8080/"
        },
        "id": "IJiHpELaRHiv",
        "outputId": "cd08a1a8-9372-42cb-b3a3-c3f4485c4786"
      },
      "outputs": [
        {
          "output_type": "stream",
          "name": "stdout",
          "text": [
            "Requirement already satisfied: sentence-transformers in /usr/local/lib/python3.10/dist-packages (3.1.1)\n",
            "Requirement already satisfied: transformers<5.0.0,>=4.38.0 in /usr/local/lib/python3.10/dist-packages (from sentence-transformers) (4.44.2)\n",
            "Requirement already satisfied: tqdm in /usr/local/lib/python3.10/dist-packages (from sentence-transformers) (4.66.5)\n",
            "Requirement already satisfied: torch>=1.11.0 in /usr/local/lib/python3.10/dist-packages (from sentence-transformers) (2.4.1+cu121)\n",
            "Requirement already satisfied: scikit-learn in /usr/local/lib/python3.10/dist-packages (from sentence-transformers) (1.5.2)\n",
            "Requirement already satisfied: scipy in /usr/local/lib/python3.10/dist-packages (from sentence-transformers) (1.13.1)\n",
            "Requirement already satisfied: huggingface-hub>=0.19.3 in /usr/local/lib/python3.10/dist-packages (from sentence-transformers) (0.24.7)\n",
            "Requirement already satisfied: Pillow in /usr/local/lib/python3.10/dist-packages (from sentence-transformers) (10.4.0)\n",
            "Requirement already satisfied: filelock in /usr/local/lib/python3.10/dist-packages (from huggingface-hub>=0.19.3->sentence-transformers) (3.16.1)\n",
            "Requirement already satisfied: fsspec>=2023.5.0 in /usr/local/lib/python3.10/dist-packages (from huggingface-hub>=0.19.3->sentence-transformers) (2024.6.1)\n",
            "Requirement already satisfied: packaging>=20.9 in /usr/local/lib/python3.10/dist-packages (from huggingface-hub>=0.19.3->sentence-transformers) (24.1)\n",
            "Requirement already satisfied: pyyaml>=5.1 in /usr/local/lib/python3.10/dist-packages (from huggingface-hub>=0.19.3->sentence-transformers) (6.0.2)\n",
            "Requirement already satisfied: requests in /usr/local/lib/python3.10/dist-packages (from huggingface-hub>=0.19.3->sentence-transformers) (2.32.3)\n",
            "Requirement already satisfied: typing-extensions>=3.7.4.3 in /usr/local/lib/python3.10/dist-packages (from huggingface-hub>=0.19.3->sentence-transformers) (4.12.2)\n",
            "Requirement already satisfied: sympy in /usr/local/lib/python3.10/dist-packages (from torch>=1.11.0->sentence-transformers) (1.13.3)\n",
            "Requirement already satisfied: networkx in /usr/local/lib/python3.10/dist-packages (from torch>=1.11.0->sentence-transformers) (3.3)\n",
            "Requirement already satisfied: jinja2 in /usr/local/lib/python3.10/dist-packages (from torch>=1.11.0->sentence-transformers) (3.1.4)\n",
            "Requirement already satisfied: numpy>=1.17 in /usr/local/lib/python3.10/dist-packages (from transformers<5.0.0,>=4.38.0->sentence-transformers) (1.26.4)\n",
            "Requirement already satisfied: regex!=2019.12.17 in /usr/local/lib/python3.10/dist-packages (from transformers<5.0.0,>=4.38.0->sentence-transformers) (2024.9.11)\n",
            "Requirement already satisfied: safetensors>=0.4.1 in /usr/local/lib/python3.10/dist-packages (from transformers<5.0.0,>=4.38.0->sentence-transformers) (0.4.5)\n",
            "Requirement already satisfied: tokenizers<0.20,>=0.19 in /usr/local/lib/python3.10/dist-packages (from transformers<5.0.0,>=4.38.0->sentence-transformers) (0.19.1)\n",
            "Requirement already satisfied: joblib>=1.2.0 in /usr/local/lib/python3.10/dist-packages (from scikit-learn->sentence-transformers) (1.4.2)\n",
            "Requirement already satisfied: threadpoolctl>=3.1.0 in /usr/local/lib/python3.10/dist-packages (from scikit-learn->sentence-transformers) (3.5.0)\n",
            "Requirement already satisfied: MarkupSafe>=2.0 in /usr/local/lib/python3.10/dist-packages (from jinja2->torch>=1.11.0->sentence-transformers) (2.1.5)\n",
            "Requirement already satisfied: charset-normalizer<4,>=2 in /usr/local/lib/python3.10/dist-packages (from requests->huggingface-hub>=0.19.3->sentence-transformers) (3.3.2)\n",
            "Requirement already satisfied: idna<4,>=2.5 in /usr/local/lib/python3.10/dist-packages (from requests->huggingface-hub>=0.19.3->sentence-transformers) (3.10)\n",
            "Requirement already satisfied: urllib3<3,>=1.21.1 in /usr/local/lib/python3.10/dist-packages (from requests->huggingface-hub>=0.19.3->sentence-transformers) (2.2.3)\n",
            "Requirement already satisfied: certifi>=2017.4.17 in /usr/local/lib/python3.10/dist-packages (from requests->huggingface-hub>=0.19.3->sentence-transformers) (2024.8.30)\n",
            "Requirement already satisfied: mpmath<1.4,>=1.1.0 in /usr/local/lib/python3.10/dist-packages (from sympy->torch>=1.11.0->sentence-transformers) (1.3.0)\n",
            "Requirement already satisfied: transformers in /usr/local/lib/python3.10/dist-packages (4.44.2)\n",
            "Requirement already satisfied: filelock in /usr/local/lib/python3.10/dist-packages (from transformers) (3.16.1)\n",
            "Requirement already satisfied: huggingface-hub<1.0,>=0.23.2 in /usr/local/lib/python3.10/dist-packages (from transformers) (0.24.7)\n",
            "Requirement already satisfied: numpy>=1.17 in /usr/local/lib/python3.10/dist-packages (from transformers) (1.26.4)\n",
            "Requirement already satisfied: packaging>=20.0 in /usr/local/lib/python3.10/dist-packages (from transformers) (24.1)\n",
            "Requirement already satisfied: pyyaml>=5.1 in /usr/local/lib/python3.10/dist-packages (from transformers) (6.0.2)\n",
            "Requirement already satisfied: regex!=2019.12.17 in /usr/local/lib/python3.10/dist-packages (from transformers) (2024.9.11)\n",
            "Requirement already satisfied: requests in /usr/local/lib/python3.10/dist-packages (from transformers) (2.32.3)\n",
            "Requirement already satisfied: safetensors>=0.4.1 in /usr/local/lib/python3.10/dist-packages (from transformers) (0.4.5)\n",
            "Requirement already satisfied: tokenizers<0.20,>=0.19 in /usr/local/lib/python3.10/dist-packages (from transformers) (0.19.1)\n",
            "Requirement already satisfied: tqdm>=4.27 in /usr/local/lib/python3.10/dist-packages (from transformers) (4.66.5)\n",
            "Requirement already satisfied: fsspec>=2023.5.0 in /usr/local/lib/python3.10/dist-packages (from huggingface-hub<1.0,>=0.23.2->transformers) (2024.6.1)\n",
            "Requirement already satisfied: typing-extensions>=3.7.4.3 in /usr/local/lib/python3.10/dist-packages (from huggingface-hub<1.0,>=0.23.2->transformers) (4.12.2)\n",
            "Requirement already satisfied: charset-normalizer<4,>=2 in /usr/local/lib/python3.10/dist-packages (from requests->transformers) (3.3.2)\n",
            "Requirement already satisfied: idna<4,>=2.5 in /usr/local/lib/python3.10/dist-packages (from requests->transformers) (3.10)\n",
            "Requirement already satisfied: urllib3<3,>=1.21.1 in /usr/local/lib/python3.10/dist-packages (from requests->transformers) (2.2.3)\n",
            "Requirement already satisfied: certifi>=2017.4.17 in /usr/local/lib/python3.10/dist-packages (from requests->transformers) (2024.8.30)\n"
          ]
        }
      ],
      "source": [
        "!pip install sentence-transformers\n",
        "!pip install transformers"
      ]
    },
    {
      "cell_type": "code",
      "source": [
        "import torch\n",
        "DEVICE = torch.device(\"cuda:0\" if torch.cuda.is_available() else \"cpu\")\n",
        "torch.cuda.get_device_name(0)"
      ],
      "metadata": {
        "colab": {
          "base_uri": "https://localhost:8080/",
          "height": 36
        },
        "id": "QS387aOqRgbw",
        "outputId": "ae53dac4-2989-45d6-cfe8-83eccc5e45d2"
      },
      "execution_count": 2,
      "outputs": [
        {
          "output_type": "execute_result",
          "data": {
            "text/plain": [
              "'NVIDIA A100-SXM4-40GB'"
            ],
            "application/vnd.google.colaboratory.intrinsic+json": {
              "type": "string"
            }
          },
          "metadata": {},
          "execution_count": 2
        }
      ]
    },
    {
      "cell_type": "code",
      "source": [
        "from sentence_transformers import SentenceTransformer\n",
        "from transformers import AutoTokenizer\n",
        "model_name = \"all-MiniLM-L6-v2\"\n",
        "tokenizer = AutoTokenizer.from_pretrained('sentence-transformers/all-MiniLM-L6-v2') # loads tokenizer from huggingface model\n",
        "model = SentenceTransformer(model_name, device=\"cuda\")"
      ],
      "metadata": {
        "colab": {
          "base_uri": "https://localhost:8080/"
        },
        "id": "uuO28HnaRJ0L",
        "outputId": "03354e52-e08b-4be8-a7fd-98beadc7c6b4"
      },
      "execution_count": 16,
      "outputs": [
        {
          "output_type": "stream",
          "name": "stderr",
          "text": [
            "/usr/local/lib/python3.10/dist-packages/transformers/tokenization_utils_base.py:1601: FutureWarning: `clean_up_tokenization_spaces` was not set. It will be set to `True` by default. This behavior will be depracted in transformers v4.45, and will be then set to `False` by default. For more details check this issue: https://github.com/huggingface/transformers/issues/31884\n",
            "  warnings.warn(\n"
          ]
        }
      ]
    },
    {
      "cell_type": "code",
      "source": [
        "model"
      ],
      "metadata": {
        "colab": {
          "base_uri": "https://localhost:8080/"
        },
        "id": "RuEYA8Y1R1-j",
        "outputId": "b0db74e6-19cb-4efe-f7ba-c9482875c4ab"
      },
      "execution_count": 4,
      "outputs": [
        {
          "output_type": "execute_result",
          "data": {
            "text/plain": [
              "SentenceTransformer(\n",
              "  (0): Transformer({'max_seq_length': 256, 'do_lower_case': False}) with Transformer model: BertModel \n",
              "  (1): Pooling({'word_embedding_dimension': 384, 'pooling_mode_cls_token': False, 'pooling_mode_mean_tokens': True, 'pooling_mode_max_tokens': False, 'pooling_mode_mean_sqrt_len_tokens': False, 'pooling_mode_weightedmean_tokens': False, 'pooling_mode_lasttoken': False, 'include_prompt': True})\n",
              "  (2): Normalize()\n",
              ")"
            ]
          },
          "metadata": {},
          "execution_count": 4
        }
      ]
    },
    {
      "cell_type": "code",
      "source": [
        "texts = ['''A spaceship from a previously unknown planet lands in the Scottish moors, bringing a humanoid alien to Earth near the observatory of\n",
        "Professor Elliot (Raymond Bond), just days before the mysterious Planet X will pass closest to our planet. When the professor and his friend,\n",
        "American reporter John Lawrence (Robert Clarke), discover the spaceman, they help it when it is in distress and try to communicate with it,\n",
        "failing in their attempt. They leave, and the alien follows them. A colleague of the professor, the unscrupulous and ambitious scientist Dr. Mears\n",
        "(William Schallert), discovers that the humanoid peaks in musical tones and tries to force from it the metal formula for its spaceship.\n",
        "         He shuts off its breathing apparatus and leaves the spaceman for dead, telling the professor that communication was hopeless.\n",
        "Soon, Lawrence discovers that the alien is gone, as is the professor's daughter, Enid (Margaret Field). Tommy, the seaside village's constable\n",
        " (Roy Engle), reports that others are now missing as well. Lawrence takes the constable to the site where the spaceship had landed, but it is no longer there. With more villagers now missing, including Mears, and with the phone lines suddenly dead and the village in a panic, they are finally able get word to Scotland Yard by using a heliograph to contact a passing freighter just off the coast.\n",
        "When an Inspector (David Ormont) and a sergeant fly in and are briefed on the situation, it is decided that the military must destroy the spaceship.\n",
        "Lawrence objects that doing so will also kill the people who are now under the alien's control. With the planet due to reach its closest\n",
        "approach to Earth at midnight, Lawrence is given until 11:00pm to rescue them. He sneaks up to the alien ship, and learns from\n",
        "Mears that the spaceman intends to use its ship as a wireless relay station in advance of an invasion coming from the approaching planet, which\n",
        "we also learn is a dying world. Lawrence orders the enthralled villagers to leave and attacks the alien, shutting off its breathing apparatus,\n",
        "then escapes with Enid and the professor. Mears, however, returns to the spaceship and is killed when the military opens fire and destroys it,\n",
        "shortly before the planet is nearest Earth. No invasion happens and the mysterious Planet X slowly exits the solar system for deep space.''',\n",
        "\n",
        "'''\n",
        "The year is 1990. Space travel is well-established since humans first landed on the Moon twenty years earlier. At the International Institute of Space Technology, communications expert and astronaut Laura James monitors strange signals being received from outer space. Laura's superior, Dr. Farraday, translates the signal and discovers that it is from an alien race, who are sending an ambassador to Earth. Soon after, however, Laura receives a video log showing that the aliens' starship has crash-landed on Mars.\n",
        "The Institute launches a rescue mission aboard the spaceship Oceano, which includes Laura and astronauts Anders Brockman and Paul Grant. Oceano travels through a sunburst, suffering some damage, before completing the journey to Mars and locating the downed alien craft. Anders and Paul investigate and discover a single dead alien aboard. Faraday deduces that the surviving crew may have been rescued, so an observation satellite will be needed to locate the alien rescue ship. Laura's fiancé Allan and fellow astronaut Tony volunteer. They travel on the spaceship Meteor to Phobos, one of the two moons of Mars, where they launch the observation satellite. Tony finds an alien spaceship on Phobos. He and Allan are able to enter, finding an unconscious but still-living female alien. As their rescue ship holds only two, one of them must stay behind, so they toss a coin and Tony stays.\n",
        "Allan and the female alien arrive on Oceano, joining Laura, Paul and Anders. The alien regains consciousness and smiles at the three men, but not Laura. The alien refuses to eat all food offered and will not let Anders take a blood sample. That night, as Paul is guarding the alien, she attacks and kills him, draining his blood after first hypnotizing him. The surviving astronauts decide to keep her alive by feeding her blood from the ship's plasma supply. When this supply runs out, she kills Anders and feeds on him, leaving Laura and Allan the only humans aboard.\n",
        "The alien then attacks Allan, but Laura interrupts her before she can kill again. Laura scratches her in the struggle, and the alien screams in terror, quickly bleeding to death. Laura and Allen then find alien eggs hidden aboard. Allan hypothesizes that she was royalty, likely a queen (assuming human-like inbreeding among royalty, hence her hemophilia), and was being sent to Earth in order to breed. Their spaceship lands safely, but Earth authorities decide to study the alien eggs rather than destroying them outright, as Allan has urged.\"\n",
        "An alien spacecraft crash-lands on Earth, near a secluded hospital not far from London. The aliens, who are humanoid and resemble East Asians, are taken to a rural hospital where they cause a forcefield to be raised around the building.[3]\n",
        "''',\n",
        "'''\n",
        "Commander Christopher \"Kit\" Draper, USN (Paul Mantee) and Colonel Dan McReady, USAF (Adam West) reach the Red Planet in their spaceship, Mars Gravity Probe 1. They are forced to use up their remaining fuel in order to avoid an imminent collision with a large orbiting meteoroid; they descend in their one-man lifeboat pods, becoming the first humans on Mars.\n",
        "Draper eventually finds a rock face cave for shelter. He figures out how to obtain the rest of what he needs to survive: he burns some coal-like rocks for warmth and discovers that heating them also releases oxygen. This allows him to refill his air tanks with a hand pump and to move around in the thin Martian atmosphere. On one of his excursions, he finds McReady's crashed pod and dead body.\n",
        "He also finds their monkey Mona alive. Later, he notices that Mona keeps disappearing and is uninterested in their dwindling supply of food and water. He gives her a salty cracker, but no water. When Mona gets thirsty, he lets her out and follows her to a cave where he finds a pool of water in which edible plant \"sausages\" grow.\n",
        "As the days grow into months, Draper slowly begins to crack from the prolonged isolation, at one point imagining an alive, but unspeaking, McReady appearing in his cave. He also watches helplessly as his mothership, an inaccessible \"supermarket\", periodically orbits overhead; without fuel, the spaceship cannot respond to his radioed order to land.\n",
        "While walking about, Draper comes upon a dark rock slab standing almost upright. Curious, he digs in the ground around it, exposing a skeletal hand and arm wearing a black bracelet. He uncovers the rest of the humanoid skeleton and determines that the alien was murdered; the front of the skull shows heavy charring. To hide his presence on Mars, Draper signals his low-orbiting mothership to self-destruct on its next overhead pass.\n",
        "Not long after, Draper sees a spaceship descend and land just over the horizon. Believing it might be a rescue ship from Earth, he heads towards the landing site the following morning, only to see alien spacecraft darting about in the sky. He approaches cautiously and sees human-looking slaves being used for mining by equally human-shaped captors wearing spacesuits, helmets, and bearing weapons. One of the slaves (Victor Lundin) escapes, running into Draper; an alien spaceship blasts their area as the two escape. Draper notices the stranger is wearing black bracelets just like the one he found in the grave. The aliens bombard the mine area that night and then depart. Later, when he and the stranger investigate, they find the dead bodies of the other slaves.\n",
        "Draper names his new acquaintance \"Friday,\" after the character in Robinson Crusoe, and begins teaching him English. In return, Friday shares his \"air pills\", which provide oxygen; they gradually grow to trust and then like each other.\n",
        "After a while, the alien spacecraft return, tracking Friday by his bracelets. Draper begins sawing away at the tough material with a wire hacksaw. When the aliens blast the castaways' hiding place, Draper, Friday, and Mona flee north through the underground Martian canals. They eventually surface near the polar icecap. Exhausted, freezing, and nearly out of the air pills, they build a snow shelter. Draper finally succeeds in cutting off Friday's bracelets shortly before the low-orbiting meteoroid crashes into the ice cap; the resulting explosion and firestorm melts the ice and snow, saving them from freezing to death.\n",
        "Later, Draper detects an approaching spaceship. He fears it is the aliens, but is relieved when his portable radio picks up an English-speaking voice. A rescue capsule descends. Later, Mars recedes in the distance as the film credits scroll.\n",
        "''',\n",
        "'''\n",
        "Neil, a seemingly normal 20-something, is stuck in a dead-end job and going nowhere in life. Everything changes when a race of planet-destroying\n",
        "moustache aliens needs something inside Neil to help them destroy Earth. Audience members participate by auditioning to join the aliens or the\n",
        "Guardians — a group of highly skilled straight razor-wielding barbers. The story unfolds online, with added content and character interactions\n",
        "on Facebook happening in between episodes.\n",
        "'''\n",
        "]"
      ],
      "metadata": {
        "id": "x4_s-TKXV4mi"
      },
      "execution_count": 5,
      "outputs": []
    },
    {
      "cell_type": "code",
      "source": [
        "# tokenize the texts\n",
        "text_tokens = model.tokenize(texts)\n",
        "text_tokens # a dict with input_ids, token_type_ids, attention_mask"
      ],
      "metadata": {
        "colab": {
          "base_uri": "https://localhost:8080/"
        },
        "id": "GTrKaU2PWueh",
        "outputId": "0e49cec3-6d3e-484c-b66d-87600bbdc5bc"
      },
      "execution_count": 17,
      "outputs": [
        {
          "output_type": "execute_result",
          "data": {
            "text/plain": [
              "{'input_ids': tensor([[  101,  1037, 25516,  ...,  1037,  6634,   102],\n",
              "         [  101,  1996,  2095,  ...,  2542,  2931,   102],\n",
              "         [  101,  3474,  5696,  ...,  2000,  8579,   102],\n",
              "         [  101,  6606,  1010,  ...,     0,     0,     0]]),\n",
              " 'token_type_ids': tensor([[0, 0, 0,  ..., 0, 0, 0],\n",
              "         [0, 0, 0,  ..., 0, 0, 0],\n",
              "         [0, 0, 0,  ..., 0, 0, 0],\n",
              "         [0, 0, 0,  ..., 0, 0, 0]]),\n",
              " 'attention_mask': tensor([[1, 1, 1,  ..., 1, 1, 1],\n",
              "         [1, 1, 1,  ..., 1, 1, 1],\n",
              "         [1, 1, 1,  ..., 1, 1, 1],\n",
              "         [1, 1, 1,  ..., 0, 0, 0]])}"
            ]
          },
          "metadata": {},
          "execution_count": 17
        }
      ]
    },
    {
      "cell_type": "code",
      "source": [
        "print(text_tokens['input_ids'].shape)"
      ],
      "metadata": {
        "colab": {
          "base_uri": "https://localhost:8080/"
        },
        "id": "Yvx3VuLWiCuG",
        "outputId": "c28778d9-6575-4602-f4b1-5eee21f9caa3"
      },
      "execution_count": 10,
      "outputs": [
        {
          "output_type": "stream",
          "name": "stdout",
          "text": [
            "torch.Size([4, 256])\n"
          ]
        }
      ]
    },
    {
      "cell_type": "code",
      "source": [
        "# see the truncation of the tokenizer\n",
        "# retrieve the text that was tokenized\n",
        "# see the output of the tokenizer\n",
        "import pprint as pp\n",
        "tokenized_text = tokenizer.decode(text_tokens['input_ids'][0])\n",
        "orig_text  = texts[0]\n",
        "print(\"Length tokenized_text = \", len(tokenized_text)-11)\n",
        "print(\"Length original text = \", len(orig_text))\n",
        "pp.pp(tokenized_text)\n",
        "# print the text that was encoded\n",
        "print(\"#############################\")\n",
        "pp.pp(texts[0])\n",
        "# measure truncation"
      ],
      "metadata": {
        "colab": {
          "base_uri": "https://localhost:8080/"
        },
        "id": "Cvby8iTdW492",
        "outputId": "faf47184-21cc-4bea-e6f6-d594245eac1b"
      },
      "execution_count": 24,
      "outputs": [
        {
          "output_type": "stream",
          "name": "stdout",
          "text": [
            "Length tokenized_text =  1251\n",
            "Length original text =  2364\n",
            "('[CLS] a spaceship from a previously unknown planet lands in the scottish '\n",
            " 'moors, bringing a humanoid alien to earth near the observatory of professor '\n",
            " 'elliot ( raymond bond ), just days before the mysterious planet x will pass '\n",
            " 'closest to our planet. when the professor and his friend, american reporter '\n",
            " 'john lawrence ( robert clarke ), discover the spaceman, they help it when it '\n",
            " 'is in distress and try to communicate with it, failing in their attempt. '\n",
            " 'they leave, and the alien follows them. a colleague of the professor, the '\n",
            " 'unscrupulous and ambitious scientist dr. mears ( william schallert ), '\n",
            " 'discovers that the humanoid peaks in musical tones and tries to force from '\n",
            " 'it the metal formula for its spaceship. he shuts off its breathing apparatus '\n",
            " 'and leaves the spaceman for dead, telling the professor that communication '\n",
            " 'was hopeless. soon, lawrence discovers that the alien is gone, as is the '\n",
            " \"professor's daughter, enid ( margaret field ). tommy, the seaside village's \"\n",
            " 'constable ( roy engle ), reports that others are now missing as well. '\n",
            " 'lawrence takes the constable to the site where the spaceship had landed, but '\n",
            " 'it is no longer there. with more villagers now missing, including mears, and '\n",
            " 'with the phone lines suddenly dead and the village in a panic [SEP]')\n",
            "#############################\n",
            "('A spaceship from a previously unknown planet lands in the Scottish moors, '\n",
            " 'bringing a humanoid alien to Earth near the observatory of \\n'\n",
            " 'Professor Elliot (Raymond Bond), just days before the mysterious Planet X '\n",
            " 'will pass closest to our planet. When the professor and his friend, \\n'\n",
            " 'American reporter John Lawrence (Robert Clarke), discover the spaceman, they '\n",
            " 'help it when it is in distress and try to communicate with it, \\n'\n",
            " 'failing in their attempt. They leave, and the alien follows them. A '\n",
            " 'colleague of the professor, the unscrupulous and ambitious scientist Dr. '\n",
            " 'Mears \\n'\n",
            " '(William Schallert), discovers that the humanoid peaks in musical tones and '\n",
            " 'tries to force from it the metal formula for its spaceship. \\n'\n",
            " '         He shuts off its breathing apparatus and leaves the spaceman for '\n",
            " 'dead, telling the professor that communication was hopeless.\\n'\n",
            " \"Soon, Lawrence discovers that the alien is gone, as is the professor's \"\n",
            " \"daughter, Enid (Margaret Field). Tommy, the seaside village's constable \\n\"\n",
            " ' (Roy Engle), reports that others are now missing as well. Lawrence takes '\n",
            " 'the constable to the site where the spaceship had landed, but it is no '\n",
            " 'longer there. With more villagers now missing, including Mears, and with the '\n",
            " 'phone lines suddenly dead and the village in a panic, they are finally able '\n",
            " 'get word to Scotland Yard by using a heliograph to contact a passing '\n",
            " 'freighter just off the coast.\\n'\n",
            " 'When an Inspector (David Ormont) and a sergeant fly in and are briefed on '\n",
            " 'the situation, it is decided that the military must destroy the spaceship.\\n'\n",
            " 'Lawrence objects that doing so will also kill the people who are now under '\n",
            " \"the alien's control. With the planet due to reach its closest \\n\"\n",
            " 'approach to Earth at midnight, Lawrence is given until 11:00pm to rescue '\n",
            " 'them. He sneaks up to the alien ship, and learns from \\n'\n",
            " 'Mears that the spaceman intends to use its ship as a wireless relay station '\n",
            " 'in advance of an invasion coming from the approaching planet, which \\n'\n",
            " 'we also learn is a dying world. Lawrence orders the enthralled villagers to '\n",
            " 'leave and attacks the alien, shutting off its breathing apparatus, \\n'\n",
            " 'then escapes with Enid and the professor. Mears, however, returns to the '\n",
            " 'spaceship and is killed when the military opens fire and destroys it, \\n'\n",
            " 'shortly before the planet is nearest Earth. No invasion happens and the '\n",
            " 'mysterious Planet X slowly exits the solar system for deep space.')\n"
          ]
        }
      ]
    },
    {
      "cell_type": "code",
      "source": [
        " # encode the text into embeddings\n",
        "embeddings = model.encode(texts, normalize_embeddings = True) # mean pool embeddings\n",
        "print(embeddings.shape)"
      ],
      "metadata": {
        "colab": {
          "base_uri": "https://localhost:8080/"
        },
        "id": "-zTyoJcHiPwE",
        "outputId": "fda9e5be-3d02-49d9-949a-e96f57c6233d"
      },
      "execution_count": 25,
      "outputs": [
        {
          "output_type": "stream",
          "name": "stdout",
          "text": [
            "(4, 384)\n"
          ]
        }
      ]
    },
    {
      "cell_type": "code",
      "source": [
        "# compute similarity between embeddings\n",
        "# type of similarity functions and how to set them: \"cosine\", \"dot\", \"euclidean\", \"manhattan\", default is cosine\n",
        "# get current similarity function\n",
        "# similarity_fn_name, similarity\n",
        "print(model.similarity_fn_name)\n",
        "# set similarity function\n",
        "model.similarity_fn_name = 'cosine'\n",
        "print(model.similarity_fn_name)"
      ],
      "metadata": {
        "colab": {
          "base_uri": "https://localhost:8080/"
        },
        "id": "6TwxNK6jnUjT",
        "outputId": "4b0dcc88-856e-482f-cee1-adcc45518673"
      },
      "execution_count": 32,
      "outputs": [
        {
          "output_type": "stream",
          "name": "stdout",
          "text": [
            "None\n",
            "cosine\n"
          ]
        }
      ]
    },
    {
      "cell_type": "code",
      "source": [
        "# compute similarity betweeen embeddings and a query embedding\n",
        "model.similarity(embeddings, embeddings)"
      ],
      "metadata": {
        "colab": {
          "base_uri": "https://localhost:8080/"
        },
        "id": "-VrMNcJ8nZqD",
        "outputId": "f769117f-c49a-4b2e-e414-ab71e9d4480d"
      },
      "execution_count": 34,
      "outputs": [
        {
          "output_type": "execute_result",
          "data": {
            "text/plain": [
              "tensor([[1.0000, 0.5144, 0.3920, 0.4042],\n",
              "        [0.5144, 1.0000, 0.4500, 0.3381],\n",
              "        [0.3920, 0.4500, 1.0000, 0.3257],\n",
              "        [0.4042, 0.3381, 0.3257, 1.0000]])"
            ]
          },
          "metadata": {},
          "execution_count": 34
        }
      ]
    },
    {
      "cell_type": "code",
      "source": [
        "# encode a query\n",
        "query = [\"A movie about aliens and spaceships that takes place in New York\"]\n",
        "embed_query = model.encode(query, normalize_embeddings = True)\n",
        "\n",
        "model.similarity(embed_query, embeddings)"
      ],
      "metadata": {
        "colab": {
          "base_uri": "https://localhost:8080/"
        },
        "id": "--ZpSmjHse_t",
        "outputId": "019e66da-8985-4d7b-dc9f-bb57435dd0ac"
      },
      "execution_count": 38,
      "outputs": [
        {
          "output_type": "execute_result",
          "data": {
            "text/plain": [
              "tensor([[0.2993, 0.3425, 0.1059, 0.2381]])"
            ]
          },
          "metadata": {},
          "execution_count": 38
        }
      ]
    },
    {
      "cell_type": "code",
      "source": [],
      "metadata": {
        "id": "-eiaulW3s5Bz"
      },
      "execution_count": null,
      "outputs": []
    }
  ]
}