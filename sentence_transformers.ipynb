{
  "nbformat": 4,
  "nbformat_minor": 0,
  "metadata": {
    "colab": {
      "provenance": [],
      "machine_shape": "hm",
      "gpuType": "L4",
      "authorship_tag": "ABX9TyPrr8c7iigi+nDbK3fX0yUo",
      "include_colab_link": true
    },
    "kernelspec": {
      "name": "python3",
      "display_name": "Python 3"
    },
    "language_info": {
      "name": "python"
    },
    "accelerator": "GPU"
  },
  "cells": [
    {
      "cell_type": "markdown",
      "metadata": {
        "id": "view-in-github",
        "colab_type": "text"
      },
      "source": [
        "<a href=\"https://colab.research.google.com/github/HofstraDoboli/TextMining/blob/main/sentence_transformers.ipynb\" target=\"_parent\"><img src=\"https://colab.research.google.com/assets/colab-badge.svg\" alt=\"Open In Colab\"/></a>"
      ]
    },
    {
      "cell_type": "code",
      "execution_count": null,
      "metadata": {
        "id": "IJiHpELaRHiv"
      },
      "outputs": [],
      "source": [
        "!pip install sentence-transformers\n",
        "!pip install transformers"
      ]
    },
    {
      "cell_type": "code",
      "source": [
        "# set GPU device - don't forget to change runtime to a GPU\n",
        "import torch\n",
        "DEVICE = torch.device(\"cuda:0\" if torch.cuda.is_available() else \"cpu\")\n",
        "torch.cuda.get_device_name(0)"
      ],
      "metadata": {
        "colab": {
          "base_uri": "https://localhost:8080/",
          "height": 36
        },
        "id": "QS387aOqRgbw",
        "outputId": "61498a3f-7a70-4be4-967f-e3729fa0ab8f"
      },
      "execution_count": 2,
      "outputs": [
        {
          "output_type": "execute_result",
          "data": {
            "text/plain": [
              "'NVIDIA L4'"
            ],
            "application/vnd.google.colaboratory.intrinsic+json": {
              "type": "string"
            }
          },
          "metadata": {},
          "execution_count": 2
        }
      ]
    },
    {
      "cell_type": "code",
      "source": [
        "from sentence_transformers import SentenceTransformer\n",
        "from transformers import AutoTokenizer\n",
        "\n",
        "model_name = \"all-MiniLM-L6-v2\"\n",
        "\n",
        "tokenizer = AutoTokenizer.from_pretrained('sentence-transformers/all-MiniLM-L6-v2') # loads tokenizer from huggingface model\n",
        "model     = SentenceTransformer(model_name, device=\"cuda\") # load model on GPU"
      ],
      "metadata": {
        "id": "uuO28HnaRJ0L"
      },
      "execution_count": null,
      "outputs": []
    },
    {
      "cell_type": "code",
      "source": [
        "model"
      ],
      "metadata": {
        "id": "RuEYA8Y1R1-j"
      },
      "execution_count": null,
      "outputs": []
    },
    {
      "cell_type": "code",
      "source": [
        "texts = ['''A spaceship from a previously unknown planet lands in the Scottish moors, bringing a humanoid alien to Earth near the observatory of\n",
        "Professor Elliot (Raymond Bond), just days before the mysterious Planet X will pass closest to our planet. When the professor and his friend,\n",
        "American reporter John Lawrence (Robert Clarke), discover the spaceman, they help it when it is in distress and try to communicate with it,\n",
        "failing in their attempt. They leave, and the alien follows them. A colleague of the professor, the unscrupulous and ambitious scientist Dr. Mears\n",
        "(William Schallert), discovers that the humanoid peaks in musical tones and tries to force from it the metal formula for its spaceship.\n",
        "         He shuts off its breathing apparatus and leaves the spaceman for dead, telling the professor that communication was hopeless.\n",
        "Soon, Lawrence discovers that the alien is gone, as is the professor's daughter, Enid (Margaret Field). Tommy, the seaside village's constable\n",
        " (Roy Engle), reports that others are now missing as well. Lawrence takes the constable to the site where the spaceship had landed, but it is no longer there. With more villagers now missing, including Mears, and with the phone lines suddenly dead and the village in a panic, they are finally able get word to Scotland Yard by using a heliograph to contact a passing freighter just off the coast.\n",
        "When an Inspector (David Ormont) and a sergeant fly in and are briefed on the situation, it is decided that the military must destroy the spaceship.\n",
        "Lawrence objects that doing so will also kill the people who are now under the alien's control. With the planet due to reach its closest\n",
        "approach to Earth at midnight, Lawrence is given until 11:00pm to rescue them. He sneaks up to the alien ship, and learns from\n",
        "Mears that the spaceman intends to use its ship as a wireless relay station in advance of an invasion coming from the approaching planet, which\n",
        "we also learn is a dying world. Lawrence orders the enthralled villagers to leave and attacks the alien, shutting off its breathing apparatus,\n",
        "then escapes with Enid and the professor. Mears, however, returns to the spaceship and is killed when the military opens fire and destroys it,\n",
        "shortly before the planet is nearest Earth. No invasion happens and the mysterious Planet X slowly exits the solar system for deep space.''',\n",
        "\n",
        "'''\n",
        "The year is 1990. Space travel is well-established since humans first landed on the Moon twenty years earlier. At the International Institute of Space Technology, communications expert and astronaut Laura James monitors strange signals being received from outer space. Laura's superior, Dr. Farraday, translates the signal and discovers that it is from an alien race, who are sending an ambassador to Earth. Soon after, however, Laura receives a video log showing that the aliens' starship has crash-landed on Mars.\n",
        "The Institute launches a rescue mission aboard the spaceship Oceano, which includes Laura and astronauts Anders Brockman and Paul Grant. Oceano travels through a sunburst, suffering some damage, before completing the journey to Mars and locating the downed alien craft. Anders and Paul investigate and discover a single dead alien aboard. Faraday deduces that the surviving crew may have been rescued, so an observation satellite will be needed to locate the alien rescue ship. Laura's fiancé Allan and fellow astronaut Tony volunteer. They travel on the spaceship Meteor to Phobos, one of the two moons of Mars, where they launch the observation satellite. Tony finds an alien spaceship on Phobos. He and Allan are able to enter, finding an unconscious but still-living female alien. As their rescue ship holds only two, one of them must stay behind, so they toss a coin and Tony stays.\n",
        "Allan and the female alien arrive on Oceano, joining Laura, Paul and Anders. The alien regains consciousness and smiles at the three men, but not Laura. The alien refuses to eat all food offered and will not let Anders take a blood sample. That night, as Paul is guarding the alien, she attacks and kills him, draining his blood after first hypnotizing him. The surviving astronauts decide to keep her alive by feeding her blood from the ship's plasma supply. When this supply runs out, she kills Anders and feeds on him, leaving Laura and Allan the only humans aboard.\n",
        "The alien then attacks Allan, but Laura interrupts her before she can kill again. Laura scratches her in the struggle, and the alien screams in terror, quickly bleeding to death. Laura and Allen then find alien eggs hidden aboard. Allan hypothesizes that she was royalty, likely a queen (assuming human-like inbreeding among royalty, hence her hemophilia), and was being sent to Earth in order to breed. Their spaceship lands safely, but Earth authorities decide to study the alien eggs rather than destroying them outright, as Allan has urged.\"\n",
        "An alien spacecraft crash-lands on Earth, near a secluded hospital not far from London. The aliens, who are humanoid and resemble East Asians, are taken to a rural hospital where they cause a forcefield to be raised around the building.[3]\n",
        "''',\n",
        "'''\n",
        "Commander Christopher \"Kit\" Draper, USN (Paul Mantee) and Colonel Dan McReady, USAF (Adam West) reach the Red Planet in their spaceship, Mars Gravity Probe 1. They are forced to use up their remaining fuel in order to avoid an imminent collision with a large orbiting meteoroid; they descend in their one-man lifeboat pods, becoming the first humans on Mars.\n",
        "Draper eventually finds a rock face cave for shelter. He figures out how to obtain the rest of what he needs to survive: he burns some coal-like rocks for warmth and discovers that heating them also releases oxygen. This allows him to refill his air tanks with a hand pump and to move around in the thin Martian atmosphere. On one of his excursions, he finds McReady's crashed pod and dead body.\n",
        "He also finds their monkey Mona alive. Later, he notices that Mona keeps disappearing and is uninterested in their dwindling supply of food and water. He gives her a salty cracker, but no water. When Mona gets thirsty, he lets her out and follows her to a cave where he finds a pool of water in which edible plant \"sausages\" grow.\n",
        "As the days grow into months, Draper slowly begins to crack from the prolonged isolation, at one point imagining an alive, but unspeaking, McReady appearing in his cave. He also watches helplessly as his mothership, an inaccessible \"supermarket\", periodically orbits overhead; without fuel, the spaceship cannot respond to his radioed order to land.\n",
        "While walking about, Draper comes upon a dark rock slab standing almost upright. Curious, he digs in the ground around it, exposing a skeletal hand and arm wearing a black bracelet. He uncovers the rest of the humanoid skeleton and determines that the alien was murdered; the front of the skull shows heavy charring. To hide his presence on Mars, Draper signals his low-orbiting mothership to self-destruct on its next overhead pass.\n",
        "Not long after, Draper sees a spaceship descend and land just over the horizon. Believing it might be a rescue ship from Earth, he heads towards the landing site the following morning, only to see alien spacecraft darting about in the sky. He approaches cautiously and sees human-looking slaves being used for mining by equally human-shaped captors wearing spacesuits, helmets, and bearing weapons. One of the slaves (Victor Lundin) escapes, running into Draper; an alien spaceship blasts their area as the two escape. Draper notices the stranger is wearing black bracelets just like the one he found in the grave. The aliens bombard the mine area that night and then depart. Later, when he and the stranger investigate, they find the dead bodies of the other slaves.\n",
        "Draper names his new acquaintance \"Friday,\" after the character in Robinson Crusoe, and begins teaching him English. In return, Friday shares his \"air pills\", which provide oxygen; they gradually grow to trust and then like each other.\n",
        "After a while, the alien spacecraft return, tracking Friday by his bracelets. Draper begins sawing away at the tough material with a wire hacksaw. When the aliens blast the castaways' hiding place, Draper, Friday, and Mona flee north through the underground Martian canals. They eventually surface near the polar icecap. Exhausted, freezing, and nearly out of the air pills, they build a snow shelter. Draper finally succeeds in cutting off Friday's bracelets shortly before the low-orbiting meteoroid crashes into the ice cap; the resulting explosion and firestorm melts the ice and snow, saving them from freezing to death.\n",
        "Later, Draper detects an approaching spaceship. He fears it is the aliens, but is relieved when his portable radio picks up an English-speaking voice. A rescue capsule descends. Later, Mars recedes in the distance as the film credits scroll.\n",
        "''',\n",
        "'''\n",
        "Neil, a seemingly normal 20-something, is stuck in a dead-end job and going nowhere in life. Everything changes when a race of planet-destroying\n",
        "moustache aliens needs something inside Neil to help them destroy Earth. Audience members participate by auditioning to join the aliens or the\n",
        "Guardians — a group of highly skilled straight razor-wielding barbers. The story unfolds online, with added content and character interactions\n",
        "on Facebook happening in between episodes.\n",
        "'''\n",
        "]"
      ],
      "metadata": {
        "id": "x4_s-TKXV4mi"
      },
      "execution_count": 7,
      "outputs": []
    },
    {
      "cell_type": "code",
      "source": [
        "# tokenize the texts\n",
        "text_tokens = model.tokenize(texts)\n",
        "\n",
        "print(text_tokens.keys())\n",
        "for i in range(len(texts)):\n",
        "  #print(len(text_tokens['input_ids'][i]))\n",
        "  print(text_tokens['input_ids'][i]) # a dict with input_ids, token_type_ids, attention_mask"
      ],
      "metadata": {
        "id": "GTrKaU2PWueh"
      },
      "execution_count": null,
      "outputs": []
    },
    {
      "cell_type": "code",
      "source": [
        "print(text_tokens['input_ids'].shape)"
      ],
      "metadata": {
        "colab": {
          "base_uri": "https://localhost:8080/"
        },
        "id": "Yvx3VuLWiCuG",
        "outputId": "a8941034-4b86-4228-b096-caef791bd854"
      },
      "execution_count": null,
      "outputs": [
        {
          "output_type": "stream",
          "name": "stdout",
          "text": [
            "torch.Size([4, 256])\n"
          ]
        }
      ]
    },
    {
      "cell_type": "code",
      "source": [
        "# see the truncation of the tokenizer\n",
        "# retrieve the text that was tokenized\n",
        "# see the output of the tokenizer\n",
        "import pprint as pp\n",
        "ind_text = 2\n",
        "tokenized_text = tokenizer.decode(text_tokens['input_ids'][ind_text]) # returns a string\n",
        "orig_text  = texts[ind_text]\n",
        "print(\"Length tokenized_text = \", len(tokenized_text)-10) # -2 remove [cls] and [sep]\n",
        "print(\"Length original text = \", len(orig_text))\n",
        "pp.pp(tokenized_text)\n",
        "# print the text that was encoded\n",
        "print(\"#############################\")\n",
        "pp.pp(texts[ind_text])\n",
        "# measure truncation"
      ],
      "metadata": {
        "colab": {
          "base_uri": "https://localhost:8080/"
        },
        "id": "Cvby8iTdW492",
        "outputId": "4167b367-389d-4a3b-8900-5ca86fb2245d"
      },
      "execution_count": 14,
      "outputs": [
        {
          "output_type": "stream",
          "name": "stdout",
          "text": [
            "Length tokenized_text =  1163\n",
            "Length original text =  3743\n",
            "('[CLS] commander christopher \" kit \" draper, usn ( paul mantee ) and colonel '\n",
            " 'dan mcready, usaf ( adam west ) reach the red planet in their spaceship, '\n",
            " 'mars gravity probe 1. they are forced to use up their remaining fuel in '\n",
            " 'order to avoid an imminent collision with a large orbiting meteoroid ; they '\n",
            " 'descend in their one - man lifeboat pods, becoming the first humans on mars. '\n",
            " 'draper eventually finds a rock face cave for shelter. he figures out how to '\n",
            " 'obtain the rest of what he needs to survive : he burns some coal - like '\n",
            " 'rocks for warmth and discovers that heating them also releases oxygen. this '\n",
            " 'allows him to refill his air tanks with a hand pump and to move around in '\n",
            " \"the thin martian atmosphere. on one of his excursions, he finds mcready ' s \"\n",
            " 'crashed pod and dead body. he also finds their monkey mona alive. later, he '\n",
            " 'notices that mona keeps disappearing and is uninterested in their dwindling '\n",
            " 'supply of food and water. he gives her a salty cracker, but no water. when '\n",
            " 'mona gets thirsty, he lets her out and follows her to a cave where he finds '\n",
            " 'a pool of water in which edible plant \" sausages \" grow. as the days grow '\n",
            " 'into months, draper slowly begins to crack [SEP]')\n",
            "#############################\n",
            "('\\n'\n",
            " 'Commander Christopher \"Kit\" Draper, USN (Paul Mantee) and Colonel Dan '\n",
            " 'McReady, USAF (Adam West) reach the Red Planet in their spaceship, Mars '\n",
            " 'Gravity Probe 1. They are forced to use up their remaining fuel in order to '\n",
            " 'avoid an imminent collision with a large orbiting meteoroid; they descend in '\n",
            " 'their one-man lifeboat pods, becoming the first humans on Mars.\\n'\n",
            " 'Draper eventually finds a rock face cave for shelter. He figures out how to '\n",
            " 'obtain the rest of what he needs to survive: he burns some coal-like rocks '\n",
            " 'for warmth and discovers that heating them also releases oxygen. This allows '\n",
            " 'him to refill his air tanks with a hand pump and to move around in the thin '\n",
            " \"Martian atmosphere. On one of his excursions, he finds McReady's crashed pod \"\n",
            " 'and dead body.\\n'\n",
            " 'He also finds their monkey Mona alive. Later, he notices that Mona keeps '\n",
            " 'disappearing and is uninterested in their dwindling supply of food and '\n",
            " 'water. He gives her a salty cracker, but no water. When Mona gets thirsty, '\n",
            " 'he lets her out and follows her to a cave where he finds a pool of water in '\n",
            " 'which edible plant \"sausages\" grow.\\n'\n",
            " 'As the days grow into months, Draper slowly begins to crack from the '\n",
            " 'prolonged isolation, at one point imagining an alive, but unspeaking, '\n",
            " 'McReady appearing in his cave. He also watches helplessly as his mothership, '\n",
            " 'an inaccessible \"supermarket\", periodically orbits overhead; without fuel, '\n",
            " 'the spaceship cannot respond to his radioed order to land.\\n'\n",
            " 'While walking about, Draper comes upon a dark rock slab standing almost '\n",
            " 'upright. Curious, he digs in the ground around it, exposing a skeletal hand '\n",
            " 'and arm wearing a black bracelet. He uncovers the rest of the humanoid '\n",
            " 'skeleton and determines that the alien was murdered; the front of the skull '\n",
            " 'shows heavy charring. To hide his presence on Mars, Draper signals his '\n",
            " 'low-orbiting mothership to self-destruct on its next overhead pass.\\n'\n",
            " 'Not long after, Draper sees a spaceship descend and land just over the '\n",
            " 'horizon. Believing it might be a rescue ship from Earth, he heads towards '\n",
            " 'the landing site the following morning, only to see alien spacecraft darting '\n",
            " 'about in the sky. He approaches cautiously and sees human-looking slaves '\n",
            " 'being used for mining by equally human-shaped captors wearing spacesuits, '\n",
            " 'helmets, and bearing weapons. One of the slaves (Victor Lundin) escapes, '\n",
            " 'running into Draper; an alien spaceship blasts their area as the two escape. '\n",
            " 'Draper notices the stranger is wearing black bracelets just like the one he '\n",
            " 'found in the grave. The aliens bombard the mine area that night and then '\n",
            " 'depart. Later, when he and the stranger investigate, they find the dead '\n",
            " 'bodies of the other slaves.\\n'\n",
            " 'Draper names his new acquaintance \"Friday,\" after the character in Robinson '\n",
            " 'Crusoe, and begins teaching him English. In return, Friday shares his \"air '\n",
            " 'pills\", which provide oxygen; they gradually grow to trust and then like '\n",
            " 'each other.\\n'\n",
            " 'After a while, the alien spacecraft return, tracking Friday by his '\n",
            " 'bracelets. Draper begins sawing away at the tough material with a wire '\n",
            " \"hacksaw. When the aliens blast the castaways' hiding place, Draper, Friday, \"\n",
            " 'and Mona flee north through the underground Martian canals. They eventually '\n",
            " 'surface near the polar icecap. Exhausted, freezing, and nearly out of the '\n",
            " 'air pills, they build a snow shelter. Draper finally succeeds in cutting off '\n",
            " \"Friday's bracelets shortly before the low-orbiting meteoroid crashes into \"\n",
            " 'the ice cap; the resulting explosion and firestorm melts the ice and snow, '\n",
            " 'saving them from freezing to death.\\n'\n",
            " 'Later, Draper detects an approaching spaceship. He fears it is the aliens, '\n",
            " 'but is relieved when his portable radio picks up an English-speaking voice. '\n",
            " 'A rescue capsule descends. Later, Mars recedes in the distance as the film '\n",
            " 'credits scroll.\\n')\n"
          ]
        }
      ]
    },
    {
      "cell_type": "code",
      "source": [
        " # encode the text into embeddings\n",
        "embeddings = model.encode(texts, normalize_embeddings = False) # mean pool embeddings\n",
        "print(embeddings.shape)"
      ],
      "metadata": {
        "colab": {
          "base_uri": "https://localhost:8080/"
        },
        "id": "-zTyoJcHiPwE",
        "outputId": "47e9d582-4c2c-4988-ce62-893dff6d3cd3"
      },
      "execution_count": 17,
      "outputs": [
        {
          "output_type": "stream",
          "name": "stdout",
          "text": [
            "(4, 384)\n"
          ]
        }
      ]
    },
    {
      "cell_type": "code",
      "source": [
        "# compute similarity between embeddings\n",
        "# type of similarity functions and how to set them: \"cosine\", \"dot\", \"euclidean\", \"manhattan\", default is cosine\n",
        "# get current similarity function\n",
        "# similarity_fn_name, similarity\n",
        "print(model.similarity_fn_name)\n",
        "# set similarity function\n",
        "model.similarity_fn_name = 'cosine' # \"cosine\", \"dot\", \"euclidean\", \"manhattan'\n",
        "print(model.similarity_fn_name)"
      ],
      "metadata": {
        "colab": {
          "base_uri": "https://localhost:8080/"
        },
        "id": "6TwxNK6jnUjT",
        "outputId": "f275cb98-9306-4ce5-dcf8-5ac4cccb257c"
      },
      "execution_count": 18,
      "outputs": [
        {
          "output_type": "stream",
          "name": "stdout",
          "text": [
            "cosine\n",
            "cosine\n"
          ]
        }
      ]
    },
    {
      "cell_type": "code",
      "source": [
        "# compute similarity betweeen embeddings and a query embedding\n",
        "model.similarity(embeddings, embeddings)"
      ],
      "metadata": {
        "colab": {
          "base_uri": "https://localhost:8080/"
        },
        "id": "-VrMNcJ8nZqD",
        "outputId": "69cb19dc-d806-448f-812f-be7312c31c98"
      },
      "execution_count": 19,
      "outputs": [
        {
          "output_type": "execute_result",
          "data": {
            "text/plain": [
              "tensor([[1.0000, 0.5144, 0.3920, 0.4042],\n",
              "        [0.5144, 1.0000, 0.4500, 0.3381],\n",
              "        [0.3920, 0.4500, 1.0000, 0.3257],\n",
              "        [0.4042, 0.3381, 0.3257, 1.0000]])"
            ]
          },
          "metadata": {},
          "execution_count": 19
        }
      ]
    },
    {
      "cell_type": "code",
      "source": [],
      "metadata": {
        "id": "oikFi6Dw5pMb"
      },
      "execution_count": null,
      "outputs": []
    },
    {
      "cell_type": "code",
      "source": [
        "# encode a query\n",
        "query = [\"A movie about aliens and spaceships that takes place in New York\"]\n",
        "embed_query = model.encode(query, normalize_embeddings = False)\n",
        "\n",
        "model.similarity(embed_query, embeddings)"
      ],
      "metadata": {
        "colab": {
          "base_uri": "https://localhost:8080/"
        },
        "id": "--ZpSmjHse_t",
        "outputId": "8e07700c-4518-4232-c910-d9f7b500413e"
      },
      "execution_count": 20,
      "outputs": [
        {
          "output_type": "execute_result",
          "data": {
            "text/plain": [
              "tensor([[0.2993, 0.3425, 0.1059, 0.2381]])"
            ]
          },
          "metadata": {},
          "execution_count": 20
        }
      ]
    },
    {
      "cell_type": "code",
      "source": [
        "from google.colab import drive\n",
        "drive.mount('/content/drive')"
      ],
      "metadata": {
        "colab": {
          "base_uri": "https://localhost:8080/"
        },
        "id": "-eiaulW3s5Bz",
        "outputId": "53f901c6-5861-46be-c219-6e415df04353"
      },
      "execution_count": null,
      "outputs": [
        {
          "output_type": "stream",
          "name": "stdout",
          "text": [
            "Mounted at /content/drive\n"
          ]
        }
      ]
    },
    {
      "cell_type": "code",
      "source": [
        "%cd /content/drive/MyDrive/TextMining"
      ],
      "metadata": {
        "colab": {
          "base_uri": "https://localhost:8080/"
        },
        "id": "DsL4RCT4_8F3",
        "outputId": "065a3cdd-3440-4d1c-c1cb-0816649a92a0"
      },
      "execution_count": null,
      "outputs": [
        {
          "output_type": "stream",
          "name": "stdout",
          "text": [
            "/content/drive/MyDrive/TextMining\n"
          ]
        }
      ]
    },
    {
      "cell_type": "code",
      "source": [
        "print(type(embeddings))"
      ],
      "metadata": {
        "colab": {
          "base_uri": "https://localhost:8080/"
        },
        "id": "cC-WS3_nAOy9",
        "outputId": "5b97efc0-86ea-41c0-e57a-d1906730f489"
      },
      "execution_count": null,
      "outputs": [
        {
          "output_type": "stream",
          "name": "stdout",
          "text": [
            "<class 'numpy.ndarray'>\n"
          ]
        }
      ]
    },
    {
      "cell_type": "code",
      "source": [
        "# save the embeddings\n",
        "import numpy as np\n",
        "np.save('movie_embed',embeddings, allow_pickle = False)\n"
      ],
      "metadata": {
        "id": "WODLc-p5AADr"
      },
      "execution_count": null,
      "outputs": []
    },
    {
      "cell_type": "code",
      "source": [
        "# load embeddings\n",
        "embeddings = np.load('movie_embed.npy')"
      ],
      "metadata": {
        "id": "1IvuwqmNA58E"
      },
      "execution_count": null,
      "outputs": []
    },
    {
      "cell_type": "code",
      "source": [],
      "metadata": {
        "id": "UgQs7q-ABSJo"
      },
      "execution_count": null,
      "outputs": []
    }
  ]
}