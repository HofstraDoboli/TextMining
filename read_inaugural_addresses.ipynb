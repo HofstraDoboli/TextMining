{
  "cells": [
    {
      "cell_type": "markdown",
      "metadata": {
        "id": "view-in-github",
        "colab_type": "text"
      },
      "source": [
        "<a href=\"https://colab.research.google.com/github/HofstraDoboli/TextMining_F22/blob/main/read_inaugural_addresses.ipynb\" target=\"_parent\"><img src=\"https://colab.research.google.com/assets/colab-badge.svg\" alt=\"Open In Colab\"/></a>"
      ]
    },
    {
      "cell_type": "code",
      "execution_count": 3,
      "metadata": {
        "colab": {
          "base_uri": "https://localhost:8080/"
        },
        "id": "QcBVm87uoMl1",
        "outputId": "30219df5-12b4-4b5e-d063-8130ec56ba24"
      },
      "outputs": [
        {
          "output_type": "stream",
          "name": "stderr",
          "text": [
            "[nltk_data] Downloading package inaugural to /root/nltk_data...\n",
            "[nltk_data]   Unzipping corpora/inaugural.zip.\n"
          ]
        },
        {
          "output_type": "execute_result",
          "data": {
            "text/plain": [
              "True"
            ]
          },
          "metadata": {},
          "execution_count": 3
        }
      ],
      "source": [
        "import nltk\n",
        "nltk.download('inaugural')\n",
        "# Uncomment the lines below if you get an error \n",
        "# import nltk\n",
        "# nltk.download('inaugural')  "
      ]
    },
    {
      "cell_type": "code",
      "execution_count": 12,
      "metadata": {
        "tags": [],
        "id": "TyAHcpJsoMl4"
      },
      "outputs": [],
      "source": [
        "# list names inaugural addresses\n",
        "list_fnames = inaugural.fileids()"
      ]
    },
    {
      "cell_type": "code",
      "execution_count": null,
      "metadata": {
        "tags": [],
        "id": "zKLa-r2soMl6",
        "outputId": "79fc3965-f49b-4f7f-eea2-91fd6da63438"
      },
      "outputs": [
        {
          "output_type": "stream",
          "name": "stdout",
          "text": "['CorpusView', '__class__', '__delattr__', '__dict__', '__dir__', '__doc__', '__eq__', '__format__', '__ge__', '__getattribute__', '__gt__', '__hash__', '__init__', '__init_subclass__', '__le__', '__lt__', '__module__', '__ne__', '__new__', '__reduce__', '__reduce_ex__', '__repr__', '__setattr__', '__sizeof__', '__str__', '__subclasshook__', '__unicode__', '__weakref__', '_encoding', '_fileids', '_get_root', '_para_block_reader', '_read_para_block', '_read_sent_block', '_read_word_block', '_root', '_sent_tokenizer', '_tagset', '_unload', '_word_tokenizer', 'abspath', 'abspaths', 'citation', 'encoding', 'ensure_loaded', 'fileids', 'license', 'open', 'paras', 'raw', 'readme', 'root', 'sents', 'unicode_repr', 'words']\n"
        }
      ],
      "source": [
        "# methods inaugural object\n",
        "print(dir(inaugural))"
      ]
    },
    {
      "cell_type": "code",
      "source": [
        "print(inaugural.raw(list_fnames[0]))"
      ],
      "metadata": {
        "colab": {
          "base_uri": "https://localhost:8080/"
        },
        "id": "E1bKjLgxpEpC",
        "outputId": "064cc675-064b-4660-b194-ca9c1e3198d4"
      },
      "execution_count": 17,
      "outputs": [
        {
          "output_type": "stream",
          "name": "stdout",
          "text": [
            "Fellow-Citizens of the Senate and of the House of Representatives:\n",
            "\n",
            "Among the vicissitudes incident to life no event could have filled me with greater anxieties than that of which the notification was transmitted by your order, and received on the 14th day of the present month. On the one hand, I was summoned by my Country, whose voice I can never hear but with veneration and love, from a retreat which I had chosen with the fondest predilection, and, in my flattering hopes, with an immutable decision, as the asylum of my declining years -- a retreat which was rendered every day more necessary as well as more dear to me by the addition of habit to inclination, and of frequent interruptions in my health to the gradual waste committed on it by time. On the other hand, the magnitude and difficulty of the trust to which the voice of my country called me, being sufficient to awaken in the wisest and most experienced of her citizens a distrustful scrutiny into his qualifications, could not but overwhelm with despondence one who (inheriting inferior endowments from nature and unpracticed in the duties of civil administration) ought to be peculiarly conscious of his own deficiencies. In this conflict of emotions all I dare aver is that it has been my faithful study to collect my duty from a just appreciation of every circumstance by which it might be affected. All I dare hope is that if, in executing this task, I have been too much swayed by a grateful remembrance of former instances, or by an affectionate sensibility to this transcendent proof of the confidence of my fellow citizens, and have thence too little consulted my incapacity as well as disinclination for the weighty and untried cares before me, my error will be palliated by the motives which mislead me, and its consequences be judged by my country with some share of the partiality in which they originated.\n",
            "\n",
            "Such being the impressions under which I have, in obedience to the public summons, repaired to the present station, it would be peculiarly improper to omit in this first official act my fervent supplications to that Almighty Being who rules over the universe, who presides in the councils of nations, and whose providential aids can supply every human defect, that His benediction may consecrate to the liberties and happiness of the people of the United States a Government instituted by themselves for these essential purposes, and may enable every instrument employed in its administration to execute with success the functions allotted to his charge. In tendering this homage to the Great Author of every public and private good, I assure myself that it expresses your sentiments not less than my own, nor those of my fellow citizens at large less than either. No people can be bound to acknowledge and adore the Invisible Hand which conducts the affairs of men more than those of the United States. Every step by which they have advanced to the character of an independent nation seems to have been distinguished by some token of providential agency; and in the important revolution just accomplished in the system of their united government the tranquil deliberations and voluntary consent of so many distinct communities from which the event has resulted can not be compared with the means by which most governments have been established without some return of pious gratitude, along with an humble anticipation of the future blessings which the past seem to presage. These reflections, arising out of the present crisis, have forced themselves too strongly on my mind to be suppressed. You will join with me, I trust, in thinking that there are none under the influence of which the proceedings of a new and free government can more auspiciously commence.\n",
            "\n",
            "By the article establishing the executive department it is made the duty of the President \"to recommend to your consideration such measures as he shall judge necessary and expedient.\" The circumstances under which I now meet you will acquit me from entering into that subject further than to refer to the great constitutional charter under which you are assembled, and which, in defining your powers, designates the objects to which your attention is to be given. It will be more consistent with those circumstances, and far more congenial with the feelings which actuate me, to substitute, in place of a recommendation of particular measures, the tribute that is due to the talents, the rectitude, and the patriotism which adorn the characters selected to devise and adopt them. In these honorable qualifications I behold the surest pledges that as on one side no local prejudices or attachments, no separate views nor party animosities, will misdirect the comprehensive and equal eye which ought to watch over this great assemblage of communities and interests, so, on another, that the foundation of our national policy will be laid in the pure and immutable principles of private morality, and the preeminence of free government be exemplified by all the attributes which can win the affections of its citizens and command the respect of the world. I dwell on this prospect with every satisfaction which an ardent love for my country can inspire, since there is no truth more thoroughly established than that there exists in the economy and course of nature an indissoluble union between virtue and happiness; between duty and advantage; between the genuine maxims of an honest and magnanimous policy and the solid rewards of public prosperity and felicity; since we ought to be no less persuaded that the propitious smiles of Heaven can never be expected on a nation that disregards the eternal rules of order and right which Heaven itself has ordained; and since the preservation of the sacred fire of liberty and the destiny of the republican model of government are justly considered, perhaps, as deeply, as finally, staked on the experiment entrusted to the hands of the American people.\n",
            "\n",
            "Besides the ordinary objects submitted to your care, it will remain with your judgment to decide how far an exercise of the occasional power delegated by the fifth article of the Constitution is rendered expedient at the present juncture by the nature of objections which have been urged against the system, or by the degree of inquietude which has given birth to them. Instead of undertaking particular recommendations on this subject, in which I could be guided by no lights derived from official opportunities, I shall again give way to my entire confidence in your discernment and pursuit of the public good; for I assure myself that whilst you carefully avoid every alteration which might endanger the benefits of an united and effective government, or which ought to await the future lessons of experience, a reverence for the characteristic rights of freemen and a regard for the public harmony will sufficiently influence your deliberations on the question how far the former can be impregnably fortified or the latter be safely and advantageously promoted.\n",
            "\n",
            "To the foregoing observations I have one to add, which will be most properly addressed to the House of Representatives. It concerns myself, and will therefore be as brief as possible. When I was first honored with a call into the service of my country, then on the eve of an arduous struggle for its liberties, the light in which I contemplated my duty required that I should renounce every pecuniary compensation. From this resolution I have in no instance departed; and being still under the impressions which produced it, I must decline as inapplicable to myself any share in the personal emoluments which may be indispensably included in a permanent provision for the executive department, and must accordingly pray that the pecuniary estimates for the station in which I am placed may during my continuance in it be limited to such actual expenditures as the public good may be thought to require.\n",
            "\n",
            "Having thus imparted to you my sentiments as they have been awakened by the occasion which brings us together, I shall take my present leave; but not without resorting once more to the benign Parent of the Human Race in humble supplication that, since He has been pleased to favor the American people with opportunities for deliberating in perfect tranquillity, and dispositions for deciding with unparalleled unanimity on a form of government for the security of their union and the advancement of their happiness, so His divine blessing may be equally conspicuous in the enlarged views, the temperate consultations, and the wise measures on which the success of this Government must depend. \n",
            "\n"
          ]
        }
      ]
    },
    {
      "cell_type": "code",
      "execution_count": 16,
      "metadata": {
        "colab": {
          "base_uri": "https://localhost:8080/"
        },
        "id": "Wfcu62broMl6",
        "outputId": "04371e41-3f57-48f9-c752-80fbad9724c6"
      },
      "outputs": [
        {
          "output_type": "stream",
          "name": "stdout",
          "text": [
            "Chief Justice Roberts, Vice President Harris, Speaker Pelosi, Leader Schumer, Leader McConnell, Vice President Pence, and my distinguished guests, and my fellow Americans: This is America's day. This is democracy's day, a day of history and hope, of renewal and resolve. Through a crucible for the ages America has been tested anew, and America has risen to the challenge.\n",
            "\n",
            "Today we celebrate the triumph not of a candidate, but of a cause, the cause of democracy. The peopleâthe will of the people has been heard, and the will of the people has been heeded. We've learned again that democracy is precious, democracy is fragile. And at this hour, my friends, democracy has prevailed.\n",
            "\n",
            "So now, on this hallowed ground where just a few days ago violence sought to shake the Capitol's very foundation, we come together as one Nation under God, indivisible, to carry out the peaceful transfer of power as we have for more than two centuries. As we look ahead in our uniquely American wayârestless, bold, optimisticâand set our sights on the Nation we know we can be and we must be, I thank my predecessors of both parties for their presence here today. I thank them from the bottom of my heart. And I know the resilience of our Constitution and the strength, the strength of our Nation, as does President Carter, who I spoke with last night, who cannot be with us today, but whom we salute for his lifetime of service.\n",
            "\n",
            "I have just taken the sacred oath each of these patriots have taken, the oath first sworn by George Washington. But the American story depends not on any one of us, not on some of us, but on all of us, on \"We the People,\" who seek a more perfect Union.\n",
            "\n",
            "This is a great Nation; we are good people. Over the centuries, through storm and strife, in peace and in war, we've come so far. But we still have far to go. We'll press forward with speed and urgency, for we have much to do in this winter of peril and significant possibilities: much to repair, much to restore, much to heal, much to build, and much to gain.\n",
            "\n",
            "Few people in our Nation's history have been more challenged or found a time more challenging or difficult than the time we're in now. A once-in-a-century virus that silently stalks the country has taken as many lives in one year as America lost in all of World War II. Millions of jobs have been lost; hundreds of thousands of businesses closed. A cry for racial justice some 400 years in the making moves us. The dream of justice for all will be deferred no longer. A cry for survival comes from the planet itself, a cry that can't be any more desperate or any more clear. And now, a rise of political extremism, White supremacy, domestic terrorism that we must confront and we will defeat.\n",
            "\n",
            "To overcome these challengesâto restore the soul and secure the future of Americaârequires so much more than words. It requires the most elusive of all things in a democracy: unity. Unity.\n",
            "\n",
            "In another January on New Year's Day in 1863, Abraham Lincoln signed the Emancipation Proclamation. When he put pen to paper, the President said, and I quote, \"If my name ever goes down into history it will be for this act, and my whole soul is in it.\" My whole soul is in it.\n",
            "\n",
            "Today, on this January day, my whole soul is in this: bringing America together, uniting our people, uniting our Nation. And I ask every American to join me in this cause: uniting to fight the foes we face: anger, resentment, and hatred; extremism, lawlessness, violence; disease, joblessness, and hopelessness.\n",
            "\n",
            "With unity we can do great things, important things. We can right wrongs. We can put people to work in good jobs. We can teach our children in safe schools. We can overcome the deadly virus. We can reward work and rebuild the middle class and make health care secure for all. We can deliver racial justice, and we can make America, once again, the leading force for good in the world.\n",
            "\n",
            "I know speaking of unity can sound to some like a foolish fantasy these days. I know the forces that divide us are deep and they are real. But I also know they are not new. Our history has been a constant struggle between the American ideal that we all are created equal and the harsh, ugly reality that racism, nativism, fear, demonization have long torn us apart. The battle is perennial. And victory is never assured.\n",
            "\n",
            "Through the Civil War, the Great Depression, World War, 9/11, through struggle, sacrifice, and setbacks, our \"better angels\" have always prevailed. In each of these moments, enough of usâenough of usâhave come together to carry all of us forward. And we can do that now. History, faith, and reason show the way: the way of unity.\n",
            "\n",
            "We can see each other not as adversaries, but as neighbors. We can treat each other with dignity and respect. We can join forces, stop the shouting, and lower the temperature. For without unity, there is no peace, only bitterness and fury. No progress, only exhausting outrage. No nation, only a state of chaos.\n",
            "\n",
            "This is our historic moment of crisis and challenge, and unity is the path forward. And we must meet this moment as the United States of America. If we do that, I guarantee you, we will not fail. We have never, ever, ever, ever failed in America when we have acted together.\n",
            "\n",
            "And so today, at this time, in this place, let's start afresh, all of us. Let's begin to listen to one another, hear one another, see one another, show respect to one another. Politics doesn't have to be a raging fire destroying everything in its path. Every disagreement doesn't have to be a cause for total war. And we must reject the culture in which facts themselves are manipulated and even manufactured.\n",
            "\n",
            "My fellow Americans, we have to be different than this. America has to be better than this. And I believe America is so much better than this.\n",
            "\n",
            "Just look around. Here we stand, in the shadow of the Capitol dome, as was mentioned earlier, completed amid the Civil War, when the Union itself was literally hanging in the balance. Yet we endured, we prevailed.\n",
            "\n",
            "Here we stand looking out on the great Mall where Dr. King spoke of his dream.\n",
            "\n",
            "Here we stand, where 108 years ago, at another Inaugural, thousands of protesters tried to block brave women marching for the right to vote. And today we mark the swearing-in of the first woman in American history elected to national office: Vice President Kamala Harris. Don't tell me things can't change.\n",
            "\n",
            "Here we stand across the Potomac from Arlington Cemetery, where heroes who gave the last full measure of devotion rest in eternal peace.\n",
            "\n",
            "And here we stand, just days after a riotous mob thought they could use violence to silence the will of the people, to stop the work of our democracy, to drive us from this sacred ground. It did not happen. It will never happen, not today, not tomorrow, not everânot ever.\n",
            "\n",
            "To all those who supported our campaign, I am humbled by the faith you've placed in us. To all those who did not support us, let me say this: Hear me out as we move forward. Take a measure of me and my heart. And if you still disagree, so be it. That's democracy. That's America. The right to dissent peaceably, within the guardrails of our Republic, is perhaps this Nation's greatest strength. Yet hear me clearly: Disagreement must not lead to disunion. And I pledge this to you: I will be a President for all Americansâall Americans. And I promise you, I will fight as hard for those who did not support me as for those who did.\n",
            "\n",
            "Many centuries ago, Saint Augustine, a saint of my church, wrote that a people was a multitude defined by the common objects of their loveâdefined by the common objects of their love. What are the common objects we as Americans love? That define us as Americans? I think we know: opportunity, security, liberty, dignity, respect, honor, and yes, the truth.\n",
            "\n",
            "Recent weeks and months have taught us a painful lesson. There is truth, and there are lies: lies told for power and for profit. And each of us has a duty and a responsibility, as citizens, as Americans, and especially as leadersâleaders who have pledged to honor our Constitution and protect our Nationâto defend the truth and defeat the lies.\n",
            "\n",
            "Look, I understand that many of my fellow Americans view the future with fear and trepidation. I understand they worry about their jobs. I understand, like my dad, they lay at bed at night staring at the ceiling, wondering: \"Can I keep my health care? Can I pay my mortgage?\" Thinking about their families, about what comes next. I promise you, I get it. But the answer is not to turn inward, to retreat into competing factions, distrusting those who don't look like you or worship the way you do or don't get their news from the same sources you do. We must end this uncivil war that pits red against blue, rural versus urban, conservative versus liberal. We can do this if we open our souls instead of hardening our hearts, if we show a little tolerance and humility, and if we're willing to stand in the other person's shoes, as my mom would say, just for a moment. Stand in their shoes.\n",
            "\n",
            "Because here is the thing about life: There is no accounting for what fate will deal you. Some days when you need a hand. There are other days when we're called to lend a hand. That's how it has to be. That is what we do for one another. And if we are this way, our country will be stronger, more prosperous, more ready for the future. And we can still disagree.\n",
            "\n",
            "My fellow Americans, in the work ahead of us, we're going to need each other. We need all our strength to persevere through this dark winter. We're entering what may be the toughest and deadliest period of the virus. We must set aside politics and finally face this pandemic as one Nation. One Nation. And I promise you this: As the Bible says, \"Weeping may endure for a night, but joy cometh in the morning.\" We will get through this, togetherâtogether.\n",
            "\n",
            "Look, folks, all my colleagues that I served with in the House and the Senate up here. We all understand the world is watching, watching all of us today. So here is my message to those beyond our borders: America has been tested, and we have come out stronger for it. We will repair our alliances and engage with the world once again, not to meet yesterday's challenges, but today's and tomorrow's challenges. And we'll lead not merely by the example of our power, but by the power of our example. We will be a strong and trusted partner for peace, progress, and security.\n",
            "\n",
            "Look, you all know, we have been through so much in this Nation. And, in my first act as President, I'd like to ask you to join me in a moment of silent prayer to remember all those we lost this past year to the pandemic, those 400,000 fellow Americans: moms, dads, husbands, wives, sons, daughters, friends, neighbors, and coworkers. We will honor them by becoming the people and Nation we know we can and should be.\n",
            "\n",
            "So I ask you, let's say a silent prayer for those who have lost their lives, for those they left behind, and for our country.\n",
            "\n",
            "[At this point, a moment of silence was observed.]\n",
            "\n",
            "Amen.\n",
            "\n",
            "Folks, this is a time of testing. We face an attack on our democracy and on truth, a raging virus, growing inequity, the sting of systemic racism, a climate in crisis, America's role in the world. Any one of these would be enough to challenge us in profound ways. But the fact is, we face them all at once, presenting this Nation with one of the gravest of responsibilities we've had.\n",
            "\n",
            "Now we're going to be tested. Are we going to step up? All of us? It is time for boldness, for there is so much to do. And this is certain, I promise you: We will be judged, you and I, by how we resolve these cascading crises of our era. Will we rise to the occasion, is the question. Will we master this rare and difficult hour? Will we meet our obligations and pass along a new and better world to our children? I believe we must; I'm sure you do as well. I believe we will.\n",
            "\n",
            "And when we do, we will write the next great chapter in the history of the United States of America: the American story, a story that might sound something like a song that means a lot to me. It's called \"American Anthem,\" and there's one verse that stands out, at least for me, and it goes like this:\n",
            "\n",
            "\"The work and prayers of centuries have brought us to this day\n",
            "What shall be our legacy? What will our children say? . . .\n",
            "Let me know in my heart when my days are through\n",
            "America, America, I gave my best to you.\"\n",
            "\n",
            "Let's addâlet's us add our own work and prayers to the unfolding story of our great Nation. If we do this, then when our days are through, our children and our children's children will say of us: \"They gave their best. They did their duty. They healed a broken land.\"\n",
            "\n",
            "My fellow Americans, I close today where I began, with a sacred oath. Before God and all of you I give you my word: I will always level with you. I will defend the Constitution. I will defend our democracy. I will defend America. And I will give all, all of you, keep everything youâI do, in your service, thinking not of power, but of possibilities; not of personal interest, but of the public good. And together, we shall write an American story of hope, not fear; of unity, not division; of light, not darkness. A story of decency and dignity, love and healing, greatness and goodness.\n",
            "\n",
            "May this be the story that guides us, the story that inspires us, and the story that tells ages yet to come that we answered the call of history, we met the moment; democracy and hope, truth and justice, did not die on our watch, but thrived; that America secured liberty at home and stood once again as a beacon to the world. That is what we owe our forebearers, one another, and generations to follow.\n",
            "\n",
            "So with purpose and resolve we turn to those tasks of our time, sustained by faith, driven by conviction, and devoted to one another and the country we love with all our hearts.\n",
            "\n",
            "May God bless America, and may God protect our troops. Thank you, America.\n",
            "\n"
          ]
        }
      ],
      "source": [
        "print(inaugural.raw(list_fnames[-1]))"
      ]
    },
    {
      "cell_type": "code",
      "execution_count": 18,
      "metadata": {
        "tags": [],
        "colab": {
          "base_uri": "https://localhost:8080/"
        },
        "id": "gNvI2WcRoMl7",
        "outputId": "c6872cf6-54aa-4acc-ead1-c64168b32db2"
      },
      "outputs": [
        {
          "output_type": "stream",
          "name": "stdout",
          "text": [
            "59\n",
            "Fellow-Citizens of the Senate and of the House of Representatives:\n",
            "\n",
            "Among the vicissitudes incident to life no event could have filled me with greater anxieties than that of which the notification was transmitted by your order, and received on the 14th day of the present month. On the one hand, I was summoned by my Country, whose voice I can never hear but with veneration and love, from a retreat which I had chosen with the fondest predilection, and, in my flattering hopes, with an immutable decision, as the asylum of my declining years -- a retreat which was rendered every day more necessary as well as more dear to me by the addition of habit to inclination, and of frequent interruptions in my health to the gradual waste committed on it by time. On the other hand, the magnitude and difficulty of the trust to which the voice of my country called me, being sufficient to awaken in the wisest and most experienced of her citizens a distrustful scrutiny into his qualifications, could not but overwhelm with despondence one who (inheriting inferior endowments from nature and unpracticed in the duties of civil administration) ought to be peculiarly conscious of his own deficiencies. In this conflict of emotions all I dare aver is that it has been my faithful study to collect my duty from a just appreciation of every circumstance by which it might be affected. All I dare hope is that if, in executing this task, I have been too much swayed by a grateful remembrance of former instances, or by an affectionate sensibility to this transcendent proof of the confidence of my fellow citizens, and have thence too little consulted my incapacity as well as disinclination for the weighty and untried cares before me, my error will be palliated by the motives which mislead me, and its consequences be judged by my country with some share of the partiality in which they originated.\n",
            "\n",
            "Such being the impressions under which I have, in obedience to the public summons, repaired to the present station, it would be peculiarly improper to omit in this first official act my fervent supplications to that Almighty Being who rules over the universe, who presides in the councils of nations, and whose providential aids can supply every human defect, that His benediction may consecrate to the liberties and happiness of the people of the United States a Government instituted by themselves for these essential purposes, and may enable every instrument employed in its administration to execute with success the functions allotted to his charge. In tendering this homage to the Great Author of every public and private good, I assure myself that it expresses your sentiments not less than my own, nor those of my fellow citizens at large less than either. No people can be bound to acknowledge and adore the Invisible Hand which conducts the affairs of men more than those of the United States. Every step by which they have advanced to the character of an independent nation seems to have been distinguished by some token of providential agency; and in the important revolution just accomplished in the system of their united government the tranquil deliberations and voluntary consent of so many distinct communities from which the event has resulted can not be compared with the means by which most governments have been established without some return of pious gratitude, along with an humble anticipation of the future blessings which the past seem to presage. These reflections, arising out of the present crisis, have forced themselves too strongly on my mind to be suppressed. You will join with me, I trust, in thinking that there are none under the influence of which the proceedings of a new and free government can more auspiciously commence.\n",
            "\n",
            "By the article establishing the executive department it is made the duty of the President \"to recommend to your consideration such measures as he shall judge necessary and expedient.\" The circumstances under which I now meet you will acquit me from entering into that subject further than to refer to the great constitutional charter under which you are assembled, and which, in defining your powers, designates the objects to which your attention is to be given. It will be more consistent with those circumstances, and far more congenial with the feelings which actuate me, to substitute, in place of a recommendation of particular measures, the tribute that is due to the talents, the rectitude, and the patriotism which adorn the characters selected to devise and adopt them. In these honorable qualifications I behold the surest pledges that as on one side no local prejudices or attachments, no separate views nor party animosities, will misdirect the comprehensive and equal eye which ought to watch over this great assemblage of communities and interests, so, on another, that the foundation of our national policy will be laid in the pure and immutable principles of private morality, and the preeminence of free government be exemplified by all the attributes which can win the affections of its citizens and command the respect of the world. I dwell on this prospect with every satisfaction which an ardent love for my country can inspire, since there is no truth more thoroughly established than that there exists in the economy and course of nature an indissoluble union between virtue and happiness; between duty and advantage; between the genuine maxims of an honest and magnanimous policy and the solid rewards of public prosperity and felicity; since we ought to be no less persuaded that the propitious smiles of Heaven can never be expected on a nation that disregards the eternal rules of order and right which Heaven itself has ordained; and since the preservation of the sacred fire of liberty and the destiny of the republican model of government are justly considered, perhaps, as deeply, as finally, staked on the experiment entrusted to the hands of the American people.\n",
            "\n",
            "Besides the ordinary objects submitted to your care, it will remain with your judgment to decide how far an exercise of the occasional power delegated by the fifth article of the Constitution is rendered expedient at the present juncture by the nature of objections which have been urged against the system, or by the degree of inquietude which has given birth to them. Instead of undertaking particular recommendations on this subject, in which I could be guided by no lights derived from official opportunities, I shall again give way to my entire confidence in your discernment and pursuit of the public good; for I assure myself that whilst you carefully avoid every alteration which might endanger the benefits of an united and effective government, or which ought to await the future lessons of experience, a reverence for the characteristic rights of freemen and a regard for the public harmony will sufficiently influence your deliberations on the question how far the former can be impregnably fortified or the latter be safely and advantageously promoted.\n",
            "\n",
            "To the foregoing observations I have one to add, which will be most properly addressed to the House of Representatives. It concerns myself, and will therefore be as brief as possible. When I was first honored with a call into the service of my country, then on the eve of an arduous struggle for its liberties, the light in which I contemplated my duty required that I should renounce every pecuniary compensation. From this resolution I have in no instance departed; and being still under the impressions which produced it, I must decline as inapplicable to myself any share in the personal emoluments which may be indispensably included in a permanent provision for the executive department, and must accordingly pray that the pecuniary estimates for the station in which I am placed may during my continuance in it be limited to such actual expenditures as the public good may be thought to require.\n",
            "\n",
            "Having thus imparted to you my sentiments as they have been awakened by the occasion which brings us together, I shall take my present leave; but not without resorting once more to the benign Parent of the Human Race in humble supplication that, since He has been pleased to favor the American people with opportunities for deliberating in perfect tranquillity, and dispositions for deciding with unparalleled unanimity on a form of government for the security of their union and the advancement of their happiness, so His divine blessing may be equally conspicuous in the enlarged views, the temperate consultations, and the wise measures on which the success of this Government must depend. \n",
            "\n"
          ]
        }
      ],
      "source": [
        "list_docs = []    # list of raw text documents\n",
        "for fid in list_fnames:\n",
        "    list_docs.append(inaugural.raw(fid))\n",
        "\n",
        "print(len(list_docs))\n",
        "#print(name_doc)\n",
        "print(list_docs[0])"
      ]
    },
    {
      "cell_type": "code",
      "execution_count": 19,
      "metadata": {
        "colab": {
          "base_uri": "https://localhost:8080/"
        },
        "id": "Upw04WjhoMl8",
        "outputId": "7d78f274-488e-4428-e06d-e82e612d679b"
      },
      "outputs": [
        {
          "output_type": "stream",
          "name": "stdout",
          "text": [
            "['Fellow', '-', 'Citizens', 'of', 'the', 'Senate', ...]\n"
          ]
        }
      ],
      "source": [
        "# access the words\n",
        "print(inaugural.words('1789-Washington.txt')) # replace words with paras - get paragraphs"
      ]
    },
    {
      "source": [
        "from sklearn.feature_extraction.text import CountVectorizer # extract words and count words in each text\n",
        "from sklearn.feature_extraction.text import TfidfTransformer \n",
        "\n",
        "import spacy   # another tokenizer, lemmatizer (has --> be)\n",
        "nlp = spacy.load('en_core_web_sm')  "
      ],
      "cell_type": "code",
      "metadata": {
        "id": "5fakoul7oMl8"
      },
      "execution_count": 20,
      "outputs": []
    },
    {
      "cell_type": "code",
      "execution_count": null,
      "metadata": {
        "id": "dVe_EEkFoMl9"
      },
      "outputs": [],
      "source": [
        "def nlp_processing(doc):  # text processing for one text\n",
        "    tokens = nlp(doc)\n",
        "    \n",
        "    #print(type(tokens))\n",
        "    # eliminates stop words  and non alpha num\n",
        "    terms = [token.lemma_ for token in tokens if not token.is_stop and token.is_alpha]\n",
        "  \n",
        "    return terms\n",
        "\n",
        "vectorizer = CountVectorizer(tokenizer = nlp_processing,min_df = 2) \n",
        "# stop_words = 'english', max_df, min_df, max_features, try analyzer = 'word'\n",
        "\n",
        "count_matrix = vectorizer.fit_transform(list_docs)  "
      ]
    },
    {
      "cell_type": "code",
      "execution_count": null,
      "metadata": {
        "id": "5iJNYRNKoMl-",
        "outputId": "e4c2a790-fc15-45bf-a06d-1ea3f4a80ba3"
      },
      "outputs": [
        {
          "output_type": "execute_result",
          "data": {
            "text/plain": "(58, 3764)"
          },
          "metadata": {},
          "execution_count": 33
        }
      ],
      "source": [
        "count_matrix.shape"
      ]
    },
    {
      "cell_type": "code",
      "execution_count": null,
      "metadata": {
        "tags": [],
        "id": "A4F9jZKNoMl_",
        "outputId": "6ea0421b-5774-46ec-ebb3-a211725aa4ed"
      },
      "outputs": [
        {
          "output_type": "stream",
          "name": "stdout",
          "text": "3764\n['-PRON-', 'abandon', 'abandonment', 'abide', 'ability', 'able', 'abode', 'abolish', 'aboriginal', 'abound', 'abraham', 'abreast', 'abroad', 'absence', 'absent', 'absolute', 'absolutely', 'absorb', 'abstain', 'abundance']\n"
        }
      ],
      "source": [
        "#dir(vectorizer)\n",
        "vocabulary = vectorizer.get_feature_names()\n",
        "print(len(vocabulary))\n",
        "print(vocabulary[:20])"
      ]
    },
    {
      "cell_type": "code",
      "execution_count": null,
      "metadata": {
        "tags": [],
        "id": "_GK9-1Q2oMl_",
        "outputId": "e5ab9ddb-48eb-4dd7-9606-14ba7388a1ce"
      },
      "outputs": [
        {
          "output_type": "stream",
          "name": "stdout",
          "text": "(1, 3764)\n(3764,)\n[ 5 12  4 12 20]\n"
        }
      ],
      "source": [
        "# find the document frequency of each term from count_matrix\n",
        "import scipy\n",
        "import numpy as np\n",
        "#from scipy.sparse.csr_matrix import sum \n",
        "binary_matrix = count_matrix > 0\n",
        "doc_freq = np.sum(binary_matrix, axis = 0)\n",
        "print(doc_freq.shape)\n",
        "doc_freq = np.asarray(doc_freq).ravel()  # converts a matrix to an array same as doc_freq.A1 \n",
        "print(doc_freq.shape)\n",
        "print(doc_freq[:5])"
      ]
    },
    {
      "cell_type": "code",
      "execution_count": null,
      "metadata": {
        "id": "h9NPuQldoMmA"
      },
      "outputs": [],
      "source": [
        "import spacy\n",
        "nlp = spacy.load(\"en_core_web_sm\")"
      ]
    },
    {
      "cell_type": "code",
      "execution_count": null,
      "metadata": {
        "id": "IXZJsy-YoMmA"
      },
      "outputs": [],
      "source": [
        "doc_info = nlp(inaugural.raw('1993-Clinton.txt')) # '1789-Washington.txt'))"
      ]
    },
    {
      "cell_type": "code",
      "execution_count": null,
      "metadata": {
        "tags": [],
        "id": "7mwhHkXboMmB",
        "outputId": "c7e6326e-3a04-42d5-896c-45bd4fbbef93"
      },
      "outputs": [
        {
          "output_type": "stream",
          "name": "stdout",
          "text": "today 20 25 DATE\nAmerican 54 62 NORP\nwinter 110 116 DATE\nthe spring 186 196 DATE\nspring 200 206 DATE\nAmerica 300 307 GPE\nAmerica 343 350 GPE\nAmerica 429 436 GPE\nAmerica 522 529 GPE\nAmerican 668 676 NORP\nAmerican 714 722 NORP\nBush 784 788 PERSON\nhalf-century 798 810 DATE\nAmerica 825 832 GPE\nmillions 849 857 CARDINAL\nToday 960 965 DATE\nthe Cold War 1005 1017 EVENT\nGeorge Washington 1366 1383 PERSON\nfirst 1384 1389 ORDINAL\nAmerica 1785 1792 GPE\ntoday 1793 1798 DATE\nEarth 1850 1855 LOC\nmillions 2067 2075 CARDINAL\nAmericans 2079 2088 NORP\nmillions 2395 2403 CARDINAL\nAmericans 2778 2787 NORP\ntoday 2871 2876 DATE\nthe Civil War 2949 2962 EVENT\nthe Great Depression 2967 2987 EVENT\nThomas Jefferson 3128 3144 PERSON\nAmericans 3271 3280 NORP\nAmerica 3436 3443 GPE\nAmerica 3487 3494 GPE\ntoday 3504 3509 DATE\nAmerican 3581 3589 NORP\nAmerica 3619 3626 GPE\nAmerica 4445 4452 GPE\nAmerica 4775 4782 GPE\nAmericans 5134 5143 NORP\ntoday 5177 5182 DATE\nAmerica 5458 5465 GPE\nFranklin Roosevelt 5522 5540 PERSON\nAmerica 5710 5717 GPE\nToday 5958 5963 DATE\nAmerica 6114 6121 GPE\nAmerica 6184 6191 GPE\nAmericans 6604 6613 NORP\ntoday 6633 6638 DATE\nthe Persian Gulf 6642 6658 LOC\nSomalia 6663 6670 GPE\nAmerica 6999 7006 GPE\nAmerican 7020 7028 NORP\ntoday 7074 7079 DATE\nAmericans 7291 7300 NORP\nthe spring 7314 7324 DATE\nWE 7330 7332 ORG\nAmericans 7557 7566 NORP\nYOUNG Americans 7646 7661 NORP\nmillions 7861 7869 CARDINAL\nToday 8059 8064 DATE\nAmerica 8091 8098 GPE\nAmerica 8144 8151 GPE\ntwo centuries 8201 8214 DATE\nAmerica 8504 8511 GPE\nAmericans 8586 8595 NORP\nthe 21st Century 8624 8640 DATE\nScripture 8754 8763 PERSON\nseason 8821 8827 DATE\nGod 9092 9095 PERSON\n"
        }
      ],
      "source": [
        "for ent in doc_info.ents:\n",
        "    print(ent.text, ent.start_char, ent.end_char, ent.label_)"
      ]
    },
    {
      "cell_type": "code",
      "execution_count": null,
      "metadata": {
        "id": "rqjZKxv6oMmB"
      },
      "outputs": [],
      "source": []
    }
  ],
  "metadata": {
    "kernelspec": {
      "display_name": "Python 3",
      "language": "python",
      "name": "python3"
    },
    "language_info": {
      "codemirror_mode": {
        "name": "ipython",
        "version": 3
      },
      "file_extension": ".py",
      "mimetype": "text/x-python",
      "name": "python",
      "nbconvert_exporter": "python",
      "pygments_lexer": "ipython3",
      "version": "3.7.3-final"
    },
    "colab": {
      "provenance": [],
      "collapsed_sections": [],
      "include_colab_link": true
    }
  },
  "nbformat": 4,
  "nbformat_minor": 0
}