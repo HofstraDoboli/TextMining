{
  "cells": [
    {
      "cell_type": "markdown",
      "metadata": {
        "id": "view-in-github",
        "colab_type": "text"
      },
      "source": [
        "<a href=\"https://colab.research.google.com/github/HofstraDoboli/TextMining_F22/blob/main/read_inaugural_addresses.ipynb\" target=\"_parent\"><img src=\"https://colab.research.google.com/assets/colab-badge.svg\" alt=\"Open In Colab\"/></a>"
      ]
    },
    {
      "cell_type": "code",
      "execution_count": 2,
      "metadata": {
        "colab": {
          "base_uri": "https://localhost:8080/"
        },
        "id": "QcBVm87uoMl1",
        "outputId": "9754c73d-fadc-413a-f9b8-5146f700214d"
      },
      "outputs": [
        {
          "output_type": "stream",
          "name": "stderr",
          "text": [
            "[nltk_data] Downloading package inaugural to /root/nltk_data...\n",
            "[nltk_data]   Package inaugural is already up-to-date!\n",
            "[nltk_data] Downloading package punkt to /root/nltk_data...\n",
            "[nltk_data]   Unzipping tokenizers/punkt.zip.\n"
          ]
        }
      ],
      "source": [
        "import nltk\n",
        "nltk.download('inaugural')\n",
        "nltk.download('punkt')\n",
        "from nltk import word_tokenize\n",
        "# Uncomment the lines below if you get an error\n",
        "# import nltk\n",
        "# nltk.download('inaugural')\n",
        "from nltk.corpus import inaugural"
      ]
    },
    {
      "cell_type": "code",
      "execution_count": 3,
      "metadata": {
        "tags": [],
        "id": "TyAHcpJsoMl4"
      },
      "outputs": [],
      "source": [
        "# list names inaugural addresses\n",
        "list_fnames = inaugural.fileids()"
      ]
    },
    {
      "cell_type": "code",
      "execution_count": 10,
      "metadata": {
        "tags": [],
        "id": "zKLa-r2soMl6",
        "outputId": "d74b1dd7-cafa-4ad1-b220-79ec96017ca5",
        "colab": {
          "base_uri": "https://localhost:8080/"
        }
      },
      "outputs": [
        {
          "output_type": "stream",
          "name": "stdout",
          "text": [
            "['CorpusView', '__class__', '__delattr__', '__dict__', '__dir__', '__doc__', '__eq__', '__format__', '__ge__', '__getattribute__', '__gt__', '__hash__', '__init__', '__init_subclass__', '__le__', '__lt__', '__module__', '__ne__', '__new__', '__reduce__', '__reduce_ex__', '__repr__', '__setattr__', '__sizeof__', '__str__', '__subclasshook__', '__weakref__', '_citation', '_encoding', '_fileids', '_get_root', '_license', '_para_block_reader', '_read_para_block', '_read_sent_block', '_read_word_block', '_readme', '_root', '_sent_tokenizer', '_tagset', '_unload', '_word_tokenizer', 'abspath', 'abspaths', 'citation', 'encoding', 'ensure_loaded', 'fileids', 'license', 'open', 'paras', 'raw', 'readme', 'root', 'sents', 'words']\n"
          ]
        }
      ],
      "source": [
        "# methods inaugural object\n",
        "print(dir(inaugural))"
      ]
    },
    {
      "cell_type": "code",
      "source": [
        "print(inaugural.raw(list_fnames[0]))"
      ],
      "metadata": {
        "id": "E1bKjLgxpEpC"
      },
      "execution_count": null,
      "outputs": []
    },
    {
      "cell_type": "code",
      "execution_count": 5,
      "metadata": {
        "tags": [],
        "colab": {
          "base_uri": "https://localhost:8080/"
        },
        "id": "gNvI2WcRoMl7",
        "outputId": "bb103eca-98c3-46fa-eab4-bfa08752d126"
      },
      "outputs": [
        {
          "output_type": "stream",
          "name": "stdout",
          "text": [
            "59\n"
          ]
        }
      ],
      "source": [
        "list_docs = []    # list of raw text documents\n",
        "for fid in list_fnames:\n",
        "    list_docs.append(inaugural.raw(fid))\n",
        "\n",
        "print(len(list_docs))\n",
        "#print(name_doc)\n",
        "#print(list_docs[0])"
      ]
    },
    {
      "cell_type": "code",
      "execution_count": null,
      "metadata": {
        "colab": {
          "base_uri": "https://localhost:8080/"
        },
        "id": "Upw04WjhoMl8",
        "outputId": "7d78f274-488e-4428-e06d-e82e612d679b"
      },
      "outputs": [
        {
          "output_type": "stream",
          "name": "stdout",
          "text": [
            "['Fellow', '-', 'Citizens', 'of', 'the', 'Senate', ...]\n"
          ]
        }
      ],
      "source": [
        "# access the words\n",
        "print(inaugural.words('1789-Washington.txt')) # replace words with paras - get paragraphs"
      ]
    },
    {
      "source": [
        "from sklearn.feature_extraction.text import CountVectorizer # extract words and count words in each text\n",
        "from sklearn.feature_extraction.text import TfidfTransformer\n",
        "from collections import Counter\n",
        "\n",
        "import spacy   # another tokenizer, lemmatizer (has --> be)\n",
        "nlp = spacy.load('en_core_web_sm')"
      ],
      "cell_type": "code",
      "metadata": {
        "id": "5fakoul7oMl8"
      },
      "execution_count": 6,
      "outputs": []
    },
    {
      "cell_type": "code",
      "execution_count": 31,
      "metadata": {
        "id": "dVe_EEkFoMl9"
      },
      "outputs": [],
      "source": [
        "def nlp_processing(doc):  # text processing for one text\n",
        "    tokens = nlp(doc)\n",
        "\n",
        "    #print(type(tokens))\n",
        "    # eliminates stop words  and non alpha num\n",
        "    terms = [token.lemma_.lower() for token in tokens if not token.is_stop and token.is_alpha]\n",
        "\n",
        "    ners = []\n",
        "    for ner in tokens.ents:\n",
        "      tokens_ner = nlp(ner.text)\n",
        "      if len(tokens_ner) > 1 and ner.label_ in [\"PERSON\", \"GPE\", \"ORG\",\"FAC\"]:\n",
        "        # remove stop words at the beginning\n",
        "        if tokens_ner[0].is_stop:\n",
        "          ner_text = ' '.join([t.text for t in tokens_ner[1:]])\n",
        "        else:\n",
        "          ner_text = ner.text\n",
        "        ners.append(ner_text.lower())\n",
        "\n",
        "    #print(len(ners)) # ners.keys())\n",
        "    terms.extend(ners)\n",
        "\n",
        "    return terms, ners\n",
        "\n",
        "all_terms  = []\n",
        "all_tokens = []\n",
        "all_ners   = []\n",
        "for doc in list_docs:\n",
        "  terms_spacy, ners = nlp_processing(doc)\n",
        "  all_ners.extend(ners)\n",
        "  all_terms.extend(terms_spacy) # contains all words in the collection in one list\n",
        "  #all_tokens.append(tokens_spacy) # contains all spacy tokens in each document, as a list of size num documents\n",
        "\n",
        "#vectorizer = CountVectorizer(min_df = 1)\n",
        "# stop_words = 'english', max_df, min_df, max_features, try analyzer = 'word'\n",
        "\n",
        "#count_matrix = vectorizer.fit_transform(all_terms)"
      ]
    },
    {
      "cell_type": "code",
      "source": [
        "ner_freq_collec = Counter(all_ners)\n",
        "sorted(ner_freq_collec)"
      ],
      "metadata": {
        "colab": {
          "base_uri": "https://localhost:8080/"
        },
        "id": "A6ejPev55EM9",
        "outputId": "82868143-a16b-4dd8-dfec-db541ebacbe7"
      },
      "execution_count": 37,
      "outputs": [
        {
          "output_type": "execute_result",
          "data": {
            "text/plain": [
              "['abraham lincoln',\n",
              " 'adams and a',\n",
              " 'amelia island',\n",
              " 'american century',\n",
              " 'american navy',\n",
              " 'american states',\n",
              " 'american wayâ\\x80\\x94restless',\n",
              " 'america¡¦',\n",
              " 'archibald macleish',\n",
              " 'arlington cemetery',\n",
              " 'arlington national cemetery',\n",
              " 'articles of association',\n",
              " 'articles of confederation',\n",
              " 'articles of confederation and perpetual union',\n",
              " 'atlantic states',\n",
              " 'author of liberty',\n",
              " 'barbary powers',\n",
              " 'belleau wood',\n",
              " 'beneficent creator',\n",
              " 'board of engineers and naval commissioners',\n",
              " \"britannic majesty's\",\n",
              " 'british government',\n",
              " 'british house of commons',\n",
              " 'british isles',\n",
              " 'bureau of corporations',\n",
              " 'buy american',\n",
              " 'calvin coolidge',\n",
              " 'capital of the nation',\n",
              " 'cardinal bernardin',\n",
              " 'chamber of congress',\n",
              " 'chief executive',\n",
              " 'chief justice',\n",
              " 'chosin reservoir',\n",
              " 'congress of the united states',\n",
              " 'constitution the union of these states',\n",
              " 'constitutional convention',\n",
              " 'consulting board',\n",
              " 'democratic party',\n",
              " 'department of agriculture',\n",
              " 'department of commerce and labor',\n",
              " 'department of justice',\n",
              " 'departments of agriculture and of commerce',\n",
              " 'departments of our government',\n",
              " 'district of columbia',\n",
              " 'divine being',\n",
              " 'divine hand',\n",
              " 'divine providence',\n",
              " 'emancipation proclamation',\n",
              " 'european government',\n",
              " 'executive department',\n",
              " 'executive departments',\n",
              " 'federal authority',\n",
              " 'federal establishment',\n",
              " 'federal executive',\n",
              " 'federal government',\n",
              " 'federal machinery of justice',\n",
              " 'federal power the general government',\n",
              " 'federal union',\n",
              " 'fellow citizens',\n",
              " 'fellow-citizens',\n",
              " 'fellow-citizens of the senate',\n",
              " 'fellow-citizens of the united states',\n",
              " 'fellow-citizens:\\n\\nunder providence',\n",
              " 'fellow-countrymen:',\n",
              " 'fort sumter',\n",
              " 'fountain of justice',\n",
              " 'franklin delano roosevelt',\n",
              " 'franklin roosevelt',\n",
              " 'freedom¡¦s enemies',\n",
              " 'g.i. bill of rights',\n",
              " 'general government',\n",
              " 'general government of the union',\n",
              " 'george washington',\n",
              " 'gillis long',\n",
              " 'giver of good',\n",
              " 'government of the union',\n",
              " 'governments of the earth',\n",
              " 'great britain',\n",
              " 'great lakes',\n",
              " 'great society',\n",
              " 'hardier virtues',\n",
              " 'helvetic confederacy',\n",
              " 'house of representatives',\n",
              " 'houses of congress',\n",
              " 'independence hall',\n",
              " 'indo-china',\n",
              " 'infinite power',\n",
              " 'international communism',\n",
              " 'interstate commerce commission',\n",
              " 'interstate commerce law and the changes',\n",
              " 'isthmus of a board of competent',\n",
              " 'iwo jima',\n",
              " 'john page',\n",
              " 'john stennis',\n",
              " 'joseph warren',\n",
              " 'julia coleman',\n",
              " 'justice burger',\n",
              " 'kamala harris',\n",
              " 'khe sahn',\n",
              " 'league of nations',\n",
              " 'liberty bell',\n",
              " 'lincoln memorial',\n",
              " 'magna charta',\n",
              " 'majority leader',\n",
              " \"martin luther king's\",\n",
              " 'martin treptow',\n",
              " 'massachusetts congress',\n",
              " 'mayflower compact',\n",
              " 'michelle obama',\n",
              " 'mormon church',\n",
              " \"nation's capital\",\n",
              " 'national congress',\n",
              " 'national government',\n",
              " 'national union',\n",
              " 'new england states',\n",
              " 'new orleans',\n",
              " 'new states',\n",
              " 'new world',\n",
              " 'new york',\n",
              " 'north africa',\n",
              " 'north and south',\n",
              " 'north and south america',\n",
              " 'north carolina',\n",
              " 'old world',\n",
              " 'omaha beach',\n",
              " 'panama canal',\n",
              " 'permanent court of international justice',\n",
              " 'pork chop hill',\n",
              " 'porto rico',\n",
              " 'rainbow division',\n",
              " 'republic',\n",
              " 'republic of texas',\n",
              " 'republican administration',\n",
              " 'republican government',\n",
              " 'republican party',\n",
              " 'rio de janeiro',\n",
              " 'saint augustine',\n",
              " 'seneca falls',\n",
              " 'social security',\n",
              " 'social security act',\n",
              " 'southern states',\n",
              " 'soviet union',\n",
              " 'st. croix',\n",
              " 'states and federal government',\n",
              " 'supreme author of all good',\n",
              " 'supreme authority of government',\n",
              " 'supreme court',\n",
              " 'supreme fulfillment',\n",
              " 'supreme judiciary',\n",
              " 'territory of kansas',\n",
              " 'thomas jefferson',\n",
              " 'treasury department',\n",
              " 'union be faithfully',\n",
              " 'union of a',\n",
              " 'union of the dakotas',\n",
              " 'union of the states',\n",
              " 'united action',\n",
              " 'united nations',\n",
              " 'united nations charter',\n",
              " 'united south',\n",
              " 'united stages',\n",
              " 'united states',\n",
              " 'united states a government',\n",
              " 'united states of america',\n",
              " 'united voice and',\n",
              " 'valley forge',\n",
              " 'war department',\n",
              " 'washington territories',\n",
              " 'washington, dc',\n",
              " 'west front',\n",
              " 'west indies',\n",
              " 'white house',\n",
              " \"wield technology's\",\n",
              " 'winston churchill',\n",
              " 'world united',\n",
              " 'young republic']"
            ]
          },
          "metadata": {},
          "execution_count": 37
        }
      ]
    },
    {
      "cell_type": "code",
      "source": [
        "# compute the frequency of all terms in the collection\n",
        "term_freq_collec = Counter(all_terms)\n",
        "# how many terms there are in the collection\n",
        "print(\"Size of the collection vocabulary\", len(term_freq_collec))\n",
        "# length of the collection = sum length of all documents\n",
        "print(\"Length collection\", len(all_terms))"
      ],
      "metadata": {
        "colab": {
          "base_uri": "https://localhost:8080/"
        },
        "id": "k_5SO2Pkg5HY",
        "outputId": "02bd13c2-be82-41b3-d943-956ecb33604b"
      },
      "execution_count": 38,
      "outputs": [
        {
          "output_type": "stream",
          "name": "stdout",
          "text": [
            "Size of the collection vocabulary 6672\n",
            "Length collection 58643\n"
          ]
        }
      ]
    },
    {
      "cell_type": "code",
      "source": [
        "query = \"cold war Soviet Union Russia China\"\n",
        "terms_query, tokens_query = nlp_processing(query)\n",
        "str(terms_query)"
      ],
      "metadata": {
        "colab": {
          "base_uri": "https://localhost:8080/",
          "height": 35
        },
        "id": "e_6-0Mmtibnr",
        "outputId": "344e3cc9-f098-4757-e6a3-b2ee20cb1ad4"
      },
      "execution_count": 35,
      "outputs": [
        {
          "output_type": "execute_result",
          "data": {
            "text/plain": [
              "\"['cold', 'war', 'soviet', 'union', 'russia', 'china', 'soviet union']\""
            ],
            "application/vnd.google.colaboratory.intrinsic+json": {
              "type": "string"
            }
          },
          "metadata": {},
          "execution_count": 35
        }
      ]
    },
    {
      "cell_type": "code",
      "source": [
        "query_collect_freq = []\n",
        "for w in terms_query:\n",
        "  if w in term_freq_collec:\n",
        "    query_collect_freq.append(term_freq_collec[w])\n",
        "  else:\n",
        "    query_collect_freq.append(0)\n",
        "\n",
        "query_collect_freq\n"
      ],
      "metadata": {
        "colab": {
          "base_uri": "https://localhost:8080/"
        },
        "id": "Y-tYPtDPisVU",
        "outputId": "31886774-ca9d-48c7-890f-fa24d1ff7751"
      },
      "execution_count": 36,
      "outputs": [
        {
          "output_type": "execute_result",
          "data": {
            "text/plain": [
              "[6, 207, 3, 191, 1, 2, 3]"
            ]
          },
          "metadata": {},
          "execution_count": 36
        }
      ]
    },
    {
      "cell_type": "markdown",
      "source": [
        "UP TO HERE"
      ],
      "metadata": {
        "id": "WJvfSA3y8Z8M"
      }
    },
    {
      "cell_type": "code",
      "source": [
        "# connect to your google drive\n",
        "from google.colab import drive\n",
        "drive.mount('/content/drive')"
      ],
      "metadata": {
        "colab": {
          "base_uri": "https://localhost:8080/"
        },
        "id": "C4yh1_OfRrNR",
        "outputId": "b8720449-23c8-4d7f-87f8-0cb5a1c128b5"
      },
      "execution_count": 7,
      "outputs": [
        {
          "output_type": "stream",
          "name": "stdout",
          "text": [
            "Mounted at /content/drive\n"
          ]
        }
      ]
    },
    {
      "cell_type": "code",
      "source": [
        "%cd /content/drive/MyDrive/TextMining_F22"
      ],
      "metadata": {
        "colab": {
          "base_uri": "https://localhost:8080/"
        },
        "id": "Xp92lvbnR7N9",
        "outputId": "061d5361-d1ec-4192-e76e-24a21319fdcc"
      },
      "execution_count": 8,
      "outputs": [
        {
          "output_type": "stream",
          "name": "stdout",
          "text": [
            "/content/drive/MyDrive/TextMining_F22\n"
          ]
        }
      ]
    },
    {
      "cell_type": "code",
      "source": [
        "# save your data\n",
        "import pickle as pl\n",
        "\n",
        "f_counter = open('file_counter.pkl', 'wb')\n",
        "pl.dump(count_matrix, f_counter)\n",
        "f_counter.close()\n",
        "f_tokens  = open('file_tokens.pkl','wb')\n",
        "pl.dump(all_tokens, f_tokens)\n",
        "f_tokens.close()\n",
        "f_terms   = open('file_terms.pkl', 'wb')\n",
        "pl.dump(all_terms, f_terms)\n",
        "f_terms.close()"
      ],
      "metadata": {
        "colab": {
          "base_uri": "https://localhost:8080/",
          "height": 250
        },
        "id": "CvaFKoYSPm8Z",
        "outputId": "f2fa6319-2613-42b4-911b-3b6df7cf85ed"
      },
      "execution_count": 9,
      "outputs": [
        {
          "output_type": "error",
          "ename": "NameError",
          "evalue": "ignored",
          "traceback": [
            "\u001b[0;31m---------------------------------------------------------------------------\u001b[0m",
            "\u001b[0;31mNameError\u001b[0m                                 Traceback (most recent call last)",
            "\u001b[0;32m<ipython-input-9-718acfd10839>\u001b[0m in \u001b[0;36m<cell line: 5>\u001b[0;34m()\u001b[0m\n\u001b[1;32m      3\u001b[0m \u001b[0;34m\u001b[0m\u001b[0m\n\u001b[1;32m      4\u001b[0m \u001b[0mf_counter\u001b[0m \u001b[0;34m=\u001b[0m \u001b[0mopen\u001b[0m\u001b[0;34m(\u001b[0m\u001b[0;34m'file_counter.pkl'\u001b[0m\u001b[0;34m,\u001b[0m \u001b[0;34m'wb'\u001b[0m\u001b[0;34m)\u001b[0m\u001b[0;34m\u001b[0m\u001b[0;34m\u001b[0m\u001b[0m\n\u001b[0;32m----> 5\u001b[0;31m \u001b[0mpl\u001b[0m\u001b[0;34m.\u001b[0m\u001b[0mdump\u001b[0m\u001b[0;34m(\u001b[0m\u001b[0mcount_matrix\u001b[0m\u001b[0;34m,\u001b[0m \u001b[0mf_counter\u001b[0m\u001b[0;34m)\u001b[0m\u001b[0;34m\u001b[0m\u001b[0;34m\u001b[0m\u001b[0m\n\u001b[0m\u001b[1;32m      6\u001b[0m \u001b[0mf_counter\u001b[0m\u001b[0;34m.\u001b[0m\u001b[0mclose\u001b[0m\u001b[0;34m(\u001b[0m\u001b[0;34m)\u001b[0m\u001b[0;34m\u001b[0m\u001b[0;34m\u001b[0m\u001b[0m\n\u001b[1;32m      7\u001b[0m \u001b[0mf_tokens\u001b[0m  \u001b[0;34m=\u001b[0m \u001b[0mopen\u001b[0m\u001b[0;34m(\u001b[0m\u001b[0;34m'file_tokens.pkl'\u001b[0m\u001b[0;34m,\u001b[0m\u001b[0;34m'wb'\u001b[0m\u001b[0;34m)\u001b[0m\u001b[0;34m\u001b[0m\u001b[0;34m\u001b[0m\u001b[0m\n",
            "\u001b[0;31mNameError\u001b[0m: name 'count_matrix' is not defined"
          ]
        }
      ]
    },
    {
      "cell_type": "code",
      "source": [
        "import pickle as pl\n",
        "# load your data\n",
        "f_counter = open('file_counter.pkl', 'rb')\n",
        "count_matrix1 = pl.load(f_counter)\n",
        "f_counter.close()\n",
        "f_tokens  = open('file_tokens.pkl','rb')\n",
        "all_tokens1 = pl.load(f_tokens)\n",
        "f_tokens.close()\n",
        "f_terms   = open('file_terms.pkl', 'rb')\n",
        "all_terms1 = pl.load(f_terms)\n",
        "f_terms.close()\n"
      ],
      "metadata": {
        "colab": {
          "base_uri": "https://localhost:8080/",
          "height": 250
        },
        "id": "DHyRc6KZQtwn",
        "outputId": "0e96b0ec-ec5e-4ea0-a3ad-a1dc8069ff33"
      },
      "execution_count": 12,
      "outputs": [
        {
          "output_type": "error",
          "ename": "EOFError",
          "evalue": "ignored",
          "traceback": [
            "\u001b[0;31m---------------------------------------------------------------------------\u001b[0m",
            "\u001b[0;31mEOFError\u001b[0m                                  Traceback (most recent call last)",
            "\u001b[0;32m<ipython-input-12-d17c08f8eeaa>\u001b[0m in \u001b[0;36m<cell line: 4>\u001b[0;34m()\u001b[0m\n\u001b[1;32m      2\u001b[0m \u001b[0;31m# load your data\u001b[0m\u001b[0;34m\u001b[0m\u001b[0;34m\u001b[0m\u001b[0m\n\u001b[1;32m      3\u001b[0m \u001b[0mf_counter\u001b[0m \u001b[0;34m=\u001b[0m \u001b[0mopen\u001b[0m\u001b[0;34m(\u001b[0m\u001b[0;34m'file_counter.pkl'\u001b[0m\u001b[0;34m,\u001b[0m \u001b[0;34m'rb'\u001b[0m\u001b[0;34m)\u001b[0m\u001b[0;34m\u001b[0m\u001b[0;34m\u001b[0m\u001b[0m\n\u001b[0;32m----> 4\u001b[0;31m \u001b[0mcount_matrix1\u001b[0m \u001b[0;34m=\u001b[0m \u001b[0mpl\u001b[0m\u001b[0;34m.\u001b[0m\u001b[0mload\u001b[0m\u001b[0;34m(\u001b[0m\u001b[0mf_counter\u001b[0m\u001b[0;34m)\u001b[0m\u001b[0;34m\u001b[0m\u001b[0;34m\u001b[0m\u001b[0m\n\u001b[0m\u001b[1;32m      5\u001b[0m \u001b[0mf_counter\u001b[0m\u001b[0;34m.\u001b[0m\u001b[0mclose\u001b[0m\u001b[0;34m(\u001b[0m\u001b[0;34m)\u001b[0m\u001b[0;34m\u001b[0m\u001b[0;34m\u001b[0m\u001b[0m\n\u001b[1;32m      6\u001b[0m \u001b[0mf_tokens\u001b[0m  \u001b[0;34m=\u001b[0m \u001b[0mopen\u001b[0m\u001b[0;34m(\u001b[0m\u001b[0;34m'file_tokens.pkl'\u001b[0m\u001b[0;34m,\u001b[0m\u001b[0;34m'rb'\u001b[0m\u001b[0;34m)\u001b[0m\u001b[0;34m\u001b[0m\u001b[0;34m\u001b[0m\u001b[0m\n",
            "\u001b[0;31mEOFError\u001b[0m: Ran out of input"
          ]
        }
      ]
    },
    {
      "cell_type": "code",
      "execution_count": 26,
      "metadata": {
        "id": "5iJNYRNKoMl-",
        "outputId": "344c0cc4-81d1-4978-cf49-52a2ae1705a7",
        "colab": {
          "base_uri": "https://localhost:8080/"
        }
      },
      "outputs": [
        {
          "output_type": "execute_result",
          "data": {
            "text/plain": [
              "(58189, 6491)"
            ]
          },
          "metadata": {},
          "execution_count": 26
        }
      ],
      "source": [
        "count_matrix.shape"
      ]
    },
    {
      "cell_type": "code",
      "source": [
        "count_matrix['cold']"
      ],
      "metadata": {
        "colab": {
          "base_uri": "https://localhost:8080/",
          "height": 328
        },
        "id": "mjpUP0skgBBq",
        "outputId": "838c77f0-f06a-4e49-9d63-65af07fe1e61"
      },
      "execution_count": 16,
      "outputs": [
        {
          "output_type": "error",
          "ename": "IndexError",
          "evalue": "ignored",
          "traceback": [
            "\u001b[0;31m---------------------------------------------------------------------------\u001b[0m",
            "\u001b[0;31mIndexError\u001b[0m                                Traceback (most recent call last)",
            "\u001b[0;32m<ipython-input-16-7a925c54a212>\u001b[0m in \u001b[0;36m<cell line: 1>\u001b[0;34m()\u001b[0m\n\u001b[0;32m----> 1\u001b[0;31m \u001b[0mcount_matrix\u001b[0m\u001b[0;34m[\u001b[0m\u001b[0;34m'cold'\u001b[0m\u001b[0;34m]\u001b[0m\u001b[0;34m\u001b[0m\u001b[0;34m\u001b[0m\u001b[0m\n\u001b[0m",
            "\u001b[0;32m/usr/local/lib/python3.10/dist-packages/scipy/sparse/_index.py\u001b[0m in \u001b[0;36m__getitem__\u001b[0;34m(self, key)\u001b[0m\n\u001b[1;32m     42\u001b[0m \u001b[0;34m\u001b[0m\u001b[0m\n\u001b[1;32m     43\u001b[0m     \u001b[0;32mdef\u001b[0m \u001b[0m__getitem__\u001b[0m\u001b[0;34m(\u001b[0m\u001b[0mself\u001b[0m\u001b[0;34m,\u001b[0m \u001b[0mkey\u001b[0m\u001b[0;34m)\u001b[0m\u001b[0;34m:\u001b[0m\u001b[0;34m\u001b[0m\u001b[0;34m\u001b[0m\u001b[0m\n\u001b[0;32m---> 44\u001b[0;31m         \u001b[0mrow\u001b[0m\u001b[0;34m,\u001b[0m \u001b[0mcol\u001b[0m \u001b[0;34m=\u001b[0m \u001b[0mself\u001b[0m\u001b[0;34m.\u001b[0m\u001b[0m_validate_indices\u001b[0m\u001b[0;34m(\u001b[0m\u001b[0mkey\u001b[0m\u001b[0;34m)\u001b[0m\u001b[0;34m\u001b[0m\u001b[0;34m\u001b[0m\u001b[0m\n\u001b[0m\u001b[1;32m     45\u001b[0m \u001b[0;34m\u001b[0m\u001b[0m\n\u001b[1;32m     46\u001b[0m         \u001b[0;31m# Dispatch to specialized methods.\u001b[0m\u001b[0;34m\u001b[0m\u001b[0;34m\u001b[0m\u001b[0m\n",
            "\u001b[0;32m/usr/local/lib/python3.10/dist-packages/scipy/sparse/_index.py\u001b[0m in \u001b[0;36m_validate_indices\u001b[0;34m(self, key)\u001b[0m\n\u001b[1;32m    154\u001b[0m                 \u001b[0mrow\u001b[0m \u001b[0;34m+=\u001b[0m \u001b[0mM\u001b[0m\u001b[0;34m\u001b[0m\u001b[0;34m\u001b[0m\u001b[0m\n\u001b[1;32m    155\u001b[0m         \u001b[0;32melif\u001b[0m \u001b[0;32mnot\u001b[0m \u001b[0misinstance\u001b[0m\u001b[0;34m(\u001b[0m\u001b[0mrow\u001b[0m\u001b[0;34m,\u001b[0m \u001b[0mslice\u001b[0m\u001b[0;34m)\u001b[0m\u001b[0;34m:\u001b[0m\u001b[0;34m\u001b[0m\u001b[0;34m\u001b[0m\u001b[0m\n\u001b[0;32m--> 156\u001b[0;31m             \u001b[0mrow\u001b[0m \u001b[0;34m=\u001b[0m \u001b[0mself\u001b[0m\u001b[0;34m.\u001b[0m\u001b[0m_asindices\u001b[0m\u001b[0;34m(\u001b[0m\u001b[0mrow\u001b[0m\u001b[0;34m,\u001b[0m \u001b[0mM\u001b[0m\u001b[0;34m)\u001b[0m\u001b[0;34m\u001b[0m\u001b[0;34m\u001b[0m\u001b[0m\n\u001b[0m\u001b[1;32m    157\u001b[0m \u001b[0;34m\u001b[0m\u001b[0m\n\u001b[1;32m    158\u001b[0m         \u001b[0;32mif\u001b[0m \u001b[0misintlike\u001b[0m\u001b[0;34m(\u001b[0m\u001b[0mcol\u001b[0m\u001b[0;34m)\u001b[0m\u001b[0;34m:\u001b[0m\u001b[0;34m\u001b[0m\u001b[0;34m\u001b[0m\u001b[0m\n",
            "\u001b[0;32m/usr/local/lib/python3.10/dist-packages/scipy/sparse/_index.py\u001b[0m in \u001b[0;36m_asindices\u001b[0;34m(self, idx, length)\u001b[0m\n\u001b[1;32m    178\u001b[0m \u001b[0;34m\u001b[0m\u001b[0m\n\u001b[1;32m    179\u001b[0m         \u001b[0;32mif\u001b[0m \u001b[0mx\u001b[0m\u001b[0;34m.\u001b[0m\u001b[0mndim\u001b[0m \u001b[0;32mnot\u001b[0m \u001b[0;32min\u001b[0m \u001b[0;34m(\u001b[0m\u001b[0;36m1\u001b[0m\u001b[0;34m,\u001b[0m \u001b[0;36m2\u001b[0m\u001b[0;34m)\u001b[0m\u001b[0;34m:\u001b[0m\u001b[0;34m\u001b[0m\u001b[0;34m\u001b[0m\u001b[0m\n\u001b[0;32m--> 180\u001b[0;31m             \u001b[0;32mraise\u001b[0m \u001b[0mIndexError\u001b[0m\u001b[0;34m(\u001b[0m\u001b[0;34m'Index dimension must be 1 or 2'\u001b[0m\u001b[0;34m)\u001b[0m\u001b[0;34m\u001b[0m\u001b[0;34m\u001b[0m\u001b[0m\n\u001b[0m\u001b[1;32m    181\u001b[0m \u001b[0;34m\u001b[0m\u001b[0m\n\u001b[1;32m    182\u001b[0m         \u001b[0;32mif\u001b[0m \u001b[0mx\u001b[0m\u001b[0;34m.\u001b[0m\u001b[0msize\u001b[0m \u001b[0;34m==\u001b[0m \u001b[0;36m0\u001b[0m\u001b[0;34m:\u001b[0m\u001b[0;34m\u001b[0m\u001b[0;34m\u001b[0m\u001b[0m\n",
            "\u001b[0;31mIndexError\u001b[0m: Index dimension must be 1 or 2"
          ]
        }
      ]
    },
    {
      "cell_type": "code",
      "execution_count": null,
      "metadata": {
        "tags": [],
        "id": "A4F9jZKNoMl_",
        "outputId": "6ea0421b-5774-46ec-ebb3-a211725aa4ed"
      },
      "outputs": [
        {
          "output_type": "stream",
          "name": "stdout",
          "text": "3764\n['-PRON-', 'abandon', 'abandonment', 'abide', 'ability', 'able', 'abode', 'abolish', 'aboriginal', 'abound', 'abraham', 'abreast', 'abroad', 'absence', 'absent', 'absolute', 'absolutely', 'absorb', 'abstain', 'abundance']\n"
        }
      ],
      "source": [
        "#dir(vectorizer)\n",
        "vocabulary = vectorizer.get_feature_names()\n",
        "print(len(vocabulary))\n",
        "print(vocabulary[:20])"
      ]
    },
    {
      "cell_type": "code",
      "execution_count": null,
      "metadata": {
        "tags": [],
        "id": "_GK9-1Q2oMl_",
        "outputId": "e5ab9ddb-48eb-4dd7-9606-14ba7388a1ce"
      },
      "outputs": [
        {
          "output_type": "stream",
          "name": "stdout",
          "text": "(1, 3764)\n(3764,)\n[ 5 12  4 12 20]\n"
        }
      ],
      "source": [
        "# find the document frequency of each term from count_matrix\n",
        "import scipy\n",
        "import numpy as np\n",
        "#from scipy.sparse.csr_matrix import sum\n",
        "binary_matrix = count_matrix > 0\n",
        "doc_freq = np.sum(binary_matrix, axis = 0)\n",
        "print(doc_freq.shape)\n",
        "doc_freq = np.asarray(doc_freq).ravel()  # converts a matrix to an array same as doc_freq.A1\n",
        "print(doc_freq.shape)\n",
        "print(doc_freq[:5])"
      ]
    },
    {
      "cell_type": "code",
      "execution_count": null,
      "metadata": {
        "id": "h9NPuQldoMmA"
      },
      "outputs": [],
      "source": [
        "import spacy\n",
        "nlp = spacy.load(\"en_core_web_sm\")"
      ]
    },
    {
      "cell_type": "code",
      "execution_count": null,
      "metadata": {
        "id": "IXZJsy-YoMmA"
      },
      "outputs": [],
      "source": [
        "doc_info = nlp(inaugural.raw('1993-Clinton.txt')) # '1789-Washington.txt'))"
      ]
    },
    {
      "cell_type": "code",
      "execution_count": null,
      "metadata": {
        "tags": [],
        "id": "7mwhHkXboMmB",
        "outputId": "c7e6326e-3a04-42d5-896c-45bd4fbbef93"
      },
      "outputs": [
        {
          "output_type": "stream",
          "name": "stdout",
          "text": "today 20 25 DATE\nAmerican 54 62 NORP\nwinter 110 116 DATE\nthe spring 186 196 DATE\nspring 200 206 DATE\nAmerica 300 307 GPE\nAmerica 343 350 GPE\nAmerica 429 436 GPE\nAmerica 522 529 GPE\nAmerican 668 676 NORP\nAmerican 714 722 NORP\nBush 784 788 PERSON\nhalf-century 798 810 DATE\nAmerica 825 832 GPE\nmillions 849 857 CARDINAL\nToday 960 965 DATE\nthe Cold War 1005 1017 EVENT\nGeorge Washington 1366 1383 PERSON\nfirst 1384 1389 ORDINAL\nAmerica 1785 1792 GPE\ntoday 1793 1798 DATE\nEarth 1850 1855 LOC\nmillions 2067 2075 CARDINAL\nAmericans 2079 2088 NORP\nmillions 2395 2403 CARDINAL\nAmericans 2778 2787 NORP\ntoday 2871 2876 DATE\nthe Civil War 2949 2962 EVENT\nthe Great Depression 2967 2987 EVENT\nThomas Jefferson 3128 3144 PERSON\nAmericans 3271 3280 NORP\nAmerica 3436 3443 GPE\nAmerica 3487 3494 GPE\ntoday 3504 3509 DATE\nAmerican 3581 3589 NORP\nAmerica 3619 3626 GPE\nAmerica 4445 4452 GPE\nAmerica 4775 4782 GPE\nAmericans 5134 5143 NORP\ntoday 5177 5182 DATE\nAmerica 5458 5465 GPE\nFranklin Roosevelt 5522 5540 PERSON\nAmerica 5710 5717 GPE\nToday 5958 5963 DATE\nAmerica 6114 6121 GPE\nAmerica 6184 6191 GPE\nAmericans 6604 6613 NORP\ntoday 6633 6638 DATE\nthe Persian Gulf 6642 6658 LOC\nSomalia 6663 6670 GPE\nAmerica 6999 7006 GPE\nAmerican 7020 7028 NORP\ntoday 7074 7079 DATE\nAmericans 7291 7300 NORP\nthe spring 7314 7324 DATE\nWE 7330 7332 ORG\nAmericans 7557 7566 NORP\nYOUNG Americans 7646 7661 NORP\nmillions 7861 7869 CARDINAL\nToday 8059 8064 DATE\nAmerica 8091 8098 GPE\nAmerica 8144 8151 GPE\ntwo centuries 8201 8214 DATE\nAmerica 8504 8511 GPE\nAmericans 8586 8595 NORP\nthe 21st Century 8624 8640 DATE\nScripture 8754 8763 PERSON\nseason 8821 8827 DATE\nGod 9092 9095 PERSON\n"
        }
      ],
      "source": [
        "for ent in doc_info.ents:\n",
        "    e\n",
        "    print(ent.text, ent.start_char, ent.end_char, ent.label_)"
      ]
    },
    {
      "cell_type": "code",
      "execution_count": null,
      "metadata": {
        "id": "rqjZKxv6oMmB"
      },
      "outputs": [],
      "source": []
    }
  ],
  "metadata": {
    "kernelspec": {
      "display_name": "Python 3",
      "language": "python",
      "name": "python3"
    },
    "language_info": {
      "codemirror_mode": {
        "name": "ipython",
        "version": 3
      },
      "file_extension": ".py",
      "mimetype": "text/x-python",
      "name": "python",
      "nbconvert_exporter": "python",
      "pygments_lexer": "ipython3",
      "version": "3.7.3-final"
    },
    "colab": {
      "provenance": [],
      "include_colab_link": true
    }
  },
  "nbformat": 4,
  "nbformat_minor": 0
}