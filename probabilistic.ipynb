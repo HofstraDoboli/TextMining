{
  "nbformat": 4,
  "nbformat_minor": 0,
  "metadata": {
    "colab": {
      "provenance": [],
      "collapsed_sections": [],
      "authorship_tag": "ABX9TyMciVIcud80u3LSsVG8uzQD",
      "include_colab_link": true
    },
    "kernelspec": {
      "name": "python3",
      "display_name": "Python 3"
    },
    "language_info": {
      "name": "python"
    }
  },
  "cells": [
    {
      "cell_type": "markdown",
      "metadata": {
        "id": "view-in-github",
        "colab_type": "text"
      },
      "source": [
        "<a href=\"https://colab.research.google.com/github/HofstraDoboli/TextMining_F22/blob/main/probabilistic.ipynb\" target=\"_parent\"><img src=\"https://colab.research.google.com/assets/colab-badge.svg\" alt=\"Open In Colab\"/></a>"
      ]
    },
    {
      "cell_type": "code",
      "execution_count": 1,
      "metadata": {
        "id": "pMinkwZKvjQ4"
      },
      "outputs": [],
      "source": [
        "list_doc =[ \"Information retrieval course will cover algorithms used in search engines for finding relevant documents or information related to a query. Topics include: natural language processing for extracting relevant terms out of text data, vector space a methods for computing similarity between documents, text classification, and clustering. These techniques are commonly used in applications such as: automatic extraction of summaries out of a long text, extract novel information in a stream of data.\",  \n",
        "\n",
        "\"NLP algorithms are typically based on machine learning algorithms. Instead of hand-coding large sets of rules, NLP can rely on machine learning to automatically learn these rules by analyzing a set of examples (i.e. a large corpus, like a book, down to a collection of sentences), and making a statical inference. In general, the more data analyzed, the more accurate the model will be.\",  \n",
        "\n",
        "\"The Denver Broncos made sure Brandon McManus will be their kicker for the long haul on Monday.  General manager John Elway announced the team and the kicker agreed on a contract extension. NFL Network Insider Ian Rapoport reported, per a source, it's a three-year extension worth $11.254 million with $6 million of it guaranteed. McManus is now the NFL's fourth highest paid kicker.\", \n",
        "\n",
        " \"Equifax, one of the three major credit reporting agencies, handles the data of 820 million consumers and more than 91 million businesses worldwide. Between May and July of this year 143 million people in the U.S. may have had their names, Social Security numbers, birth dates, addresses and even driver's license numbers accessed. In addition, the hack compromised 209,000 people's credit card numbers and personal dispute details for another 182,000 people. What bad actors could do with that information is daunting. This data breach is more confusing than others -- like when Yahoo or Target were hacked, for example -- according to Joel Winston, a former deputy attorney general for New Jersey , whose current law practice focuses on consumer rights litigation, information privacy, and data protection law.\", \n",
        " \n",
        "  \"\"\"Why didn't she text me back yet? She doesn't like me anymore!\" \"There's no way I'm trying out for the team. I suck at basketball\"\"It's not fair that I have a curfew! \"Sound familiar? Parents of tweens and teens often shrug off such anxious and gloomy thinking as normal irritability and moodiness — because it is. Still, the beginning of a new school year, with all of the required adjustments, is a good time to consider just how closely the habit of negative, exaggerated \"self-talk\" can affect academic and social success, self-esteem and happiness. Psychological research shows that what we think can have a powerful influence on how we feel emotionally and physically, and on how we behave. Research also shows that our harmful thinking patterns can be changed.\"\"\"]"
      ]
    },
    {
      "cell_type": "code",
      "source": [
        "import numpy as np\n",
        "import spacy   # another tokenizer, lemmatizer (has --> be)\n",
        "nlp = spacy.load('en_core_web_sm')\n",
        "nlp.disable_pipes('parser', 'ner') "
      ],
      "metadata": {
        "id": "AQfy0LkPxMsc"
      },
      "execution_count": null,
      "outputs": []
    },
    {
      "cell_type": "code",
      "source": [
        "# Step 1: text processing for one document - return lemmas\n",
        "def nlp_processing(doc):  \n",
        "    tokens = nlp(doc)\n",
        "    \n",
        "    #print(type(tokens))\n",
        "    # eliminates stop words  and non alpha num and converts all to lower case\n",
        "    terms = [token.lemma_.lower() for token in tokens if not token.is_stop and token.is_alpha] \n",
        "  \n",
        "    return terms\n",
        "\n",
        "# Step 2: extract a list of (token, doc_id) from all documents.\n",
        "# input a list of documents\n",
        "# output: a list of sorted (token, doc_id) tuples\n",
        "def extract_token_doc_id(list_doc):\n",
        "  all_tokens = []\n",
        "  for ind_doc, doc in enumerate(list_doc):\n",
        "    tokens_doc = [(token, ind_doc) for token in nlp_processing(doc)]\n",
        "    all_tokens.extend(tokens_doc)\n",
        "  \n",
        "  # sort by token name \n",
        "  all_tokens = sorted(all_tokens, key = lambda x:x[0])\n",
        "\n",
        "  return all_tokens\n",
        "\n",
        "def counter(items):\n",
        "  sort_items = sorted(items) # sorts tokens alphabetically\n",
        "  count_items = {}\n",
        "  for item in sort_items:\n",
        "    if item in count_items.keys():\n",
        "      count_items[item] += 1\n",
        "    else:\n",
        "      count_items[item] = 1\n",
        "  \n",
        "  # sort by the count, in reverse order\n",
        "  sorted_count_list = sorted(count_items.items(), \n",
        "                            key = lambda x:x[1], reverse = True)\n",
        "  sorted_count_dict = dict(sorted_count_list)\n",
        "  return sorted_count_dict "
      ],
      "metadata": {
        "id": "AR1saorIxRfd"
      },
      "execution_count": null,
      "outputs": []
    }
  ]
}