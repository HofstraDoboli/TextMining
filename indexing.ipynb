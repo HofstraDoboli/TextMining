{
  "nbformat": 4,
  "nbformat_minor": 0,
  "metadata": {
    "colab": {
      "provenance": [],
      "collapsed_sections": [],
      "authorship_tag": "ABX9TyO/h01odVdwaEk6hsqEHW8H",
      "include_colab_link": true
    },
    "kernelspec": {
      "name": "python3",
      "display_name": "Python 3"
    },
    "language_info": {
      "name": "python"
    }
  },
  "cells": [
    {
      "cell_type": "markdown",
      "metadata": {
        "id": "view-in-github",
        "colab_type": "text"
      },
      "source": [
        "<a href=\"https://colab.research.google.com/github/HofstraDoboli/TextMining_F22/blob/main/indexing.ipynb\" target=\"_parent\"><img src=\"https://colab.research.google.com/assets/colab-badge.svg\" alt=\"Open In Colab\"/></a>"
      ]
    },
    {
      "cell_type": "code",
      "execution_count": 1,
      "metadata": {
        "id": "bf1PEG2uNrNa"
      },
      "outputs": [],
      "source": [
        "list_doc =[ \"Information retrieval course will cover techniques used in search engines for finding relevant documents or information related to a query. Topics include: natural language processing for extracting relevant terms out of text data, vector space a methods for computing similarity between documents, text classification, and clustering. These techniques are commonly used in applications such as: automatic extraction of summaries out of a long text, extract novel information in a stream of data.\",  \n",
        "\n",
        "\"NLP algorithms are typically based on machine learning algorithms. Instead of hand-coding large sets of rules, NLP can rely on machine learning to automatically learn these rules by analyzing a set of examples (i.e. a large corpus, like a book, down to a collection of sentences), and making a statical inference. In general, the more data analyzed, the more accurate the model will be.\",  \n",
        "\n",
        "\"The Denver Broncos made sure Brandon McManus will be their kicker for the long haul on Monday.  General manager John Elway announced the team and the kicker agreed on a contract extension. NFL Network Insider Ian Rapoport reported, per a source, it's a three-year extension worth $11.254 million with $6 million of it guaranteed. McManus is now the NFL's fourth highest paid kicker.\", \n",
        "\n",
        " \"Equifax, one of the three major credit reporting agencies, handles the data of 820 million consumers and more than 91 million businesses worldwide. Between May and July of this year 143 million people in the U.S. may have had their names, Social Security numbers, birth dates, addresses and even driver's license numbers accessed. In addition, the hack compromised 209,000 people's credit card numbers and personal dispute details for another 182,000 people. What bad actors could do with that information is daunting. This data breach is more confusing than others -- like when Yahoo or Target were hacked, for example -- according to Joel Winston, a former deputy attorney general for New Jersey , whose current law practice focuses on consumer rights litigation, information privacy, and data protection law.\", \n",
        " \n",
        "  \"\"\"Why didn't she text me back yet? She doesn't like me anymore!\" \"There's no way I'm trying out for the team. I suck at basketball\"\"It's not fair that I have a curfew! \"Sound familiar? Parents of tweens and teens often shrug off such anxious and gloomy thinking as normal irritability and moodiness — because it is. Still, the beginning of a new school year, with all of the required adjustments, is a good time to consider just how closely the habit of negative, exaggerated \"self-talk\" can affect academic and social success, self-esteem and happiness. Psychological research shows that what we think can have a powerful influence on how we feel emotionally and physically, and on how we behave. Research also shows that our harmful thinking patterns can be changed.\"\"\"]"
      ]
    },
    {
      "cell_type": "code",
      "source": [
        "import spacy   # another tokenizer, lemmatizer (has --> be)\n",
        "nlp = spacy.load('en_core_web_sm')\n",
        "nlp.disable_pipes('parser', 'ner')  \n",
        "\n",
        "\n"
      ],
      "metadata": {
        "id": "xO9TCnt1OLMY"
      },
      "execution_count": 2,
      "outputs": []
    },
    {
      "cell_type": "code",
      "source": [
        "# Step 2: text processing for one document - return lemmas\n",
        "def nlp_processing(doc):  \n",
        "    tokens = nlp(doc)\n",
        "    \n",
        "    #print(type(tokens))\n",
        "    # eliminates stop words  and non alpha num\n",
        "    terms = [token.lemma_.lower() for token in tokens if not token.is_stop and token.is_alpha]\n",
        "  \n",
        "    return terms\n",
        "\n",
        "# Step 2: extract a list of (token, doc_id) from all documents.\n",
        "# input a list of documents\n",
        "# output: a list of sorted (token, doc_id) tuples\n",
        "def extract_token_doc_id(list_doc):\n",
        "  all_tokens = []\n",
        "  for ind_doc, doc in enumerate(list_doc):\n",
        "    tokens_doc = [(token, ind_doc) for token in nlp_processing(doc)]\n",
        "    all_tokens.extend(tokens_doc)\n",
        "  \n",
        "  # sort by token name \n",
        "  all_tokens = sorted(all_tokens, key = lambda x:x[0])\n",
        "\n",
        "  return all_tokens\n",
        "\n",
        "# Step 3: Extract terms (unique) and document frequency (count tokens)\n",
        "def doc_freq(all_tokens):\n",
        "  dict_doc_freq = {}\n",
        "  for (token, doc) in all_tokens:\n",
        "    if token in dict_doc_freq:\n",
        "      dict_doc_freq[token] +=1\n",
        "    else:\n",
        "      dict_doc_freq[token] = 1\n",
        "    \n",
        "  return dict_doc_freq\n",
        "\n",
        "# Step 4: Extract term frequency of each term in each document it appears in\n",
        "# dict_term_freq = {term: {doc1:tf1, doc2:tf2, ...}} # includes only docs that have \n",
        "# non-zero term frequency\n",
        "def term_freq(all_tokens, dict_doc_freq):\n",
        "  dict_term_freq = {term:{} for term in dict_doc_freq.keys()} # initialize dictionary with all unique terms\n",
        "  for (token, doc) in all_tokens:\n",
        "    if doc in dict_term_freq[token]:\n",
        "      dict_term_freq[token][doc] += 1 \n",
        "    else: # if doc is not a key in the dictionary \n",
        "      dict_term_freq[token][doc] = 1\n",
        "    \n",
        "  return dict_term_freq"
      ],
      "metadata": {
        "id": "C1eHgdQEOUTY"
      },
      "execution_count": 39,
      "outputs": []
    },
    {
      "cell_type": "code",
      "source": [
        "all_tokens = extract_token_doc_id(list_doc)\n",
        "all_tokens[:20]"
      ],
      "metadata": {
        "id": "cSzjdZ1UOXbq",
        "colab": {
          "base_uri": "https://localhost:8080/"
        },
        "outputId": "1312bc34-678d-4506-baca-d935a8b3ce4e"
      },
      "execution_count": 19,
      "outputs": [
        {
          "output_type": "execute_result",
          "data": {
            "text/plain": [
              "[('academic', 4),\n",
              " ('access', 3),\n",
              " ('accord', 3),\n",
              " ('accurate', 1),\n",
              " ('actor', 3),\n",
              " ('addition', 3),\n",
              " ('address', 3),\n",
              " ('adjustment', 4),\n",
              " ('affect', 4),\n",
              " ('agency', 3),\n",
              " ('agree', 2),\n",
              " ('algorithm', 1),\n",
              " ('algorithm', 1),\n",
              " ('analyze', 1),\n",
              " ('analyze', 1),\n",
              " ('announce', 2),\n",
              " ('anxious', 4),\n",
              " ('anymore', 4),\n",
              " ('application', 0),\n",
              " ('attorney', 3)]"
            ]
          },
          "metadata": {},
          "execution_count": 19
        }
      ]
    },
    {
      "cell_type": "code",
      "source": [
        "# Step 3: Extract document frequency all_doc_frequency = dict{term:doc frequency }\n",
        "dict_doc_freq = doc_freq(all_tokens)\n",
        "print(\"Document frequency\")\n",
        "list(dict_doc_freq.items())[:20]"
      ],
      "metadata": {
        "colab": {
          "base_uri": "https://localhost:8080/"
        },
        "id": "LZpNmxYYFtsV",
        "outputId": "7af6dd00-e96d-492b-a052-e219cad64fab"
      },
      "execution_count": 42,
      "outputs": [
        {
          "output_type": "stream",
          "name": "stdout",
          "text": [
            "Document frequency\n"
          ]
        },
        {
          "output_type": "execute_result",
          "data": {
            "text/plain": [
              "[('academic', 1),\n",
              " ('access', 1),\n",
              " ('accord', 1),\n",
              " ('accurate', 1),\n",
              " ('actor', 1),\n",
              " ('addition', 1),\n",
              " ('address', 1),\n",
              " ('adjustment', 1),\n",
              " ('affect', 1),\n",
              " ('agency', 1),\n",
              " ('agree', 1),\n",
              " ('algorithm', 2),\n",
              " ('analyze', 2),\n",
              " ('announce', 1),\n",
              " ('anxious', 1),\n",
              " ('anymore', 1),\n",
              " ('application', 1),\n",
              " ('attorney', 1),\n",
              " ('automatic', 1),\n",
              " ('automatically', 1)]"
            ]
          },
          "metadata": {},
          "execution_count": 42
        }
      ]
    },
    {
      "cell_type": "code",
      "source": [
        "# Step 4: extract document frequency\n",
        "dict_term_freq = term_freq(all_tokens, dict_doc_freq)\n",
        "print(\"Term frequency\")\n",
        "list(dict_term_freq.items())[:20]"
      ],
      "metadata": {
        "colab": {
          "base_uri": "https://localhost:8080/"
        },
        "id": "h5GcFI-xIDCv",
        "outputId": "630862ed-1b8e-4f65-8e1b-0ecac7fd8e1c"
      },
      "execution_count": 43,
      "outputs": [
        {
          "output_type": "stream",
          "name": "stdout",
          "text": [
            "Term frequency\n"
          ]
        },
        {
          "output_type": "execute_result",
          "data": {
            "text/plain": [
              "[('academic', {4: 1}),\n",
              " ('access', {3: 1}),\n",
              " ('accord', {3: 1}),\n",
              " ('accurate', {1: 1}),\n",
              " ('actor', {3: 1}),\n",
              " ('addition', {3: 1}),\n",
              " ('address', {3: 1}),\n",
              " ('adjustment', {4: 1}),\n",
              " ('affect', {4: 1}),\n",
              " ('agency', {3: 1}),\n",
              " ('agree', {2: 1}),\n",
              " ('algorithm', {1: 2}),\n",
              " ('analyze', {1: 2}),\n",
              " ('announce', {2: 1}),\n",
              " ('anxious', {4: 1}),\n",
              " ('anymore', {4: 1}),\n",
              " ('application', {0: 1}),\n",
              " ('attorney', {3: 1}),\n",
              " ('automatic', {0: 1}),\n",
              " ('automatically', {1: 1})]"
            ]
          },
          "metadata": {},
          "execution_count": 43
        }
      ]
    },
    {
      "cell_type": "code",
      "source": [],
      "metadata": {
        "id": "azC93ZrXPl_a"
      },
      "execution_count": null,
      "outputs": []
    }
  ]
}