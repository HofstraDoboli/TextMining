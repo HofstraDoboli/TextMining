{
  "nbformat": 4,
  "nbformat_minor": 0,
  "metadata": {
    "colab": {
      "provenance": [],
      "authorship_tag": "ABX9TyP+BM8N32maynUHxIMByhwZ",
      "include_colab_link": true
    },
    "kernelspec": {
      "name": "python3",
      "display_name": "Python 3"
    },
    "language_info": {
      "name": "python"
    }
  },
  "cells": [
    {
      "cell_type": "markdown",
      "metadata": {
        "id": "view-in-github",
        "colab_type": "text"
      },
      "source": [
        "<a href=\"https://colab.research.google.com/github/HofstraDoboli/TextMining_F22/blob/main/spell_checker_f22.ipynb\" target=\"_parent\"><img src=\"https://colab.research.google.com/assets/colab-badge.svg\" alt=\"Open In Colab\"/></a>"
      ]
    },
    {
      "cell_type": "code",
      "execution_count": 1,
      "metadata": {
        "id": "-xo0nYh_9ufo",
        "colab": {
          "base_uri": "https://localhost:8080/"
        },
        "outputId": "d1b9abd7-d7d0-4901-e986-ae724ba1bbdc"
      },
      "outputs": [
        {
          "output_type": "stream",
          "name": "stdout",
          "text": [
            "Looking in indexes: https://pypi.org/simple, https://us-python.pkg.dev/colab-wheels/public/simple/\n",
            "Collecting pyspellchecker\n",
            "  Downloading pyspellchecker-0.7.0-py3-none-any.whl (2.5 MB)\n",
            "\u001b[K     |████████████████████████████████| 2.5 MB 9.8 MB/s \n",
            "\u001b[?25hInstalling collected packages: pyspellchecker\n",
            "Successfully installed pyspellchecker-0.7.0\n"
          ]
        }
      ],
      "source": [
        "# link to spell check tutorial \n",
        "# https://www.geeksforgeeks.org/spelling-checker-in-python/\n",
        "\n",
        "!pip install pyspellchecker"
      ]
    },
    {
      "cell_type": "code",
      "source": [
        "from spellchecker import SpellChecker\n",
        " \n",
        "spell = SpellChecker()\n",
        " \n",
        "# find those words that may be misspelled\n",
        "misspelled = spell.unknown([\"cmputr\", \"watr\", \"study\", \"wrte\"])\n",
        " \n",
        "for word in misspelled:\n",
        "    # Get the one `most likely` answer\n",
        "    print(spell.correction(word))\n",
        " \n",
        "    # Get a list of `likely` options\n",
        "    print(spell.candidates(word))"
      ],
      "metadata": {
        "id": "OfAlK_XYBMTQ",
        "outputId": "76566b0c-d411-46e2-f9cb-d017c4310361",
        "colab": {
          "base_uri": "https://localhost:8080/"
        }
      },
      "execution_count": 2,
      "outputs": [
        {
          "output_type": "stream",
          "name": "stdout",
          "text": [
            "computer\n",
            "{'impute', 'compute', 'computer'}\n",
            "water\n",
            "{'wat', 'war', 'water', 'wart', 'watt'}\n",
            "write\n",
            "{'wrote', 'wite', 'wre', 'write'}\n"
          ]
        }
      ]
    }
  ]
}