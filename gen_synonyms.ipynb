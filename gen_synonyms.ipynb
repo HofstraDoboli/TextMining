{
  "nbformat": 4,
  "nbformat_minor": 0,
  "metadata": {
    "colab": {
      "provenance": [],
      "authorship_tag": "ABX9TyPi/rdCZy5sEF7UWD6wBUef",
      "include_colab_link": true
    },
    "kernelspec": {
      "name": "python3",
      "display_name": "Python 3"
    },
    "language_info": {
      "name": "python"
    }
  },
  "cells": [
    {
      "cell_type": "markdown",
      "metadata": {
        "id": "view-in-github",
        "colab_type": "text"
      },
      "source": [
        "<a href=\"https://colab.research.google.com/github/HofstraDoboli/TextMining/blob/main/gen_synonyms.ipynb\" target=\"_parent\"><img src=\"https://colab.research.google.com/assets/colab-badge.svg\" alt=\"Open In Colab\"/></a>"
      ]
    },
    {
      "cell_type": "code",
      "source": [
        "!pip install gensim"
      ],
      "metadata": {
        "colab": {
          "base_uri": "https://localhost:8080/"
        },
        "id": "6FD6Pazzp4bM",
        "outputId": "34c39a53-a735-4a3a-991d-d9d97a5fba9a"
      },
      "execution_count": 1,
      "outputs": [
        {
          "output_type": "stream",
          "name": "stdout",
          "text": [
            "Requirement already satisfied: gensim in /usr/local/lib/python3.12/dist-packages (4.3.3)\n",
            "Requirement already satisfied: numpy<2.0,>=1.18.5 in /usr/local/lib/python3.12/dist-packages (from gensim) (1.26.4)\n",
            "Requirement already satisfied: scipy<1.14.0,>=1.7.0 in /usr/local/lib/python3.12/dist-packages (from gensim) (1.13.1)\n",
            "Requirement already satisfied: smart-open>=1.8.1 in /usr/local/lib/python3.12/dist-packages (from gensim) (7.3.1)\n",
            "Requirement already satisfied: wrapt in /usr/local/lib/python3.12/dist-packages (from smart-open>=1.8.1->gensim) (1.17.3)\n"
          ]
        }
      ]
    },
    {
      "cell_type": "code",
      "source": [
        "import nltk\n",
        "nltk.download('wordnet')\n",
        "\n",
        "import gensim.downloader as api\n",
        "import numpy as np\n",
        "from scipy.spatial.distance import cosine\n",
        "\n",
        "# load a pre-trained GloVe model (100d). Change to 'glove-wiki-gigaword-300' if you want 300d.\n",
        "model = api.load(\"glove-wiki-gigaword-100\")  # downloads on first run\n"
      ],
      "metadata": {
        "colab": {
          "base_uri": "https://localhost:8080/"
        },
        "id": "laKieXZppppG",
        "outputId": "417db5b4-69f1-4a0d-a0d0-26140afc2d66"
      },
      "execution_count": 2,
      "outputs": [
        {
          "output_type": "stream",
          "name": "stderr",
          "text": [
            "[nltk_data] Downloading package wordnet to /root/nltk_data...\n",
            "[nltk_data]   Package wordnet is already up-to-date!\n"
          ]
        },
        {
          "output_type": "execute_result",
          "data": {
            "text/plain": [
              "True"
            ]
          },
          "metadata": {},
          "execution_count": 2
        }
      ]
    },
    {
      "cell_type": "code",
      "execution_count": 3,
      "metadata": {
        "colab": {
          "base_uri": "https://localhost:8080/"
        },
        "id": "vLSxWY0kpmQk",
        "outputId": "d48a57c3-4fd9-4a8e-9306-fbdd880a460f"
      },
      "outputs": [
        {
          "output_type": "stream",
          "name": "stdout",
          "text": [
            "[==================================================] 100.0% 128.1/128.1MB downloaded\n",
            "GloVe top similars to: information\n",
            "data\t0.7920\n",
            "knowledge\t0.7304\n",
            "access\t0.7286\n",
            "provided\t0.7277\n",
            "intelligence\t0.7210\n",
            "source\t0.7160\n",
            "documents\t0.7152\n",
            "web\t0.7041\n",
            "internet\t0.7019\n",
            "provide\t0.6994\n",
            "reports\t0.6950\n",
            "available\t0.6856\n",
            "sources\t0.6854\n",
            "services\t0.6838\n",
            "report\t0.6809\n"
          ]
        }
      ],
      "source": [
        "\n",
        "import gensim.downloader as api\n",
        "import numpy as np\n",
        "from scipy.spatial.distance import cosine\n",
        "\n",
        "# load a pre-trained GloVe model (100d). Change to 'glove-wiki-gigaword-300' if you want 300d.\n",
        "model = api.load(\"glove-wiki-gigaword-100\")  # downloads on first run\n",
        "\n",
        "def top_n_similar_glove(word, topn=10):\n",
        "    word = word.lower()\n",
        "    if word not in model:\n",
        "        raise KeyError(f\"'{word}' not in GloVe vocabulary.\")\n",
        "    # gensim has built-in most_similar:\n",
        "    return model.most_similar(positive=[word], topn=topn)\n",
        "\n",
        "if __name__ == \"__main__\":\n",
        "    query = \"information\"\n",
        "    print(\"GloVe top similars to:\", query)\n",
        "    for w, score in top_n_similar_glove(query, topn=15):\n",
        "        print(f\"{w}\\t{score:.4f}\")"
      ]
    },
    {
      "cell_type": "code",
      "source": [
        "# using wordnet - much faster\n",
        "# doesn't have all words\n",
        "from nltk.corpus import wordnet as wn\n",
        "\n",
        "def wordnet_synonyms(word):\n",
        "    syns = wn.synsets(word)\n",
        "    lemmas = set()\n",
        "    for s in syns:\n",
        "        for l in s.lemmas():\n",
        "            lemmas.add(l.name().replace('_', ' '))\n",
        "    return sorted(lemmas)\n",
        "\n",
        "if __name__ == \"__main__\":\n",
        "    print(wordnet_synonyms(\"information\"))"
      ],
      "metadata": {
        "colab": {
          "base_uri": "https://localhost:8080/"
        },
        "id": "b5xcFk1gqogR",
        "outputId": "ac075a2b-1ec2-471b-a45b-792c0cf8fa55"
      },
      "execution_count": 5,
      "outputs": [
        {
          "output_type": "stream",
          "name": "stdout",
          "text": [
            "['data', 'entropy', 'info', 'information', 'selective information']\n"
          ]
        }
      ]
    },
    {
      "cell_type": "code",
      "source": [],
      "metadata": {
        "id": "q7U97bfzqvdb"
      },
      "execution_count": null,
      "outputs": []
    }
  ]
}