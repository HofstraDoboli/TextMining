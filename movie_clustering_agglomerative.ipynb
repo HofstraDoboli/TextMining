{
  "cells": [
    {
      "cell_type": "markdown",
      "metadata": {
        "id": "view-in-github",
        "colab_type": "text"
      },
      "source": [
        "<a href=\"https://colab.research.google.com/github/HofstraDoboli/TextMining_F22/blob/main/movie_clustering_agglomerative.ipynb\" target=\"_parent\"><img src=\"https://colab.research.google.com/assets/colab-badge.svg\" alt=\"Open In Colab\"/></a>"
      ]
    },
    {
      "cell_type": "code",
      "execution_count": 1,
      "metadata": {
        "id": "eRI0nq-kXuDi"
      },
      "outputs": [],
      "source": [
        "import pandas as pd\n",
        "import numpy as np\n",
        "from sklearn.feature_extraction.text import TfidfTransformer\n",
        "from sklearn.feature_extraction.text import CountVectorizer\n",
        "import os\n",
        "from sklearn.cluster import MiniBatchKMeans\n",
        "from sklearn.cluster import KMeans\n",
        "from sklearn.cluster import AgglomerativeClustering\n",
        "from scipy.cluster.hierarchy import dendrogram\n",
        "from sklearn import metrics\n"
      ]
    },
    {
      "cell_type": "code",
      "source": [
        "from google.colab import drive\n",
        "drive.mount('/content/drive')"
      ],
      "metadata": {
        "colab": {
          "base_uri": "https://localhost:8080/"
        },
        "id": "hGER9xpatNpt",
        "outputId": "fe70903f-6126-46b4-9c39-b30080b505f0"
      },
      "execution_count": 2,
      "outputs": [
        {
          "output_type": "stream",
          "name": "stdout",
          "text": [
            "Mounted at /content/drive\n"
          ]
        }
      ]
    },
    {
      "cell_type": "code",
      "source": [
        "%cd /content/drive/MyDrive/TextMining_F22\n",
        "%ls *.csv"
      ],
      "metadata": {
        "colab": {
          "base_uri": "https://localhost:8080/"
        },
        "id": "VQHKot6WtUsg",
        "outputId": "fdba6235-0a1e-4f30-96c5-75dc6ab58ae3"
      },
      "execution_count": 3,
      "outputs": [
        {
          "output_type": "stream",
          "name": "stdout",
          "text": [
            "/content/drive/MyDrive/TextMining_F22\n",
            "wiki_movie_plots_deduped.csv\n"
          ]
        }
      ]
    },
    {
      "cell_type": "code",
      "source": [
        "dir_file = os.getcwd() # returns path to current directory\n",
        "files_dir = os.listdir(dir_file)  # list of files in current directory\n",
        "\n",
        "csv_files = [f for f in files_dir if f.endswith('csv')]\n",
        "print(csv_files)\n",
        "movie_file = csv_files[0]\n",
        "\n",
        "movie_df = pd.read_csv(movie_file)\n",
        "print(movie_df.columns)  # the columns\n",
        "print(movie_df.shape)"
      ],
      "metadata": {
        "colab": {
          "base_uri": "https://localhost:8080/"
        },
        "id": "VJ5GwuTEtCKb",
        "outputId": "47864906-54ff-475a-ce89-5e115ddd4141"
      },
      "execution_count": 4,
      "outputs": [
        {
          "output_type": "stream",
          "name": "stdout",
          "text": [
            "['wiki_movie_plots_deduped.csv']\n",
            "Index(['Release Year', 'Title', 'Origin/Ethnicity', 'Director', 'Cast',\n",
            "       'Genre', 'Wiki Page', 'Plot'],\n",
            "      dtype='object')\n",
            "(34886, 8)\n"
          ]
        }
      ]
    },
    {
      "cell_type": "code",
      "source": [
        "# genres\n",
        "movie_df.Genre[movie_df.Genre == 'sci-fi'].value_counts()"
      ],
      "metadata": {
        "colab": {
          "base_uri": "https://localhost:8080/"
        },
        "id": "1TgcE6b2tq2I",
        "outputId": "7612efa2-0034-47f2-a3f6-6c126099834f"
      },
      "execution_count": 5,
      "outputs": [
        {
          "output_type": "execute_result",
          "data": {
            "text/plain": [
              "sci-fi    221\n",
              "Name: Genre, dtype: int64"
            ]
          },
          "metadata": {},
          "execution_count": 5
        }
      ]
    },
    {
      "cell_type": "code",
      "source": [
        "choose_genres = ['western', 'thriller', 'sci-fi']\n",
        "select_movies = movie_df[['Title', 'Plot', 'Genre']][movie_df['Genre'].isin(choose_genres)]\n",
        "select_movies.head()"
      ],
      "metadata": {
        "colab": {
          "base_uri": "https://localhost:8080/",
          "height": 206
        },
        "id": "OtbBGkp7usQN",
        "outputId": "998e4919-8a5f-4cb8-f896-e7b948c6d3e7"
      },
      "execution_count": 6,
      "outputs": [
        {
          "output_type": "execute_result",
          "data": {
            "text/plain": [
              "                       Title  \\\n",
              "6    The Great Train Robbery   \n",
              "21     The Fight for Freedom   \n",
              "97        Rose of the Rancho   \n",
              "99               Salomy Jane   \n",
              "101            The Squaw Man   \n",
              "\n",
              "                                                  Plot    Genre  \n",
              "6    The film opens with two bandits breaking into ...  western  \n",
              "21   The film opens in a town on the Mexican border...  western  \n",
              "97   Esra Kincaid (La Reno) takes land by force and...  western  \n",
              "99   Rough-and-tumble Gold Rush-era California: a w...  western  \n",
              "101  James Wynnegate (Dustin Farnum) and his cousin...  western  "
            ],
            "text/html": [
              "\n",
              "  <div id=\"df-d2c869ac-cbeb-421f-9d6c-b2147ddd633d\" class=\"colab-df-container\">\n",
              "    <div>\n",
              "<style scoped>\n",
              "    .dataframe tbody tr th:only-of-type {\n",
              "        vertical-align: middle;\n",
              "    }\n",
              "\n",
              "    .dataframe tbody tr th {\n",
              "        vertical-align: top;\n",
              "    }\n",
              "\n",
              "    .dataframe thead th {\n",
              "        text-align: right;\n",
              "    }\n",
              "</style>\n",
              "<table border=\"1\" class=\"dataframe\">\n",
              "  <thead>\n",
              "    <tr style=\"text-align: right;\">\n",
              "      <th></th>\n",
              "      <th>Title</th>\n",
              "      <th>Plot</th>\n",
              "      <th>Genre</th>\n",
              "    </tr>\n",
              "  </thead>\n",
              "  <tbody>\n",
              "    <tr>\n",
              "      <th>6</th>\n",
              "      <td>The Great Train Robbery</td>\n",
              "      <td>The film opens with two bandits breaking into ...</td>\n",
              "      <td>western</td>\n",
              "    </tr>\n",
              "    <tr>\n",
              "      <th>21</th>\n",
              "      <td>The Fight for Freedom</td>\n",
              "      <td>The film opens in a town on the Mexican border...</td>\n",
              "      <td>western</td>\n",
              "    </tr>\n",
              "    <tr>\n",
              "      <th>97</th>\n",
              "      <td>Rose of the Rancho</td>\n",
              "      <td>Esra Kincaid (La Reno) takes land by force and...</td>\n",
              "      <td>western</td>\n",
              "    </tr>\n",
              "    <tr>\n",
              "      <th>99</th>\n",
              "      <td>Salomy Jane</td>\n",
              "      <td>Rough-and-tumble Gold Rush-era California: a w...</td>\n",
              "      <td>western</td>\n",
              "    </tr>\n",
              "    <tr>\n",
              "      <th>101</th>\n",
              "      <td>The Squaw Man</td>\n",
              "      <td>James Wynnegate (Dustin Farnum) and his cousin...</td>\n",
              "      <td>western</td>\n",
              "    </tr>\n",
              "  </tbody>\n",
              "</table>\n",
              "</div>\n",
              "    <div class=\"colab-df-buttons\">\n",
              "\n",
              "  <div class=\"colab-df-container\">\n",
              "    <button class=\"colab-df-convert\" onclick=\"convertToInteractive('df-d2c869ac-cbeb-421f-9d6c-b2147ddd633d')\"\n",
              "            title=\"Convert this dataframe to an interactive table.\"\n",
              "            style=\"display:none;\">\n",
              "\n",
              "  <svg xmlns=\"http://www.w3.org/2000/svg\" height=\"24px\" viewBox=\"0 -960 960 960\">\n",
              "    <path d=\"M120-120v-720h720v720H120Zm60-500h600v-160H180v160Zm220 220h160v-160H400v160Zm0 220h160v-160H400v160ZM180-400h160v-160H180v160Zm440 0h160v-160H620v160ZM180-180h160v-160H180v160Zm440 0h160v-160H620v160Z\"/>\n",
              "  </svg>\n",
              "    </button>\n",
              "\n",
              "  <style>\n",
              "    .colab-df-container {\n",
              "      display:flex;\n",
              "      gap: 12px;\n",
              "    }\n",
              "\n",
              "    .colab-df-convert {\n",
              "      background-color: #E8F0FE;\n",
              "      border: none;\n",
              "      border-radius: 50%;\n",
              "      cursor: pointer;\n",
              "      display: none;\n",
              "      fill: #1967D2;\n",
              "      height: 32px;\n",
              "      padding: 0 0 0 0;\n",
              "      width: 32px;\n",
              "    }\n",
              "\n",
              "    .colab-df-convert:hover {\n",
              "      background-color: #E2EBFA;\n",
              "      box-shadow: 0px 1px 2px rgba(60, 64, 67, 0.3), 0px 1px 3px 1px rgba(60, 64, 67, 0.15);\n",
              "      fill: #174EA6;\n",
              "    }\n",
              "\n",
              "    .colab-df-buttons div {\n",
              "      margin-bottom: 4px;\n",
              "    }\n",
              "\n",
              "    [theme=dark] .colab-df-convert {\n",
              "      background-color: #3B4455;\n",
              "      fill: #D2E3FC;\n",
              "    }\n",
              "\n",
              "    [theme=dark] .colab-df-convert:hover {\n",
              "      background-color: #434B5C;\n",
              "      box-shadow: 0px 1px 3px 1px rgba(0, 0, 0, 0.15);\n",
              "      filter: drop-shadow(0px 1px 2px rgba(0, 0, 0, 0.3));\n",
              "      fill: #FFFFFF;\n",
              "    }\n",
              "  </style>\n",
              "\n",
              "    <script>\n",
              "      const buttonEl =\n",
              "        document.querySelector('#df-d2c869ac-cbeb-421f-9d6c-b2147ddd633d button.colab-df-convert');\n",
              "      buttonEl.style.display =\n",
              "        google.colab.kernel.accessAllowed ? 'block' : 'none';\n",
              "\n",
              "      async function convertToInteractive(key) {\n",
              "        const element = document.querySelector('#df-d2c869ac-cbeb-421f-9d6c-b2147ddd633d');\n",
              "        const dataTable =\n",
              "          await google.colab.kernel.invokeFunction('convertToInteractive',\n",
              "                                                    [key], {});\n",
              "        if (!dataTable) return;\n",
              "\n",
              "        const docLinkHtml = 'Like what you see? Visit the ' +\n",
              "          '<a target=\"_blank\" href=https://colab.research.google.com/notebooks/data_table.ipynb>data table notebook</a>'\n",
              "          + ' to learn more about interactive tables.';\n",
              "        element.innerHTML = '';\n",
              "        dataTable['output_type'] = 'display_data';\n",
              "        await google.colab.output.renderOutput(dataTable, element);\n",
              "        const docLink = document.createElement('div');\n",
              "        docLink.innerHTML = docLinkHtml;\n",
              "        element.appendChild(docLink);\n",
              "      }\n",
              "    </script>\n",
              "  </div>\n",
              "\n",
              "\n",
              "<div id=\"df-970d339c-e5cb-4102-b06f-b7c331de45d9\">\n",
              "  <button class=\"colab-df-quickchart\" onclick=\"quickchart('df-970d339c-e5cb-4102-b06f-b7c331de45d9')\"\n",
              "            title=\"Suggest charts\"\n",
              "            style=\"display:none;\">\n",
              "\n",
              "<svg xmlns=\"http://www.w3.org/2000/svg\" height=\"24px\"viewBox=\"0 0 24 24\"\n",
              "     width=\"24px\">\n",
              "    <g>\n",
              "        <path d=\"M19 3H5c-1.1 0-2 .9-2 2v14c0 1.1.9 2 2 2h14c1.1 0 2-.9 2-2V5c0-1.1-.9-2-2-2zM9 17H7v-7h2v7zm4 0h-2V7h2v10zm4 0h-2v-4h2v4z\"/>\n",
              "    </g>\n",
              "</svg>\n",
              "  </button>\n",
              "\n",
              "<style>\n",
              "  .colab-df-quickchart {\n",
              "      --bg-color: #E8F0FE;\n",
              "      --fill-color: #1967D2;\n",
              "      --hover-bg-color: #E2EBFA;\n",
              "      --hover-fill-color: #174EA6;\n",
              "      --disabled-fill-color: #AAA;\n",
              "      --disabled-bg-color: #DDD;\n",
              "  }\n",
              "\n",
              "  [theme=dark] .colab-df-quickchart {\n",
              "      --bg-color: #3B4455;\n",
              "      --fill-color: #D2E3FC;\n",
              "      --hover-bg-color: #434B5C;\n",
              "      --hover-fill-color: #FFFFFF;\n",
              "      --disabled-bg-color: #3B4455;\n",
              "      --disabled-fill-color: #666;\n",
              "  }\n",
              "\n",
              "  .colab-df-quickchart {\n",
              "    background-color: var(--bg-color);\n",
              "    border: none;\n",
              "    border-radius: 50%;\n",
              "    cursor: pointer;\n",
              "    display: none;\n",
              "    fill: var(--fill-color);\n",
              "    height: 32px;\n",
              "    padding: 0;\n",
              "    width: 32px;\n",
              "  }\n",
              "\n",
              "  .colab-df-quickchart:hover {\n",
              "    background-color: var(--hover-bg-color);\n",
              "    box-shadow: 0 1px 2px rgba(60, 64, 67, 0.3), 0 1px 3px 1px rgba(60, 64, 67, 0.15);\n",
              "    fill: var(--button-hover-fill-color);\n",
              "  }\n",
              "\n",
              "  .colab-df-quickchart-complete:disabled,\n",
              "  .colab-df-quickchart-complete:disabled:hover {\n",
              "    background-color: var(--disabled-bg-color);\n",
              "    fill: var(--disabled-fill-color);\n",
              "    box-shadow: none;\n",
              "  }\n",
              "\n",
              "  .colab-df-spinner {\n",
              "    border: 2px solid var(--fill-color);\n",
              "    border-color: transparent;\n",
              "    border-bottom-color: var(--fill-color);\n",
              "    animation:\n",
              "      spin 1s steps(1) infinite;\n",
              "  }\n",
              "\n",
              "  @keyframes spin {\n",
              "    0% {\n",
              "      border-color: transparent;\n",
              "      border-bottom-color: var(--fill-color);\n",
              "      border-left-color: var(--fill-color);\n",
              "    }\n",
              "    20% {\n",
              "      border-color: transparent;\n",
              "      border-left-color: var(--fill-color);\n",
              "      border-top-color: var(--fill-color);\n",
              "    }\n",
              "    30% {\n",
              "      border-color: transparent;\n",
              "      border-left-color: var(--fill-color);\n",
              "      border-top-color: var(--fill-color);\n",
              "      border-right-color: var(--fill-color);\n",
              "    }\n",
              "    40% {\n",
              "      border-color: transparent;\n",
              "      border-right-color: var(--fill-color);\n",
              "      border-top-color: var(--fill-color);\n",
              "    }\n",
              "    60% {\n",
              "      border-color: transparent;\n",
              "      border-right-color: var(--fill-color);\n",
              "    }\n",
              "    80% {\n",
              "      border-color: transparent;\n",
              "      border-right-color: var(--fill-color);\n",
              "      border-bottom-color: var(--fill-color);\n",
              "    }\n",
              "    90% {\n",
              "      border-color: transparent;\n",
              "      border-bottom-color: var(--fill-color);\n",
              "    }\n",
              "  }\n",
              "</style>\n",
              "\n",
              "  <script>\n",
              "    async function quickchart(key) {\n",
              "      const quickchartButtonEl =\n",
              "        document.querySelector('#' + key + ' button');\n",
              "      quickchartButtonEl.disabled = true;  // To prevent multiple clicks.\n",
              "      quickchartButtonEl.classList.add('colab-df-spinner');\n",
              "      try {\n",
              "        const charts = await google.colab.kernel.invokeFunction(\n",
              "            'suggestCharts', [key], {});\n",
              "      } catch (error) {\n",
              "        console.error('Error during call to suggestCharts:', error);\n",
              "      }\n",
              "      quickchartButtonEl.classList.remove('colab-df-spinner');\n",
              "      quickchartButtonEl.classList.add('colab-df-quickchart-complete');\n",
              "    }\n",
              "    (() => {\n",
              "      let quickchartButtonEl =\n",
              "        document.querySelector('#df-970d339c-e5cb-4102-b06f-b7c331de45d9 button');\n",
              "      quickchartButtonEl.style.display =\n",
              "        google.colab.kernel.accessAllowed ? 'block' : 'none';\n",
              "    })();\n",
              "  </script>\n",
              "</div>\n",
              "\n",
              "    </div>\n",
              "  </div>\n"
            ]
          },
          "metadata": {},
          "execution_count": 6
        }
      ]
    },
    {
      "cell_type": "code",
      "source": [
        "select_movies['Title'][select_movies['Title'].str.contains('Star Wars')]"
      ],
      "metadata": {
        "colab": {
          "base_uri": "https://localhost:8080/"
        },
        "id": "Ua6_rRplrohh",
        "outputId": "85c71f4b-b731-4554-87fd-24c62bc6f2ea"
      },
      "execution_count": null,
      "outputs": [
        {
          "output_type": "execute_result",
          "data": {
            "text/plain": [
              "16378    Star Wars: Episode I – The Phantom Menace 3D\n",
              "17159             Rogue One: A Star Wars Story (film)\n",
              "Name: Title, dtype: object"
            ]
          },
          "metadata": {},
          "execution_count": 14
        }
      ]
    },
    {
      "cell_type": "code",
      "source": [
        "select_movies['Title'][select_movies['Title'].str.contains('Star Trek')]"
      ],
      "metadata": {
        "colab": {
          "base_uri": "https://localhost:8080/"
        },
        "id": "hAq9Ns_1spQz",
        "outputId": "a5a0c580-19e7-4290-eac0-e409fed46972"
      },
      "execution_count": null,
      "outputs": [
        {
          "output_type": "execute_result",
          "data": {
            "text/plain": [
              "11726    Star Trek VI: The Undiscovered Country\n",
              "Name: Title, dtype: object"
            ]
          },
          "metadata": {},
          "execution_count": 15
        }
      ]
    },
    {
      "cell_type": "code",
      "source": [
        "import numpy as np\n",
        "import spacy   # another tokenizer, lemmatizer (has --> be)\n",
        "nlp = spacy.load('en_core_web_sm')\n",
        "nlp.disable_pipes('parser', 'ner')"
      ],
      "metadata": {
        "colab": {
          "base_uri": "https://localhost:8080/"
        },
        "id": "rBosPGl51N9W",
        "outputId": "d70032ea-f57f-4aab-c10a-a1bd7d3384ea"
      },
      "execution_count": 7,
      "outputs": [
        {
          "output_type": "execute_result",
          "data": {
            "text/plain": [
              "['parser', 'ner']"
            ]
          },
          "metadata": {},
          "execution_count": 7
        }
      ]
    },
    {
      "cell_type": "code",
      "execution_count": 8,
      "metadata": {
        "colab": {
          "base_uri": "https://localhost:8080/"
        },
        "id": "s0kFuVlbXuDn",
        "outputId": "775acf3b-c320-4e8a-d165-18ec48916e2b"
      },
      "outputs": [
        {
          "output_type": "stream",
          "name": "stderr",
          "text": [
            "/usr/local/lib/python3.10/dist-packages/sklearn/feature_extraction/text.py:528: UserWarning: The parameter 'token_pattern' will not be used since 'tokenizer' is not None'\n",
            "  warnings.warn(\n"
          ]
        },
        {
          "output_type": "stream",
          "name": "stdout",
          "text": [
            "3928\n",
            "['abandon' 'abduct' 'abduction' 'abductor' 'ability' 'able' 'aboard'\n",
            " 'abort' 'abraham' 'abruptly' 'absence' 'absorb' 'abuse' 'abusive'\n",
            " 'accept' 'access' 'accident' 'accidental' 'accidentally' 'accompany'\n",
            " 'accomplice' 'accomplish' 'accord' 'accost' 'account' 'accusation'\n",
            " 'accuse' 'ace' 'achieve' 'acid' 'acknowledge' 'acquaint' 'acquaintance'\n",
            " 'acquire' 'acquit' 'act' 'action' 'activate' 'active' 'activity' 'actor'\n",
            " 'actress' 'actual' 'actually' 'adam' 'add' 'addict' 'addition'\n",
            " 'additional' 'address' 'adjacent' 'administer' 'admire' 'admit' 'adopt'\n",
            " 'adoptive' 'adult' 'advance' 'advanced' 'advantage' 'adventure' 'advice'\n",
            " 'advise' 'aerial' 'affair' 'affect' 'affection' 'afford' 'afraid'\n",
            " 'africa' 'african' 'aftermath' 'afternoon' 'afterward' 'age' 'aged'\n",
            " 'agency' 'agent' 'aggressive' 'ago' 'agree' 'agreement' 'ahead' 'aid'\n",
            " 'aide' 'ail' 'aim' 'air' 'aircraft' 'airline' 'airport' 'ajay' 'aka' 'al'\n",
            " 'alan' 'alarm' 'albert' 'alcohol' 'alcoholic' 'alert']\n",
            "['write' 'writer' 'wrong' 'wrongdoing' 'wrongly' 'wyatt' 'wyoming' 'x'\n",
            " 'yankee' 'yard' 'year' 'yell' 'yellow' 'yield' 'york' 'young' 'youth'\n",
            " 'zachary' 'zero' 'zone']\n",
            "(2052, 3928)\n",
            "(1, 3928)\n",
            "(1, 3928)\n",
            "[[10 10 10 10 10 10 10 10 10 10 10 10 10 10 10 10 10 10 10 10]]\n",
            "[[ 970  975 1035 1040 1043 1046 1098 1114 1126 1197 1291 1297 1368 1371\n",
            "  1553 1784 1948 2443 2679 3154]]\n",
            "rarest [['lean' 'amid' 'amuse' 'overtake' 'degree' 'semi' 'withhold' 'dramatic'\n",
            "  'bludgeon' 'tease' 'ankle' 'tube' 'impression' 'orders' 'willingly'\n",
            "  'incorporate' 'hurl' 'anxious' 'sen' 'aloud']]\n",
            "most common [['woman' 'house' 'later' 'escape' 'help' 'father' 'come' 'murder'\n",
            "  'police' 'town' 'go' 'return' 'try' 'shoot' 'take' 'tell' 'leave'\n",
            "  'find' 'man' 'kill']]\n"
          ]
        }
      ],
      "source": [
        "def nlp_processing(doc): # from indexing.ipyns\n",
        "    tokens = nlp(doc)\n",
        "\n",
        "    #print(type(tokens))\n",
        "    # eliminates stop words  and non alpha num and converts all to lower case\n",
        "    terms = [token.lemma_.lower() for token in tokens if not token.is_stop and token.is_alpha]\n",
        "\n",
        "    return terms\n",
        "\n",
        "vect = CountVectorizer(tokenizer = nlp_processing, min_df = 10) # ? why 50\n",
        "\n",
        "counter = vect.fit_transform(select_movies['Plot'])\n",
        " # matrix representation of each movie as a tf-idf vector\n",
        "print(len(vect.get_feature_names_out()))\n",
        "\n",
        "print(vect.get_feature_names_out()[:100])\n",
        "print(vect.get_feature_names_out()[-20:])\n",
        "\n",
        "print(counter.shape)\n",
        "tf_all = counter.sum(axis = 0)\n",
        "print(tf_all.shape)\n",
        "ind_terms_sorted = tf_all.argsort()\n",
        "print(ind_terms_sorted.shape)\n",
        "print(tf_all[0,ind_terms_sorted[0,0:20]])\n",
        "print(tf_all[0,ind_terms_sorted[0,-20:]])\n",
        "print('rarest', vect.get_feature_names_out()[ind_terms_sorted[0,:20]])\n",
        "print('most common', vect.get_feature_names_out()[ind_terms_sorted[0,-20:]])"
      ]
    },
    {
      "cell_type": "code",
      "source": [
        "transf  = TfidfTransformer(norm = 'l2', sublinear_tf = True)\n",
        "# TfidfTransformer takes the CountVectorizer output and computes the tf-idf\n",
        "tf_idf = transf.fit_transform(counter)"
      ],
      "metadata": {
        "id": "bPsyDeWMxCxt"
      },
      "execution_count": 9,
      "outputs": []
    },
    {
      "cell_type": "code",
      "source": [
        "from sklearn.metrics import pairwise_distances\n",
        "print(np.mean(pairwise_distances(tf_idf, metric = 'l2')))\n",
        "print(np.max(pairwise_distances(tf_idf)))\n",
        "print(np.min(pairwise_distances(tf_idf)))\n"
      ],
      "metadata": {
        "colab": {
          "base_uri": "https://localhost:8080/"
        },
        "id": "N6NLh07I5nOJ",
        "outputId": "2e23740c-cdac-4ba6-82f8-2ea30f8dcb1b"
      },
      "execution_count": null,
      "outputs": [
        {
          "output_type": "stream",
          "name": "stdout",
          "text": [
            "1.3795946772743812\n",
            "1.4142135623730958\n",
            "0.0\n"
          ]
        }
      ]
    },
    {
      "cell_type": "markdown",
      "source": [
        "## Agglomerative clustering\n",
        "\n",
        "### TF-IDF space over 3k dimensions\n",
        "\n",
        "1. complete linkage\n",
        "* Eulidean\n",
        "* Cosine\n",
        "2. average linkage\n",
        "* Eulidean\n",
        "* Cosine\n",
        "3. Ward linkage (increase in sum of square errors (SSE) by merging two clusters)\n",
        "   D(Ci, Cj) = SSE(Ci,Cj) - (SSE(Ci) + SSE(Cj))\n",
        "* Eulidean\n",
        "\n",
        "\n",
        "\n"
      ],
      "metadata": {
        "id": "6E479TS5Ih4_"
      }
    },
    {
      "cell_type": "code",
      "source": [
        "k_clusters = 5 #None # 10\n",
        "from matplotlib import pyplot as plt\n",
        "# “euclidean”, “l1”, “l2”, “manhattan”, “cosine”,\n",
        "# linkage{‘ward’, ‘complete’, ‘average’, ‘single’}, default=’ward’\n",
        "# 'ward' works only with 'euclidean'\n",
        "# distance_threshold = 0 computes the full tree\n",
        "agglom = AgglomerativeClustering(n_clusters = 5, affinity='euclidean', linkage ='ward',\n",
        "                                distance_threshold = None, compute_distances = True)\n",
        "tf_idf_array = tf_idf.toarray()\n",
        "agglom_tf_idf = agglom.fit(tf_idf_array)\n",
        "print(agglom_tf_idf.n_clusters_)\n",
        "print(\"\\nSilhouette Coefficient: %0.3f\" %metrics.silhouette_score(tf_idf, agglom_tf_idf.labels_, metric = \"cosine\"))"
      ],
      "metadata": {
        "colab": {
          "base_uri": "https://localhost:8080/"
        },
        "outputId": "8636a0f0-9bda-4e2d-b27f-088df752682e",
        "id": "-DRTjKZEtLX5"
      },
      "execution_count": 10,
      "outputs": [
        {
          "output_type": "stream",
          "name": "stderr",
          "text": [
            "/usr/local/lib/python3.10/dist-packages/sklearn/cluster/_agglomerative.py:983: FutureWarning: Attribute `affinity` was deprecated in version 1.2 and will be removed in 1.4. Use `metric` instead\n",
            "  warnings.warn(\n"
          ]
        },
        {
          "output_type": "stream",
          "name": "stdout",
          "text": [
            "5\n",
            "\n",
            "Silhouette Coefficient: 0.000\n"
          ]
        }
      ]
    },
    {
      "cell_type": "code",
      "source": [
        "from collections import Counter\n",
        "model = agglom # agglom_use # agglom_lsi # agglom_tfidf\n",
        "# compute purity\n",
        "# in each cluster - find # of dramas/ # commedies\n",
        "# choose the max in each cluster = purity per cluster\n",
        "# sum purity in each cluster/# number of movies\n",
        "import numpy as np\n",
        "genre = pd.Categorical(select_movies.Genre)\n",
        "#print(genre.shape, index_cluster1.shape, index_cluster2.shape)\n",
        "k_clusters = model.n_clusters_\n",
        "purity = np.zeros((k_clusters,1))\n",
        "for c in range(k_clusters):\n",
        "    # extract labeks of each genre and count them\n",
        "    index_cluster = model.labels_ == c;\n",
        "    count_genre = Counter(genre[index_cluster])\n",
        "    print(c, count_genre)\n",
        "    purity[c] = max(count_genre.values())\n",
        "\n",
        "total_purity = np.sum(purity)/len(genre)\n",
        "print(total_purity)"
      ],
      "metadata": {
        "colab": {
          "base_uri": "https://localhost:8080/"
        },
        "id": "oz3TtePiONqe",
        "outputId": "951b058a-9a4a-4552-be8e-712ad35d0b0e"
      },
      "execution_count": 11,
      "outputs": [
        {
          "output_type": "stream",
          "name": "stdout",
          "text": [
            "0 Counter({'western': 516, 'thriller': 77, 'sci-fi': 9})\n",
            "1 Counter({'thriller': 577, 'western': 137, 'sci-fi': 38})\n",
            "2 Counter({'sci-fi': 152, 'thriller': 42, 'western': 2})\n",
            "3 Counter({'western': 194, 'thriller': 5, 'sci-fi': 1})\n",
            "4 Counter({'thriller': 265, 'sci-fi': 21, 'western': 16})\n",
            "0.8304093567251462\n"
          ]
        }
      ]
    },
    {
      "cell_type": "code",
      "source": [
        "# compute the centroids of the agglomerative clusters\n",
        "centroids_agglom = np.zeros((k_clusters, tf_idf_array.shape[1]))\n",
        "for c in range(k_clusters):\n",
        "  ind_mov = np.where(agglom.labels_ == c)[0]\n",
        "  centroids_agglom[c,:] = np.mean(tf_idf_array[ind_mov,:], axis = 0)\n",
        "\n",
        "print(centroids_agglom[:,:10])"
      ],
      "metadata": {
        "colab": {
          "base_uri": "https://localhost:8080/"
        },
        "id": "daallTJ-vTsQ",
        "outputId": "39638337-ff56-437b-9051-dd1116049e6f"
      },
      "execution_count": 16,
      "outputs": [
        {
          "output_type": "stream",
          "name": "stdout",
          "text": [
            "[[0.00340619 0.00203821 0.00011595 0.00022598 0.00031343 0.00543636\n",
            "  0.00053154 0.0002121  0.00017605 0.00091647]\n",
            " [0.00227814 0.00273145 0.0003944  0.00076183 0.00218898 0.00663187\n",
            "  0.00251167 0.00067443 0.00057741 0.00034495]\n",
            " [0.00887231 0.00069226 0.0004378  0.00034064 0.00948612 0.01241825\n",
            "  0.01266673 0.00163484 0.00049755 0.00108475]\n",
            " [0.00407575 0.0015717  0.00043447 0.         0.00035673 0.00334448\n",
            "  0.00036728 0.         0.00242963 0.00050017]\n",
            " [0.00767031 0.00456271 0.00312296 0.00116106 0.00256986 0.00848842\n",
            "  0.00045006 0.00105535 0.00028744 0.00204122]]\n"
          ]
        }
      ]
    },
    {
      "cell_type": "code",
      "source": [
        "def plot_dendrogram(model, **kwargs):\n",
        "    # Create linkage matrix and then plot the dendrogram\n",
        "\n",
        "    # create the counts of samples under each node\n",
        "    counts = np.zeros(model.children_.shape[0])\n",
        "    n_samples = len(model.labels_)\n",
        "    for i, merge in enumerate(model.children_):\n",
        "        current_count = 0\n",
        "        for child_idx in merge:\n",
        "            if child_idx < n_samples:\n",
        "                current_count += 1  # leaf node\n",
        "            else:\n",
        "                current_count += counts[child_idx - n_samples]\n",
        "        counts[i] = current_count\n",
        "\n",
        "    linkage_matrix = np.column_stack(\n",
        "        [model.children_, model.distances_, counts]\n",
        "    ).astype(float)\n",
        "\n",
        "    # Plot the corresponding dendrogram\n",
        "    dendrogram(linkage_matrix, **kwargs)\n",
        "\n"
      ],
      "metadata": {
        "id": "X-h_F4jCIhKk"
      },
      "execution_count": null,
      "outputs": []
    },
    {
      "cell_type": "code",
      "source": [
        "model = agglom # agglom_lda # agglom_lsi # agglom_model\n",
        "plot_dendrogram(model, truncate_mode=\"level\", p=5)"
      ],
      "metadata": {
        "colab": {
          "base_uri": "https://localhost:8080/",
          "height": 438
        },
        "id": "NRMe2YjgK6Q9",
        "outputId": "aab501a1-9d71-4ef3-e8d8-9f4661505390"
      },
      "execution_count": null,
      "outputs": [
        {
          "output_type": "display_data",
          "data": {
            "text/plain": [
              "<Figure size 640x480 with 1 Axes>"
            ],
            "image/png": "[encoded data removed]"
          },
          "metadata": {}
        }
      ]
    },
    {
      "cell_type": "code",
      "source": [
        "# use sentence embeddings - USE\n",
        "import tensorflow as tf\n",
        "import tensorflow_hub as hub\n",
        "\n",
        "module_url = \"https://tfhub.dev/google/universal-sentence-encoder/4\"\n",
        "model_use = hub.load(module_url)\n",
        "print (\"module %s loaded\" % module_url)"
      ],
      "metadata": {
        "colab": {
          "base_uri": "https://localhost:8080/"
        },
        "id": "dKSvneF11taw",
        "outputId": "8c8630a5-1227-40b2-91f5-556ab1c576ec"
      },
      "execution_count": null,
      "outputs": [
        {
          "output_type": "stream",
          "name": "stdout",
          "text": [
            "module https://tfhub.dev/google/universal-sentence-encoder/4 loaded\n"
          ]
        }
      ]
    },
    {
      "cell_type": "code",
      "source": [
        "# embed the movie plots using use\n",
        "use_embed = model_use(select_movies['Plot'])"
      ],
      "metadata": {
        "id": "ESsbf8yr1_fQ"
      },
      "execution_count": null,
      "outputs": []
    },
    {
      "cell_type": "code",
      "source": [
        "use_embed.shape"
      ],
      "metadata": {
        "colab": {
          "base_uri": "https://localhost:8080/"
        },
        "id": "OpChITFH2TjF",
        "outputId": "b58919fc-29ae-499a-dfe1-124caad601e4"
      },
      "execution_count": null,
      "outputs": [
        {
          "output_type": "execute_result",
          "data": {
            "text/plain": [
              "TensorShape([2052, 512])"
            ]
          },
          "metadata": {},
          "execution_count": 75
        }
      ]
    },
    {
      "cell_type": "code",
      "source": [
        "# Don't use using default text processing in CountVectorizer\n",
        "vect1 = CountVectorizer(stop_words = \"english\", lowercase = True, min_df = 100)\n",
        "counter1 = vect1.fit_transform(select_movies['Plot'])\n",
        "print(len(vect1.get_feature_names_out()))\n",
        "\n",
        "print(vect1.get_feature_names_out()[:100])\n",
        "print(vect1.get_feature_names_out()[-20:])"
      ],
      "metadata": {
        "colab": {
          "base_uri": "https://localhost:8080/"
        },
        "id": "Dw1vqr_t15gP",
        "outputId": "46370cf3-9e6d-4796-a919-9ec6a7ecb6c8"
      },
      "execution_count": null,
      "outputs": [
        {
          "output_type": "stream",
          "name": "stdout",
          "text": [
            "402\n",
            "['000' 'able' 'accident' 'accidentally' 'actually' 'affair' 'agent'\n",
            " 'agrees' 'alive' 'american' 'apartment' 'appears' 'army' 'arrest'\n",
            " 'arrested' 'arrive' 'arrives' 'asks' 'attack' 'attacked' 'attacks'\n",
            " 'attempt' 'attempts' 'away' 'bank' 'battle' 'begin' 'begins' 'believe'\n",
            " 'believes' 'best' 'blood' 'body' 'boss' 'boy' 'break' 'breaks' 'bring'\n",
            " 'brings' 'brother' 'building' 'business' 'called' 'calls' 'captain'\n",
            " 'captured' 'car' 'case' 'cattle' 'caught' 'causing' 'chief' 'child'\n",
            " 'children' 'city' 'claims' 'clear' 'come' 'comes' 'coming' 'company'\n",
            " 'confronts' 'continue' 'continues' 'control' 'convinces' 'couple' 'crime'\n",
            " 'daughter' 'day' 'days' 'dead' 'death' 'decide' 'decides' 'demands'\n",
            " 'despite' 'detective' 'did' 'die' 'died' 'dies' 'discover' 'discovered'\n",
            " 'discovers' 'doctor' 'does' 'doesn' 'door' 'dr' 'drive' 'earlier' 'end'\n",
            " 'ends' 'enters' 'escape' 'escapes' 'eventually' 'evidence' 'ex']\n",
            "['warns' 'watch' 'water' 'way' 'wealthy' 'west' 'white' 'wife' 'window'\n",
            " 'woman' 'women' 'work' 'working' 'works' 'world' 'wounded' 'year' 'years'\n",
            " 'york' 'young']\n"
          ]
        }
      ]
    },
    {
      "cell_type": "code",
      "source": [
        "k_clusters = 3\n",
        "from matplotlib import pyplot as plt\n",
        "# “euclidean”, “l1”, “l2”, “manhattan”, “cosine”,\n",
        "# linkage{‘ward’, ‘complete’, ‘average’, ‘single’}, default=’ward’\n",
        "# 'ward' works only with 'euclidean'\n",
        "# distance_threshold = 0 computes the full tree\n",
        "agglom = AgglomerativeClustering(n_clusters = k_clusters, affinity='euclidean', linkage = 'ward',\n",
        "                                distance_threshold = None)\n",
        "agglom_tfidf = agglom.fit(tf_idf.toarray())\n",
        "print(agglom_tfidf.n_clusters_)\n",
        "print(\"\\nSilhouette Coefficient: %0.3f\" %metrics.silhouette_score(tf_idf, agglom_tfidf.labels_, metric = \"cosine\"))"
      ],
      "metadata": {
        "colab": {
          "base_uri": "https://localhost:8080/"
        },
        "id": "xiucoiZXIkqh",
        "outputId": "3b55afe3-0388-4a87-863a-6f7ceafdff4a"
      },
      "execution_count": null,
      "outputs": [
        {
          "output_type": "stream",
          "name": "stdout",
          "text": [
            "3\n",
            "\n",
            "Silhouette Coefficient: 0.006\n"
          ]
        }
      ]
    },
    {
      "cell_type": "code",
      "source": [
        "# SVD dimensionality reduction\n",
        "# project Tfidf model onto singular value decomposition - LSI transform and then do clustering\n",
        "from sklearn.decomposition import TruncatedSVD\n",
        "\n",
        "dim = 1000 # 1300 dimensions explain 95% variance\n",
        "svd = TruncatedSVD(n_components=dim, n_iter = 10)\n",
        "\n",
        "lsi = svd.fit_transform(tf_idf)\n",
        "explained_variance = svd.explained_variance_ratio_.sum()\n",
        "print(\"Sum of explained variance ratio: %d%%\" % (int(explained_variance * 100)))"
      ],
      "metadata": {
        "colab": {
          "base_uri": "https://localhost:8080/"
        },
        "id": "Fm7iNfwZrhOM",
        "outputId": "a2f242df-5271-4d0e-e873-2123ac0fb075"
      },
      "execution_count": null,
      "outputs": [
        {
          "output_type": "stream",
          "name": "stdout",
          "text": [
            "Sum of explained variance ratio: 84%\n"
          ]
        }
      ]
    },
    {
      "cell_type": "code",
      "execution_count": null,
      "metadata": {
        "outputId": "7af63b25-e0b0-47a8-feb4-49b711f9346a",
        "colab": {
          "base_uri": "https://localhost:8080/"
        },
        "id": "d9tSU-UxvrDn"
      },
      "outputs": [
        {
          "output_type": "stream",
          "name": "stdout",
          "text": [
            "(2052, 200)\n",
            "(200, 3921)\n"
          ]
        }
      ],
      "source": [
        "# LDA with sklearn\n",
        "from sklearn.decomposition import LatentDirichletAllocation\n",
        "\n",
        "num_of_topics = 200 # more topics, better to separate the clusters.\n",
        "lda_transf = LatentDirichletAllocation(\n",
        "            n_components = num_of_topics, max_iter= 10,\n",
        "            learning_method = 'online', batch_size = 128)   # 'online' - faster, uses subset of data\n",
        "lda = lda_transf.fit_transform(counter)\n",
        "print(lda.shape)\n",
        "print(lda_transf.components_.shape)"
      ]
    },
    {
      "cell_type": "code",
      "source": [
        "k_clusters = 3 # None # 10 #None # 10\n",
        "from matplotlib import pyplot as plt\n",
        "# “euclidean”, “l1”, “l2”, “manhattan”, “cosine”,\n",
        "# linkage{‘ward’, ‘complete’, ‘average’, ‘single’}, default=’ward’\n",
        "# 'ward' works only with 'euclidean'\n",
        "# distance_threshold = 0 computes the full tree\n",
        "agglom = AgglomerativeClustering(n_clusters = k_clusters, affinity='euclidean', linkage = 'ward',\n",
        "                                distance_threshold = None)\n",
        "agglom_lda = agglom.fit(lda)\n",
        "print(agglom_lda.n_clusters_)\n",
        "print(\"\\nSilhouette Coefficient: %0.3f\" %metrics.silhouette_score(lda, agglom_lda.labels_, metric = \"cosine\"))"
      ],
      "metadata": {
        "colab": {
          "base_uri": "https://localhost:8080/"
        },
        "outputId": "2b504248-4951-4aa9-89cd-9d763522d860",
        "id": "cuNbU3JOxDi2"
      },
      "execution_count": null,
      "outputs": [
        {
          "output_type": "stream",
          "name": "stdout",
          "text": [
            "3\n",
            "\n",
            "Silhouette Coefficient: 0.369\n"
          ]
        }
      ]
    },
    {
      "cell_type": "code",
      "source": [
        "# use USE embeddings\n",
        "k_clusters = 3 # 10\n",
        "from matplotlib import pyplot as plt\n",
        "# “euclidean”, “l1”, “l2”, “manhattan”, “cosine”,\n",
        "# linkage{‘ward’, ‘complete’, ‘average’, ‘single’}, default=’ward’\n",
        "# 'ward' works only with 'euclidean'\n",
        "# distance_threshold = 0 computes the full tree\n",
        "agglom = AgglomerativeClustering(n_clusters = k_clusters, affinity='euclidean', linkage = 'ward',\n",
        "                                distance_threshold = None)\n",
        "agglom_use = agglom.fit(use_embed)\n",
        "print(agglom_use.n_clusters_)\n",
        "print(\"\\nSilhouette Coefficient: %0.3f\" %metrics.silhouette_score(use_embed, agglom_use.labels_, metric = \"cosine\"))"
      ],
      "metadata": {
        "colab": {
          "base_uri": "https://localhost:8080/"
        },
        "outputId": "7089d408-2622-4f6b-a8fe-cd91c5ac145c",
        "id": "fqAs6D272fHP"
      },
      "execution_count": null,
      "outputs": [
        {
          "output_type": "stream",
          "name": "stdout",
          "text": [
            "3\n",
            "\n",
            "Silhouette Coefficient: 0.039\n"
          ]
        }
      ]
    },
    {
      "cell_type": "code",
      "execution_count": null,
      "metadata": {
        "id": "sXEaifiwXuDv",
        "outputId": "abb58387-21a2-432d-a605-90872f81255f",
        "colab": {
          "base_uri": "https://localhost:8080/"
        }
      },
      "outputs": [
        {
          "output_type": "stream",
          "name": "stdout",
          "text": [
            "Top top words per cluster:\n",
            "Cluster 0\n",
            "\t kill 336\n",
            "\t find 265\n",
            "\t dr 196\n",
            "\t man 189\n",
            "\t force 179\n",
            "\t earth 170\n",
            "\t escape 164\n",
            "\t leave 164\n",
            "\t take 161\n",
            "\t alien 159\n",
            "Cluster 1\n",
            "\t kill 815\n",
            "\t find 681\n",
            "\t man 566\n",
            "\t tell 540\n",
            "\t leave 513\n",
            "\t go 399\n",
            "\t take 399\n",
            "\t murder 379\n",
            "\t police 367\n",
            "\t try 358\n",
            "Cluster 2\n",
            "\t kill 280\n",
            "\t man 196\n",
            "\t find 186\n",
            "\t father 174\n",
            "\t jack 171\n",
            "\t money 167\n",
            "\t murder 158\n",
            "\t take 140\n",
            "\t leave 132\n",
            "\t shoot 129\n",
            "Cluster 3\n",
            "\t man 78\n",
            "\t custer 75\n",
            "\t fort 71\n",
            "\t kill 58\n",
            "\t gene 56\n",
            "\t apache 56\n",
            "\t war 53\n",
            "\t lead 48\n",
            "\t cavalry 46\n",
            "\t command 46\n",
            "Cluster 4\n",
            "\t man 293\n",
            "\t kill 224\n",
            "\t gold 154\n",
            "\t train 147\n",
            "\t wagon 122\n",
            "\t attack 121\n",
            "\t leave 118\n",
            "\t town 116\n",
            "\t war 116\n",
            "\t shoot 108\n",
            "Cluster 5\n",
            "\t find 401\n",
            "\t tell 383\n",
            "\t leave 325\n",
            "\t kill 297\n",
            "\t man 287\n",
            "\t go 274\n",
            "\t car 246\n",
            "\t house 225\n",
            "\t try 213\n",
            "\t say 203\n",
            "Cluster 6\n",
            "\t kill 296\n",
            "\t find 252\n",
            "\t police 208\n",
            "\t murder 205\n",
            "\t take 174\n",
            "\t tell 148\n",
            "\t leave 140\n",
            "\t man 137\n",
            "\t escape 126\n",
            "\t reveal 126\n",
            "Cluster 7\n",
            "\t man 360\n",
            "\t kill 312\n",
            "\t town 244\n",
            "\t ranch 191\n",
            "\t shoot 166\n",
            "\t gene 161\n",
            "\t gang 148\n",
            "\t leave 145\n",
            "\t father 141\n",
            "\t return 137\n",
            "Cluster 8\n",
            "\t kill 266\n",
            "\t find 248\n",
            "\t man 186\n",
            "\t leave 174\n",
            "\t tell 135\n",
            "\t take 128\n",
            "\t later 119\n",
            "\t police 115\n",
            "\t return 111\n",
            "\t escape 109\n",
            "Cluster 9\n",
            "\t man 388\n",
            "\t kill 277\n",
            "\t town 251\n",
            "\t leave 206\n",
            "\t shoot 193\n",
            "\t tell 153\n",
            "\t find 147\n",
            "\t ride 131\n",
            "\t gun 127\n",
            "\t horse 126\n"
          ]
        }
      ],
      "source": [
        "# print top topic indices per cluster\n",
        "print(\"Top top words per cluster:\")\n",
        "terms = vect.get_feature_names_out()\n",
        "\n",
        "model = agglom_lda # agglom_lsi # agglom_tfidf\n",
        "# TO DO: order terms in a cluster by tf-idf not just tf\n",
        "# find movies in each cluster, sum up their counts and print the top words\n",
        "for k in range(model.n_clusters_):\n",
        "    index_movies_k = model.labels_ == k\n",
        "    count_terms_k = sum(counter[index_movies_k,:])   # sum per columns (overall frequency)\n",
        "    order_terms = count_terms_k.toarray().argsort()[:,::-1].ravel()  # convert to a 1D array\n",
        "    print('Cluster', k)\n",
        "\n",
        "    for t in order_terms[:10]:\n",
        "        print('\\t', terms[t], count_terms_k[0,t])\n"
      ]
    },
    {
      "cell_type": "code",
      "execution_count": null,
      "metadata": {
        "colab": {
          "base_uri": "https://localhost:8080/"
        },
        "id": "z94oUe9FXuDq",
        "outputId": "cf18c694-7fc7-40d6-ce1c-004dd4c5d361"
      },
      "outputs": [
        {
          "output_type": "stream",
          "name": "stdout",
          "text": [
            "Homogeneity: 0.591\n",
            "Completeness: 0.170\n",
            "V-measure: 0.264\n",
            "Adjusted Rand-Index: 0.075\n"
          ]
        }
      ],
      "source": [
        "# compute homogeneity with genre labels\n",
        "model = agglom_use # agglom_lda # agglom_lsi # agglom_tfidf\n",
        "# get genre for the selected movies\n",
        "genre = pd.Categorical(select_movies.Genre)\n",
        "\n",
        "print(\"Homogeneity: %0.3f\"  % metrics.homogeneity_score(genre, model.labels_))\n",
        "print(\"Completeness: %0.3f\" % metrics.completeness_score(genre, model.labels_))\n",
        "print(\"V-measure: %0.3f\"    % metrics.v_measure_score(genre, model.labels_))\n",
        "print(\"Adjusted Rand-Index: %.3f\" % metrics.adjusted_rand_score(genre, model.labels_))"
      ]
    },
    {
      "cell_type": "code",
      "execution_count": null,
      "metadata": {
        "id": "nDYzYk1Y3_jR"
      },
      "outputs": [],
      "source": [
        "# plot clusters\n",
        "import seaborn as sb\n",
        "import matplotlib.pyplot as plt\n",
        "\n",
        "from sklearn.decomposition import TruncatedSVD\n",
        "pca = TruncatedSVD(n_components = 2)\n",
        "#print('explained variance')\n",
        "pca.fit(tf_idf)\n",
        "x2 = pca.transform(tf_idf)"
      ]
    },
    {
      "cell_type": "code",
      "execution_count": null,
      "metadata": {
        "outputId": "3644650f-5083-44de-9bcc-eef195320913",
        "colab": {
          "base_uri": "https://localhost:8080/",
          "height": 224
        },
        "id": "8yAMhHA54QiX"
      },
      "outputs": [
        {
          "output_type": "stream",
          "name": "stdout",
          "text": [
            "(2052, 2)\n"
          ]
        },
        {
          "output_type": "execute_result",
          "data": {
            "text/plain": [
              "          x         y  label orig_label\n",
              "0  0.194878  0.045397      0    western\n",
              "1  0.229486  0.156645      6    western\n",
              "2  0.109479  0.037830      0    western\n",
              "3  0.075191  0.039589      3    western\n",
              "4  0.222659  0.047510      4    western"
            ],
            "text/html": [
              "\n",
              "  <div id=\"df-abb8dabd-a2fd-4602-b2bd-0b8f710cf565\">\n",
              "    <div class=\"colab-df-container\">\n",
              "      <div>\n",
              "<style scoped>\n",
              "    .dataframe tbody tr th:only-of-type {\n",
              "        vertical-align: middle;\n",
              "    }\n",
              "\n",
              "    .dataframe tbody tr th {\n",
              "        vertical-align: top;\n",
              "    }\n",
              "\n",
              "    .dataframe thead th {\n",
              "        text-align: right;\n",
              "    }\n",
              "</style>\n",
              "<table border=\"1\" class=\"dataframe\">\n",
              "  <thead>\n",
              "    <tr style=\"text-align: right;\">\n",
              "      <th></th>\n",
              "      <th>x</th>\n",
              "      <th>y</th>\n",
              "      <th>label</th>\n",
              "      <th>orig_label</th>\n",
              "    </tr>\n",
              "  </thead>\n",
              "  <tbody>\n",
              "    <tr>\n",
              "      <th>0</th>\n",
              "      <td>0.194878</td>\n",
              "      <td>0.045397</td>\n",
              "      <td>0</td>\n",
              "      <td>western</td>\n",
              "    </tr>\n",
              "    <tr>\n",
              "      <th>1</th>\n",
              "      <td>0.229486</td>\n",
              "      <td>0.156645</td>\n",
              "      <td>6</td>\n",
              "      <td>western</td>\n",
              "    </tr>\n",
              "    <tr>\n",
              "      <th>2</th>\n",
              "      <td>0.109479</td>\n",
              "      <td>0.037830</td>\n",
              "      <td>0</td>\n",
              "      <td>western</td>\n",
              "    </tr>\n",
              "    <tr>\n",
              "      <th>3</th>\n",
              "      <td>0.075191</td>\n",
              "      <td>0.039589</td>\n",
              "      <td>3</td>\n",
              "      <td>western</td>\n",
              "    </tr>\n",
              "    <tr>\n",
              "      <th>4</th>\n",
              "      <td>0.222659</td>\n",
              "      <td>0.047510</td>\n",
              "      <td>4</td>\n",
              "      <td>western</td>\n",
              "    </tr>\n",
              "  </tbody>\n",
              "</table>\n",
              "</div>\n",
              "      <button class=\"colab-df-convert\" onclick=\"convertToInteractive('df-abb8dabd-a2fd-4602-b2bd-0b8f710cf565')\"\n",
              "              title=\"Convert this dataframe to an interactive table.\"\n",
              "              style=\"display:none;\">\n",
              "        \n",
              "  <svg xmlns=\"http://www.w3.org/2000/svg\" height=\"24px\"viewBox=\"0 0 24 24\"\n",
              "       width=\"24px\">\n",
              "    <path d=\"M0 0h24v24H0V0z\" fill=\"none\"/>\n",
              "    <path d=\"M18.56 5.44l.94 2.06.94-2.06 2.06-.94-2.06-.94-.94-2.06-.94 2.06-2.06.94zm-11 1L8.5 8.5l.94-2.06 2.06-.94-2.06-.94L8.5 2.5l-.94 2.06-2.06.94zm10 10l.94 2.06.94-2.06 2.06-.94-2.06-.94-.94-2.06-.94 2.06-2.06.94z\"/><path d=\"M17.41 7.96l-1.37-1.37c-.4-.4-.92-.59-1.43-.59-.52 0-1.04.2-1.43.59L10.3 9.45l-7.72 7.72c-.78.78-.78 2.05 0 2.83L4 21.41c.39.39.9.59 1.41.59.51 0 1.02-.2 1.41-.59l7.78-7.78 2.81-2.81c.8-.78.8-2.07 0-2.86zM5.41 20L4 18.59l7.72-7.72 1.47 1.35L5.41 20z\"/>\n",
              "  </svg>\n",
              "      </button>\n",
              "      \n",
              "  <style>\n",
              "    .colab-df-container {\n",
              "      display:flex;\n",
              "      flex-wrap:wrap;\n",
              "      gap: 12px;\n",
              "    }\n",
              "\n",
              "    .colab-df-convert {\n",
              "      background-color: #E8F0FE;\n",
              "      border: none;\n",
              "      border-radius: 50%;\n",
              "      cursor: pointer;\n",
              "      display: none;\n",
              "      fill: #1967D2;\n",
              "      height: 32px;\n",
              "      padding: 0 0 0 0;\n",
              "      width: 32px;\n",
              "    }\n",
              "\n",
              "    .colab-df-convert:hover {\n",
              "      background-color: #E2EBFA;\n",
              "      box-shadow: 0px 1px 2px rgba(60, 64, 67, 0.3), 0px 1px 3px 1px rgba(60, 64, 67, 0.15);\n",
              "      fill: #174EA6;\n",
              "    }\n",
              "\n",
              "    [theme=dark] .colab-df-convert {\n",
              "      background-color: #3B4455;\n",
              "      fill: #D2E3FC;\n",
              "    }\n",
              "\n",
              "    [theme=dark] .colab-df-convert:hover {\n",
              "      background-color: #434B5C;\n",
              "      box-shadow: 0px 1px 3px 1px rgba(0, 0, 0, 0.15);\n",
              "      filter: drop-shadow(0px 1px 2px rgba(0, 0, 0, 0.3));\n",
              "      fill: #FFFFFF;\n",
              "    }\n",
              "  </style>\n",
              "\n",
              "      <script>\n",
              "        const buttonEl =\n",
              "          document.querySelector('#df-abb8dabd-a2fd-4602-b2bd-0b8f710cf565 button.colab-df-convert');\n",
              "        buttonEl.style.display =\n",
              "          google.colab.kernel.accessAllowed ? 'block' : 'none';\n",
              "\n",
              "        async function convertToInteractive(key) {\n",
              "          const element = document.querySelector('#df-abb8dabd-a2fd-4602-b2bd-0b8f710cf565');\n",
              "          const dataTable =\n",
              "            await google.colab.kernel.invokeFunction('convertToInteractive',\n",
              "                                                     [key], {});\n",
              "          if (!dataTable) return;\n",
              "\n",
              "          const docLinkHtml = 'Like what you see? Visit the ' +\n",
              "            '<a target=\"_blank\" href=https://colab.research.google.com/notebooks/data_table.ipynb>data table notebook</a>'\n",
              "            + ' to learn more about interactive tables.';\n",
              "          element.innerHTML = '';\n",
              "          dataTable['output_type'] = 'display_data';\n",
              "          await google.colab.output.renderOutput(dataTable, element);\n",
              "          const docLink = document.createElement('div');\n",
              "          docLink.innerHTML = docLinkHtml;\n",
              "          element.appendChild(docLink);\n",
              "        }\n",
              "      </script>\n",
              "    </div>\n",
              "  </div>\n",
              "  "
            ]
          },
          "metadata": {},
          "execution_count": 142
        }
      ],
      "source": [
        "print(x2.shape)\n",
        "# add labels\n",
        "model = agglom_lsi # agglom_use # agglom_lda # agglom_lsi # agglom_tfidf\n",
        "data_x2 = pd.DataFrame(x2, columns = ['x','y'])\n",
        "data_x2['label'] = model.labels_\n",
        "data_x2['orig_label'] = genre\n",
        "data_x2.head()"
      ]
    },
    {
      "cell_type": "code",
      "execution_count": null,
      "metadata": {
        "outputId": "32c385ea-08f6-4b96-991a-6c97a1963903",
        "colab": {
          "base_uri": "https://localhost:8080/",
          "height": 441
        },
        "id": "036w4Y3y3zXQ"
      },
      "outputs": [
        {
          "output_type": "stream",
          "name": "stderr",
          "text": [
            "/usr/local/lib/python3.7/dist-packages/seaborn/regression.py:592: UserWarning: legend_out is deprecated from the `lmplot` function signature. Please update your code to pass it using `facet_kws`.\n",
            "  warnings.warn(msg, UserWarning)\n"
          ]
        },
        {
          "output_type": "execute_result",
          "data": {
            "text/plain": [
              "<seaborn.axisgrid.FacetGrid at 0x7ff9db69c950>"
            ]
          },
          "metadata": {},
          "execution_count": 41
        },
        {
          "output_type": "display_data",
          "data": {
            "text/plain": [
              "<Figure size 435.875x360 with 1 Axes>"
            ],
            "image/png": "[encoded data removed]"
          },
          "metadata": {
            "needs_background": "light"
          }
        }
      ],
      "source": [
        "sb.lmplot(data=data_x2, x='x', y='y', hue='orig_label',fit_reg=False, legend=True, legend_out=True)"
      ]
    },
    {
      "cell_type": "code",
      "execution_count": null,
      "metadata": {
        "outputId": "4bfa625b-3b58-431b-b568-9e8b6d674579",
        "colab": {
          "base_uri": "https://localhost:8080/",
          "height": 441
        },
        "id": "7qU9flua339W"
      },
      "outputs": [
        {
          "output_type": "stream",
          "name": "stderr",
          "text": [
            "/usr/local/lib/python3.7/dist-packages/seaborn/regression.py:592: UserWarning: legend_out is deprecated from the `lmplot` function signature. Please update your code to pass it using `facet_kws`.\n",
            "  warnings.warn(msg, UserWarning)\n"
          ]
        },
        {
          "output_type": "execute_result",
          "data": {
            "text/plain": [
              "<seaborn.axisgrid.FacetGrid at 0x7ff9d453a250>"
            ]
          },
          "metadata": {},
          "execution_count": 143
        },
        {
          "output_type": "display_data",
          "data": {
            "text/plain": [
              "<Figure size 402.375x360 with 1 Axes>"
            ],
            "image/png": "[encoded data removed]"
          },
          "metadata": {
            "needs_background": "light"
          }
        }
      ],
      "source": [
        "sb.lmplot(data=data_x2, x='x', y='y', hue='label',fit_reg=False, legend=True, legend_out=True)"
      ]
    },
    {
      "cell_type": "code",
      "execution_count": null,
      "metadata": {
        "id": "0qFaJXeKXuDy",
        "outputId": "e4f094c1-0028-4d25-9c4c-b07279bb837f",
        "colab": {
          "base_uri": "https://localhost:8080/"
        }
      },
      "outputs": [
        {
          "output_type": "stream",
          "name": "stderr",
          "text": [
            "/usr/local/lib/python3.7/dist-packages/sklearn/utils/deprecation.py:87: FutureWarning: Function get_feature_names is deprecated; get_feature_names is deprecated in 1.0 and will be removed in 1.2. Please use get_feature_names_out instead.\n",
            "  warnings.warn(msg, category=FutureWarning)\n"
          ]
        },
        {
          "output_type": "stream",
          "name": "stdout",
          "text": [
            "Topic 0:\n",
            "['pete', 'scott', 'kansas', 'finger', 'dawson', 'bust', 'heated', 'proof', 'wayne', 'feel']\n",
            "Topic 1:\n",
            "['anticipate', 'precious', 'tombstone', 'chat', 'investment', 'en', 'cahoot', 'treatment', 'carefully', 'giant']\n",
            "Topic 2:\n",
            "['handle', 'angeles', 'japanese', 'nanny', 'angel', 'remainder', 'permission', 'kirby', 'slap', 'unlike']\n",
            "Topic 3:\n",
            "['utah', 'tex', 'disguise', 'journey', 'butcher', 'florida', 'jealous', 'threat', 'friendship', 'lake']\n",
            "Topic 4:\n",
            "['father', 'wish', 'old', 'mexico', 'story', 'mask', 'send', 'place', 'love', 'take']\n",
            "Topic 5:\n",
            "['de', 'mexican', 'carlos', 'la', 'warner', 'jose', 'california', 'criminal', 'farmer', 'americans']\n",
            "Topic 6:\n",
            "['truck', 'connie', 'diner', 'vehicle', 'lane', 'drive', 'gas', 'station', 'janice', 'jeep']\n",
            "Topic 7:\n",
            "['singe', 'common', 'young', 'illness', 'perfect', 'local', 'teacher', 'seemingly', 'bury', 'andrews']\n",
            "Topic 8:\n",
            "['nick', 'lisa', 'beth', 'roman', 'farrell', 'derek', 'juan', 'knock', 'domestic', 'accompany']\n",
            "Topic 9:\n",
            "['roy', 'far', 'value', 'gabby', 'dave', 'sell', 'man', 'confederate', 'worth', 'ranch']\n",
            "Topic 10:\n",
            "['library', 'sweet', 'car', 'smith', 'desolate', 'comanche', 'frozen', 'dare', 'benefit', 'jason']\n",
            "Topic 11:\n",
            "['martin', 'george', 'gang', 'road', 'car', 'ride', 'town', 'townspeople', 'post', 'office']\n",
            "Topic 12:\n",
            "['ajay', 'chennai', 'khan', 'ravi', 'saxena', 'priya', 'ben', 'ranch', 'bill', 'jack']\n",
            "Topic 13:\n",
            "['son', 'jim', 'young', 'cousin', 'woman', 'england', 'car', 'home', 'henry', 'help']\n",
            "Topic 14:\n",
            "['outlaw', 'vote', 'agent', 'day', 'harass', 'man', 'newspaper', 'organize', 'city', 'rancher']\n",
            "Topic 15:\n",
            "['clay', 'town', 'servant', 'clean', 'sarah', 'henchman', 'shoot', 'gun', 'frank', 'set']\n",
            "Topic 16:\n",
            "['john', 'luck', 'helen', 'town', 'grow', 'die', 'clint', 'feel', 'decide', 'man']\n",
            "Topic 17:\n",
            "['gene', 'matt', 'steal', 'frog', 'ranch', 'baby', 'later', 'rodeo', 'thomas', 'father']\n",
            "Topic 18:\n",
            "['morris', 'chester', 'want', 'new', 'man', 'woman', 'prehistoric', 'laura', 'doc', 'experiment']\n",
            "Topic 19:\n",
            "['texas', 'don', 'katherine', 'houston', 'republic', 'roger', 'frank', 'thunder', 'resort', 'break']\n",
            "Topic 20:\n",
            "['firefight', 'captive', 'inhabit', 'northern', 'canada', 'entire', 'patricia', 'dislike', 'barry', 'clark']\n",
            "Topic 21:\n",
            "['castle', 'captivity', 'explanation', 'important', 'evade', 'eliminate', 'revelation', 'eve', 'mean', 'european']\n",
            "Topic 22:\n",
            "['jane', 'patrick', 'donald', 'el', 'costume', 'revive', 'stash', 'decade', 'rescue', 'sheriff']\n",
            "Topic 23:\n",
            "['inmate', 'rocket', 'shatter', 'late', 'flash', 'baby', 'strong', 'play', 'investigation', 'rescue']\n",
            "Topic 24:\n",
            "['arjun', 'day', 'woman', 'daughter', 'young', 'cabin', 'happily', 'dance', 'hall', 'love']\n",
            "Topic 25:\n",
            "['loot', 'stay', 'organ', 'cheat', 'plate', 'soon', 'wonder', 'kim', 'holden', 'revolution']\n",
            "Topic 26:\n",
            "['jeff', 'parker', 'robbery', 'neighboring', 'dollar', 'easy', 'loan', 'thousand', 'culprit', 'hard']\n",
            "Topic 27:\n",
            "['nuclear', 'janice', 'crack', 'cage', 'thank', 'smoke', 'underwater', 'lonely', 'relent', 'eagle']\n",
            "Topic 28:\n",
            "['jim', 'sam', 'simon', 'ranger', 'bus', 'kathy', 'passenger', 'stage', 'driver', 'send']\n",
            "Topic 29:\n",
            "['gene', 'ranch', 'frog', 'dorothy', 'autry', 'smuggler', 'smuggling', 'ride', 'smiley', 'burnette']\n",
            "Topic 30:\n",
            "['short', 'disillusioned', 'bedford', 'allow', 'cowboy', 'fun', 'lawrence', 'tactic', 'lifestyle', 'handsome']\n",
            "Topic 31:\n",
            "['crawford', 'vital', 'heist', 'famous', 'nightmare', 'console', 'north', 'harm', 'shootout', 'god']\n",
            "Topic 32:\n",
            "['wild', 'activate', 'weight', 'skin', 'willing', 'commissioner', 'service', 'own', 'property', 'vacation']\n",
            "Topic 33:\n",
            "['roy', 'dave', 'gabby', 'chip', 'search', 'belong', 'tell', 'recruit', 'play', 'gold']\n",
            "Topic 34:\n",
            "['forget', 'lost', 'spaceship', 'hallucination', 'appreciate', 'imprisonment', 'politic', 'closely', 'expect', 'oliver']\n",
            "Topic 35:\n",
            "['tim', 'mccoy', 'rustler', 'alexander', 'villain', 'aid', 'trouble', 'bull', 'prove', 'cowboy']\n",
            "Topic 36:\n",
            "['tom', 'guy', 'maria', 'grant', 'wayne', 'dale', 'dare', 'anderson', 'poker', 'judy']\n",
            "Topic 37:\n",
            "['vijay', 'kumar', 'caller', 'singh', 'stuart', 'kit', 'santa', 'solve', 'mean', 'intercept']\n",
            "Topic 38:\n",
            "['natural', 'instruction', 'quarter', 'photographer', 'homesteader', 'supervisor', 'introduce', 'resume', 'plant', 'bank']\n",
            "Topic 39:\n",
            "['hawk', 'believe', 'duke', 'ruth', 'arrival', 'murder', 'kill', 'man', 'judge', 'real']\n",
            "Topic 40:\n",
            "['priya', 'ravi', 'chennai', 'brian', 'ajay', 'gold', 'carter', 'gang', 'claim', 'plan']\n",
            "Topic 41:\n",
            "['clint', 'wagon', 'jim', 'indians', 'train', 'bill', 'day', 'save', 'talk', 'short']\n",
            "Topic 42:\n",
            "['carol', 'glenn', 'android', 'spear', 'stanton', 'coin', 'sand', 'return', 'size', 'rate']\n",
            "Topic 43:\n",
            "['oil', 'moore', 'nina', 'lease', 'deal', 'locate', 'opening', 'cahoot', 'black', 'role']\n",
            "Topic 44:\n",
            "['joe', 'blake', 'jackson', 'style', 'nelson', 'betty', 'discover', 'hold', 'talk', 'haul']\n",
            "Topic 45:\n",
            "['adoptive', 'appearance', 'effort', 'incident', 'white', 'target', 'cahoot', 'university', 'intimidate', 'nevada']\n",
            "Topic 46:\n",
            "['bob', 'water', 'new', 'die', 'woman', 'go', 'give', 'leave', 'boy', 'little']\n",
            "Topic 47:\n",
            "['plant', 'leave', 'bomb', 'ship', 'moment', 'passenger', 'board', 'crew', 'worried', 'continue']\n",
            "Topic 48:\n",
            "['main', 'nature', 'regular', 'remorse', 'time', 'prince', 'cheyenne', 'internal', 'crystal', 'mar']\n",
            "Topic 49:\n",
            "['david', 'billy', 'rio', 'carson', 'pat', 'garrett', 'harper', 'try', 'shoot', 'mexico']\n",
            "Topic 50:\n",
            "['black', 'sr', 'shadow', 'al', 'edward', 'teacher', 'mason', 'determined', 'poor', 'romance']\n",
            "Topic 51:\n",
            "['black', 'ringleader', 'kidnaps', 'troupe', 'resent', 'russian', 'ken', 'reunite', 'path', 'organization']\n",
            "Topic 52:\n",
            "['tex', 'arrive', 'joe', 'ranch', 'utah', 'wagon', 'chief', 'john', 'eagle', 'frog']\n",
            "Topic 53:\n",
            "['film', 'railroad', 'tony', 'construction', 'scene', 'story', 'pacific', 'star', 'main', 'culminate']\n",
            "Topic 54:\n",
            "['feature', 'wide', 'police', 'eyed', 'sky', 'treaty', 'albert', 'version', 'cease', 'turn']\n",
            "Topic 55:\n",
            "['marry', 'tom', 'guilty', 'want', 'dump', 'south', 'crime', 'kill', 'learn', 'return']\n",
            "Topic 56:\n",
            "['spanish', 'deadline', 'register', 'story', 'base', 'practice', 'owner', 'land', 'prevent', 'california']\n",
            "Topic 57:\n",
            "['gene', 'horse', 'sally', 'station', 'radio', 'farmer', 'dance', 'finance', 'stampede', 'barn']\n",
            "Topic 58:\n",
            "['complex', 'mirror', 'system', 'production', 'deposit', 'irish', 'rogue', 'khan', 'division', 'toilet']\n",
            "Topic 59:\n",
            "['joe', 'dan', 'company', 'line', 'work', 'police', 'find', 'operation', 'kill', 'casino']\n",
            "Topic 60:\n",
            "['doll', 'feud', 'heroin', 'hayden', 'environment', 'temple', 'family', 'involve', 'villain', 'priya']\n",
            "Topic 61:\n",
            "['charlie', 'ray', 'tracy', 'stanley', 'hayes', 'race', 'ken', 'chandler', 'prince', 'wire']\n",
            "Topic 62:\n",
            "['keep', 'order', 'name', 'sure', 'partner', 'request', 'baby', 'interest', 'care', 'map']\n",
            "Topic 63:\n",
            "['chief', 'deserve', 'devastate', 'musician', 'recuperate', 'furious', 'deliberately', 'embassy', 'device', 'invent']\n",
            "Topic 64:\n",
            "['alice', 'mason', 'complicate', 'matter', 'inevitable', 'trick', 'decoy', 'vengeance', 'killer', 'love']\n",
            "Topic 65:\n",
            "['package', 'development', 'jacket', 'adam', 'lair', 'inquiry', 'descend', 'command', 'michael', 'father']\n",
            "Topic 66:\n",
            "['plain', 'expel', 'century', 'farmer', 'access', 'end', 'rancher', 'west', 'far', 'control']\n",
            "Topic 67:\n",
            "['operator', 'telegraph', 'bandit', 'open', 'train', 'force', 'tank', 'eastern', 'stop', 'meal']\n",
            "Topic 68:\n",
            "['inspector', 'williams', 'roger', 'scotland', 'yard', 'burke', 'sir', 'household', 'tooth', 'neighbour']\n",
            "Topic 69:\n",
            "['gang', 'member', 'leader', 'casino', 'belle', 'hunt', 'gambling', 'boone', 'hatch', 'local']\n",
            "Topic 70:\n",
            "['railroad', 'bandit', 'tom', 'train', 'force', 'operator', 'kill', 'stop', 'telegraph', 'open']\n",
            "Topic 71:\n",
            "['anxious', 'ireland', 'lie', 'winner', 'locked', 'mobile', 'sniper', 'rejoin', 'finance', 'armstrong']\n",
            "Topic 72:\n",
            "['paul', 'julia', 'adam', 'steve', 'walter', 'carla', 'rick', 'lily', 'molly', 'richard']\n",
            "Topic 73:\n",
            "['brian', 'gang', 'gold', 'town', 'missouri', 'get', 'plan', 'claim', 'necklace', 'try']\n",
            "Topic 74:\n",
            "['shark', 'sean', 'jackie', 'dancer', 'dock', 'new', 'free', 'molly', 'studio', 'smuggler']\n",
            "Topic 75:\n",
            "['pick', 'rig', 'successfully', 'arrow', 'unit', 'surprise', 'plate', 'lloyd', 'fuel', 'past']\n",
            "Topic 76:\n",
            "['apache', 'mark', 'officer', 'fort', 'general', 'command', 'cavalry', 'custer', 'terry', 'colonel']\n",
            "Topic 77:\n",
            "['cattle', 'rustler', 'cattleman', 'rustle', 'foreman', 'range', 'brand', 'justice', 'gunfight', 'join']\n",
            "Topic 78:\n",
            "['raj', 'heavy', 'rampage', 'background', 'random', 'primary', 'comfortable', 'base', 'francis', 'consist']\n",
            "Topic 79:\n",
            "['morning', 'constantly', 'offer', 'crazy', 'carcass', 'detachment', 'reduce', 'approach', 'seemingly', 'swim']\n",
            "Topic 80:\n",
            "['gene', 'martin', 'joan', 'john', 'henry', 'string', 'reveal', 'murder', 'frog', 'learn']\n",
            "Topic 81:\n",
            "['household', 'look', 'burke', 'roger', 'individual', 'scotland', 'sir', 'prompt', 'friend', 'james']\n",
            "Topic 82:\n",
            "['water', 'red', 'bull', 'sabotage', 'dam', 'conway', 'baxter', 'dynamite', 'gate', 'scheme']\n",
            "Topic 83:\n",
            "['grace', 'father', 'try', 'townspeople', 'town', 'sheriff', 'art', 'grab', 'rough', 'gun']\n",
            "Topic 84:\n",
            "['henry', 'james', 'fund', 'wyoming', 'upper', 'ranch', 'succumb', 'jack', 'plan', 'addition']\n",
            "Topic 85:\n",
            "['matt', 'money', 'ann', 'bank', 'carter', 'steal', 'douglas', 'lou', 'gunman', 'tanner']\n",
            "Topic 86:\n",
            "['drake', 'girl', 'william', 'sheriff', 'demand', 'turn', 'arrest', 'employer', 'boyd', 'order']\n",
            "Topic 87:\n",
            "['mitchell', 'estate', 'lewis', 'guardian', 'heiress', 'control', 'crooked', 'conway', 'fake', 'rogue']\n",
            "Topic 88:\n",
            "['settlement', 'opponent', 'dispute', 'payroll', 'effect', 'heart', 'title', 'superior', 'retaliate', 'describe']\n",
            "Topic 89:\n",
            "['st', 'jean', 'surveillance', 'roughly', 'ward', 'manufacture', 'attitude', 'hatch', 'abusive', 'dry']\n",
            "Topic 90:\n",
            "['buck', 'marshal', 'mary', 'ask', 'wife', 'love', 'fall', 'rule', 'jones', 'new']\n",
            "Topic 91:\n",
            "['gang', 'cattleman', 'attempt', 'bribe', 'father', 'police', 'gun', 'power', 'gangster', 'home']\n",
            "Topic 92:\n",
            "['rancher', 'novel', 'grey', 'challenge', 'base', 'spread', 'step', 'outlaw', 'huge', 'ahead']\n",
            "Topic 93:\n",
            "['drake', 'miss', 'right', 'horse', 'refuse', 'release', 'order', 'cassidy', 'turn', 'new']\n",
            "Topic 94:\n",
            "['kill', 'murder', 'man', 'take', 'father', 'wife', 'find', 'jack', 'leave', 'money']\n",
            "Topic 95:\n",
            "['tell', 'leave', 'kill', 'find', 'go', 'man', 'home', 'see', 'ask', 'car']\n",
            "Topic 96:\n",
            "['joe', 'tex', 'dan', 'work', 'lane', 'tell', 'operation', 'police', 'partner', 'night']\n",
            "Topic 97:\n",
            "['basement', 'show', 'competition', 'excellent', 'panics', 'hugh', 'consist', 'pitch', 'ruth', 'title']\n",
            "Topic 98:\n",
            "['jane', 'mary', 'el', 'gang', 'henry', 'rescue', 'provide', 'posse', 'decade', 'find']\n",
            "Topic 99:\n",
            "['ben', 'confrontation', 'mastermind', 'adoptive', 'difficult', 'identify', 'trek', 'theft', 'harm', 'location']\n",
            "Topic 100:\n",
            "['vote', 'editor', 'election', 'statehood', 'status', 'publisher', 'organize', 'press', 'terrorize', 'villain']\n",
            "Topic 101:\n",
            "['gene', 'ben', 'follow', 'martin', 'john', 'jack', 'hold', 'meet', 'bill', 'frog']\n",
            "Topic 102:\n",
            "['man', 'marshal', 'rodeo', 'ride', 'ken', 'tracy', 'discover', 'rob', 'shoot', 'local']\n",
            "Topic 103:\n",
            "['victim', 'lincoln', 'roommate', 'guilty', 'joanne', 'conversation', 'angie', 'position', 'department', 'sister']\n",
            "Topic 104:\n",
            "['answer', 'brian', 'episode', 'trample', 'technician', 'executive', 'sleep', 'staff', 'homesteader', 'mortally']\n",
            "Topic 105:\n",
            "['wreak', 'aggressive', 'epilogue', 'hide', 'method', 'unwilling', 'anybody', 'patron', 'logan', 'assassination']\n",
            "Topic 106:\n",
            "['pal', 'ball', 'slow', 'helmet', 'land', 'unexpected', 'apply', 'torment', 'sidekick', 'meantime']\n",
            "Topic 107:\n",
            "['blake', 'jackson', 'betty', 'land', 'man', 'ranch', 'try', 'deed', 'saloon', 'discover']\n",
            "Topic 108:\n",
            "['margaret', 'cocaine', 'nevada', 'help', 'red', 'rustler', 'ask', 'johnny', 'race', 'knowledge']\n",
            "Topic 109:\n",
            "['confide', 'condemn', 'duncan', 'gilbert', 'blow', 'incorporate', 'serial', 'ii', 'warrant', 'morris']\n",
            "Topic 110:\n",
            "['clever', 'sit', 'reveal', 'disrupt', 'obviously', 'bit', 'listen', 'hair', 'person', 'reward']\n",
            "Topic 111:\n",
            "['wyatt', 'doc', 'jr', 'stephen', 'brother', 'earp', 'tombstone', 'arizona', 'long', 'fleet']\n",
            "Topic 112:\n",
            "['child', 'charles', 'king', 'crystal', 'mar', 'mickey', 'princess', 'kidnap', 'count', 'rescue']\n",
            "Topic 113:\n",
            "['tracy', 'perform', 'adams', 'lead', 'acquire', 'quit', 'colonel', 'lure', 'drill', 'history']\n",
            "Topic 114:\n",
            "['closed', 'video', 'easy', 'room', 'carlos', 'forgive', 'response', 'simply', 'sell', 'montgomery']\n",
            "Topic 115:\n",
            "['drill', 'openly', 'sharpshooter', 'pen', 'hollywood', 'sever', 'africa', 'sing', 'long', 'inadvertently']\n",
            "Topic 116:\n",
            "['reverend', 'live', 'lucky', 'indian', 'breed', 'half', 'nevada', 'play', 'rustle', 'song']\n",
            "Topic 117:\n",
            "['cash', 'dump', 'dare', 'decision', 'anybody', 'whiskey', 'friend', 'rise', 'survival', 'involve']\n",
            "Topic 118:\n",
            "['play', 'movie', 'barbara', 'bedford', 'role', 'oklahoma', 'feature', 'sidekick', 'kansas', 'strip']\n",
            "Topic 119:\n",
            "['smith', 'jill', 'spider', 'british', 'german', 'diamond', 'captain', 'nazi', 'london', 'russell']\n",
            "Topic 120:\n",
            "['duncan', 'randall', 'dick', 'bronson', 'select', 'sweetheart', 'prepare', 'power', 'desert', 'hole']\n",
            "Topic 121:\n",
            "['laura', 'rick', 'allan', 'hypnotize', 'kill', 'egg', 'woman', 'fall', 'institute', 'flee']\n",
            "Topic 122:\n",
            "['bandit', 'jake', 'plan', 'late', 'father', 'rescue', 'offer', 'henchman', 'town', 'bring']\n",
            "Topic 123:\n",
            "['michael', 'karen', 'mafia', 'boss', 'wander', 'inadvertently', 'warren', 'terminal', 'fraud', 'conflict']\n",
            "Topic 124:\n",
            "['unexpected', 'consist', 'honor', 'injure', 'escalate', 'middle', 'reveal', 'harm', 'prank', 'invitation']\n",
            "Topic 125:\n",
            "['morgan', 'slim', 'motel', 'jean', 'earl', 'wallet', 'bud', 'boyd', 'loan', 'ranch']\n",
            "Topic 126:\n",
            "['town', 'sheriff', 'saloon', 'gun', 'marshal', 'shoot', 'deputy', 'clay', 'judge', 'cliff']\n",
            "Topic 127:\n",
            "['pose', 'wanted', 'association', 'rustler', 'unknown', 'cattleman', 'tex', 'boss', 'alert', 'posse']\n",
            "Topic 128:\n",
            "['ireland', 'accost', 'bridge', 'field', 'roger', 'exactly', 'acid', 'reference', 'rural', 'spirit']\n",
            "Topic 129:\n",
            "['explore', 'ticket', 'replacement', 'retaliate', 'peaceful', 'drill', 'mysterious', 'jackson', 'easy', 'trust']\n",
            "Topic 130:\n",
            "['gene', 'sally', 'radio', 'station', 'company', 'farmer', 'dance', 'horse', 'record', 'stampede']\n",
            "Topic 131:\n",
            "['trapper', 'domestic', 'englishman', 'respond', 'production', 'entire', 'sale', 'sack', 'personally', 'jeff']\n",
            "Topic 132:\n",
            "['cattleman', 'home', 'bribe', 'gang', 'attempt', 'gangster', 'protection', 'justice', 'gun', 'cattle']\n",
            "Topic 133:\n",
            "['man', 'train', 'gold', 'kill', 'attack', 'force', 'war', 'escape', 'group', 'ride']\n",
            "Topic 134:\n",
            "['san', 'francisco', 'van', 'training', 'impress', 'neck', 'grasp', 'count', 'shed', 'dirty']\n",
            "Topic 135:\n",
            "['ship', 'island', 'crew', 'boat', 'ruth', 'creature', 'carl', 'hawk', 'van', 'snake']\n",
            "Topic 136:\n",
            "['wish', 'meaning', 'fourth', 'amidst', 'shoe', 'stranger', 'loose', 'innocent', 'dana', 'guest']\n",
            "Topic 137:\n",
            "['information', 'city', 'lisa', 'underwater', 'spanish', 'bat', 'marry', 'opportunity', 'cemetery', 'gabby']\n",
            "Topic 138:\n",
            "['mrs', 'claire', 'gil', 'tex', 'larry', 'ward', 'mill', 'wilson', 'phillip', 'fan']\n",
            "Topic 139:\n",
            "['dan', 'big', 'outlaw', 'kent', 'stagecoach', 'ranch', 'fred', 'appoint', 'ask', 'sell']\n",
            "Topic 140:\n",
            "['religious', 'hundred', 'particular', 'suppose', 'capt', 'secluded', 'celebrate', 'manhunt', 'facility', 'term']\n",
            "Topic 141:\n",
            "['plague', 'disturb', 'overtake', 'job', 'review', 'possess', 'underground', 'similarity', 'compartment', 'cite']\n",
            "Topic 142:\n",
            "['parent', 'gate', 'outside', 'long', 'company', 'restrain', 'gag', 'convince', 'altercation', 'hat']\n",
            "Topic 143:\n",
            "['cheyenne', 'wells', 'wyoming', 'allison', 'malone', 'carey', 'dinner', 'cowboy', 'progress', 'describe']\n",
            "Topic 144:\n",
            "['neighbor', 'lisa', 'chris', 'starve', 'treachery', 'interrogate', 'brown', 'vijay', 'officer', 'stare']\n",
            "Topic 145:\n",
            "['take', 'land', 'set', 'force', 'cavalry', 'hold', 'la', 'declare', 'government', 'agent']\n",
            "Topic 146:\n",
            "['robbery', 'steve', 'ranch', 'town', 'new', 'sidekick', 'molly', 'arrest', 'dale', 'stage']\n",
            "Topic 147:\n",
            "['bob', 'howard', 'ravi', 'traveler', 'pond', 'cat', 'mute', 'coerce', 'injury', 'newlywed']\n",
            "Topic 148:\n",
            "['kill', 'claim', 'town', 'file', 'marshal', 'murder', 'cassidy', 'investigate', 'miner', 'gold']\n",
            "Topic 149:\n",
            "['nearby', 'prospect', 'stewart', 'introduce', 'squad', 'parole', 'prison', 'wreckage', 'cooper', 'green']\n",
            "Topic 150:\n",
            "['nevada', 'aboard', 'host', 'aerial', 'dry', 'squad', 'carol', 'enemy', 'arrange', 'count']\n",
            "Topic 151:\n",
            "['illusion', 'employment', 'confidence', 'shatter', 'happiness', 'carey', 'harry', 'desert', 'duel', 'brother']\n",
            "Topic 152:\n",
            "['construction', 'aka', 'duncan', 'freedom', 'farmhouse', 'disagree', 'neighbour', 'planet', 'earn', 'forr']\n",
            "Topic 153:\n",
            "['consent', 'eric', 'incapacitate', 'accidentally', 'exonerate', 'eager', 'conflict', 'activity', 'hearing', 'contemplate']\n",
            "Topic 154:\n",
            "['saxena', 'custer', 'indicate', 'simultaneously', 'dance', 'yellow', 'schoolteacher', 'repair', 'confide', 'nerve']\n",
            "Topic 155:\n",
            "['jane', 'mary', 'el', 'rescue', 'sheriff', 'bandit', 'gang', 'donald', 'henry', 'robbery']\n",
            "Topic 156:\n",
            "['ted', 'wright', 'summer', 'tiny', 'driver', 'cahoot', 'impersonate', 'corrupt', 'spend', 'robbery']\n",
            "Topic 157:\n",
            "['newspaper', 'attention', 'settle', 'favorite', 'novel', 'jar', 'farrell', 'english', 'similar', 'west']\n",
            "Topic 158:\n",
            "['police', 'find', 'case', 'body', 'discover', 'dr', 'apartment', 'kill', 'phone', 'escape']\n",
            "Topic 159:\n",
            "['kent', 'town', 'sheriff', 'final', 'win', 'kill', 'deputy', 'tom', 'mayor', 'law']\n",
            "Topic 160:\n",
            "['entry', 'scan', 'belong', 'german', 'earp', 'alliance', 'beast', 'savage', 'warden', 'claude']\n",
            "Topic 161:\n",
            "['heal', 'necessary', 'signal', 'especially', 'replace', 'dislike', 'climb', 'kidnapper', 'possess', 'diamond']\n",
            "Topic 162:\n",
            "['reverend', 'live', 'saloon', 'play', 'town', 'hall', 'partner', 'church', 'dance', 'sister']\n",
            "Topic 163:\n",
            "['town', 'border', 'mexican', 'player', 'kill', 'sheriff', 'saloon', 'film', 'arrest', 'end']\n",
            "Topic 164:\n",
            "['agent', 'fight', 'vote', 'outlaw', 'organize', 'carter', 'janet', 'day', 'editor', 'man']\n",
            "Topic 165:\n",
            "['kid', 'brown', 'emma', 'reynold', 'track', 'widow', 'son', 'lovely', 'meet', 'true']\n",
            "Topic 166:\n",
            "['gold', 'gang', 'victim', 'jeff', 'cowboy', 'claim', 'turn', 'field', 'end', 'henchman']\n",
            "Topic 167:\n",
            "['genius', 'brutally', 'cellar', 'ledge', 'disagree', 'setting', 'havoc', 'neighbour', 'type', 'occur']\n",
            "Topic 168:\n",
            "['sheriff', 'try', 'father', 'grace', 'art', 'rough', 'gun', 'announce', 'grab', 'reality']\n",
            "Topic 169:\n",
            "['purchase', 'potential', 'step', 'string', 'secret', 'victor', 'supernatural', 'gangster', 'admire', 'katie']\n",
            "Topic 170:\n",
            "['string', 'arrest', 'candy', 'page', 'custody', 'cheap', 'recuperate', 'reach', 'skeptical', 'marshall']\n",
            "Topic 171:\n",
            "['traitor', 'chester', 'hope', 'ram', 'tension', 'surveillance', 'jeremy', 'whilst', 'wells', 'capital']\n",
            "Topic 172:\n",
            "['bill', 'clint', 'cooper', 'score', 'drunken', 'carefully', 'day', 'ahead', 'wagon', 'tall']\n",
            "Topic 173:\n",
            "['killer', 'detective', 'jo', 'run', 'car', 'johnny', 'get', 'reach', 'witness', 'claim']\n",
            "Topic 174:\n",
            "['gold', 'have', 'buy', 'murder', 'take', 'decide', 'partner', 'scam', 'henchman', 'money']\n",
            "Topic 175:\n",
            "['brad', 'western', 'sue', 'citizen', 'spend', 'capital', 'figure', 'welcome', 'suit', 'thing']\n",
            "Topic 176:\n",
            "['bobby', 'joey', 'elizabeth', 'candy', 'skip', 'crook', 'unaware', 'train', 'subway', 'flee']\n",
            "Topic 177:\n",
            "['severe', 'market', 'political', 'kent', 'brand', 'clearly', 'tom', 'misunderstanding', 'conclusion', 'sever']\n",
            "Topic 178:\n",
            "['luck', 'element', 'quarrel', 'john', 'helen', 'explode', 'town', 'goad', 'reverend', 'girl']\n",
            "Topic 179:\n",
            "['strongly', 'bite', 'datum', 'lou', 'city', 'dirt', 'discovery', 'thing', 'reaction', 'mar']\n",
            "Topic 180:\n",
            "['valley', 'consult', 'combine', 'travel', 'china', 'switch', 'engineering', 'crack', 'en', 'demand']\n",
            "Topic 181:\n",
            "['assistant', 'unfold', 'san', 'procedure', 'letter', 'submit', 'birth', 'harvest', 'tragedy', 'previous']\n",
            "Topic 182:\n",
            "['rough', 'tumble', 'era', 'heroic', 'falsely', 'save', 'rush', 'red', 'gene', 'harry']\n",
            "Topic 183:\n",
            "['day', 'dance', 'daughter', 'hall', 'woman', 'cabin', 'fight', 'young', 'determine', 'spend']\n",
            "Topic 184:\n",
            "['horse', 'corey', 'regret', 'money', 'fatal', 'british', 'relent', 'spend', 'drunken', 'sell']\n",
            "Topic 185:\n",
            "['sunil', 'khan', 'vijay', 'rise', 'beth', 'respect', 'classmate', 'ned', 'plantation', 'los']\n",
            "Topic 186:\n",
            "['west', 'buck', 'santa', 'louise', 'colt', 'hank', 'fur', 'trapper', 'trail', 'bell']\n",
            "Topic 187:\n",
            "['player', 'superintendent', 'girlfriend', 'defend', 'attacker', 'reassure', 'accept', 'mortally', 'ned', 'transport']\n",
            "Topic 188:\n",
            "['john', 'jake', 'mary', 'mr', 'senator', 'mansion', 'boy', 'wife', 'california', 'herd']\n",
            "Topic 189:\n",
            "['document', 'jewel', 'medal', 'honor', 'van', 'juan', 'voyage', 'passage', 'steal', 'york']\n",
            "Topic 190:\n",
            "['lt', 'boss', 'actual', 'evidence', 'unlock', 'sit', 'severe', 'player', 'distraught', 'thank']\n",
            "Topic 191:\n",
            "['horror', 'craze', 'nelson', 'havoc', 'risk', 'behave', 'menon', 'indicate', 'cancer', 'peaceful']\n",
            "Topic 192:\n",
            "['george', 'harry', 'jerry', 'posse', 'maggie', 'janet', 'frederick', 'calhoun', 'land', 'jacob']\n",
            "Topic 193:\n",
            "['helen', 'alex', 'johnson', 'chester', 'claim', 'soon', 'steal', 'shirt', 'travel', 'owner']\n",
            "Topic 194:\n",
            "['hatch', 'camera', 'cook', 'maria', 'like', 'curious', 'gold', 'birthday', 'beat', 'suggestion']\n",
            "Topic 195:\n",
            "['linda', 'noah', 'brett', 'forest', 'randolph', 'novel', 'grey', 'harris', 'involve', 'band']\n",
            "Topic 196:\n",
            "['dan', 'joe', 'work', 'police', 'line', 'jim', 'company', 'find', 'boss', 'night']\n",
            "Topic 197:\n",
            "['grace', 'townspeople', 'rough', 'father', 'common', 'lynch', 'sheriff', 'review', 'art', 'grab']\n",
            "Topic 198:\n",
            "['join', 'assault', 'strip', 'villager', 'verdict', 'game', 'pity', 'disrupt', 'concerned', 'collar']\n",
            "Topic 199:\n",
            "['tex', 'cattle', 'old', 'banker', 'later', 'kill', 'trail', 'learn', 'stampede', 'hire']\n"
          ]
        }
      ],
      "source": [
        "# get largest distribution of words over topics\n",
        "feature_names = vect.get_feature_names()  # feature_names - array of 8955 components\n",
        "for topic_idx, topic in enumerate(lda_transf.components_):\n",
        "        print(\"Topic %d:\" % (topic_idx))\n",
        "        words = []\n",
        "        for i in topic.argsort()[:-11:-1]:\n",
        "            words.append(feature_names[i])\n",
        "        print(words)"
      ]
    },
    {
      "cell_type": "code",
      "execution_count": null,
      "metadata": {
        "id": "4Lj3fiteXuDy",
        "outputId": "cdfb2c17-14e4-4a25-df86-c4b5571a4ebf",
        "colab": {
          "base_uri": "https://localhost:8080/"
        }
      },
      "outputs": [
        {
          "output_type": "stream",
          "name": "stdout",
          "text": [
            "[3.96825397e-04 3.96825397e-04 3.96825400e-04 3.96825407e-04\n",
            " 3.96825397e-04 1.82212823e-02 5.60165542e-01 3.96825403e-04\n",
            " 3.96825402e-04 3.96825397e-04 3.96825403e-04 3.96825399e-04\n",
            " 3.96825405e-04 3.96825408e-04 1.10543913e-01 3.96825406e-04\n",
            " 3.96825406e-04 3.96825397e-04 3.96825398e-04 3.04720057e-01]\n",
            "In Red River Valley, Banker Hartley Moore (Frank LaRue) schemes to sabotage the efforts of citizens to secure water rights in order to win water profits for himself. Following the murder of five men who were overseeing the completion of an irrigation system, Gene Autry (Gene Autry) is hired for the dangerous job of \"ditch rider\", in charge of patrolling the ditches to prevent malfunction or sabotage.\r\n",
            "At the Red River Land and Irrigation Company, Steve Conway (Boothe Howard) works for Mary Baxter (Frances Grant) and her father, George Baxter (Sam Flint). Jealous of Mary's attention towards Gene, Conway joins Moore in his scheming actions and hires Bull Dural and his gang to dynamite the water gates and kill the ditch riders.\r\n",
            "On his first night on the job, Gene and his friend Frog Millhouse (Smiley Burnette) are almost killed. They apprehend Bull's henchmen and turn them over to the sheriff. Conway and Bull then rob the payroll, accuse Gene of the crime, and encourage Baxter's workmen to revolt by destroying the dam. Gene and Frog go after Bull, while Baxter and the railroad conductor hold off the men at the dam until Gene arrives with Bull and the payroll.\r\n",
            "Conway and Moore steal the train in a desperate attempt to escape, but they are killed riding into dynamite. Baxter successfully finishes the irrigation, after which, Gene and Mary ride off on their honeymoon.\n",
            "0\n"
          ]
        }
      ],
      "source": [
        "# get distribution of each document over the 10 topics\n",
        "print(lda[100,:])\n",
        "print(select_movies.iloc[100].Plot)\n",
        "print(model_lda.labels_[100])"
      ]
    },
    {
      "cell_type": "code",
      "execution_count": null,
      "metadata": {
        "id": "CJI4YMPHXuDz",
        "outputId": "aa46a7e3-d4c4-4c79-c6a5-4cab0b1d58a4",
        "colab": {
          "base_uri": "https://localhost:8080/"
        }
      },
      "outputs": [
        {
          "output_type": "stream",
          "name": "stdout",
          "text": [
            "[0.00507928 0.27857604 0.00763062 0.12786623 0.00762866 0.01803683\n",
            " 0.02688263 0.0334441  0.24527927 0.24957636]\n",
            "[0.00620445 0.03241247 0.00858699 0.01678065 0.00509486 0.05094989\n",
            " 0.39208954 0.10557791 0.22174247 0.16056076]\n",
            "[0.00892725 0.02085182 0.00402227 0.01742414 0.00204825 0.38262526\n",
            " 0.25620151 0.05969024 0.17538024 0.07282903]\n"
          ]
        }
      ],
      "source": [
        "# get distribution of drama and comedy films over topics\n",
        "import numpy as np\n",
        "\n",
        "index_western =  select_movies['Genre'].isin(['western'])\n",
        "index_thriller  = select_movies['Genre'].isin(['thriller'])\n",
        "index_sci_fi  = select_movies['Genre'].isin(['sci-fi'])\n",
        "\n",
        "print(lda[index_western].mean(axis = 0))\n",
        "print(lda[index_thriller].mean(axis = 0))\n",
        "print(lda[index_sci_fi].mean(axis = 0))"
      ]
    },
    {
      "cell_type": "code",
      "execution_count": null,
      "metadata": {
        "id": "WaLvDiQjXuDz",
        "outputId": "c84697a0-8c45-4217-f0da-6cac27ecdf82"
      },
      "outputs": [
        {
          "name": "stdout",
          "output_type": "stream",
          "text": [
            "0 Counter({'western': 843, 'thriller': 390})\n",
            "1 Counter({'thriller': 576, 'western': 22})\n",
            "0.774986346258875\n"
          ]
        }
      ],
      "source": [
        "# compute purity\n",
        "# in each cluster - find # of dramas/ # commedies\n",
        "# choose the max in each cluster = purity per cluster\n",
        "# sum purity in each cluster/# number of movies\n",
        "import numpy as np\n",
        "\n",
        "#print(genre.shape, index_cluster1.shape, index_cluster2.shape)\n",
        "purity = np.zeros((k_clusters,1))\n",
        "for c in range(k_clusters):\n",
        "    # extract labeks of each genre and count them\n",
        "    index_cluster = model_lda.labels_ == c;\n",
        "    count_genre = Counter(genre[index_cluster])\n",
        "    print(c, count_genre)\n",
        "    purity[c] = max(count_genre.values())\n",
        "\n",
        "total_purity = np.sum(purity)/len(genre)\n",
        "print(total_purity)"
      ]
    },
    {
      "cell_type": "code",
      "execution_count": null,
      "metadata": {
        "id": "lJwwDM8UXuD1",
        "outputId": "cabddef7-3fcb-4ff2-f166-69d425bb606c"
      },
      "outputs": [
        {
          "name": "stdout",
          "output_type": "stream",
          "text": [
            "Top topic indices per cluster:\n",
            "Cluster 0:\n",
            "9 0.4221994235929714\n",
            "10 0.06663026725569314\n",
            "19 0.06101264107765858\n",
            "12 0.055693570566070785\n",
            "4 0.046813705108514424\n",
            "Cluster 1:\n",
            "14 0.3118490779208042\n",
            "10 0.135482348368683\n",
            "19 0.06760445219950605\n",
            "0 0.06056345843602185\n",
            "2 0.05995493746572067\n",
            "Cluster 2:\n",
            "3 0.47380302333471713\n",
            "1 0.1590969321525035\n",
            "14 0.07027183126831037\n",
            "2 0.06763853984228954\n",
            "0 0.05233643964613286\n",
            "Cluster 3:\n",
            "5 0.3354123265694002\n",
            "0 0.09532841300036224\n",
            "12 0.07923350212374386\n",
            "2 0.06204251082006643\n",
            "1 0.05365243380523477\n",
            "Cluster 4:\n",
            "4 0.4501876430265231\n",
            "2 0.07024905299808681\n",
            "17 0.05276770277018553\n",
            "0 0.045419732905804845\n",
            "9 0.043156412951773276\n",
            "Cluster 5:\n",
            "0 0.4601834014408931\n",
            "2 0.0808436134342607\n",
            "1 0.061290924615599277\n",
            "19 0.0554040504742478\n",
            "12 0.040660721842034085\n",
            "Cluster 6:\n",
            "2 0.5110900924263934\n",
            "0 0.0566580310484818\n",
            "1 0.05625868690453718\n",
            "19 0.049852684176594796\n",
            "4 0.03372263080546655\n",
            "Cluster 7:\n",
            "1 0.4627882932537935\n",
            "3 0.08866726514452904\n",
            "2 0.07096231596833118\n",
            "0 0.06783987672222201\n",
            "19 0.04356038001943328\n",
            "Cluster 8:\n",
            "18 0.45948979885843594\n",
            "2 0.06429371359602193\n",
            "1 0.05898713856638105\n",
            "3 0.050771319144228645\n",
            "17 0.0482081695294025\n",
            "Cluster 9:\n",
            "12 0.1997891417414814\n",
            "17 0.1386062956640529\n",
            "19 0.10473136775366226\n",
            "10 0.06569673283932928\n",
            "2 0.05931231045565327\n"
          ]
        }
      ],
      "source": [
        "# print top topic indices per cluster\n",
        "print(\"Top topic indices per cluster:\")\n",
        "order_centroids = model_lda.cluster_centers_.argsort()[:, ::-1]  # sort and reverse\n",
        "\n",
        "for i in range(k_clusters):\n",
        "    print(\"Cluster %d:\" % i),\n",
        "    for ind in order_centroids[i, :5]:  # print first ten terms from the cluster\n",
        "        print(ind, model_lda.cluster_centers_[i,ind])\n"
      ]
    },
    {
      "cell_type": "code",
      "source": [
        "# find a movie\n",
        "# select_movies.reset_index(inplace  = True)\n",
        "select_movies[select_movies['Title'].str.contains('Stars')] # 'Star Wars')]"
      ],
      "metadata": {
        "colab": {
          "base_uri": "https://localhost:8080/",
          "height": 191
        },
        "id": "U0Bb9TvV9MP4",
        "outputId": "3544ea44-6b68-4457-ebfb-20c396ddb455"
      },
      "execution_count": null,
      "outputs": [
        {
          "output_type": "execute_result",
          "data": {
            "text/plain": [
              "     level_0  index                   Title  \\\n",
              "304      304   4801  Under California Stars   \n",
              "360      360   5239       Stars In My Crown   \n",
              "\n",
              "                                                  Plot    Genre  \n",
              "304  Roy has just finished his latest film and leav...  western  \n",
              "360  Shortly after the American Civil War, preacher...  western  "
            ],
            "text/html": [
              "\n",
              "  <div id=\"df-5c1e567b-c9d6-4f33-a053-5b014e490976\">\n",
              "    <div class=\"colab-df-container\">\n",
              "      <div>\n",
              "<style scoped>\n",
              "    .dataframe tbody tr th:only-of-type {\n",
              "        vertical-align: middle;\n",
              "    }\n",
              "\n",
              "    .dataframe tbody tr th {\n",
              "        vertical-align: top;\n",
              "    }\n",
              "\n",
              "    .dataframe thead th {\n",
              "        text-align: right;\n",
              "    }\n",
              "</style>\n",
              "<table border=\"1\" class=\"dataframe\">\n",
              "  <thead>\n",
              "    <tr style=\"text-align: right;\">\n",
              "      <th></th>\n",
              "      <th>level_0</th>\n",
              "      <th>index</th>\n",
              "      <th>Title</th>\n",
              "      <th>Plot</th>\n",
              "      <th>Genre</th>\n",
              "    </tr>\n",
              "  </thead>\n",
              "  <tbody>\n",
              "    <tr>\n",
              "      <th>304</th>\n",
              "      <td>304</td>\n",
              "      <td>4801</td>\n",
              "      <td>Under California Stars</td>\n",
              "      <td>Roy has just finished his latest film and leav...</td>\n",
              "      <td>western</td>\n",
              "    </tr>\n",
              "    <tr>\n",
              "      <th>360</th>\n",
              "      <td>360</td>\n",
              "      <td>5239</td>\n",
              "      <td>Stars In My Crown</td>\n",
              "      <td>Shortly after the American Civil War, preacher...</td>\n",
              "      <td>western</td>\n",
              "    </tr>\n",
              "  </tbody>\n",
              "</table>\n",
              "</div>\n",
              "      <button class=\"colab-df-convert\" onclick=\"convertToInteractive('df-5c1e567b-c9d6-4f33-a053-5b014e490976')\"\n",
              "              title=\"Convert this dataframe to an interactive table.\"\n",
              "              style=\"display:none;\">\n",
              "        \n",
              "  <svg xmlns=\"http://www.w3.org/2000/svg\" height=\"24px\"viewBox=\"0 0 24 24\"\n",
              "       width=\"24px\">\n",
              "    <path d=\"M0 0h24v24H0V0z\" fill=\"none\"/>\n",
              "    <path d=\"M18.56 5.44l.94 2.06.94-2.06 2.06-.94-2.06-.94-.94-2.06-.94 2.06-2.06.94zm-11 1L8.5 8.5l.94-2.06 2.06-.94-2.06-.94L8.5 2.5l-.94 2.06-2.06.94zm10 10l.94 2.06.94-2.06 2.06-.94-2.06-.94-.94-2.06-.94 2.06-2.06.94z\"/><path d=\"M17.41 7.96l-1.37-1.37c-.4-.4-.92-.59-1.43-.59-.52 0-1.04.2-1.43.59L10.3 9.45l-7.72 7.72c-.78.78-.78 2.05 0 2.83L4 21.41c.39.39.9.59 1.41.59.51 0 1.02-.2 1.41-.59l7.78-7.78 2.81-2.81c.8-.78.8-2.07 0-2.86zM5.41 20L4 18.59l7.72-7.72 1.47 1.35L5.41 20z\"/>\n",
              "  </svg>\n",
              "      </button>\n",
              "      \n",
              "  <style>\n",
              "    .colab-df-container {\n",
              "      display:flex;\n",
              "      flex-wrap:wrap;\n",
              "      gap: 12px;\n",
              "    }\n",
              "\n",
              "    .colab-df-convert {\n",
              "      background-color: #E8F0FE;\n",
              "      border: none;\n",
              "      border-radius: 50%;\n",
              "      cursor: pointer;\n",
              "      display: none;\n",
              "      fill: #1967D2;\n",
              "      height: 32px;\n",
              "      padding: 0 0 0 0;\n",
              "      width: 32px;\n",
              "    }\n",
              "\n",
              "    .colab-df-convert:hover {\n",
              "      background-color: #E2EBFA;\n",
              "      box-shadow: 0px 1px 2px rgba(60, 64, 67, 0.3), 0px 1px 3px 1px rgba(60, 64, 67, 0.15);\n",
              "      fill: #174EA6;\n",
              "    }\n",
              "\n",
              "    [theme=dark] .colab-df-convert {\n",
              "      background-color: #3B4455;\n",
              "      fill: #D2E3FC;\n",
              "    }\n",
              "\n",
              "    [theme=dark] .colab-df-convert:hover {\n",
              "      background-color: #434B5C;\n",
              "      box-shadow: 0px 1px 3px 1px rgba(0, 0, 0, 0.15);\n",
              "      filter: drop-shadow(0px 1px 2px rgba(0, 0, 0, 0.3));\n",
              "      fill: #FFFFFF;\n",
              "    }\n",
              "  </style>\n",
              "\n",
              "      <script>\n",
              "        const buttonEl =\n",
              "          document.querySelector('#df-5c1e567b-c9d6-4f33-a053-5b014e490976 button.colab-df-convert');\n",
              "        buttonEl.style.display =\n",
              "          google.colab.kernel.accessAllowed ? 'block' : 'none';\n",
              "\n",
              "        async function convertToInteractive(key) {\n",
              "          const element = document.querySelector('#df-5c1e567b-c9d6-4f33-a053-5b014e490976');\n",
              "          const dataTable =\n",
              "            await google.colab.kernel.invokeFunction('convertToInteractive',\n",
              "                                                     [key], {});\n",
              "          if (!dataTable) return;\n",
              "\n",
              "          const docLinkHtml = 'Like what you see? Visit the ' +\n",
              "            '<a target=\"_blank\" href=https://colab.research.google.com/notebooks/data_table.ipynb>data table notebook</a>'\n",
              "            + ' to learn more about interactive tables.';\n",
              "          element.innerHTML = '';\n",
              "          dataTable['output_type'] = 'display_data';\n",
              "          await google.colab.output.renderOutput(dataTable, element);\n",
              "          const docLink = document.createElement('div');\n",
              "          docLink.innerHTML = docLinkHtml;\n",
              "          element.appendChild(docLink);\n",
              "        }\n",
              "      </script>\n",
              "    </div>\n",
              "  </div>\n",
              "  "
            ]
          },
          "metadata": {},
          "execution_count": 114
        }
      ]
    },
    {
      "cell_type": "code",
      "source": [
        "select_movies[select_movies.index == 16378]"
      ],
      "metadata": {
        "colab": {
          "base_uri": "https://localhost:8080/",
          "height": 142
        },
        "id": "a_tXPZLz9bOD",
        "outputId": "3488b09c-896b-4ea5-9702-97a1af84c545"
      },
      "execution_count": null,
      "outputs": [
        {
          "output_type": "execute_result",
          "data": {
            "text/plain": [
              "                                              Title  \\\n",
              "16378  Star Wars: Episode I – The Phantom Menace 3D   \n",
              "\n",
              "                                                    Plot   Genre  \n",
              "16378  The Trade Federation upsets order in the Galac...  sci-fi  "
            ],
            "text/html": [
              "\n",
              "  <div id=\"df-7584d7b7-7714-4235-aa25-d981c4a8ac33\">\n",
              "    <div class=\"colab-df-container\">\n",
              "      <div>\n",
              "<style scoped>\n",
              "    .dataframe tbody tr th:only-of-type {\n",
              "        vertical-align: middle;\n",
              "    }\n",
              "\n",
              "    .dataframe tbody tr th {\n",
              "        vertical-align: top;\n",
              "    }\n",
              "\n",
              "    .dataframe thead th {\n",
              "        text-align: right;\n",
              "    }\n",
              "</style>\n",
              "<table border=\"1\" class=\"dataframe\">\n",
              "  <thead>\n",
              "    <tr style=\"text-align: right;\">\n",
              "      <th></th>\n",
              "      <th>Title</th>\n",
              "      <th>Plot</th>\n",
              "      <th>Genre</th>\n",
              "    </tr>\n",
              "  </thead>\n",
              "  <tbody>\n",
              "    <tr>\n",
              "      <th>16378</th>\n",
              "      <td>Star Wars: Episode I – The Phantom Menace 3D</td>\n",
              "      <td>The Trade Federation upsets order in the Galac...</td>\n",
              "      <td>sci-fi</td>\n",
              "    </tr>\n",
              "  </tbody>\n",
              "</table>\n",
              "</div>\n",
              "      <button class=\"colab-df-convert\" onclick=\"convertToInteractive('df-7584d7b7-7714-4235-aa25-d981c4a8ac33')\"\n",
              "              title=\"Convert this dataframe to an interactive table.\"\n",
              "              style=\"display:none;\">\n",
              "        \n",
              "  <svg xmlns=\"http://www.w3.org/2000/svg\" height=\"24px\"viewBox=\"0 0 24 24\"\n",
              "       width=\"24px\">\n",
              "    <path d=\"M0 0h24v24H0V0z\" fill=\"none\"/>\n",
              "    <path d=\"M18.56 5.44l.94 2.06.94-2.06 2.06-.94-2.06-.94-.94-2.06-.94 2.06-2.06.94zm-11 1L8.5 8.5l.94-2.06 2.06-.94-2.06-.94L8.5 2.5l-.94 2.06-2.06.94zm10 10l.94 2.06.94-2.06 2.06-.94-2.06-.94-.94-2.06-.94 2.06-2.06.94z\"/><path d=\"M17.41 7.96l-1.37-1.37c-.4-.4-.92-.59-1.43-.59-.52 0-1.04.2-1.43.59L10.3 9.45l-7.72 7.72c-.78.78-.78 2.05 0 2.83L4 21.41c.39.39.9.59 1.41.59.51 0 1.02-.2 1.41-.59l7.78-7.78 2.81-2.81c.8-.78.8-2.07 0-2.86zM5.41 20L4 18.59l7.72-7.72 1.47 1.35L5.41 20z\"/>\n",
              "  </svg>\n",
              "      </button>\n",
              "      \n",
              "  <style>\n",
              "    .colab-df-container {\n",
              "      display:flex;\n",
              "      flex-wrap:wrap;\n",
              "      gap: 12px;\n",
              "    }\n",
              "\n",
              "    .colab-df-convert {\n",
              "      background-color: #E8F0FE;\n",
              "      border: none;\n",
              "      border-radius: 50%;\n",
              "      cursor: pointer;\n",
              "      display: none;\n",
              "      fill: #1967D2;\n",
              "      height: 32px;\n",
              "      padding: 0 0 0 0;\n",
              "      width: 32px;\n",
              "    }\n",
              "\n",
              "    .colab-df-convert:hover {\n",
              "      background-color: #E2EBFA;\n",
              "      box-shadow: 0px 1px 2px rgba(60, 64, 67, 0.3), 0px 1px 3px 1px rgba(60, 64, 67, 0.15);\n",
              "      fill: #174EA6;\n",
              "    }\n",
              "\n",
              "    [theme=dark] .colab-df-convert {\n",
              "      background-color: #3B4455;\n",
              "      fill: #D2E3FC;\n",
              "    }\n",
              "\n",
              "    [theme=dark] .colab-df-convert:hover {\n",
              "      background-color: #434B5C;\n",
              "      box-shadow: 0px 1px 3px 1px rgba(0, 0, 0, 0.15);\n",
              "      filter: drop-shadow(0px 1px 2px rgba(0, 0, 0, 0.3));\n",
              "      fill: #FFFFFF;\n",
              "    }\n",
              "  </style>\n",
              "\n",
              "      <script>\n",
              "        const buttonEl =\n",
              "          document.querySelector('#df-7584d7b7-7714-4235-aa25-d981c4a8ac33 button.colab-df-convert');\n",
              "        buttonEl.style.display =\n",
              "          google.colab.kernel.accessAllowed ? 'block' : 'none';\n",
              "\n",
              "        async function convertToInteractive(key) {\n",
              "          const element = document.querySelector('#df-7584d7b7-7714-4235-aa25-d981c4a8ac33');\n",
              "          const dataTable =\n",
              "            await google.colab.kernel.invokeFunction('convertToInteractive',\n",
              "                                                     [key], {});\n",
              "          if (!dataTable) return;\n",
              "\n",
              "          const docLinkHtml = 'Like what you see? Visit the ' +\n",
              "            '<a target=\"_blank\" href=https://colab.research.google.com/notebooks/data_table.ipynb>data table notebook</a>'\n",
              "            + ' to learn more about interactive tables.';\n",
              "          element.innerHTML = '';\n",
              "          dataTable['output_type'] = 'display_data';\n",
              "          await google.colab.output.renderOutput(dataTable, element);\n",
              "          const docLink = document.createElement('div');\n",
              "          docLink.innerHTML = docLinkHtml;\n",
              "          element.appendChild(docLink);\n",
              "        }\n",
              "      </script>\n",
              "    </div>\n",
              "  </div>\n",
              "  "
            ]
          },
          "metadata": {},
          "execution_count": 105
        }
      ]
    },
    {
      "cell_type": "code",
      "execution_count": null,
      "metadata": {
        "id": "qQMPq5GtXuD2",
        "outputId": "153f391f-06b7-4548-80b9-9e8b78a83271",
        "colab": {
          "base_uri": "https://localhost:8080/"
        }
      },
      "outputs": [
        {
          "output_type": "stream",
          "name": "stdout",
          "text": [
            "(2052, 5)\n",
            "Original movie\n",
            "Stars In My Crown \n",
            "\n",
            "\t Shortly after the American Civil War, preacher Josiah Gray (Joel McCrea) arrives in the town of Walesburg. He heads straight for the saloon to give his first sermon. When the patrons laugh at him, he pulls out two guns, cowing the men into listening.\r\n",
            "Josiah settles in and becomes a well-respected member of the community. The people build a church. He marries Harriet (Ellen Drew) and raises her orphan nephew John (Dean Stockwell). (The story is narrated by Marshall Thompson, as an adult John.)\r\n",
            "When the beloved Dr. Harris, Sr. (Lewis Stone) dies, his place is taken by his son (James Mitchell), but the younger, unreligious man is not well-liked and wants to leave Walesburg. He falls in love with the schoolteacher, Faith Samuels (Amanda Blake). She is reluctant to marry him, as he insists on moving away.\r\n",
            "John comes down with typhoid. Dr. Harris, Jr. warns Josiah to stay away from other people to avoid spreading the disease, but Josiah ignores him and soon, others are stricken, including Faith. When Harris blames him, the preacher's faith is shaken; he closes the church and withdraws from the community. Fortunately, John recovers and figures out the cause was tainted well water. Meanwhile, Harris's tireless work on behalf of his patients forges a bond between him and Walesburg. When it seems that Faith is dying, Harris summons the preacher. Josiah's prayers are answered; Faith recovers, and the man of science and the man of faith are reconciled.\r\n",
            "Josiah is tested again. Leading businessman Lon Backett (Ed Begley) wants to buy the land of freed slave Uncle Famous Prill (Juano Hernandez). He needs the mica deposit to keep his mine in operation, but Uncle Famous refuses to sell. The out-of-work miners trample the old man's crops and scatter his livestock, then when he stubbornly holds out, give him an ultimatum: get out or else. Josiah declines the armed assistance of his old war buddy, Jed Isbell (Alan Hale), and his sons (including an uncredited James Arness), and waits with Uncle Famous for the lynch mob to show up in their Ku Klux Klan costumes. Josiah offers no resistance, but asks the lynch mob to first listen to him read Uncle Famous's will. With each item, he slyly reminds the beneficiary of the old man's past kindness to that individual. Shamed, the mob disperses, Lon Backett leading the way. Afterwards, John picks up the pages Josiah had read and, seeing nothing written on them, says it's not a will. Josiah replies, \"It's the will of God.\"\n",
            "\n",
            "tf-idf most similar\n",
            "Most similar movie: 0.17452144094120686 1412\n",
            "Stone \n",
            "\n",
            "\t Young mother Madylyn Mabry puts her daughter to bed while her husband Jack watches golf on television. A bee buzzes around the window as she stays with her girl. After the child is asleep, she goes downstairs and announces she's leaving, saying \"You keep my soul in a dungeon.\" He takes a moment to disconnect from the game, then runs upstairs to the bedroom and holds their daughter out the window, threatening to drop her if Madylyn leaves. \"Do you think I won't? Do you think I won't?\" he yells at her. She agrees to stay.\r\n",
            "Many years later, Jack Mabry(Robert DeNiro) and Madylyn (Frances Conroy) return home from church for a quiet afternoon. He watches TV and drinks in an identical pose to his younger self in the earlier scene, while she works on a puzzle. Late that night a call wakes them. Jack picks up the phone and hears a woman's voice. \"Betsy?\" he asks, obviously distressed. We find him at church the next day, speaking at his brother Bobby's funeral.\r\n",
            "Jack reports to work at a prison, where he's a parole officer. He listens to Christian radio in his car on the way in. Once there, we see him talk to different inmates but hear a persistent buzzing in the background as if to suggest that Jack has other things and pressures on his mind. He's called into the warden's office and asked to shut the door. The warden calls one of his reports \"an incompetent mess.\" before laughing and revealing he's joking. He then asks Jack to get Janice, his replacement, up to speed on his cases before he retires. Jack agrees, but requests that he keep all of his \"currents\" until he leaves, in order to see them through until their reviews. Janice offers condolences about Jack's brother. Jack has a new case in his office, named Gerald Creeson (Ed Norton) Jack reviews his file as if the man isn't there. He insists that he likes to be called Stone. Jack is hesitant to oblige, assuming it's a prison nickname. Stone asks Jack if he can help him get out early, pointing out that he acknowledged his guilt and isn't interested in talking about what he did when it's all in the file. Jack wants to talk about his crimes however, and Stone has an outburst assuming Jack isn't interested in helping. Stone dares him to give him the maximum and starts walking out. Jack then yells at him, letting him know that they talk about what he wants to talk about and demanding he \"sit the fuck down.\"\r\n",
            "Jack then explains, \"Look, this is the process, we talk. We're not friends, but let's pretend we're friends. Just relax. Just talk. That's all.Then maybe we both get what we want. OK?\" He then asks Stone about his wife, Lucetta. Stone describes her as a \"dime\" which he explains to Jack means \"a perfect ten.\" He also tells Jack that she's an alien. Jack assumes he means she's an illegal alien, but Stone says \"No. She's whiter than you. She's from another planet.\" Stone describes her sexuality graphically, telling Jack, \"She's crazy. She'll do anything.\" He warns Jack \"Look if we're gonna talk about Lucetta, you gotta watch out cause it's gonna give you some pictures in your head, gonna keep you up nights, man.\" When he notices that Jack doesn't look pleased, he apologizes for his mouth. Stone asks about Jack's wife. When Jack says he's been married 43 years, Stone remarks \" 43 years and you still get it on and everything?\" This offends Jack and Stone tries to explain, he's just curious about how he'll do when he's older. Jack explains that he doesn't discuss his wife that way. He tells Stone \"I don't consider this polite conversation.\" and reminds Stone that they're there to talk about him.\r\n",
            "Jack drives home listening to more radio, and buying a couple of bottles of booze on the way. He sits on the porch with Madylyn, both of them listening to a Christian radio program discussing predestination. Madylyn attempts to talk to him but he isn't even aware of it. She asks \"Where have you gone?\" Jack meets with Stone again and asks him to recount the arson incident. Stone tells him that \"Teach\" and his grandfather got into a fight which ended with Stone's grandparents dead, before Stone torched the house. Jack wants to talk more about it. Jack: Whose idea was it? Stone: I told you it was Teach! Like I said I wasn't even...I went outside the house. Jack:Yeah, but you didn't stop him, did you? Stone:Stop him what? Jack:From killing your grandparents. Stone: You ain't gonna do it man. You're not gonna...You don't give a fuck man. I was outside. Teach come out and I didn't even know what he done until he told me. Teach testified to that, man! That's why I didn't even catch the rap for manslaughter. I got accessory and arson. I've done eight out of ten to fifteen. What more do you want, from me? Jack stares at him blankly.\r\n",
            "We then find Lucetta (Milla Jovovich) at a preschool working with kids. She smiles, telling the class that today is a day for them each to do one nice thing for someone else and not tell anyone about it.\r\n",
            "Madylyn is hosting a card game for her friends. She gets a phone call from a woman looking for Jack, the sound of the call is distorted, but the caller hangs up when she says she'd Mrs. Mabry and offers to take a message.\r\n",
            "Stone calls Lucetta from prison and catches her watching the kids at recess. Lucetta tells him that \"she was short with me, like she didn't want to talk.\" Stone asks \"Why were you talking to her?\" He tells her \"I need you to do this for me right now. Don't let it slide.\" She says OK. We see Stone having another meeting with Jack who says \"I guess what I'm getting at, is do you believe what you did was wrong?\" Stone: What do you think, because I grew up west side, that I'm one of these socio...delinquent types, don't know the difference between right and wrong? Want me to tell you about my bad childhood? Jack: I don't know. Did you have one? Stone: Well, at the time, I thought a lot of shit was normal...definitely unhealthy, but on the same token, i didn't think I was a bad person to begin with. You want to know if I'm gonna light any more grandparents on fire? Jack: Are you? Stone: No. Stone tells him he deserves to be free, telling Jack \"I'm as clean as you.\" Jack says \"Maybe, maybe not.\" Stone: Seriously, let me ask you something, you know? Why do you gotta sit there, asking me these questions, like you never done nothin'. Why do you get to walk around free and I don't? Jack: I wasn't convicted of a crime. Stone: You never did anything bad? You never did anybody no wrong, had to be forgiven for nothing? Jack: I never broke the law. Jack shuts him out, staring blankly again while Stone asks him about the many things he could have done. Stone claims he's been reborn, but can't answer when Jack asks what \"reborn\" means to him.\r\n",
            "Lucetta stops at the prison for a visit with Stone. She likes his cornrows, and the two are cautioned against contact when she starts kissing him passionately. He asks for an update on her contacting Jack. She tells him she's left messages and he hasn't called her back. He instructs her \"You've got to get with him person to person.\" She tells him she didn't wear panties just for him, and he touches her but restrains himself before getting carried away, not wanting to break the rules. He says \"I can't get no ticket.You understand right? I'm too close.\" She appears disappointed but agrees. He tells her he's got to get out or he's likely to kill himself, which she tells him not to joke about. Stone becomes fascinated with another prisoner reading the Bible to his son. After the visitation is over, he gets every religious book he can from the library.Nothing seems to catch until he finds one on \"Zukangor\" This religion is a patchwork of many and instructs that enlightenment can be achieved by hearing the \"perfect pitch\" making yourself \"like a tuning fork.\"\r\n",
            "That night Lucetta leaves a message on Jack and Madylyn's answering machine, before calling up a guy for sex. She's waiting for Jack outside the prison the next day. He tells her it isn't appropriate to meet this way, acting as if she's there to see Stone and reminding her of proper channels to do that. She then offers him a bird's nest that the kids in class made, which he refuses but then reconsiders when she describes the kids making it. Jack asks Stone about it, but he says that Lucetta does whatever she wants. Stone runs the Zukangor faith past Jack, describing the tuning fork idea and their practice of chanting then listening.. Jack isn't into the idea, saying he's Episcopalian. Stone explains that the religion also uses reincarnation, stating you have to come back until you get it right. Jack asks him \"What about this life?\" and Stone tells him he's thought about that a lot.\r\n",
            "Jack and Madylyn go to church, but Jack stays behind to talk with the pastor, telling Madylyn to go home. He tells the pastor that faith seems to come easy for people he knows but not to him, he says \"sometimes the thoughts that I have, I think you should shoot me.\" Pastor: I don't think that's what God wants for you. Jack: What does he want? Unable to give a concrete answer the pastor quotes a verse saying \"Be still and know that I am God.\" which he paraphrase to Jack as meaning sometimes God speaks in mysterious ways.\r\n",
            "In the prison yard, Stone tries the chanting, but seems to find it too noisy. Lucetta calls Jack's house again, Madylyn picking up the phone first. When Jack asks who it is she says \"a friend of yours.\" He tells Lucetta she shouldn't call the house, making a point to call her Mrs. Creeson although she insists on Lucetta every time. She wants to know when they can meet. Jack: Look Mrs Creeson, I have business with your husband... Lucetta: Well that's why I'm calling. I mean, what, did you think I had another reason? Jack: Well, no, I didn't. Lucetta: Maybe we could go to lunch. You could bring Mrs. Mabry too. You know she's got such a sweet voice, what's her first name? Jack: Look, I admire that you love your husband and that you want to do what's right for him, but you're not helping him. I'm telling you that right now. Lucetta: [raspy voice] Oh Jack I do love my husband. I love him so much, and all I'm asking you, is for a chance to help you see him in a different light. i mean, how many men at that place you work at have somebody loving them like that? huh? Doesn't that mean something to you? A man in a position like yours? Jack: No. It does. She describes how she misses him in her bed, and Jack goes quiet, looking around self consciously. Madylyn is somewhere close by. We then see Lucetta visiting Stone. She tells him \"I got him. It's gonna happen.\" Stone looks dead tired and looks at her coldly. He complains that it's too loud all the time and he's having weird dreams. He talks about suicide again, and she assumes he's referring to a dream, and then asks him if he ate spicy food before bed.\r\n",
            "Jack meets Lucetta for lunch. He starts talking about his grandchild, and mentions that his daughter's getting divorced, explaining \"People are gonna do what they're gonna do.\" She notices him fidgeting with back pain. She mentions magnet therapy as a suggestion for his back, explaining that the magnets remove toxicity, from cell phones and everything in the environment. Lucetta has an egg which she tells him she has to eat because the kids painted it. She offers it to him, making a voice to indicate the egg talking, she says \"Eat me.\" He says \"Why not.\" and takes a bite saying \"I'm just eating the healthy part.\" She says \"Go on, just eat the whole thing.\" They end up at Lucetta's place where she asks him if he feels the magnets. Madylyn sits at home on the porch in the dark, smoking cigarettes. Jack has a few drinks and ends up sleeping with Lucetta.\r\n",
            "Stone is lying in bed in his cell and two guards come to get him asking what's wrong and escorting him to Medical. While he waits for someone to see him he witnesses another inmate being brutally shivved. Stone sees it occur through a barred door, close enough that he gets blood on him. He reaches out to the dying man through the bars, wide eyed, as if he's realized something. We hear a high pitch in the background, as he looks in the dead man's eyes.\r\n",
            "At Jack's house the next morning, Madylyn reads from a devotional book aloud to Jack, asking \"To what extent is my commitment to obey God based on do's and don'ts or out of true love for him? In what recent circumstance was I aware of God's leading?\" She asks Jack, \"Why don't you say the blessing?\" which he does, saying a standard prayer but adding \"Make us mindful of the needs of others.\" eliciting a look from Madylyn. She asks Jack if he wants an egg, and he quickly declines.\r\n",
            "Stone sits in the cafeteria, looking more peaceful, and seems able to block out the noisy room. Jack drives listening to the radio which says \"We are not sinners because we sin. We sin because we are sinners.\" He goes to a field to drive golf balls, but soon goes to see Lucetta again for sex, which she seems pretty open about, telling Jack he's a good man for \"helping them\" while they're in bed. Jack tells her sternly that nobody is to know about this, warning that whatever it is she wants will \"all go bad if anybody knows.\" She just says \"Of course silly.\"\r\n",
            "Stone is out in the prison yard staring at the sky, and we see that he isn't affected by the noise. He goes in to visit Lucetta and asks her \"Do you ever wonder about things they say go on forever?\" Lucetta: What? Stone: Things they say go on forever - like... what's that mean, you know? The sky, like, they say the sky goes on forever. But what is that really? That's - I mean, you can't see nothing you can't see, so... it's like a big bowl of blue above you. You can see clouds during the day or you can see stars at night maybe, but even with a telescope you can't see forever. So how do they know? Lucetta: Know what? Stone: What it is. Eternity - how do they know? Lucetta changes the subject saying \"So Jack, he said the board's gonna review the whole thing. Okay? And they're gonna take into consideration your age and, you know, your Mom, and all that and the fact that you were an addict back then. [noticing he doesn't appear to be listening] Stoney baby, look at me. I was trying to tell you about your parole! Stone: Yeah Lucetta: Well, you weren't listening. Stone: Oh yeah, I'm listening.I am. Lucetta: Ok. So Jack said... Stone: You call him Jack? She explains what Jack plans to do and tells him it's great but Jack is distant. HE says \"Sometimes i think the best thing is to just listen.\" prompting her to cry and tell him to \"stop playing.\"\r\n",
            "Jack is angry when he comes into work the next day. He meets with Stone who attempts to explain something about his experience with the inmate who was shivved. Jack doesn't seem to get any sense of what he's saying, reading in his notes that Stone had \"a profound spiritual epiphany.\" Stone says he's never heard that word before, and tells him they can drop it. Jack says \"Don't get me wrong. I'd like to believe in such things.\" Stone: Like what? Like me? You believe in me? Jack: Sure, I'd like to believe in you too. That's why we're all here, right? Stone attempts to describe it again, as a moment when \"all the static went away, and I could hear for real.\" He explains that he now sees that his life in prison isn't empty and pointless like he thought it was. He tells Jack, that the efforts he'd asked him for earlier aren't important to him anymore, saying \"You should do what you think is right. Okay? I am whatever you say I am in there. So write what you feel. Seriously.\" He explains that he wants to be out but is likely to have the same problems he's always had when he gets out.\r\n",
            "Jack stops by to see Lucetta again, and tells her what happened. She tells him it's probably \"some kind of play acting.\" and that he's always had different ideas about things. Jack tells her \"It was different.\" and asks her to \"be straight. Is this all just an act/ Just tell me what's going on.\" She tells him \"I don't do anything I don't want to do. I like you Jack. I would never fuck you if I didn't want to.\" He tells her he's not going to come by anymore but she tells him he will. She says that even after Stone gets out, they can still be friends too. Jack still tries to leave and she mentions that Stone is \"a good man at heart.\" He seems shacked and asks \"Do you really believe that.\" She says \"Yeah I do. no different than you and me.\" Jack asks if she goes to church ans Lucetta says \"Hell no. There's no such thing as God.\" Jack gets home and showers before going to bed.\r\n",
            "The next day, he tells Stone that he sent the report recommending early release. Stone seems antagonistic about it and surprised. He goes over the details of the night of the arson, describing seeing his grandparents dead when they were alive two minutes ago. He says that he heard a loud buzzing in his ears and knew that there needed to be a fire. He asks \"You ever seen a fire take control? It's something, It's alive. I watched it take them up and start to change them. And the only thought that came in my head was 'This is awesome.' Jack: Awesome? Stone: Yeah. It was truly awesome. And the thing is, I know I'm supposed to take responsibility for my actions. I know that I'm supposed to feel guilty about it, but I never did, and I never knew why. But, now I think i can understand that it was just part of what was supposed to happen in my life's journey. You know? Jack: That was your decision. He explains that they're all God's coworkers, without knowing it. Jack insists it has nothing to do with God and cuts him off. Jack: Enough of this shit. You know...You...Lucetta, she said that you were... Stone: Lucetta? Jack: Your wife she... Stone: You call her Lucetta? Don't... Jack: What? Stone: Don't listen to her. Jack: What do you mean? Stone: Don't listen to what she's telling you man. Jack: She believes in you. Stone: It's a game to her. It's a game. I told you in the beginning, she's an alien. She's like a freak. Jack: That's not a nice thing to say. Stone: No. Listen, I'm telling it to you straight. She's just working on you. Jack starts to get angry and tells Stone he's nuts that he has \"a beautiful wife that cares about you...\" but Stone asks \"beautiful? you think she's beautiful?\" leaving Jack speechless a moment.he recovers Jack: Okay, you're a con, I've known that from the start. I didn't believe you for one fucking second. Never did. Never did. So you've both been conning me? Ok. I know. I've been around the block a few times. Sick and fucking tired of it. Stone: What'd I say man? Jack rants about being conned and his frustrations, that \"no one changes for the better.\" Stone asks him \"Do you have anyone?\" which only angers him more. Stone then advises him to \"blow your life up. I'm pulling for you.\" Jack gets irate and starts yelling at the guards to come grab Stone. JAck drives home without the radio. Late that night, Lucetta leaves a message on the machine, saying she needs him to call as she's in the dark on everything. The next morning the phone rings while he and Madylyn are eating breakfast and she tells him to let the machine get it, but he doesn't getting up to get the call, to find it's their daughter. That night he sits with Madylyn on the porch. She's been reading Zukangor, and tells Jack he started out as a stone, and worked his way up to human, and each incarnation has been paying off debts. He realizes she's reading from a flyer which she tells him was junk mail and she says \"You know what I think? I think we get this one life. I do. You account for what you've done and if you don't you pay for it when you die. You don't think?\" Jack: Oh [beneath his breath] Shit. Madylyn: Shit. Shit. Son of a bitch. Fuck. Fuck. Jack: Ok. I get it. Madylyn continues swearing at him, when Lucetta pulls up in the dark, and approaches the porch. Jack gets up to persuade her to leave. He calls her Mrs. Creeson and attempts to act official until they get to the car and he says \"Get in the fucking car.\" She asks what's going on with her husband and angrily says she just needed a friend to talk to, but drives away. He acts outraged about her coming to their home for Madylyn's benefit.\r\n",
            "At work in the morning, Jack is asking the warden for Stone's report back, explaining he made an error. The warden isn't happy, as the hearing is in an hour. The warden tells him that it doesn't matter as Stone's fate is already determined by \"luck and quotas.\" Jack doesn't stay for the hearing. We see that he takes his gun when he leaves the prison. Jack is at home drinking with Madylyn, who is discussing their devotional book. She mentions that they'll be looking at the commandments next. Jack asks her \"Do you believe in all this?\" and she tells him to read the next lesson. \"What request is on the top of my prayer list today? Is it a selfish request or is it one that will bring God glory?\" Madylyn: I know what I want. How about you? You lost your place again? Is there something you want to say to me?\" Jack: [shakes his head] Madylyn: You don't? Jack: I can't even think of what you'd want me to say. Madylyn gets up from the table and leaves him there.\r\n",
            "Stone is informed that he'll be released.He stops in to see Jack while he's waiting. Stone asks if he wants to talk about anything, as he \"looks a little ragged.\" Jack reminds Stone that he can have him watched twenty four hours a day. Stone remarks \"Shit man, you don't believe in nothing do you?\" Jack: I believe you're one sick son of a bitch. Stone: I know you don't believe in me, but you don't believe in yourself. You don't believe in God. I don't think you feel that anything is true inside. Jack: I'll give you true. I'm glad you're out of my hair Gerald Creeson. Now you can be someone else's headache.Jack makes it clear he wants him out of the office. Lucetta shows up to pick him up and comes into the office. Stone asks if he can kiss her and Jack says that's fine. He tells her he's ready to go, but Stone turns back before leaving and says to Jack \"You know I want to thank you. Seriously. I appreciate everything that you've done for me.\" Jack nods uncomfortably and looks at Lucetta and says \"Good luck to you too Mrs. Creeson.\" She answers. \"Lucetta, Jack. We're all friends here, right?\" He says \"Take good care of him.\" She whispers \"I will. You take good care too old man. See you later Jack.\" As Jack is about to shut the door behind them, Stone stops and says \"I meant to say, Lucetta, she did tell me that you fucked her. I know that must be against some kind of rule around here. Jack: I knew what you two were doing. Stone: Oh, did you know what you were doing when you let my wife suck your cock? Jack: Good luck to you. Stone: See you out on the bricks. Jack: Good luck to you!\r\n",
            "Jack gets home and that night we see he's taking his gun out to the porch. He remembers Lucetta telling him she liked him as he tries to sleep. He thinks he hears noises downstairs and keeps his gun in hand to go look. He finds a fire downstairs, and goes to get Madylyn who is already awake. Watching the house burn Jack keeps taking the lord's name in vain, which she repeatedly tells him she won't stand for. He remarks that they were almost incinerated by \"some nutjob I let out.\" and she insist that \"nobody did this to us. It was an act of God.\" She makes up a story about frayed wiring in the kitchen wall and rags in the basement. \"Why would you say that?\" Jack asks and she say \"Because. it's as good a story as any.\"\r\n",
            "We see Madylyn with her daughter and granddaughter, looking through photo albums. Her daughter says \"I don't know how you stuck it out as long as you did. I'd think you'd have done this sooner.\" Madylyn says \"I almost did, once.\" although she doesn't answer when asked \"what happened?\" Jack is at the bar with his coworkers, for his retirement party. He starts giving Janice, his replacement, advice about all the cons she'll be dealing with. He starts hitting on her, but she insists they keep things professional, but he starts swearing at her and then at the warden who steps in. They offer to drive him home but he insists on leaving himself. He listens to the radio, which is about God having Satan on the ropes, but Satan is flailing his arms which causes damage. Jack sees Stone walking down the street and approaches him with gun in hand asking why he ruined his life. Stone says \"Hey man you ain't gonna do this.\" which causes a reaction similar to the beginning with Jack saying \"You think i won't? You think I won't?\" with a gun to Stone's face. With the gun still on him, Stone shakes his head and says \"No. No I don't.\" He looks at Jack before walking away. Jack goes into work to clean his office. We hear the radio station again, and we hear Stone, describing the sound which brings spiritual truth and the tuning fork idea. Stone packs a bag and starts walking down the road. We see Lucetta at a bar trying to get a guy's attention. Madylyn smokes a cigarette alone looking over a fence. She hears a bee buzzing, which also seems to be heard by Jack, in his old office, who looks up from packing.\n",
            "\n",
            "lsi most similar\n",
            "Most similar movie: 0.18682257692000231 1412\n",
            "Stone \n",
            "\n",
            "\t Young mother Madylyn Mabry puts her daughter to bed while her husband Jack watches golf on television. A bee buzzes around the window as she stays with her girl. After the child is asleep, she goes downstairs and announces she's leaving, saying \"You keep my soul in a dungeon.\" He takes a moment to disconnect from the game, then runs upstairs to the bedroom and holds their daughter out the window, threatening to drop her if Madylyn leaves. \"Do you think I won't? Do you think I won't?\" he yells at her. She agrees to stay.\r\n",
            "Many years later, Jack Mabry(Robert DeNiro) and Madylyn (Frances Conroy) return home from church for a quiet afternoon. He watches TV and drinks in an identical pose to his younger self in the earlier scene, while she works on a puzzle. Late that night a call wakes them. Jack picks up the phone and hears a woman's voice. \"Betsy?\" he asks, obviously distressed. We find him at church the next day, speaking at his brother Bobby's funeral.\r\n",
            "Jack reports to work at a prison, where he's a parole officer. He listens to Christian radio in his car on the way in. Once there, we see him talk to different inmates but hear a persistent buzzing in the background as if to suggest that Jack has other things and pressures on his mind. He's called into the warden's office and asked to shut the door. The warden calls one of his reports \"an incompetent mess.\" before laughing and revealing he's joking. He then asks Jack to get Janice, his replacement, up to speed on his cases before he retires. Jack agrees, but requests that he keep all of his \"currents\" until he leaves, in order to see them through until their reviews. Janice offers condolences about Jack's brother. Jack has a new case in his office, named Gerald Creeson (Ed Norton) Jack reviews his file as if the man isn't there. He insists that he likes to be called Stone. Jack is hesitant to oblige, assuming it's a prison nickname. Stone asks Jack if he can help him get out early, pointing out that he acknowledged his guilt and isn't interested in talking about what he did when it's all in the file. Jack wants to talk about his crimes however, and Stone has an outburst assuming Jack isn't interested in helping. Stone dares him to give him the maximum and starts walking out. Jack then yells at him, letting him know that they talk about what he wants to talk about and demanding he \"sit the fuck down.\"\r\n",
            "Jack then explains, \"Look, this is the process, we talk. We're not friends, but let's pretend we're friends. Just relax. Just talk. That's all.Then maybe we both get what we want. OK?\" He then asks Stone about his wife, Lucetta. Stone describes her as a \"dime\" which he explains to Jack means \"a perfect ten.\" He also tells Jack that she's an alien. Jack assumes he means she's an illegal alien, but Stone says \"No. She's whiter than you. She's from another planet.\" Stone describes her sexuality graphically, telling Jack, \"She's crazy. She'll do anything.\" He warns Jack \"Look if we're gonna talk about Lucetta, you gotta watch out cause it's gonna give you some pictures in your head, gonna keep you up nights, man.\" When he notices that Jack doesn't look pleased, he apologizes for his mouth. Stone asks about Jack's wife. When Jack says he's been married 43 years, Stone remarks \" 43 years and you still get it on and everything?\" This offends Jack and Stone tries to explain, he's just curious about how he'll do when he's older. Jack explains that he doesn't discuss his wife that way. He tells Stone \"I don't consider this polite conversation.\" and reminds Stone that they're there to talk about him.\r\n",
            "Jack drives home listening to more radio, and buying a couple of bottles of booze on the way. He sits on the porch with Madylyn, both of them listening to a Christian radio program discussing predestination. Madylyn attempts to talk to him but he isn't even aware of it. She asks \"Where have you gone?\" Jack meets with Stone again and asks him to recount the arson incident. Stone tells him that \"Teach\" and his grandfather got into a fight which ended with Stone's grandparents dead, before Stone torched the house. Jack wants to talk more about it. Jack: Whose idea was it? Stone: I told you it was Teach! Like I said I wasn't even...I went outside the house. Jack:Yeah, but you didn't stop him, did you? Stone:Stop him what? Jack:From killing your grandparents. Stone: You ain't gonna do it man. You're not gonna...You don't give a fuck man. I was outside. Teach come out and I didn't even know what he done until he told me. Teach testified to that, man! That's why I didn't even catch the rap for manslaughter. I got accessory and arson. I've done eight out of ten to fifteen. What more do you want, from me? Jack stares at him blankly.\r\n",
            "We then find Lucetta (Milla Jovovich) at a preschool working with kids. She smiles, telling the class that today is a day for them each to do one nice thing for someone else and not tell anyone about it.\r\n",
            "Madylyn is hosting a card game for her friends. She gets a phone call from a woman looking for Jack, the sound of the call is distorted, but the caller hangs up when she says she'd Mrs. Mabry and offers to take a message.\r\n",
            "Stone calls Lucetta from prison and catches her watching the kids at recess. Lucetta tells him that \"she was short with me, like she didn't want to talk.\" Stone asks \"Why were you talking to her?\" He tells her \"I need you to do this for me right now. Don't let it slide.\" She says OK. We see Stone having another meeting with Jack who says \"I guess what I'm getting at, is do you believe what you did was wrong?\" Stone: What do you think, because I grew up west side, that I'm one of these socio...delinquent types, don't know the difference between right and wrong? Want me to tell you about my bad childhood? Jack: I don't know. Did you have one? Stone: Well, at the time, I thought a lot of shit was normal...definitely unhealthy, but on the same token, i didn't think I was a bad person to begin with. You want to know if I'm gonna light any more grandparents on fire? Jack: Are you? Stone: No. Stone tells him he deserves to be free, telling Jack \"I'm as clean as you.\" Jack says \"Maybe, maybe not.\" Stone: Seriously, let me ask you something, you know? Why do you gotta sit there, asking me these questions, like you never done nothin'. Why do you get to walk around free and I don't? Jack: I wasn't convicted of a crime. Stone: You never did anything bad? You never did anybody no wrong, had to be forgiven for nothing? Jack: I never broke the law. Jack shuts him out, staring blankly again while Stone asks him about the many things he could have done. Stone claims he's been reborn, but can't answer when Jack asks what \"reborn\" means to him.\r\n",
            "Lucetta stops at the prison for a visit with Stone. She likes his cornrows, and the two are cautioned against contact when she starts kissing him passionately. He asks for an update on her contacting Jack. She tells him she's left messages and he hasn't called her back. He instructs her \"You've got to get with him person to person.\" She tells him she didn't wear panties just for him, and he touches her but restrains himself before getting carried away, not wanting to break the rules. He says \"I can't get no ticket.You understand right? I'm too close.\" She appears disappointed but agrees. He tells her he's got to get out or he's likely to kill himself, which she tells him not to joke about. Stone becomes fascinated with another prisoner reading the Bible to his son. After the visitation is over, he gets every religious book he can from the library.Nothing seems to catch until he finds one on \"Zukangor\" This religion is a patchwork of many and instructs that enlightenment can be achieved by hearing the \"perfect pitch\" making yourself \"like a tuning fork.\"\r\n",
            "That night Lucetta leaves a message on Jack and Madylyn's answering machine, before calling up a guy for sex. She's waiting for Jack outside the prison the next day. He tells her it isn't appropriate to meet this way, acting as if she's there to see Stone and reminding her of proper channels to do that. She then offers him a bird's nest that the kids in class made, which he refuses but then reconsiders when she describes the kids making it. Jack asks Stone about it, but he says that Lucetta does whatever she wants. Stone runs the Zukangor faith past Jack, describing the tuning fork idea and their practice of chanting then listening.. Jack isn't into the idea, saying he's Episcopalian. Stone explains that the religion also uses reincarnation, stating you have to come back until you get it right. Jack asks him \"What about this life?\" and Stone tells him he's thought about that a lot.\r\n",
            "Jack and Madylyn go to church, but Jack stays behind to talk with the pastor, telling Madylyn to go home. He tells the pastor that faith seems to come easy for people he knows but not to him, he says \"sometimes the thoughts that I have, I think you should shoot me.\" Pastor: I don't think that's what God wants for you. Jack: What does he want? Unable to give a concrete answer the pastor quotes a verse saying \"Be still and know that I am God.\" which he paraphrase to Jack as meaning sometimes God speaks in mysterious ways.\r\n",
            "In the prison yard, Stone tries the chanting, but seems to find it too noisy. Lucetta calls Jack's house again, Madylyn picking up the phone first. When Jack asks who it is she says \"a friend of yours.\" He tells Lucetta she shouldn't call the house, making a point to call her Mrs. Creeson although she insists on Lucetta every time. She wants to know when they can meet. Jack: Look Mrs Creeson, I have business with your husband... Lucetta: Well that's why I'm calling. I mean, what, did you think I had another reason? Jack: Well, no, I didn't. Lucetta: Maybe we could go to lunch. You could bring Mrs. Mabry too. You know she's got such a sweet voice, what's her first name? Jack: Look, I admire that you love your husband and that you want to do what's right for him, but you're not helping him. I'm telling you that right now. Lucetta: [raspy voice] Oh Jack I do love my husband. I love him so much, and all I'm asking you, is for a chance to help you see him in a different light. i mean, how many men at that place you work at have somebody loving them like that? huh? Doesn't that mean something to you? A man in a position like yours? Jack: No. It does. She describes how she misses him in her bed, and Jack goes quiet, looking around self consciously. Madylyn is somewhere close by. We then see Lucetta visiting Stone. She tells him \"I got him. It's gonna happen.\" Stone looks dead tired and looks at her coldly. He complains that it's too loud all the time and he's having weird dreams. He talks about suicide again, and she assumes he's referring to a dream, and then asks him if he ate spicy food before bed.\r\n",
            "Jack meets Lucetta for lunch. He starts talking about his grandchild, and mentions that his daughter's getting divorced, explaining \"People are gonna do what they're gonna do.\" She notices him fidgeting with back pain. She mentions magnet therapy as a suggestion for his back, explaining that the magnets remove toxicity, from cell phones and everything in the environment. Lucetta has an egg which she tells him she has to eat because the kids painted it. She offers it to him, making a voice to indicate the egg talking, she says \"Eat me.\" He says \"Why not.\" and takes a bite saying \"I'm just eating the healthy part.\" She says \"Go on, just eat the whole thing.\" They end up at Lucetta's place where she asks him if he feels the magnets. Madylyn sits at home on the porch in the dark, smoking cigarettes. Jack has a few drinks and ends up sleeping with Lucetta.\r\n",
            "Stone is lying in bed in his cell and two guards come to get him asking what's wrong and escorting him to Medical. While he waits for someone to see him he witnesses another inmate being brutally shivved. Stone sees it occur through a barred door, close enough that he gets blood on him. He reaches out to the dying man through the bars, wide eyed, as if he's realized something. We hear a high pitch in the background, as he looks in the dead man's eyes.\r\n",
            "At Jack's house the next morning, Madylyn reads from a devotional book aloud to Jack, asking \"To what extent is my commitment to obey God based on do's and don'ts or out of true love for him? In what recent circumstance was I aware of God's leading?\" She asks Jack, \"Why don't you say the blessing?\" which he does, saying a standard prayer but adding \"Make us mindful of the needs of others.\" eliciting a look from Madylyn. She asks Jack if he wants an egg, and he quickly declines.\r\n",
            "Stone sits in the cafeteria, looking more peaceful, and seems able to block out the noisy room. Jack drives listening to the radio which says \"We are not sinners because we sin. We sin because we are sinners.\" He goes to a field to drive golf balls, but soon goes to see Lucetta again for sex, which she seems pretty open about, telling Jack he's a good man for \"helping them\" while they're in bed. Jack tells her sternly that nobody is to know about this, warning that whatever it is she wants will \"all go bad if anybody knows.\" She just says \"Of course silly.\"\r\n",
            "Stone is out in the prison yard staring at the sky, and we see that he isn't affected by the noise. He goes in to visit Lucetta and asks her \"Do you ever wonder about things they say go on forever?\" Lucetta: What? Stone: Things they say go on forever - like... what's that mean, you know? The sky, like, they say the sky goes on forever. But what is that really? That's - I mean, you can't see nothing you can't see, so... it's like a big bowl of blue above you. You can see clouds during the day or you can see stars at night maybe, but even with a telescope you can't see forever. So how do they know? Lucetta: Know what? Stone: What it is. Eternity - how do they know? Lucetta changes the subject saying \"So Jack, he said the board's gonna review the whole thing. Okay? And they're gonna take into consideration your age and, you know, your Mom, and all that and the fact that you were an addict back then. [noticing he doesn't appear to be listening] Stoney baby, look at me. I was trying to tell you about your parole! Stone: Yeah Lucetta: Well, you weren't listening. Stone: Oh yeah, I'm listening.I am. Lucetta: Ok. So Jack said... Stone: You call him Jack? She explains what Jack plans to do and tells him it's great but Jack is distant. HE says \"Sometimes i think the best thing is to just listen.\" prompting her to cry and tell him to \"stop playing.\"\r\n",
            "Jack is angry when he comes into work the next day. He meets with Stone who attempts to explain something about his experience with the inmate who was shivved. Jack doesn't seem to get any sense of what he's saying, reading in his notes that Stone had \"a profound spiritual epiphany.\" Stone says he's never heard that word before, and tells him they can drop it. Jack says \"Don't get me wrong. I'd like to believe in such things.\" Stone: Like what? Like me? You believe in me? Jack: Sure, I'd like to believe in you too. That's why we're all here, right? Stone attempts to describe it again, as a moment when \"all the static went away, and I could hear for real.\" He explains that he now sees that his life in prison isn't empty and pointless like he thought it was. He tells Jack, that the efforts he'd asked him for earlier aren't important to him anymore, saying \"You should do what you think is right. Okay? I am whatever you say I am in there. So write what you feel. Seriously.\" He explains that he wants to be out but is likely to have the same problems he's always had when he gets out.\r\n",
            "Jack stops by to see Lucetta again, and tells her what happened. She tells him it's probably \"some kind of play acting.\" and that he's always had different ideas about things. Jack tells her \"It was different.\" and asks her to \"be straight. Is this all just an act/ Just tell me what's going on.\" She tells him \"I don't do anything I don't want to do. I like you Jack. I would never fuck you if I didn't want to.\" He tells her he's not going to come by anymore but she tells him he will. She says that even after Stone gets out, they can still be friends too. Jack still tries to leave and she mentions that Stone is \"a good man at heart.\" He seems shacked and asks \"Do you really believe that.\" She says \"Yeah I do. no different than you and me.\" Jack asks if she goes to church ans Lucetta says \"Hell no. There's no such thing as God.\" Jack gets home and showers before going to bed.\r\n",
            "The next day, he tells Stone that he sent the report recommending early release. Stone seems antagonistic about it and surprised. He goes over the details of the night of the arson, describing seeing his grandparents dead when they were alive two minutes ago. He says that he heard a loud buzzing in his ears and knew that there needed to be a fire. He asks \"You ever seen a fire take control? It's something, It's alive. I watched it take them up and start to change them. And the only thought that came in my head was 'This is awesome.' Jack: Awesome? Stone: Yeah. It was truly awesome. And the thing is, I know I'm supposed to take responsibility for my actions. I know that I'm supposed to feel guilty about it, but I never did, and I never knew why. But, now I think i can understand that it was just part of what was supposed to happen in my life's journey. You know? Jack: That was your decision. He explains that they're all God's coworkers, without knowing it. Jack insists it has nothing to do with God and cuts him off. Jack: Enough of this shit. You know...You...Lucetta, she said that you were... Stone: Lucetta? Jack: Your wife she... Stone: You call her Lucetta? Don't... Jack: What? Stone: Don't listen to her. Jack: What do you mean? Stone: Don't listen to what she's telling you man. Jack: She believes in you. Stone: It's a game to her. It's a game. I told you in the beginning, she's an alien. She's like a freak. Jack: That's not a nice thing to say. Stone: No. Listen, I'm telling it to you straight. She's just working on you. Jack starts to get angry and tells Stone he's nuts that he has \"a beautiful wife that cares about you...\" but Stone asks \"beautiful? you think she's beautiful?\" leaving Jack speechless a moment.he recovers Jack: Okay, you're a con, I've known that from the start. I didn't believe you for one fucking second. Never did. Never did. So you've both been conning me? Ok. I know. I've been around the block a few times. Sick and fucking tired of it. Stone: What'd I say man? Jack rants about being conned and his frustrations, that \"no one changes for the better.\" Stone asks him \"Do you have anyone?\" which only angers him more. Stone then advises him to \"blow your life up. I'm pulling for you.\" Jack gets irate and starts yelling at the guards to come grab Stone. JAck drives home without the radio. Late that night, Lucetta leaves a message on the machine, saying she needs him to call as she's in the dark on everything. The next morning the phone rings while he and Madylyn are eating breakfast and she tells him to let the machine get it, but he doesn't getting up to get the call, to find it's their daughter. That night he sits with Madylyn on the porch. She's been reading Zukangor, and tells Jack he started out as a stone, and worked his way up to human, and each incarnation has been paying off debts. He realizes she's reading from a flyer which she tells him was junk mail and she says \"You know what I think? I think we get this one life. I do. You account for what you've done and if you don't you pay for it when you die. You don't think?\" Jack: Oh [beneath his breath] Shit. Madylyn: Shit. Shit. Son of a bitch. Fuck. Fuck. Jack: Ok. I get it. Madylyn continues swearing at him, when Lucetta pulls up in the dark, and approaches the porch. Jack gets up to persuade her to leave. He calls her Mrs. Creeson and attempts to act official until they get to the car and he says \"Get in the fucking car.\" She asks what's going on with her husband and angrily says she just needed a friend to talk to, but drives away. He acts outraged about her coming to their home for Madylyn's benefit.\r\n",
            "At work in the morning, Jack is asking the warden for Stone's report back, explaining he made an error. The warden isn't happy, as the hearing is in an hour. The warden tells him that it doesn't matter as Stone's fate is already determined by \"luck and quotas.\" Jack doesn't stay for the hearing. We see that he takes his gun when he leaves the prison. Jack is at home drinking with Madylyn, who is discussing their devotional book. She mentions that they'll be looking at the commandments next. Jack asks her \"Do you believe in all this?\" and she tells him to read the next lesson. \"What request is on the top of my prayer list today? Is it a selfish request or is it one that will bring God glory?\" Madylyn: I know what I want. How about you? You lost your place again? Is there something you want to say to me?\" Jack: [shakes his head] Madylyn: You don't? Jack: I can't even think of what you'd want me to say. Madylyn gets up from the table and leaves him there.\r\n",
            "Stone is informed that he'll be released.He stops in to see Jack while he's waiting. Stone asks if he wants to talk about anything, as he \"looks a little ragged.\" Jack reminds Stone that he can have him watched twenty four hours a day. Stone remarks \"Shit man, you don't believe in nothing do you?\" Jack: I believe you're one sick son of a bitch. Stone: I know you don't believe in me, but you don't believe in yourself. You don't believe in God. I don't think you feel that anything is true inside. Jack: I'll give you true. I'm glad you're out of my hair Gerald Creeson. Now you can be someone else's headache.Jack makes it clear he wants him out of the office. Lucetta shows up to pick him up and comes into the office. Stone asks if he can kiss her and Jack says that's fine. He tells her he's ready to go, but Stone turns back before leaving and says to Jack \"You know I want to thank you. Seriously. I appreciate everything that you've done for me.\" Jack nods uncomfortably and looks at Lucetta and says \"Good luck to you too Mrs. Creeson.\" She answers. \"Lucetta, Jack. We're all friends here, right?\" He says \"Take good care of him.\" She whispers \"I will. You take good care too old man. See you later Jack.\" As Jack is about to shut the door behind them, Stone stops and says \"I meant to say, Lucetta, she did tell me that you fucked her. I know that must be against some kind of rule around here. Jack: I knew what you two were doing. Stone: Oh, did you know what you were doing when you let my wife suck your cock? Jack: Good luck to you. Stone: See you out on the bricks. Jack: Good luck to you!\r\n",
            "Jack gets home and that night we see he's taking his gun out to the porch. He remembers Lucetta telling him she liked him as he tries to sleep. He thinks he hears noises downstairs and keeps his gun in hand to go look. He finds a fire downstairs, and goes to get Madylyn who is already awake. Watching the house burn Jack keeps taking the lord's name in vain, which she repeatedly tells him she won't stand for. He remarks that they were almost incinerated by \"some nutjob I let out.\" and she insist that \"nobody did this to us. It was an act of God.\" She makes up a story about frayed wiring in the kitchen wall and rags in the basement. \"Why would you say that?\" Jack asks and she say \"Because. it's as good a story as any.\"\r\n",
            "We see Madylyn with her daughter and granddaughter, looking through photo albums. Her daughter says \"I don't know how you stuck it out as long as you did. I'd think you'd have done this sooner.\" Madylyn says \"I almost did, once.\" although she doesn't answer when asked \"what happened?\" Jack is at the bar with his coworkers, for his retirement party. He starts giving Janice, his replacement, advice about all the cons she'll be dealing with. He starts hitting on her, but she insists they keep things professional, but he starts swearing at her and then at the warden who steps in. They offer to drive him home but he insists on leaving himself. He listens to the radio, which is about God having Satan on the ropes, but Satan is flailing his arms which causes damage. Jack sees Stone walking down the street and approaches him with gun in hand asking why he ruined his life. Stone says \"Hey man you ain't gonna do this.\" which causes a reaction similar to the beginning with Jack saying \"You think i won't? You think I won't?\" with a gun to Stone's face. With the gun still on him, Stone shakes his head and says \"No. No I don't.\" He looks at Jack before walking away. Jack goes into work to clean his office. We hear the radio station again, and we hear Stone, describing the sound which brings spiritual truth and the tuning fork idea. Stone packs a bag and starts walking down the road. We see Lucetta at a bar trying to get a guy's attention. Madylyn smokes a cigarette alone looking over a fence. She hears a bee buzzing, which also seems to be heard by Jack, in his old office, who looks up from packing.\n",
            "\n",
            "lda most similar\n",
            "Most similar movie: 0.4377378208864209 1722\n",
            "Straight on Till Morning \n",
            "\n",
            "\t Brenda is a plain young woman who lives at home with her mother in Liverpool and enjoys writing fairy tales for children. One day she tells her mother that she is leaving home and moving to London in order to find a father for her yet unborn baby.\r\n",
            "Arriving in London, she has some of her belongings knocked out of her hands by an attractive young man (Peter) who doesn’t give her a second look. She ends up living in a grubby bedsit before finding a job at a fashionable boutique (run by Jimmy Lindsay), and taking a spare room in a flat owned by one of her co-workers, Caroline specifically as she hopes to meet a man at one of Caroline’s many parties.\r\n",
            "Peter, appears to live with an older, alcoholic woman. He invites her upstairs. She goes into his room and, unseen, starts screaming.\r\n",
            "After discovering Caroline in bed with another co-worker that she was interested in (Joey), Brenda runs crying out of the flat and onto the streets. She comes across a scruffy dog, and sees its owner looking for it. Recognising the young man who had previously bumped into her (Peter), she picks up the dog and runs home with it. Unbeknownst to her, Peter sees her do so.\r\n",
            "Back at the flat, Brenda washes the dog, and pretties it up with a bow. She then uses the address on the dog’s collar to take it back to Peter. He lets her in, and is nice to her, but upsets her when he insists she tell him why she took the dog. She finally admits that it was because she wanted to meet him, and have a baby with him. He suggests that she moves in with him.\r\n",
            "While she has gone to get her belongings, Peter kills his dog with a utility knife, ostensibly because it is now pretty. Brenda lies to Caroline, telling her that she is moving in with her mother who is ill.\r\n",
            "After Brenda returns, Peter starts to buy her baby gifts. Meanwhile, Brenda’s mother is worried about not hearing from her daughter, and calls her last known number, which is Caroline’s flat. She then visits Caroline, before going to the police. Caroline looks through Brenda’s old room and finds the dog’s broken lead, which has Peter’s address on it.\r\n",
            "After Brenda has gone out shopping, Caroline arrives at Peter’s house, and eventually they go to bed. Peter then murders her with the utility knife, again because she is too beautiful.\r\n",
            "When Brenda returns, Peter is alone in the house (the implication being that Caroline has been buried in the garden). Brenda has had a total makeover – hair, clothes, make-up – in order to look beautiful for Peter. He makes it very clear that he loves her exactly the way she was. He tells a fairy story which is interspersed with flashbacks implying that he has killed multiple women. Brenda and Peter go to bed.\r\n",
            "A few days later Peter reads in the paper that there are missing person reports out on both Brenda and Caroline, and when he gets home he forbids Brenda to go out. Brenda gives signs that she might now be pregnant, and they both seem happy. Peter tells Brenda he has a surprise for her and takes her up to his bedroom, where he plays her a tape of him killing the dog and Caroline. Brenda becomes hysterical.\r\n",
            "Later Peter sits alone in his house. There is no sign of Brenda.\n",
            "\n",
            "USE (universal sentence embedding) most similar\n",
            "Most similar movie: 0.70125264 588\n",
            "A Day of Fury \n",
            "\n",
            "\t A gunslinger named Jagade happens upon a stranger in trouble on the trail and saves his life. Jagade immediately regrets it upon learning the man is Alan Burnett, who is now only a U.S. Marshal but on his way to the town of West End to marry Jagade's former sweetheart that very day.\r\n",
            "Jagade gets to town first and disrupts the proceedings. He taunts the betrothed woman, Sharman Fulton, in public. She was once a dancehall girl of low repute, but has since been taken into the home of the honorable Judge John J. McLean and has redeemed her reputation. Preacher Jason, nevertheless, calls off the wedding after Jagade sullies her name.\r\n",
            "Burnett arrives but has no call to arrest Jagade and remains indebted for the gunfighter's aid on the trail. Jagade provokes him, forcing open the saloon on a Sunday against the town's regulation, infuriating the meek Miss Timmons and the Preacher, who now intends to burn the saloon down. To stop him, Sharman agrees to Jagade's condition that she don her red dancehall costume of old. She is called a harlot in town and kicked out of the Judge's home.\r\n",
            "A young cowboy, Billy Brand, who admires Jagade shoots the preacher. But he is overcome with remorse when Miss Timmons is humiliated by Jagade and hangs herself. A church bell distracts Jagade during a shootout and Burnett's bullet fatally wounds him. As he dies, Jagade realizes the bell was rung in honor of the preacher he killed.\n"
          ]
        }
      ],
      "source": [
        "# find the closest movie to a another movie using tf-idf, lda and lsi embeddings\n",
        "from tensorflow.python.ops.numpy_ops import np_config\n",
        "np_config.enable_numpy_behavior()\n",
        "\n",
        "def similar_movie(movie_id, all_embed):\n",
        "\n",
        "    nr_movies   = all_embed.shape[0]  # number of rows = nr of movies\n",
        "    movie_embed = all_embed[movie_id,:]\n",
        "\n",
        "\n",
        "    dist = np.dot(all_embed, movie_embed.transpose()) # all_embed.dot(movie_embed.transpose())\n",
        "    dist[movie_id] = 0;\n",
        "    print('Most similar movie:', dist.max(), dist.argmax())\n",
        "\n",
        "    return dist.argmax()\n",
        "\n",
        "def print_movie(movie_id, all_movies):\n",
        "    index_title = select_movies.columns.get_loc('Title')\n",
        "    index_plot  = select_movies.columns.get_loc('Plot')\n",
        "    print(all_movies.iloc[movie_id, index_title],'\\n')\n",
        "    print('\\t', all_movies.iloc[movie_id,index_plot])\n",
        "\n",
        "print(select_movies.shape)\n",
        "movie_id = 360 # 360 = Stars in my crown 1438 # 1438 = Star wars # Ninja terminator 8244 # Indiana Jones # 7595 - Star wars # 2000\n",
        "print('Original movie')\n",
        "print_movie(movie_id, select_movies)\n",
        "print('\\ntf-idf most similar')\n",
        "similar_tf_idf = similar_movie(movie_id, tf_idf)\n",
        "print_movie(similar_tf_idf, select_movies)\n",
        "\n",
        "print('\\nlsi most similar')\n",
        "similar_lsi    = similar_movie(movie_id,lsi)\n",
        "print_movie(similar_lsi, select_movies)\n",
        "\n",
        "print('\\nlda most similar')\n",
        "similar_lda    = similar_movie(movie_id, lda)\n",
        "print_movie(similar_lda, select_movies)\n",
        "\n",
        "print('\\nUSE (universal sentence embedding) most similar')\n",
        "similar_use    = similar_movie(movie_id, use_embed)\n",
        "print_movie(similar_use, select_movies)\n"
      ]
    },
    {
      "cell_type": "markdown",
      "metadata": {
        "id": "hRld5T1mXuD2"
      },
      "source": [
        "print(selected_movies(100))"
      ]
    },
    {
      "cell_type": "code",
      "execution_count": null,
      "metadata": {
        "id": "T5JBA3XzXuD3",
        "outputId": "856112ab-3b05-45a2-aa5d-08b4207143f0"
      },
      "outputs": [
        {
          "name": "stdout",
          "output_type": "stream",
          "text": [
            "[1231, 1948, 1949, 2524, 4915, 5159, 6985, 7663, 9735, 13494, 14103, 14176, 14740]\n",
            "Release Year                                                     1933\n",
            "Title                                               King of the Arena\n",
            "Origin/Ethnicity                                             American\n",
            "Director                                                   Alan James\n",
            "Cast                                       Ken Maynard, Lucile Browne\n",
            "Genre                                                         western\n",
            "Wiki Page             https://en.wikipedia.org/wiki/King_of_the_Arena\n",
            "Plot                A former circus performer, Ken Kenton becomes ...\n",
            "Name: 1538, dtype: object\n"
          ]
        }
      ],
      "source": [
        "# find the index of the star war movie\n",
        "titles = selected_movies['Title']\n",
        "index_found = [i for i,t in enumerate(titles.str.find('Star W')) if t != -1]\n",
        "print(index_found)\n",
        "print(selected_movies.iloc[index_found[0]])"
      ]
    },
    {
      "cell_type": "code",
      "execution_count": null,
      "metadata": {
        "id": "6sjNgFKQXuD3"
      },
      "outputs": [],
      "source": [
        "# show movies in the same cluster"
      ]
    },
    {
      "cell_type": "code",
      "execution_count": null,
      "metadata": {
        "id": "heeuwq-RXuD4"
      },
      "outputs": [],
      "source": []
    }
  ],
  "metadata": {
    "kernelspec": {
      "display_name": "Python 3",
      "language": "python",
      "name": "python3"
    },
    "language_info": {
      "codemirror_mode": {
        "name": "ipython",
        "version": 3
      },
      "file_extension": ".py",
      "mimetype": "text/x-python",
      "name": "python",
      "nbconvert_exporter": "python",
      "pygments_lexer": "ipython3",
      "version": "3.7.3"
    },
    "colab": {
      "provenance": [],
      "include_colab_link": true
    }
  },
  "nbformat": 4,
  "nbformat_minor": 0
}