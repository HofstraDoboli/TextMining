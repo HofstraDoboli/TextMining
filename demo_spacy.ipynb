{
  "cells": [
    {
      "cell_type": "markdown",
      "metadata": {
        "id": "view-in-github",
        "colab_type": "text"
      },
      "source": [
        "<a href=\"https://colab.research.google.com/github/HofstraDoboli/TextMining_F22/blob/main/demo_spacy.ipynb\" target=\"_parent\"><img src=\"https://colab.research.google.com/assets/colab-badge.svg\" alt=\"Open In Colab\"/></a>"
      ]
    },
    {
      "cell_type": "code",
      "execution_count": null,
      "metadata": {
        "id": "D0hequ6Zdlb9"
      },
      "outputs": [],
      "source": [
        "!python -m spacy download en_core_web_sm"
      ]
    },
    {
      "cell_type": "code",
      "execution_count": 3,
      "metadata": {
        "colab": {
          "base_uri": "https://localhost:8080/"
        },
        "id": "QmfdTwZVdlcB",
        "outputId": "100f7165-af3e-4ca8-f79f-3a380d40081b"
      },
      "outputs": [
        {
          "output_type": "stream",
          "name": "stdout",
          "text": [
            "402\n",
            "NEW YORK -- Twenty-three years ago, Serena Williams won her first Grand Slam title here. On Friday, \n"
          ]
        }
      ],
      "source": [
        "# read the mobydick.txt file\n",
        "# f = open('mobydick.txt', 'r')\n",
        "# text = f.read()  # reads all file\n",
        "text = '''NEW YORK -- Twenty-three years ago, Serena Williams won her first Grand Slam title here. On Friday, she said her goodbyes in the same place, in front of a sold-out crowd at Arthur Ashe Stadium.\n",
        "\"Thank you daddy, I know you're watching. Thanks mom,\" Williams said before starting to cry during her post-match on-court interview. \"Everyone that's here, that's been on my side, for so many years, decades\"'''\n",
        "print(len(text))\n",
        "print(text[:100])"
      ]
    },
    {
      "cell_type": "code",
      "execution_count": 4,
      "metadata": {
        "colab": {
          "base_uri": "https://localhost:8080/"
        },
        "id": "TU_-JoYVdlcC",
        "outputId": "50998fab-e899-43e0-e5a9-b1086310cd2f"
      },
      "outputs": [
        {
          "output_type": "stream",
          "name": "stdout",
          "text": [
            "['tok2vec', 'tagger', 'parser', 'attribute_ruler', 'lemmatizer', 'ner']\n",
            "['tok2vec', 'tagger', 'attribute_ruler', 'lemmatizer']\n"
          ]
        }
      ],
      "source": [
        "import spacy\n",
        "nlp = spacy.load(\"en_core_web_sm\")  \n",
        "print(nlp.pipe_names)\n",
        "nlp.disable_pipes('parser', 'ner')\n",
        "print(nlp.pipe_names)"
      ]
    },
    {
      "cell_type": "code",
      "execution_count": 5,
      "metadata": {
        "id": "rxH-hOWddlcD"
      },
      "outputs": [],
      "source": [
        "nlp.max_length = len(text)  # increase the size of the text that nlp accepts\n",
        "tokens = nlp(text)"
      ]
    },
    {
      "cell_type": "code",
      "execution_count": 6,
      "metadata": {
        "colab": {
          "base_uri": "https://localhost:8080/"
        },
        "id": "Bj3I5FdHdlcD",
        "outputId": "ac42b621-febd-464a-cfa1-3c2f4fa8d221"
      },
      "outputs": [
        {
          "output_type": "execute_result",
          "data": {
            "text/plain": [
              "96"
            ]
          },
          "metadata": {},
          "execution_count": 6
        }
      ],
      "source": [
        "len(tokens)"
      ]
    },
    {
      "cell_type": "code",
      "execution_count": 7,
      "metadata": {
        "colab": {
          "base_uri": "https://localhost:8080/"
        },
        "id": "srM4cdOTdlcE",
        "outputId": "9a112890-e653-48e4-91ea-2b874be4bad9"
      },
      "outputs": [
        {
          "output_type": "execute_result",
          "data": {
            "text/plain": [
              "spacy.tokens.doc.Doc"
            ]
          },
          "metadata": {},
          "execution_count": 7
        }
      ],
      "source": [
        "type(tokens)"
      ]
    },
    {
      "cell_type": "code",
      "execution_count": null,
      "metadata": {
        "id": "Tpj-4xWydlcF",
        "outputId": "ae99cc2d-7bef-48ad-8c4a-fb5efb9d5e21"
      },
      "outputs": [
        {
          "name": "stdout",
          "output_type": "stream",
          "text": [
            "['_', '__bytes__', '__class__', '__delattr__', '__dir__', '__doc__', '__eq__', '__format__', '__ge__', '__getattribute__', '__gt__', '__hash__', '__init__', '__init_subclass__', '__le__', '__len__', '__lt__', '__ne__', '__new__', '__pyx_vtable__', '__reduce__', '__reduce_ex__', '__repr__', '__setattr__', '__sizeof__', '__str__', '__subclasshook__', '__unicode__', 'ancestors', 'check_flag', 'children', 'cluster', 'conjuncts', 'dep', 'dep_', 'doc', 'ent_id', 'ent_id_', 'ent_iob', 'ent_iob_', 'ent_kb_id', 'ent_kb_id_', 'ent_type', 'ent_type_', 'get_extension', 'has_extension', 'has_vector', 'head', 'i', 'idx', 'is_alpha', 'is_ancestor', 'is_ascii', 'is_bracket', 'is_currency', 'is_digit', 'is_left_punct', 'is_lower', 'is_oov', 'is_punct', 'is_quote', 'is_right_punct', 'is_sent_start', 'is_space', 'is_stop', 'is_title', 'is_upper', 'lang', 'lang_', 'left_edge', 'lefts', 'lemma', 'lemma_', 'lex_id', 'like_email', 'like_num', 'like_url', 'lower', 'lower_', 'n_lefts', 'n_rights', 'nbor', 'norm', 'norm_', 'orth', 'orth_', 'pos', 'pos_', 'prefix', 'prefix_', 'prob', 'rank', 'remove_extension', 'right_edge', 'rights', 'sent', 'sent_start', 'sentiment', 'set_extension', 'shape', 'shape_', 'similarity', 'string', 'subtree', 'suffix', 'suffix_', 'tag', 'tag_', 'tensor', 'text', 'text_with_ws', 'vector', 'vector_norm', 'vocab', 'whitespace_']\n"
          ]
        }
      ],
      "source": [
        "for t in tokens[:1]:\n",
        "    print(dir(t))"
      ]
    },
    {
      "cell_type": "code",
      "execution_count": 9,
      "metadata": {
        "colab": {
          "base_uri": "https://localhost:8080/"
        },
        "id": "xyt70OCVdlcG",
        "outputId": "00e9c918-6579-4c2d-d195-671f8c424364"
      },
      "outputs": [
        {
          "output_type": "stream",
          "name": "stdout",
          "text": [
            "NEW \t NEW \t PROPN \t False\n",
            "YORK \t YORK \t PROPN \t False\n",
            "-- \t -- \t PUNCT \t False\n",
            "Twenty \t twenty \t NUM \t True\n",
            "- \t - \t PUNCT \t False\n",
            "three \t three \t NUM \t True\n",
            "years \t year \t NOUN \t False\n",
            "ago \t ago \t ADV \t False\n",
            ", \t , \t PUNCT \t False\n",
            "Serena \t Serena \t PROPN \t False\n"
          ]
        }
      ],
      "source": [
        "for t in tokens[:10]:\n",
        "    print(t.text,'\\t', t.lemma_,'\\t', t.pos_,'\\t', t.is_stop)"
      ]
    },
    {
      "cell_type": "code",
      "execution_count": null,
      "metadata": {
        "id": "xvGbZpVNdlcJ"
      },
      "outputs": [],
      "source": []
    }
  ],
  "metadata": {
    "kernelspec": {
      "display_name": "Python 3",
      "language": "python",
      "name": "python3"
    },
    "language_info": {
      "codemirror_mode": {
        "name": "ipython",
        "version": 3
      },
      "file_extension": ".py",
      "mimetype": "text/x-python",
      "name": "python",
      "nbconvert_exporter": "python",
      "pygments_lexer": "ipython3",
      "version": "3.7.3"
    },
    "colab": {
      "provenance": [],
      "include_colab_link": true
    }
  },
  "nbformat": 4,
  "nbformat_minor": 0
}